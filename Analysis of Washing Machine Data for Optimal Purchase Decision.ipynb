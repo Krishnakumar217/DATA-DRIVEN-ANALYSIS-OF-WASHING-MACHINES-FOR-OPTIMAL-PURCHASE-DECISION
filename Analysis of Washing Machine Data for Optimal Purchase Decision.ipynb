{
 "cells": [
  {
   "cell_type": "markdown",
   "id": "001e7667",
   "metadata": {},
   "source": [
    "### Project Title: Data-driven analysis of Washing Machines for Optimal Purchase Decisions"
   ]
  },
  {
   "cell_type": "markdown",
   "id": "8f7ef5fe",
   "metadata": {},
   "source": [
    "### Problem Statement:"
   ]
  },
  {
   "cell_type": "markdown",
   "id": "39cfd89a",
   "metadata": {},
   "source": [
    "#####  In today's context, a washing machine even in any middle-class family is a necessity along with other electrical household items. Indian markets are full of various brands and large number of models focusing on minor differences mainly in aesthetics, design, appearance, color, size, etc. There are around 500 models of washing machines of various brands available in the market and it is very difficult to choose a good washing machine out of the huge variety of brands & models. \n",
    "\n",
    "##### So this project aims to provide a comprehensive understanding of optimal product choices within their budget constraints with all the desired features and requirements."
   ]
  },
  {
   "cell_type": "markdown",
   "id": "30ba0a9a",
   "metadata": {},
   "source": [
    "### Importing all the required library"
   ]
  },
  {
   "cell_type": "code",
   "execution_count": 1,
   "id": "d35fd992",
   "metadata": {},
   "outputs": [],
   "source": [
    "import requests\n",
    "from bs4 import BeautifulSoup\n",
    "\n",
    "import numpy as np\n",
    "import pandas as pd\n",
    "import matplotlib.pyplot as plt\n",
    "import seaborn as sns\n",
    "\n",
    "import re\n",
    "import time"
   ]
  },
  {
   "cell_type": "code",
   "execution_count": 2,
   "id": "47fdcf57",
   "metadata": {},
   "outputs": [
    {
     "name": "stdout",
     "output_type": "stream",
     "text": [
      "https://www.flipkart.com/search?q=washing+machine&sid=j9e%2Cabm%2C8qx&as=on&as-show=on&otracker=AS_QueryStore_OrganicAutoSuggest_1_3_na_na_ps&otracker1=AS_QueryStore_OrganicAutoSuggest_1_3_na_na_ps&as-pos=1&as-type=RECENT&suggestionId=washing+machine%7CWashing+Machines&requestId=e63ab4cd-7596-4ad4-86ad-030719a7993f&as-searchtext=was&page=1\n",
      "https://www.flipkart.com/search?q=washing+machine&sid=j9e%2Cabm%2C8qx&as=on&as-show=on&otracker=AS_QueryStore_OrganicAutoSuggest_1_3_na_na_ps&otracker1=AS_QueryStore_OrganicAutoSuggest_1_3_na_na_ps&as-pos=1&as-type=RECENT&suggestionId=washing+machine%7CWashing+Machines&requestId=e63ab4cd-7596-4ad4-86ad-030719a7993f&as-searchtext=was&page=2\n",
      "https://www.flipkart.com/search?q=washing+machine&sid=j9e%2Cabm%2C8qx&as=on&as-show=on&otracker=AS_QueryStore_OrganicAutoSuggest_1_3_na_na_ps&otracker1=AS_QueryStore_OrganicAutoSuggest_1_3_na_na_ps&as-pos=1&as-type=RECENT&suggestionId=washing+machine%7CWashing+Machines&requestId=e63ab4cd-7596-4ad4-86ad-030719a7993f&as-searchtext=was&page=3\n",
      "https://www.flipkart.com/search?q=washing+machine&sid=j9e%2Cabm%2C8qx&as=on&as-show=on&otracker=AS_QueryStore_OrganicAutoSuggest_1_3_na_na_ps&otracker1=AS_QueryStore_OrganicAutoSuggest_1_3_na_na_ps&as-pos=1&as-type=RECENT&suggestionId=washing+machine%7CWashing+Machines&requestId=e63ab4cd-7596-4ad4-86ad-030719a7993f&as-searchtext=was&page=4\n",
      "https://www.flipkart.com/search?q=washing+machine&sid=j9e%2Cabm%2C8qx&as=on&as-show=on&otracker=AS_QueryStore_OrganicAutoSuggest_1_3_na_na_ps&otracker1=AS_QueryStore_OrganicAutoSuggest_1_3_na_na_ps&as-pos=1&as-type=RECENT&suggestionId=washing+machine%7CWashing+Machines&requestId=e63ab4cd-7596-4ad4-86ad-030719a7993f&as-searchtext=was&page=5\n",
      "https://www.flipkart.com/search?q=washing+machine&sid=j9e%2Cabm%2C8qx&as=on&as-show=on&otracker=AS_QueryStore_OrganicAutoSuggest_1_3_na_na_ps&otracker1=AS_QueryStore_OrganicAutoSuggest_1_3_na_na_ps&as-pos=1&as-type=RECENT&suggestionId=washing+machine%7CWashing+Machines&requestId=e63ab4cd-7596-4ad4-86ad-030719a7993f&as-searchtext=was&page=6\n",
      "https://www.flipkart.com/search?q=washing+machine&sid=j9e%2Cabm%2C8qx&as=on&as-show=on&otracker=AS_QueryStore_OrganicAutoSuggest_1_3_na_na_ps&otracker1=AS_QueryStore_OrganicAutoSuggest_1_3_na_na_ps&as-pos=1&as-type=RECENT&suggestionId=washing+machine%7CWashing+Machines&requestId=e63ab4cd-7596-4ad4-86ad-030719a7993f&as-searchtext=was&page=7\n",
      "https://www.flipkart.com/search?q=washing+machine&sid=j9e%2Cabm%2C8qx&as=on&as-show=on&otracker=AS_QueryStore_OrganicAutoSuggest_1_3_na_na_ps&otracker1=AS_QueryStore_OrganicAutoSuggest_1_3_na_na_ps&as-pos=1&as-type=RECENT&suggestionId=washing+machine%7CWashing+Machines&requestId=e63ab4cd-7596-4ad4-86ad-030719a7993f&as-searchtext=was&page=8\n",
      "https://www.flipkart.com/search?q=washing+machine&sid=j9e%2Cabm%2C8qx&as=on&as-show=on&otracker=AS_QueryStore_OrganicAutoSuggest_1_3_na_na_ps&otracker1=AS_QueryStore_OrganicAutoSuggest_1_3_na_na_ps&as-pos=1&as-type=RECENT&suggestionId=washing+machine%7CWashing+Machines&requestId=e63ab4cd-7596-4ad4-86ad-030719a7993f&as-searchtext=was&page=9\n",
      "https://www.flipkart.com/search?q=washing+machine&sid=j9e%2Cabm%2C8qx&as=on&as-show=on&otracker=AS_QueryStore_OrganicAutoSuggest_1_3_na_na_ps&otracker1=AS_QueryStore_OrganicAutoSuggest_1_3_na_na_ps&as-pos=1&as-type=RECENT&suggestionId=washing+machine%7CWashing+Machines&requestId=e63ab4cd-7596-4ad4-86ad-030719a7993f&as-searchtext=was&page=10\n",
      "https://www.flipkart.com/search?q=washing+machine&sid=j9e%2Cabm%2C8qx&as=on&as-show=on&otracker=AS_QueryStore_OrganicAutoSuggest_1_3_na_na_ps&otracker1=AS_QueryStore_OrganicAutoSuggest_1_3_na_na_ps&as-pos=1&as-type=RECENT&suggestionId=washing+machine%7CWashing+Machines&requestId=e63ab4cd-7596-4ad4-86ad-030719a7993f&as-searchtext=was&page=11\n",
      "https://www.flipkart.com/search?q=washing+machine&sid=j9e%2Cabm%2C8qx&as=on&as-show=on&otracker=AS_QueryStore_OrganicAutoSuggest_1_3_na_na_ps&otracker1=AS_QueryStore_OrganicAutoSuggest_1_3_na_na_ps&as-pos=1&as-type=RECENT&suggestionId=washing+machine%7CWashing+Machines&requestId=e63ab4cd-7596-4ad4-86ad-030719a7993f&as-searchtext=was&page=12\n",
      "https://www.flipkart.com/search?q=washing+machine&sid=j9e%2Cabm%2C8qx&as=on&as-show=on&otracker=AS_QueryStore_OrganicAutoSuggest_1_3_na_na_ps&otracker1=AS_QueryStore_OrganicAutoSuggest_1_3_na_na_ps&as-pos=1&as-type=RECENT&suggestionId=washing+machine%7CWashing+Machines&requestId=e63ab4cd-7596-4ad4-86ad-030719a7993f&as-searchtext=was&page=13\n",
      "https://www.flipkart.com/search?q=washing+machine&sid=j9e%2Cabm%2C8qx&as=on&as-show=on&otracker=AS_QueryStore_OrganicAutoSuggest_1_3_na_na_ps&otracker1=AS_QueryStore_OrganicAutoSuggest_1_3_na_na_ps&as-pos=1&as-type=RECENT&suggestionId=washing+machine%7CWashing+Machines&requestId=e63ab4cd-7596-4ad4-86ad-030719a7993f&as-searchtext=was&page=14\n",
      "https://www.flipkart.com/search?q=washing+machine&sid=j9e%2Cabm%2C8qx&as=on&as-show=on&otracker=AS_QueryStore_OrganicAutoSuggest_1_3_na_na_ps&otracker1=AS_QueryStore_OrganicAutoSuggest_1_3_na_na_ps&as-pos=1&as-type=RECENT&suggestionId=washing+machine%7CWashing+Machines&requestId=e63ab4cd-7596-4ad4-86ad-030719a7993f&as-searchtext=was&page=15\n",
      "https://www.flipkart.com/search?q=washing+machine&sid=j9e%2Cabm%2C8qx&as=on&as-show=on&otracker=AS_QueryStore_OrganicAutoSuggest_1_3_na_na_ps&otracker1=AS_QueryStore_OrganicAutoSuggest_1_3_na_na_ps&as-pos=1&as-type=RECENT&suggestionId=washing+machine%7CWashing+Machines&requestId=e63ab4cd-7596-4ad4-86ad-030719a7993f&as-searchtext=was&page=16\n",
      "https://www.flipkart.com/search?q=washing+machine&sid=j9e%2Cabm%2C8qx&as=on&as-show=on&otracker=AS_QueryStore_OrganicAutoSuggest_1_3_na_na_ps&otracker1=AS_QueryStore_OrganicAutoSuggest_1_3_na_na_ps&as-pos=1&as-type=RECENT&suggestionId=washing+machine%7CWashing+Machines&requestId=e63ab4cd-7596-4ad4-86ad-030719a7993f&as-searchtext=was&page=17\n",
      "https://www.flipkart.com/search?q=washing+machine&sid=j9e%2Cabm%2C8qx&as=on&as-show=on&otracker=AS_QueryStore_OrganicAutoSuggest_1_3_na_na_ps&otracker1=AS_QueryStore_OrganicAutoSuggest_1_3_na_na_ps&as-pos=1&as-type=RECENT&suggestionId=washing+machine%7CWashing+Machines&requestId=e63ab4cd-7596-4ad4-86ad-030719a7993f&as-searchtext=was&page=18\n",
      "https://www.flipkart.com/search?q=washing+machine&sid=j9e%2Cabm%2C8qx&as=on&as-show=on&otracker=AS_QueryStore_OrganicAutoSuggest_1_3_na_na_ps&otracker1=AS_QueryStore_OrganicAutoSuggest_1_3_na_na_ps&as-pos=1&as-type=RECENT&suggestionId=washing+machine%7CWashing+Machines&requestId=e63ab4cd-7596-4ad4-86ad-030719a7993f&as-searchtext=was&page=19\n",
      "https://www.flipkart.com/search?q=washing+machine&sid=j9e%2Cabm%2C8qx&as=on&as-show=on&otracker=AS_QueryStore_OrganicAutoSuggest_1_3_na_na_ps&otracker1=AS_QueryStore_OrganicAutoSuggest_1_3_na_na_ps&as-pos=1&as-type=RECENT&suggestionId=washing+machine%7CWashing+Machines&requestId=e63ab4cd-7596-4ad4-86ad-030719a7993f&as-searchtext=was&page=20\n",
      "https://www.flipkart.com/search?q=washing+machine&sid=j9e%2Cabm%2C8qx&as=on&as-show=on&otracker=AS_QueryStore_OrganicAutoSuggest_1_3_na_na_ps&otracker1=AS_QueryStore_OrganicAutoSuggest_1_3_na_na_ps&as-pos=1&as-type=RECENT&suggestionId=washing+machine%7CWashing+Machines&requestId=e63ab4cd-7596-4ad4-86ad-030719a7993f&as-searchtext=was&page=21\n",
      "https://www.flipkart.com/search?q=washing+machine&sid=j9e%2Cabm%2C8qx&as=on&as-show=on&otracker=AS_QueryStore_OrganicAutoSuggest_1_3_na_na_ps&otracker1=AS_QueryStore_OrganicAutoSuggest_1_3_na_na_ps&as-pos=1&as-type=RECENT&suggestionId=washing+machine%7CWashing+Machines&requestId=e63ab4cd-7596-4ad4-86ad-030719a7993f&as-searchtext=was&page=22\n",
      "https://www.flipkart.com/search?q=washing+machine&sid=j9e%2Cabm%2C8qx&as=on&as-show=on&otracker=AS_QueryStore_OrganicAutoSuggest_1_3_na_na_ps&otracker1=AS_QueryStore_OrganicAutoSuggest_1_3_na_na_ps&as-pos=1&as-type=RECENT&suggestionId=washing+machine%7CWashing+Machines&requestId=e63ab4cd-7596-4ad4-86ad-030719a7993f&as-searchtext=was&page=23\n",
      "https://www.flipkart.com/search?q=washing+machine&sid=j9e%2Cabm%2C8qx&as=on&as-show=on&otracker=AS_QueryStore_OrganicAutoSuggest_1_3_na_na_ps&otracker1=AS_QueryStore_OrganicAutoSuggest_1_3_na_na_ps&as-pos=1&as-type=RECENT&suggestionId=washing+machine%7CWashing+Machines&requestId=e63ab4cd-7596-4ad4-86ad-030719a7993f&as-searchtext=was&page=24\n",
      "https://www.flipkart.com/search?q=washing+machine&sid=j9e%2Cabm%2C8qx&as=on&as-show=on&otracker=AS_QueryStore_OrganicAutoSuggest_1_3_na_na_ps&otracker1=AS_QueryStore_OrganicAutoSuggest_1_3_na_na_ps&as-pos=1&as-type=RECENT&suggestionId=washing+machine%7CWashing+Machines&requestId=e63ab4cd-7596-4ad4-86ad-030719a7993f&as-searchtext=was&page=25\n",
      "https://www.flipkart.com/search?q=washing+machine&sid=j9e%2Cabm%2C8qx&as=on&as-show=on&otracker=AS_QueryStore_OrganicAutoSuggest_1_3_na_na_ps&otracker1=AS_QueryStore_OrganicAutoSuggest_1_3_na_na_ps&as-pos=1&as-type=RECENT&suggestionId=washing+machine%7CWashing+Machines&requestId=e63ab4cd-7596-4ad4-86ad-030719a7993f&as-searchtext=was&page=26\n",
      "https://www.flipkart.com/search?q=washing+machine&sid=j9e%2Cabm%2C8qx&as=on&as-show=on&otracker=AS_QueryStore_OrganicAutoSuggest_1_3_na_na_ps&otracker1=AS_QueryStore_OrganicAutoSuggest_1_3_na_na_ps&as-pos=1&as-type=RECENT&suggestionId=washing+machine%7CWashing+Machines&requestId=e63ab4cd-7596-4ad4-86ad-030719a7993f&as-searchtext=was&page=27\n",
      "https://www.flipkart.com/search?q=washing+machine&sid=j9e%2Cabm%2C8qx&as=on&as-show=on&otracker=AS_QueryStore_OrganicAutoSuggest_1_3_na_na_ps&otracker1=AS_QueryStore_OrganicAutoSuggest_1_3_na_na_ps&as-pos=1&as-type=RECENT&suggestionId=washing+machine%7CWashing+Machines&requestId=e63ab4cd-7596-4ad4-86ad-030719a7993f&as-searchtext=was&page=28\n",
      "https://www.flipkart.com/search?q=washing+machine&sid=j9e%2Cabm%2C8qx&as=on&as-show=on&otracker=AS_QueryStore_OrganicAutoSuggest_1_3_na_na_ps&otracker1=AS_QueryStore_OrganicAutoSuggest_1_3_na_na_ps&as-pos=1&as-type=RECENT&suggestionId=washing+machine%7CWashing+Machines&requestId=e63ab4cd-7596-4ad4-86ad-030719a7993f&as-searchtext=was&page=29\n",
      "https://www.flipkart.com/search?q=washing+machine&sid=j9e%2Cabm%2C8qx&as=on&as-show=on&otracker=AS_QueryStore_OrganicAutoSuggest_1_3_na_na_ps&otracker1=AS_QueryStore_OrganicAutoSuggest_1_3_na_na_ps&as-pos=1&as-type=RECENT&suggestionId=washing+machine%7CWashing+Machines&requestId=e63ab4cd-7596-4ad4-86ad-030719a7993f&as-searchtext=was&page=30\n",
      "https://www.flipkart.com/search?q=washing+machine&sid=j9e%2Cabm%2C8qx&as=on&as-show=on&otracker=AS_QueryStore_OrganicAutoSuggest_1_3_na_na_ps&otracker1=AS_QueryStore_OrganicAutoSuggest_1_3_na_na_ps&as-pos=1&as-type=RECENT&suggestionId=washing+machine%7CWashing+Machines&requestId=e63ab4cd-7596-4ad4-86ad-030719a7993f&as-searchtext=was&page=31\n",
      "https://www.flipkart.com/search?q=washing+machine&sid=j9e%2Cabm%2C8qx&as=on&as-show=on&otracker=AS_QueryStore_OrganicAutoSuggest_1_3_na_na_ps&otracker1=AS_QueryStore_OrganicAutoSuggest_1_3_na_na_ps&as-pos=1&as-type=RECENT&suggestionId=washing+machine%7CWashing+Machines&requestId=e63ab4cd-7596-4ad4-86ad-030719a7993f&as-searchtext=was&page=32\n",
      "https://www.flipkart.com/search?q=washing+machine&sid=j9e%2Cabm%2C8qx&as=on&as-show=on&otracker=AS_QueryStore_OrganicAutoSuggest_1_3_na_na_ps&otracker1=AS_QueryStore_OrganicAutoSuggest_1_3_na_na_ps&as-pos=1&as-type=RECENT&suggestionId=washing+machine%7CWashing+Machines&requestId=e63ab4cd-7596-4ad4-86ad-030719a7993f&as-searchtext=was&page=33\n",
      "https://www.flipkart.com/search?q=washing+machine&sid=j9e%2Cabm%2C8qx&as=on&as-show=on&otracker=AS_QueryStore_OrganicAutoSuggest_1_3_na_na_ps&otracker1=AS_QueryStore_OrganicAutoSuggest_1_3_na_na_ps&as-pos=1&as-type=RECENT&suggestionId=washing+machine%7CWashing+Machines&requestId=e63ab4cd-7596-4ad4-86ad-030719a7993f&as-searchtext=was&page=34\n",
      "https://www.flipkart.com/search?q=washing+machine&sid=j9e%2Cabm%2C8qx&as=on&as-show=on&otracker=AS_QueryStore_OrganicAutoSuggest_1_3_na_na_ps&otracker1=AS_QueryStore_OrganicAutoSuggest_1_3_na_na_ps&as-pos=1&as-type=RECENT&suggestionId=washing+machine%7CWashing+Machines&requestId=e63ab4cd-7596-4ad4-86ad-030719a7993f&as-searchtext=was&page=35\n",
      "https://www.flipkart.com/search?q=washing+machine&sid=j9e%2Cabm%2C8qx&as=on&as-show=on&otracker=AS_QueryStore_OrganicAutoSuggest_1_3_na_na_ps&otracker1=AS_QueryStore_OrganicAutoSuggest_1_3_na_na_ps&as-pos=1&as-type=RECENT&suggestionId=washing+machine%7CWashing+Machines&requestId=e63ab4cd-7596-4ad4-86ad-030719a7993f&as-searchtext=was&page=36\n",
      "https://www.flipkart.com/search?q=washing+machine&sid=j9e%2Cabm%2C8qx&as=on&as-show=on&otracker=AS_QueryStore_OrganicAutoSuggest_1_3_na_na_ps&otracker1=AS_QueryStore_OrganicAutoSuggest_1_3_na_na_ps&as-pos=1&as-type=RECENT&suggestionId=washing+machine%7CWashing+Machines&requestId=e63ab4cd-7596-4ad4-86ad-030719a7993f&as-searchtext=was&page=37\n",
      "https://www.flipkart.com/search?q=washing+machine&sid=j9e%2Cabm%2C8qx&as=on&as-show=on&otracker=AS_QueryStore_OrganicAutoSuggest_1_3_na_na_ps&otracker1=AS_QueryStore_OrganicAutoSuggest_1_3_na_na_ps&as-pos=1&as-type=RECENT&suggestionId=washing+machine%7CWashing+Machines&requestId=e63ab4cd-7596-4ad4-86ad-030719a7993f&as-searchtext=was&page=38\n"
     ]
    }
   ],
   "source": [
    "for page in range(1,39):\n",
    "    url = f\"https://www.flipkart.com/search?q=washing+machine&sid=j9e%2Cabm%2C8qx&as=on&as-show=on&otracker=AS_QueryStore_OrganicAutoSuggest_1_3_na_na_ps&otracker1=AS_QueryStore_OrganicAutoSuggest_1_3_na_na_ps&as-pos=1&as-type=RECENT&suggestionId=washing+machine%7CWashing+Machines&requestId=e63ab4cd-7596-4ad4-86ad-030719a7993f&as-searchtext=was&page={page}\"\n",
    "    print(url)"
   ]
  },
  {
   "cell_type": "markdown",
   "id": "1abfd121",
   "metadata": {},
   "source": [
    "#### div ID for all the details"
   ]
  },
  {
   "cell_type": "code",
   "execution_count": 3,
   "id": "f6458364",
   "metadata": {},
   "outputs": [
    {
     "data": {
      "text/plain": [
       "'search_Wash_M:_3pLy-c row\\n\\ntitle:_4rR01T\\nfeatures:col col-7-12\\nratings:_3LWZlK\\nprice:_30jeq3 _1_WHN1'"
      ]
     },
     "execution_count": 3,
     "metadata": {},
     "output_type": "execute_result"
    }
   ],
   "source": [
    "'''search_Wash_M:_3pLy-c row\n",
    "\n",
    "title:_4rR01T\n",
    "features:col col-7-12\n",
    "ratings:_3LWZlK\n",
    "price:_30jeq3 _1_WHN1'''"
   ]
  },
  {
   "cell_type": "code",
   "execution_count": 4,
   "id": "a00f0102",
   "metadata": {},
   "outputs": [],
   "source": [
    "url = \"https://www.flipkart.com/search?q=washing+machine&sid=j9e%2Cabm%2C8qx&as=on&as-show=on&otracker=AS_QueryStore_OrganicAutoSuggest_1_3_na_na_ps&otracker1=AS_QueryStore_OrganicAutoSuggest_1_3_na_na_ps&as-pos=1&as-type=RECENT&suggestionId=washing+machine%7CWashing+Machines&requestId=e63ab4cd-7596-4ad4-86ad-030719a7993f&as-searchtext=was&page=1\"\n",
    "\n",
    "# Sending an HTTP GET request to the specified Flipkart URL to fetch the HTML content of the search results page for washing machines.\n",
    "htmlpage = requests.get(url)"
   ]
  },
  {
   "cell_type": "code",
   "execution_count": 5,
   "id": "f192b2f7",
   "metadata": {},
   "outputs": [
    {
     "data": {
      "text/plain": [
       "403"
      ]
     },
     "execution_count": 5,
     "metadata": {},
     "output_type": "execute_result"
    }
   ],
   "source": [
    "# Retrieving the status code from the response of the GET request to check if the request was successful (e.g., 200 for success).\n",
    "htmlpage.status_code"
   ]
  },
  {
   "cell_type": "code",
   "execution_count": 6,
   "id": "af019a44",
   "metadata": {},
   "outputs": [
    {
     "data": {
      "text/plain": [
       "<!DOCTYPE html>\n",
       "<html lang=\"en\"><head><link href=\"https://rukminim1.flixcart.com\" rel=\"preconnect\"/><link href=\"//static-assets-web.flixcart.com/fk-p-linchpin-web/fk-cp-zion/css/app_modules.chunk.905c37.css\" rel=\"stylesheet\"/><link href=\"//static-assets-web.flixcart.com/fk-p-linchpin-web/fk-cp-zion/css/app.chunk.4fb0ab.css\" rel=\"stylesheet\"/><meta content=\"text/html; charset=utf-8\" http-equiv=\"Content-type\"/><meta content=\"IE=Edge\" http-equiv=\"X-UA-Compatible\"/><meta content=\"102988293558\" property=\"fb:page_id\"/><meta content=\"658873552,624500995,100000233612389\" property=\"fb:admins\"/><meta content=\"noodp\" name=\"robots\"/><link href=\"https:///www/promos/new/20150528-140547-favicon-retina.ico\" rel=\"shortcut icon\"/><link href=\"/osdd.xml?v=2\" rel=\"search\" type=\"application/opensearchdescription+xml\"/><meta content=\"website\" property=\"og:type\"/><meta content=\"Flipkart.com\" name=\"og_site_name\" property=\"og:site_name\"/><link href=\"/apple-touch-icon-57x57.png\" rel=\"apple-touch-icon\" sizes=\"57x57\"/><link href=\"/apple-touch-icon-72x72.png\" rel=\"apple-touch-icon\" sizes=\"72x72\"/><link href=\"/apple-touch-icon-114x114.png\" rel=\"apple-touch-icon\" sizes=\"114x114\"/><link href=\"/apple-touch-icon-144x144.png\" rel=\"apple-touch-icon\" sizes=\"144x144\"/><link href=\"/apple-touch-icon-57x57.png\" rel=\"apple-touch-icon\"/><meta content=\"app\" name=\"twitter:card\"/><meta content=\"@flipkart\" name=\"twitter:site\"/><meta content=\"@flipkart\" name=\"twitter:creator\"/><meta content=\"Washing Machine- Buy Products Online at Best Price in India - All Categories | Flipkart.com\" name=\"twitter:title\"/><meta content=\"Shop for electronics, apparels &amp; more using our Flipkart app Free shipping &amp; COD.\" name=\"twitter:description\"/><meta content=\"in\" name=\"twitter:app:country\"/><meta content=\"Flipkart\" name=\"al:ios:app_name\"/><meta content=\"742044692\" name=\"al:ios:app_store_id\"/><meta content=\"Flipkart\" name=\"twitter:app:name:iphone\"/><meta content=\"742044692\" name=\"twitter:app:id:iphone\"/><meta content=\"http://dl.flipkart.com/dl/home?\" name=\"twitter:app:url:iphone\"/><meta content=\"Flipkart\" name=\"twitter:app:name:ipad\"/><meta content=\"742044692\" name=\"twitter:app:id:ipad\"/><meta content=\"http://dl.flipkart.com/dl/home?\" name=\"twitter:app:url:ipad\"/><meta content=\"Flipkart\" name=\"twitter:app:name:googleplay\"/><meta content=\"com.flipkart.android\" name=\"twitter:app:id:googleplay\"/><meta content=\"http://dl.flipkart.com/dl/home?\" name=\"twitter:app:url:googleplay\"/><style>#container {\n",
       "\t\t\theight: 100%;\n",
       "\t\t}</style> <link href=\"///fk-cp-zion/css/Browse.chunk.e9630a.css\" rel=\"stylesheet\"/><title>Washing Machine- Buy Products Online at Best Price in India - All Categories | Flipkart.com</title><meta content=\"Washing Machine- Buy Products Online at Best Price in India - All Categories | Flipkart.com\" name=\"og_title\" property=\"og:title\"/><meta content=\"Washing Machine\" name=\"Keywords\"/> <meta content=\"Washing Machine- Buy Products Online at Best Price in India. India's Leading E-commerce Company - Free Home Delivery - All Categories | Flipkart.com\" name=\"Description\"/><meta content=\"Washing Machine- Buy Products Online at Best Price in India. India's Leading E-commerce Company - Free Home Delivery - All Categories | Flipkart.com\" property=\"og:description\"/> <meta content=\"noindex\" name=\"robots\"/> <meta content=\"F4EEB3A0AFFDD385992A06E6920C0AC3\" name=\"msvalidate.01\"/> <!--[if IE 9 ]>\n",
       "\t<script nonce=\"1277212754646149451\">\n",
       "\t\twindow.browserVersion = 'IE9';\n",
       "\t\tdocument.documentElement.className += ' ie9';\n",
       "\t</script>\n",
       "\t<![endif]--><!--[if !IE]><!--><script nonce=\"1277212754646149451\">if (/*@cc_on!@*/false) {\n",
       "\t\t\twindow.browserVersion = 'IE10';\n",
       "\t\t\tdocument.documentElement.className += ' ie10';\n",
       "\t\t}</script><!--<![endif]--> <link href=\"https://www.flipkart.com/search?q=washing+machine&amp;sid=j9e%2Cabm%2C8qx&amp;as=on&amp;as-show=on&amp;otracker=AS_QueryStore_OrganicAutoSuggest_1_3_na_na_ps&amp;otracker1=AS_QueryStore_OrganicAutoSuggest_1_3_na_na_ps&amp;as-pos=1&amp;as-type=RECENT&amp;suggestionId=washing+machine%7CWashing+Machines&amp;requestId=e63ab4cd-7596-4ad4-86ad-030719a7993f&amp;as-searchtext=was&amp;page=2\" id=\"next-page-link-tag\" rel=\"next\"/><script nonce=\"1277212754646149451\">!function(){if(\"PerformancePaintTiming\" in window){var e=window.__perf={e:[]};e.o=new PerformanceObserver(function(n){e.e=e.e.concat(n.getEntries())});try{e.o.observe({entryTypes:[\"paint\"]})}catch(e){}}}();\n",
       "\n",
       "\t\tif (requestAnimationFrame && performance && performance.mark) {\n",
       "\t\t\trequestAnimationFrame(function () {\n",
       "\t\t\t\twindow.first_paint = performance.now();\n",
       "\t\t\t\tperformance.mark(\"first_paint\");\n",
       "\t\t\t});\n",
       "\t\t}\n",
       "\n",
       "        // web-vitals polyfill for FID\n",
       "        !function(n,e){var t,o,i,c=[],f={passive:!0,capture:!0},r=new Date,a=\"pointerup\",u=\"pointercancel\";function p(n,c){t||(t=c,o=n,i=new Date,w(e),s())}function s(){o>=0&&o<i-r&&(c.forEach(function(n){n(o,t)}),c=[])}function l(t){if(t.cancelable){var o=(t.timeStamp>1e12?new Date:performance.now())-t.timeStamp;\"pointerdown\"==t.type?function(t,o){function i(){p(t,o),r()}function c(){r()}function r(){e(a,i,f),e(u,c,f)}n(a,i,f),n(u,c,f)}(o,t):p(o,t)}}function w(n){[\"click\",\"mousedown\",\"keydown\",\"touchstart\",\"pointerdown\"].forEach(function(e){n(e,l,f)})}w(n),self.perfMetrics=self.perfMetrics||{},self.perfMetrics.onFirstInputDelay=function(n){c.push(n),s()}}(addEventListener,removeEventListener);</script><script async=\"\" src=\"https://www.googletagmanager.com/gtag/js?id=AW-594691041\"></script><script nonce=\"1277212754646149451\">window.dataLayer = window.dataLayer || [];\n",
       "\t\tfunction gtag(){dataLayer.push(arguments)};\n",
       "\t\tgtag('js', new Date());</script></head><body><div id=\"container\"><div><div class=\"_1kfTjk\"><div class=\"_1rH5Jn\"><div class=\"_1TmfNK\"></div><div class=\"_2Xfa2_\"><div class=\"_3_C9Hx\"><div class=\"_3qX0zy\"><a href=\"/\"><img alt=\"Flipkart\" class=\"_2xm1JU\" src=\"//static-assets-web.flixcart.com/fk-p-linchpin-web/fk-cp-zion/img/flipkart-plus_8d85f4.png\" title=\"Flipkart\" width=\"75\"/></a><a class=\"_21ljIi\" href=\"/plus\">Explore<!-- --> <span class=\"_2FVHGh\">Plus</span><img src=\"//static-assets-web.flixcart.com/fk-p-linchpin-web/fk-cp-zion/img/plus_aef861.png\" width=\"10\"/></a></div></div><div class=\"_1cmsER\"><form action=\"/search\" class=\"_2M8cLY header-form-search\" method=\"GET\"><div class=\"col-12-12 _2oO9oE\"><div class=\"_3OO5Xc\"><input autocomplete=\"off\" class=\"_3704LK\" name=\"q\" placeholder=\"Search for products, brands and more\" title=\"Search for products, brands and more\" type=\"text\" value=\"washing machine\"/></div><button class=\"L0Z3Pu\" type=\"submit\"><svg class=\"\" height=\"20\" viewbox=\"0 0 17 18\" width=\"20\" xmlns=\"http://www.w3.org/2000/svg\"><g fill=\"#2874F1\" fill-rule=\"evenodd\"><path class=\"_34RNph\" d=\"m11.618 9.897l4.225 4.212c.092.092.101.232.02.313l-1.465 1.46c-.081.081-.221.072-.314-.02l-4.216-4.203\"></path><path class=\"_34RNph\" d=\"m6.486 10.901c-2.42 0-4.381-1.956-4.381-4.368 0-2.413 1.961-4.369 4.381-4.369 2.42 0 4.381 1.956 4.381 4.369 0 2.413-1.961 4.368-4.381 4.368m0-10.835c-3.582 0-6.486 2.895-6.486 6.467 0 3.572 2.904 6.467 6.486 6.467 3.582 0 6.486-2.895 6.486-6.467 0-3.572-2.904-6.467-6.486-6.467\"></path></g></svg></button><input name=\"otracker\" type=\"hidden\" value=\"search\"/><input name=\"otracker1\" type=\"hidden\" value=\"search\"/><input name=\"marketplace\" type=\"hidden\" value=\"FLIPKART\"/><input name=\"as-show\" type=\"hidden\" value=\"off\"/><input name=\"as\" type=\"hidden\" value=\"off\"/></div><ul class=\"col-12-12 _1MRYA1\"></ul></form></div><div class=\"go_DOp _2errNR\"><div class=\"_28p97w\"><div class=\"_1psGvi _3BvnxG\"><div><a class=\"_1_3w1N\" href=\"/account/login?ret=/search%3Fq%3Dwashing%2Bmachine%26sid%3Dj9e%252Cabm%252C8qx%26as%3Don%26as-show%3Don%26otracker%3DAS_QueryStore_OrganicAutoSuggest_1_3_na_na_ps%26otracker1%3DAS_QueryStore_OrganicAutoSuggest_1_3_na_na_ps%26as-pos%3D1%26as-type%3DRECENT%26suggestionId%3Dwashing%2Bmachine%257CWashing%2BMachines%26requestId%3De63ab4cd-7596-4ad4-86ad-030719a7993f%26as-searchtext%3Dwas%26page%3D1\">Login</a></div></div></div></div><div class=\"go_DOp\"><a class=\"_3-PJz-\" href=\"https://seller.flipkart.com/sell-online/?utm_source=fkwebsite&amp;utm_medium=websitedirect\"><span>Become a Seller</span></a></div><div class=\"go_DOp\"><div class=\"_28p97w\"><div class=\"_1psGvi _3BvnxG\"><div><div class=\"exehdJ\"> <!-- -->More<!-- --> </div></div></div><svg class=\"zZ3yfL\" height=\"8\" viewbox=\"0 0 16 27\" width=\"4.7\" xmlns=\"http://www.w3.org/2000/svg\"><path class=\"_2gTTdy\" d=\"M16 23.207L6.11 13.161 16 3.093 12.955 0 0 13.161l12.955 13.161z\" fill=\"#fff\"></path></svg></div></div><div class=\"go_DOp\"><div class=\"_1psGvi\"><div class=\"YUhWwv\"><a class=\"_3SkBxJ\" href=\"/viewcart?exploreMode=true&amp;preference=FLIPKART\"><svg class=\"V3C5bO\" height=\"14\" viewbox=\"0 0 16 16\" width=\"14\" xmlns=\"http://www.w3.org/2000/svg\"><path class=\"_1bS9ic\" d=\"M15.32 2.405H4.887C3 2.405 2.46.805 2.46.805L2.257.21C2.208.085 2.083 0 1.946 0H.336C.1 0-.064.24.024.46l.644 1.945L3.11 9.767c.047.137.175.23.32.23h8.418l-.493 1.958H3.768l.002.003c-.017 0-.033-.003-.05-.003-1.06 0-1.92.86-1.92 1.92s.86 1.92 1.92 1.92c.99 0 1.805-.75 1.91-1.712l5.55.076c.12.922.91 1.636 1.867 1.636 1.04 0 1.885-.844 1.885-1.885 0-.866-.584-1.593-1.38-1.814l2.423-8.832c.12-.433-.206-.86-.655-.86\" fill=\"#fff\"></path></svg><span>Cart</span></a></div></div></div></div><div class=\"_1TmfNK\"></div></div><div class=\"_1mUdNz\"></div></div><div class=\"_331-kn\"></div><div class=\"_36fx1h _6t1WkM _3HqJxg\"><div class=\"_1YokD2 _2GoDe3\"><div class=\"_1YokD2 _3Mn1Gg col-2-12\" style=\"flex:0 0 280px;max-width:280px;padding:0px 10px 0px 0px\"><div class=\"_1YokD2 _3Mn1Gg col-12-12\"><div class=\"_1AtVbE col-12-12\"><div class=\"_1KOcBL\"><section class=\"JWMl0H _2hbLCH\"><div class=\"_2ssEMF\"><div class=\"_3V8rao\"><span>Filters</span></div></div></section><div class=\"_2q_g77\"><section class=\"_2aDURW\"><div class=\"_2lfNTw\"><span>CATEGORIES</span></div><div><div class=\"TB_InB\"><span><svg class=\"_2Iqv73\" height=\"10\" viewbox=\"0 0 16 27\" width=\"10\" xmlns=\"http://www.w3.org/2000/svg\"><path class=\"_3zK8He\" d=\"M16 23.207L6.11 13.161 16 3.093 12.955 0 0 13.161l12.955 13.161z\" fill=\"#fff\"></path></svg></span><a class=\"_2qvBBJ _2Mji8F\" href=\"/home-kitchen/pr?sid=j9e&amp;q=washing+machine&amp;otracker=categorytree\" title=\"Home &amp; Kitchen\">Home &amp; Kitchen</a></div></div><div><div class=\"TB_InB\"><span><svg class=\"_2Iqv73\" height=\"10\" viewbox=\"0 0 16 27\" width=\"10\" xmlns=\"http://www.w3.org/2000/svg\"><path class=\"_3zK8He\" d=\"M16 23.207L6.11 13.161 16 3.093 12.955 0 0 13.161l12.955 13.161z\" fill=\"#fff\"></path></svg></span><a class=\"_2qvBBJ _2Mji8F\" href=\"/home-kitchen/home-appliances/pr?sid=j9e,abm&amp;q=washing+machine&amp;otracker=categorytree\" title=\"Home Appliances\">Home Appliances</a></div></div><div><div class=\"TB_InB\"><span><svg class=\"_2Iqv73\" height=\"10\" viewbox=\"0 0 16 27\" width=\"10\" xmlns=\"http://www.w3.org/2000/svg\"><path class=\"\" d=\"M16 23.207L6.11 13.161 16 3.093 12.955 0 0 13.161l12.955 13.161z\" fill=\"#fff\"></path></svg></span><a class=\"_1jJQdf _2Mji8F\" href=\"/washing-machines/pr?sid=j9e,abm,8qx&amp;q=washing+machine&amp;otracker=categorytree\" title=\"Washing Machines\">Washing Machines</a></div></div></section></div><section class=\"_2yz7eI _2hbLCH\"><div class=\"_3KxRU6 _2ssEMF\"><div class=\"UR1L2I _3V8rao\"><span>Price</span></div></div><div class=\"_2NBiOm\"><div class=\"_1nneZ0\"><div class=\"_2TbXIJ\" style=\"height:0;width:0\"></div><div class=\"_2TbXIJ\" style=\"height:0;width:0\"></div><div class=\"_2TbXIJ\" style=\"height:0;width:0\"></div><div class=\"_2TbXIJ\" style=\"height:0;width:0\"></div><div class=\"_2TbXIJ\" style=\"height:0;width:0\"></div><div class=\"_2TbXIJ\" style=\"height:0;width:0\"></div></div></div><div class=\"_2r34SG\"><div class=\"_12FhcQ\"><div class=\"_31Kbhn _28DFQy\"><div class=\"_3FdLqY\"></div></div><div class=\"_31Kbhn WC_zGJ\"><div class=\"_3FdLqY\"></div></div><div class=\"_2IN3-t\"></div><div class=\"_2IN3-t _1mRwrD\"></div></div><div class=\"_15GU70\"><div class=\"_1ftpgI\" style=\"width:undefinedpx\">.</div><div class=\"_1ftpgI\" style=\"width:undefinedpx\">.</div><div class=\"_1ftpgI\" style=\"width:undefinedpx\">.</div><div class=\"_1ftpgI\" style=\"width:undefinedpx\">.</div><div class=\"_1ftpgI\" style=\"width:undefinedpx\">.</div><div class=\"_1ftpgI\" style=\"width:undefinedpx\">.</div><div class=\"_1ftpgI\" style=\"width:0px\">.</div></div></div><div class=\"_2b0bUo\"><div class=\"_1YAKP4\"><select class=\"_2YxCDZ\"><option class=\"_3AsjWR\" selected=\"\" value=\"Min\">Min</option><option class=\"_3AsjWR\" value=\"10000\">₹10000</option><option class=\"_3AsjWR\" value=\"15000\">₹15000</option><option class=\"_3AsjWR\" value=\"20000\">₹20000</option><option class=\"_3AsjWR\" value=\"25000\">₹25000</option><option class=\"_3AsjWR\" value=\"30000\">₹30000</option></select></div><div class=\"_3zohzR\">to</div><div class=\"_3uDYxP\"><select class=\"_2YxCDZ\"><option class=\"_3AsjWR\" value=\"10000\">₹10000</option><option class=\"_3AsjWR\" value=\"15000\">₹15000</option><option class=\"_3AsjWR\" value=\"20000\">₹20000</option><option class=\"_3AsjWR\" value=\"25000\">₹25000</option><option class=\"_3AsjWR\" value=\"30000\">₹30000</option><option class=\"_3AsjWR\" selected=\"\" value=\"Max\">₹30000+</option></select></div></div></section><section class=\"_2hbLCH _24gLJx\"><label class=\"_2iDkf8 shbqsL\"><input class=\"_30VH1S\" readonly=\"\" type=\"checkbox\"/><div class=\"_24_Dny _3tCU7L\"></div><div class=\"_3879cV\"><div class=\"_3U-Vxu\"><img class=\"_3U-Vxu\" height=\"21\" src=\"//static-assets-web.flixcart.com/fk-p-linchpin-web/fk-cp-zion/img/fa_62673a.png\"/></div></div></label><div class=\"Bv11UC\"><span class=\"question\">?</span></div></section><section class=\"_167Mu3 _2hbLCH\"><div class=\"_213eRC _2ssEMF\"><div class=\"_2gmUFU _3V8rao\">Ideal for Family Size</div><svg class=\"ttx38n _3DyGEM\" height=\"27\" viewbox=\"0 0 16 27\" width=\"16\" xmlns=\"http://www.w3.org/2000/svg\"><path class=\"IIvmWM\" d=\"M16 23.207L6.11 13.161 16 3.093 12.955 0 0 13.161l12.955 13.161z\" fill=\"#fff\"></path></svg></div><div class=\"_3FPh42\"><div class=\"_2d0we9\"><div class=\"_4921Z t0pPfW\" title=\"Large Families\"><div class=\"_1Y4Vhm _4FO7b6\"><label class=\"_2iDkf8 t0pPfW\"><input class=\"_30VH1S\" readonly=\"\" type=\"checkbox\"/><div class=\"_24_Dny\"></div><div class=\"_3879cV\">Large Families</div></label></div></div><div class=\"_4921Z t0pPfW\" title=\"Family of 4\"><div class=\"_1Y4Vhm _4FO7b6\"><label class=\"_2iDkf8 t0pPfW\"><input class=\"_30VH1S\" readonly=\"\" type=\"checkbox\"/><div class=\"_24_Dny\"></div><div class=\"_3879cV\">Family of 4</div></label></div></div><div class=\"_4921Z t0pPfW\" title=\"Family of 3\"><div class=\"_1Y4Vhm _4FO7b6\"><label class=\"_2iDkf8 t0pPfW\"><input class=\"_30VH1S\" readonly=\"\" type=\"checkbox\"/><div class=\"_24_Dny\"></div><div class=\"_3879cV\">Family of 3</div></label></div></div><div class=\"_4921Z t0pPfW\" title=\"SingleCouple\"><div class=\"_1Y4Vhm _4FO7b6\"><label class=\"_2iDkf8 t0pPfW\"><input class=\"_30VH1S\" readonly=\"\" type=\"checkbox\"/><div class=\"_24_Dny\"></div><div class=\"_3879cV\">SingleCouple</div></label></div></div></div></div></section><section class=\"_167Mu3 _2hbLCH\"><div class=\"_213eRC _2ssEMF\"><div class=\"_2gmUFU _3V8rao\">Brand</div><svg class=\"ttx38n _3DyGEM\" height=\"27\" viewbox=\"0 0 16 27\" width=\"16\" xmlns=\"http://www.w3.org/2000/svg\"><path class=\"IIvmWM\" d=\"M16 23.207L6.11 13.161 16 3.093 12.955 0 0 13.161l12.955 13.161z\" fill=\"#fff\"></path></svg></div><div class=\"_3FPh42\"><div class=\"_2d0we9\"><div class=\"_2pBqj6\"><svg class=\"_3WAvPc\" height=\"20\" viewbox=\"0 0 17 18\" width=\"20\" xmlns=\"http://www.w3.org/2000/svg\"><g fill=\"#2874F1\" fill-rule=\"evenodd\"><path class=\"-OwdlC\" d=\"m11.618 9.897l4.225 4.212c.092.092.101.232.02.313l-1.465 1.46c-.081.081-.221.072-.314-.02l-4.216-4.203\"></path><path class=\"-OwdlC\" d=\"m6.486 10.901c-2.42 0-4.381-1.956-4.381-4.368 0-2.413 1.961-4.369 4.381-4.369 2.42 0 4.381 1.956 4.381 4.369 0 2.413-1.961 4.368-4.381 4.368m0-10.835c-3.582 0-6.486 2.895-6.486 6.467 0 3.572 2.904 6.467 6.486 6.467 3.582 0 6.486-2.895 6.486-6.467 0-3.572-2.904-6.467-6.486-6.467\"></path></g></svg><input class=\"_34uFYj\" placeholder=\"Search Brand\" type=\"text\" value=\"\"/></div><div class=\"_4921Z t0pPfW\" title=\"SAMSUNG\"><div class=\"_1Y4Vhm _4FO7b6\"><label class=\"_2iDkf8 t0pPfW\"><input class=\"_30VH1S\" readonly=\"\" type=\"checkbox\"/><div class=\"_24_Dny\"></div><div class=\"_3879cV\">SAMSUNG</div></label></div></div><div class=\"_4921Z t0pPfW\" title=\"LG\"><div class=\"_1Y4Vhm _4FO7b6\"><label class=\"_2iDkf8 t0pPfW\"><input class=\"_30VH1S\" readonly=\"\" type=\"checkbox\"/><div class=\"_24_Dny\"></div><div class=\"_3879cV\">LG</div></label></div></div><div class=\"_4921Z t0pPfW\" title=\"Whirlpool\"><div class=\"_1Y4Vhm _4FO7b6\"><label class=\"_2iDkf8 t0pPfW\"><input class=\"_30VH1S\" readonly=\"\" type=\"checkbox\"/><div class=\"_24_Dny\"></div><div class=\"_3879cV\">Whirlpool</div></label></div></div><div class=\"_4921Z t0pPfW\" title=\"IFB\"><div class=\"_1Y4Vhm _4FO7b6\"><label class=\"_2iDkf8 t0pPfW\"><input class=\"_30VH1S\" readonly=\"\" type=\"checkbox\"/><div class=\"_24_Dny\"></div><div class=\"_3879cV\">IFB</div></label></div></div><div class=\"_4921Z t0pPfW\" title=\"Panasonic\"><div class=\"_1Y4Vhm _4FO7b6\"><label class=\"_2iDkf8 t0pPfW\"><input class=\"_30VH1S\" readonly=\"\" type=\"checkbox\"/><div class=\"_24_Dny\"></div><div class=\"_3879cV\">Panasonic</div></label></div></div><div class=\"_4921Z t0pPfW\" title=\"MarQ by Flipkart\"><div class=\"_1Y4Vhm _4FO7b6\"><label class=\"_2iDkf8 t0pPfW\"><input class=\"_30VH1S\" readonly=\"\" type=\"checkbox\"/><div class=\"_24_Dny\"></div><div class=\"_3879cV\">MarQ by Flipkart</div></label></div></div></div><div class=\"QvtND5 _2w_U27\"><span>33 MORE</span></div></div></section><section class=\"_167Mu3 _2hbLCH\"><div class=\"_213eRC _2ssEMF\"><div class=\"_2gmUFU _3V8rao\">GST Invoice Available</div><svg class=\"ttx38n\" height=\"27\" viewbox=\"0 0 16 27\" width=\"16\" xmlns=\"http://www.w3.org/2000/svg\"><path class=\"IIvmWM\" d=\"M16 23.207L6.11 13.161 16 3.093 12.955 0 0 13.161l12.955 13.161z\" fill=\"#fff\"></path></svg></div></section><section class=\"_167Mu3 _2hbLCH\"><div class=\"_213eRC _2ssEMF\"><div class=\"_2gmUFU _3V8rao\">Capacity</div><svg class=\"ttx38n\" height=\"27\" viewbox=\"0 0 16 27\" width=\"16\" xmlns=\"http://www.w3.org/2000/svg\"><path class=\"IIvmWM\" d=\"M16 23.207L6.11 13.161 16 3.093 12.955 0 0 13.161l12.955 13.161z\" fill=\"#fff\"></path></svg></div></section><section class=\"_167Mu3 _2hbLCH\"><div class=\"_213eRC _2ssEMF\"><div class=\"_2gmUFU _3V8rao\">Function Type</div><svg class=\"ttx38n\" height=\"27\" viewbox=\"0 0 16 27\" width=\"16\" xmlns=\"http://www.w3.org/2000/svg\"><path class=\"IIvmWM\" d=\"M16 23.207L6.11 13.161 16 3.093 12.955 0 0 13.161l12.955 13.161z\" fill=\"#fff\"></path></svg></div></section><section class=\"_167Mu3 _2hbLCH\"><div class=\"_213eRC _2ssEMF\"><div class=\"_2gmUFU _3V8rao\">Discount</div><svg class=\"ttx38n\" height=\"27\" viewbox=\"0 0 16 27\" width=\"16\" xmlns=\"http://www.w3.org/2000/svg\"><path class=\"IIvmWM\" d=\"M16 23.207L6.11 13.161 16 3.093 12.955 0 0 13.161l12.955 13.161z\" fill=\"#fff\"></path></svg></div></section><section class=\"_167Mu3 _2hbLCH\"><div class=\"_213eRC _2ssEMF\"><div class=\"_2gmUFU _3V8rao\">Availability</div><svg class=\"ttx38n\" height=\"27\" viewbox=\"0 0 16 27\" width=\"16\" xmlns=\"http://www.w3.org/2000/svg\"><path class=\"IIvmWM\" d=\"M16 23.207L6.11 13.161 16 3.093 12.955 0 0 13.161l12.955 13.161z\" fill=\"#fff\"></path></svg></div></section><section class=\"_167Mu3 _2hbLCH\"><div class=\"_213eRC _2ssEMF\"><div class=\"_2gmUFU _3V8rao\">Customer Ratings</div><svg class=\"ttx38n _3DyGEM\" height=\"27\" viewbox=\"0 0 16 27\" width=\"16\" xmlns=\"http://www.w3.org/2000/svg\"><path class=\"IIvmWM\" d=\"M16 23.207L6.11 13.161 16 3.093 12.955 0 0 13.161l12.955 13.161z\" fill=\"#fff\"></path></svg></div><div class=\"_3FPh42\"><div class=\"_2d0we9\"><div class=\"_4921Z t0pPfW\" title=\"4★ &amp; above\"><div class=\"_1Y4Vhm _4FO7b6\"><label class=\"_2iDkf8 t0pPfW\"><input class=\"_30VH1S\" readonly=\"\" type=\"checkbox\"/><div class=\"_24_Dny\"></div><div class=\"_3879cV\">4★ &amp; above</div></label></div></div><div class=\"_4921Z t0pPfW\" title=\"3★ &amp; above\"><div class=\"_1Y4Vhm _4FO7b6\"><label class=\"_2iDkf8 t0pPfW\"><input class=\"_30VH1S\" readonly=\"\" type=\"checkbox\"/><div class=\"_24_Dny\"></div><div class=\"_3879cV\">3★ &amp; above</div></label></div></div><div class=\"_4921Z t0pPfW\" title=\"2★ &amp; above\"><div class=\"_1Y4Vhm _4FO7b6\"><label class=\"_2iDkf8 t0pPfW\"><input class=\"_30VH1S\" readonly=\"\" type=\"checkbox\"/><div class=\"_24_Dny\"></div><div class=\"_3879cV\">2★ &amp; above</div></label></div></div><div class=\"_4921Z t0pPfW\" title=\"1★ &amp; above\"><div class=\"_1Y4Vhm _4FO7b6\"><label class=\"_2iDkf8 t0pPfW\"><input class=\"_30VH1S\" readonly=\"\" type=\"checkbox\"/><div class=\"_24_Dny\"></div><div class=\"_3879cV\">1★ &amp; above</div></label></div></div></div></div></section><section class=\"_167Mu3 _2hbLCH\"><div class=\"_213eRC _2ssEMF\"><div class=\"_2gmUFU _3V8rao\">Offers</div><svg class=\"ttx38n _3DyGEM\" height=\"27\" viewbox=\"0 0 16 27\" width=\"16\" xmlns=\"http://www.w3.org/2000/svg\"><path class=\"IIvmWM\" d=\"M16 23.207L6.11 13.161 16 3.093 12.955 0 0 13.161l12.955 13.161z\" fill=\"#fff\"></path></svg></div><div class=\"_3FPh42\"><div class=\"_2d0we9\"><div class=\"_4921Z t0pPfW\" title=\"No Cost EMI\"><div class=\"_1Y4Vhm _4FO7b6\"><label class=\"_2iDkf8 t0pPfW\"><input class=\"_30VH1S\" readonly=\"\" type=\"checkbox\"/><div class=\"_24_Dny\"></div><div class=\"_3879cV\">No Cost EMI</div></label></div></div><div class=\"_4921Z t0pPfW\" title=\"Special Price\"><div class=\"_1Y4Vhm _4FO7b6\"><label class=\"_2iDkf8 t0pPfW\"><input class=\"_30VH1S\" readonly=\"\" type=\"checkbox\"/><div class=\"_24_Dny\"></div><div class=\"_3879cV\">Special Price</div></label></div></div><div class=\"_4921Z t0pPfW\" title=\"Buy More, Save More\"><div class=\"_1Y4Vhm _4FO7b6\"><label class=\"_2iDkf8 _2uGXy_ t0pPfW\"><input class=\"_30VH1S\" readonly=\"\" type=\"checkbox\"/><div class=\"_24_Dny\"></div><div class=\"_3879cV\">Buy More, Save More</div></label></div></div></div></div></section><section class=\"_167Mu3 _2hbLCH\"><div class=\"_213eRC _2ssEMF\"><div class=\"_2gmUFU _3V8rao\">Theme</div><svg class=\"ttx38n\" height=\"27\" viewbox=\"0 0 16 27\" width=\"16\" xmlns=\"http://www.w3.org/2000/svg\"><path class=\"IIvmWM\" d=\"M16 23.207L6.11 13.161 16 3.093 12.955 0 0 13.161l12.955 13.161z\" fill=\"#fff\"></path></svg></div></section></div></div><div class=\"_1AtVbE col-12-12\"><a class=\"_1nY1tt\" href=\"/buying-guide/washing-machines-dryers?sid=j9e,abm,8qx&amp;otracker=bg_from_browse_lhs\" title=\"Buying Guide\"><div><span>Need help?</span></div><div class=\"_1mVNvF\"><span>Help me decide</span><svg class=\"ViewtL\" height=\"27\" viewbox=\"0 0 16 27\" width=\"16\" xmlns=\"http://www.w3.org/2000/svg\"><path class=\"_2Zt1Py\" d=\"M16 23.207L6.11 13.161 16 3.093 12.955 0 0 13.161l12.955 13.161z\" fill=\"#fff\"></path></svg></div><img alt=\"Buying Guide\" src=\"//static-assets-web.flixcart.com/fk-p-linchpin-web/fk-cp-zion/img/buying-guide-illustration_4dd325.png\"/></a></div></div></div><div class=\"_1YokD2 _3Mn1Gg\" style=\"flex-grow:1;overflow:auto\"><div class=\"_1YokD2 _2GoDe3 col-12-12\" style=\"background-color:#ffffff;align-items:flex-end\"><div class=\"_1AtVbE\" style=\"flex-grow:1;overflow:auto\"><div class=\"W_R1IA\"><div class=\"_1MR4o5\"><div class=\"_3GIHBu\"><a class=\"_2whKao\" href=\"/\">Home</a><svg class=\"_39X-Og\" height=\"27\" viewbox=\"0 0 16 27\" width=\"16\" xmlns=\"http://www.w3.org/2000/svg\"><path class=\"DpXnhQ\" d=\"M16 23.207L6.11 13.161 16 3.093 12.955 0 0 13.161l12.955 13.161z\" fill=\"#fff\"></path></svg></div><div class=\"_3GIHBu\"><a class=\"_2whKao\" href=\"/home-kitchen/pr?sid=j9e&amp;marketplace=FLIPKART\">Home &amp; Kitchen</a><svg class=\"_39X-Og\" height=\"27\" viewbox=\"0 0 16 27\" width=\"16\" xmlns=\"http://www.w3.org/2000/svg\"><path class=\"DpXnhQ\" d=\"M16 23.207L6.11 13.161 16 3.093 12.955 0 0 13.161l12.955 13.161z\" fill=\"#fff\"></path></svg></div><div class=\"_3GIHBu\"><a class=\"_2whKao\" href=\"/home-kitchen/home-appliances/pr?sid=j9e,abm&amp;marketplace=FLIPKART\">Home Appliances</a><svg class=\"_39X-Og\" height=\"27\" viewbox=\"0 0 16 27\" width=\"16\" xmlns=\"http://www.w3.org/2000/svg\"><path class=\"DpXnhQ\" d=\"M16 23.207L6.11 13.161 16 3.093 12.955 0 0 13.161l12.955 13.161z\" fill=\"#fff\"></path></svg></div><div class=\"_3GIHBu\"><a class=\"_2whKao\" href=\"/washing-machines/pr?sid=j9e,abm,8qx&amp;marketplace=FLIPKART\">Washing Machines</a><svg class=\"_39X-Og\" height=\"27\" viewbox=\"0 0 16 27\" width=\"16\" xmlns=\"http://www.w3.org/2000/svg\"><path class=\"DpXnhQ\" d=\"M16 23.207L6.11 13.161 16 3.093 12.955 0 0 13.161l12.955 13.161z\" fill=\"#fff\"></path></svg></div></div><span class=\"_10Ermr\">Showing 1 – 24 of 921 results for \"<span>washing machine</span>\"</span><div class=\"_5THWM1\"><span class=\"_2i7N3j\">Sort By</span><div class=\"_10UF8M _3LsR0e\">Relevance</div><div class=\"_10UF8M\">Popularity</div><div class=\"_10UF8M\">Price -- Low to High</div><div class=\"_10UF8M\">Price -- High to Low</div><div class=\"_10UF8M\">Newest First</div><div class=\"_10UF8M\">Discount</div></div></div></div></div><div class=\"_1AtVbE col-12-12\"><div class=\"_13oc-S\"><div data-id=\"WMNE7N442RHHWA8Z\" style=\"width:100%\"><div class=\"_2kHMtA\"><div class=\"_2tfzpE\"><span>Ad</span></div><a class=\"_1fQZEK\" href=\"/ifb-6-5-kg-5-star-fully-automatic-top-load-washing-machine-silver/p/itme7n44fajwgxh2?pid=WMNE7N442RHHWA8Z&amp;lid=LSTWMNE7N442RHHWA8Z5EWS8C&amp;marketplace=FLIPKART&amp;q=washing+machine&amp;store=j9e%2Fabm%2F8qx&amp;srno=s_1_1&amp;otracker=AS_QueryStore_OrganicAutoSuggest_1_3_na_na_ps&amp;otracker1=AS_QueryStore_OrganicAutoSuggest_1_3_na_na_ps&amp;fm=organic&amp;iid=en_87oalko4yLDEx5DQLmnOfvh3rbmQWGvDLerTOW3UkgZDS8WI8Kct50pJRYCOEyg9btlusrfPmT6hBxE43MZ%2BVw%3D%3D&amp;ppt=None&amp;ppn=None&amp;ssid=x06p3n2l4g0000001682757740118&amp;qH=b3522a5e7056c9c0\" rel=\"noopener noreferrer\" target=\"_blank\"><div class=\"MIXNux\"><div class=\"_2QcLo-\"><div><div class=\"CXW8mj\" style=\"height:200px;width:200px\"><img alt=\"IFB 6.5 kg 5 Star Fully Automatic Top Load Washing Machine Silver\" class=\"_396cs4\" loading=\"eager\" src=\"https://rukminim1.flixcart.com/image/312/312/k0o69ow0/washing-machine-new/a/8/z/tl-rds-rdss-6-5-kg-aqua-ifb-original-imafketbjaefm9aa.jpeg?q=70\"/></div></div></div><div class=\"_3wLduG\"><div class=\"_3PzNI-\"><span class=\"f3A4_V\"><label class=\"_2iDkf8\"><input class=\"_30VH1S\" readonly=\"\" type=\"checkbox\"/><div class=\"_24_Dny\"></div></label></span><label class=\"_6Up2sF\"><span>Add to Compare</span></label></div></div><div class=\"_2hVSre _3nq8ih\"><div class=\"_36FSn5\"><svg class=\"_1l0elc\" height=\"16\" viewbox=\"0 0 20 16\" width=\"16\" xmlns=\"http://www.w3.org/2000/svg\"><path class=\"eX72wL\" d=\"M8.695 16.682C4.06 12.382 1 9.536 1 6.065 1 3.219 3.178 1 5.95 1c1.566 0 3.069.746 4.05 1.915C10.981 1.745 12.484 1 14.05 1 16.822 1 19 3.22 19 6.065c0 3.471-3.06 6.316-7.695 10.617L10 17.897l-1.305-1.215z\" fill=\"#2874F0\" fill-rule=\"evenodd\" opacity=\".9\" stroke=\"#FFF\"></path></svg></div></div></div><div class=\"_3pLy-c row\"><div class=\"col col-7-12\"><div class=\"_4rR01T\">IFB 6.5 kg 5 Star Fully Automatic Top Load Washing Machine Silver</div><div class=\"gUuXy-\"><span class=\"_1lRcqv\" id=\"productRating_LSTWMNE7N442RHHWA8Z5EWS8C_WMNE7N442RHHWA8Z_\"><div class=\"_3LWZlK\">4.3<img class=\"_1wB99o\" src=\"data:image/svg+xml;base64,PHN2ZyB4bWxucz0iaHR0cDovL3d3dy53My5vcmcvMjAwMC9zdmciIHdpZHRoPSIxMyIgaGVpZ2h0PSIxMiI+PHBhdGggZmlsbD0iI0ZGRiIgZD0iTTYuNSA5LjQzOWwtMy42NzQgMi4yMy45NC00LjI2LTMuMjEtMi44ODMgNC4yNTQtLjQwNEw2LjUuMTEybDEuNjkgNC4wMSA0LjI1NC40MDQtMy4yMSAyLjg4Mi45NCA0LjI2eiIvPjwvc3ZnPg==\"/></div></span><span class=\"_2_R_DZ\"><span><span>6,198 Ratings </span><span class=\"_13vcmD\">&amp;</span><span> 632 Reviews</span></span></span></div><div class=\"fMghEO\"><ul class=\"_1xgFaf\"><li class=\"rgWa7D\">720 rpm Max Speed</li><li class=\"rgWa7D\">5 Star Rating</li><li class=\"rgWa7D\">4 Years Comprehensive Warranty and 10 Years Spare Part Support from IFB</li></ul></div></div><div class=\"col col-5-12 nlI3QM\"><div class=\"_3tbKJL\"><div class=\"_25b18c\"><div class=\"_30jeq3 _1_WHN1\">₹19,290</div><div class=\"_3I9_wc _27UcVY\">₹<!-- -->19,990</div><div class=\"_3Ay6Sb\"><span>3% off</span></div></div><div class=\"_3tcB5a p8ucoS\"><div><div class=\"_2Tpdn3\" style=\"color:#000000;font-size:12px;font-weight:400\">Free delivery</div></div></div></div><div class=\"_13J9qT\"><img height=\"21\" src=\"//static-assets-web.flixcart.com/fk-p-linchpin-web/fk-cp-zion/img/fa_62673a.png\"/></div><div class=\"_2ZdXDB\"><div class=\"_3xFhiH\"><div class=\"_2Tpdn3 _18hQoS\" style=\"color:#000000;font-size:14px;font-style:normal;font-weight:400\">Upto </div><div class=\"_2Tpdn3 _18hQoS\" style=\"color:#000000;font-size:14px;font-style:normal;font-weight:700\">₹2,200</div><div class=\"_2Tpdn3 _18hQoS\" style=\"color:#000000;font-size:14px;font-style:normal;font-weight:400\"> Off on Exchange</div></div></div><div class=\"_2ZdXDB\"><div class=\"_3xFhiH\"><div class=\"_2Tpdn3 _18hQoS\" style=\"color:#26A541;font-size:14px;font-weight:700\">Bank Offer</div></div></div></div></div></a></div></div></div></div><div class=\"_1AtVbE col-12-12\"><div class=\"_13oc-S\"><div data-id=\"WMNGN53UNZ9JVAYU\" style=\"width:100%\"><div class=\"_2kHMtA\"><div class=\"_2tfzpE\"><span>Ad</span></div><a class=\"_1fQZEK\" href=\"/voltas-beko-6-kg-wifi-enabled-homewhiz-steam-wash-fully-automatic-front-load-washing-machine-in-built-heater-grey/p/itm141b09d0e9751?pid=WMNGN53UNZ9JVAYU&amp;lid=LSTWMNGN53UNZ9JVAYU0RNFGG&amp;marketplace=FLIPKART&amp;q=washing+machine&amp;store=j9e%2Fabm%2F8qx&amp;srno=s_1_2&amp;otracker=AS_QueryStore_OrganicAutoSuggest_1_3_na_na_ps&amp;otracker1=AS_QueryStore_OrganicAutoSuggest_1_3_na_na_ps&amp;fm=organic&amp;iid=en_87oalko4yLDEx5DQLmnOfvh3rbmQWGvDLerTOW3UkgaWTp%2BBiSUpnfEGNQ0907i5h4fZsgIniqCXx7RDaTxM4w%3D%3D&amp;ppt=None&amp;ppn=None&amp;ssid=x06p3n2l4g0000001682757740118&amp;qH=b3522a5e7056c9c0\" rel=\"noopener noreferrer\" target=\"_blank\"><div class=\"MIXNux\"><div class=\"_2QcLo-\"><div><div class=\"CXW8mj\" style=\"height:200px;width:200px\"><img alt=\"Voltas Beko 6 kg WiFi enabled HomeWhiz with Steam Wash Fully Automatic Front Load Washing Machine with...\" class=\"_396cs4\" loading=\"eager\" src=\"https://rukminim1.flixcart.com/image/312/312/xif0q/washing-machine-new/m/9/a/-original-imagzr4bjagzcjkp.jpeg?q=70\"/></div></div></div><div class=\"_3wLduG\"><div class=\"_3PzNI-\"><span class=\"f3A4_V\"><label class=\"_2iDkf8\"><input class=\"_30VH1S\" readonly=\"\" type=\"checkbox\"/><div class=\"_24_Dny\"></div></label></span><label class=\"_6Up2sF\"><span>Add to Compare</span></label></div></div><div class=\"_2hVSre _3nq8ih\"><div class=\"_36FSn5\"><svg class=\"_1l0elc\" height=\"16\" viewbox=\"0 0 20 16\" width=\"16\" xmlns=\"http://www.w3.org/2000/svg\"><path class=\"eX72wL\" d=\"M8.695 16.682C4.06 12.382 1 9.536 1 6.065 1 3.219 3.178 1 5.95 1c1.566 0 3.069.746 4.05 1.915C10.981 1.745 12.484 1 14.05 1 16.822 1 19 3.22 19 6.065c0 3.471-3.06 6.316-7.695 10.617L10 17.897l-1.305-1.215z\" fill=\"#2874F0\" fill-rule=\"evenodd\" opacity=\".9\" stroke=\"#FFF\"></path></svg></div></div></div><div class=\"_3pLy-c row\"><div class=\"col col-7-12\"><div class=\"_4rR01T\">Voltas Beko 6 kg WiFi enabled HomeWhiz with Steam Wash Fully Automatic Front Load Washing Machine with...</div><div class=\"gUuXy-\"><span class=\"_1lRcqv\" id=\"productRating_LSTWMNGN53UNZ9JVAYU0RNFGG_WMNGN53UNZ9JVAYU_\"><div class=\"_3LWZlK\">3.8<img class=\"_1wB99o\" src=\"data:image/svg+xml;base64,PHN2ZyB4bWxucz0iaHR0cDovL3d3dy53My5vcmcvMjAwMC9zdmciIHdpZHRoPSIxMyIgaGVpZ2h0PSIxMiI+PHBhdGggZmlsbD0iI0ZGRiIgZD0iTTYuNSA5LjQzOWwtMy42NzQgMi4yMy45NC00LjI2LTMuMjEtMi44ODMgNC4yNTQtLjQwNEw2LjUuMTEybDEuNjkgNC4wMSA0LjI1NC40MDQtMy4yMSAyLjg4Mi45NCA0LjI2eiIvPjwvc3ZnPg==\"/></div></span><span class=\"_2_R_DZ\"><span><span>20 Ratings </span><span class=\"_13vcmD\">&amp;</span><span> 2 Reviews</span></span></span></div><div class=\"fMghEO\"><ul class=\"_1xgFaf\"><li class=\"rgWa7D\">1000 rpm Max Speed</li><li class=\"rgWa7D\">5 Star Rating</li><li class=\"rgWa7D\">3 Years Comprehensive Warranty on Product and 12 Years Warranty on Motor</li></ul></div></div><div class=\"col col-5-12 nlI3QM\"><div class=\"_3tbKJL\"><div class=\"_25b18c\"><div class=\"_30jeq3 _1_WHN1\">₹21,990</div><div class=\"_3I9_wc _27UcVY\">₹<!-- -->33,490</div><div class=\"_3Ay6Sb\"><span>34% off</span></div></div><div class=\"_3tcB5a p8ucoS\"><div><div class=\"_2Tpdn3\" style=\"color:#000000;font-size:12px;font-weight:400\">Free delivery</div></div></div></div><div class=\"_13J9qT\"><img height=\"21\" src=\"//static-assets-web.flixcart.com/fk-p-linchpin-web/fk-cp-zion/img/fa_62673a.png\"/></div><div class=\"_2ZdXDB\"><div class=\"_3xFhiH\"><div class=\"_2Tpdn3 _18hQoS\" style=\"color:#000000;font-size:14px;font-style:normal;font-weight:400\">Upto </div><div class=\"_2Tpdn3 _18hQoS\" style=\"color:#000000;font-size:14px;font-style:normal;font-weight:700\">₹3,700</div><div class=\"_2Tpdn3 _18hQoS\" style=\"color:#000000;font-size:14px;font-style:normal;font-weight:400\"> Off on Exchange</div></div></div><div class=\"_2ZdXDB\"><div class=\"_3xFhiH\"><div class=\"_2Tpdn3 _18hQoS\" style=\"color:#000000;font-size:12px;font-weight:400\">No Cost EMI from ₹1,833/month</div></div></div></div></div></a></div></div></div></div><div class=\"_1AtVbE col-12-12\"><div class=\"_13oc-S\"><div data-id=\"WMNGFHFPD9KCRH7Y\" style=\"width:100%\"><div class=\"_2kHMtA\"><a class=\"_1fQZEK\" href=\"/haier-6-5-kg-5-star-oceanus-wave-drum-washing-machine-fully-automatic-top-load-brown-grey/p/itm2c899989a92d7?pid=WMNGFHFPD9KCRH7Y&amp;lid=LSTWMNGFHFPD9KCRH7YJFXO8Y&amp;marketplace=FLIPKART&amp;q=washing+machine&amp;store=j9e%2Fabm%2F8qx&amp;spotlightTagId=BestsellerId_j9e%2Fabm%2F8qx&amp;srno=s_1_3&amp;otracker=AS_QueryStore_OrganicAutoSuggest_1_3_na_na_ps&amp;otracker1=AS_QueryStore_OrganicAutoSuggest_1_3_na_na_ps&amp;fm=organic&amp;iid=a1fec95a-848f-4b6d-8df3-e024719ab563.WMNGFHFPD9KCRH7Y.SEARCH&amp;ppt=None&amp;ppn=None&amp;ssid=x06p3n2l4g0000001682757740118&amp;qH=b3522a5e7056c9c0\" rel=\"noopener noreferrer\" target=\"_blank\"><div></div><div class=\"MIXNux\"><div class=\"_2QcLo-\"><div><div class=\"CXW8mj\" style=\"height:200px;width:200px\"><img alt=\"Haier 6.5 kg 5 Star Oceanus Wave Drum Washing Machine Fully Automatic Top Load Brown, Grey\" class=\"_396cs4\" loading=\"eager\" src=\"https://rukminim1.flixcart.com/image/312/312/ko382a80/washing-machine-new/p/t/a/6-5-hwm65-fe-haier-original-imag2m7nrccjzyfn.jpeg?q=70\"/></div></div></div><div class=\"_3wLduG\"><div class=\"_3PzNI-\"><span class=\"f3A4_V\"><label class=\"_2iDkf8\"><input class=\"_30VH1S\" readonly=\"\" type=\"checkbox\"/><div class=\"_24_Dny\"></div></label></span><label class=\"_6Up2sF\"><span>Add to Compare</span></label></div></div><div class=\"_2hVSre _3nq8ih\"><div class=\"_36FSn5\"><svg class=\"_1l0elc\" height=\"16\" viewbox=\"0 0 20 16\" width=\"16\" xmlns=\"http://www.w3.org/2000/svg\"><path class=\"eX72wL\" d=\"M8.695 16.682C4.06 12.382 1 9.536 1 6.065 1 3.219 3.178 1 5.95 1c1.566 0 3.069.746 4.05 1.915C10.981 1.745 12.484 1 14.05 1 16.822 1 19 3.22 19 6.065c0 3.471-3.06 6.316-7.695 10.617L10 17.897l-1.305-1.215z\" fill=\"#2874F0\" fill-rule=\"evenodd\" opacity=\".9\" stroke=\"#FFF\"></path></svg></div></div></div><div class=\"_3pLy-c row\"><div class=\"col col-7-12\"><div class=\"_4rR01T\">Haier 6.5 kg 5 Star Oceanus Wave Drum Washing Machine Fully Automatic Top Load Brown, Grey</div><div class=\"gUuXy-\"><span class=\"_1lRcqv\" id=\"productRating_LSTWMNGFHFPD9KCRH7YJFXO8Y_WMNGFHFPD9KCRH7Y_\"><div class=\"_3LWZlK\">4.3<img class=\"_1wB99o\" src=\"data:image/svg+xml;base64,PHN2ZyB4bWxucz0iaHR0cDovL3d3dy53My5vcmcvMjAwMC9zdmciIHdpZHRoPSIxMyIgaGVpZ2h0PSIxMiI+PHBhdGggZmlsbD0iI0ZGRiIgZD0iTTYuNSA5LjQzOWwtMy42NzQgMi4yMy45NC00LjI2LTMuMjEtMi44ODMgNC4yNTQtLjQwNEw2LjUuMTEybDEuNjkgNC4wMSA0LjI1NC40MDQtMy4yMSAyLjg4Mi45NCA0LjI2eiIvPjwvc3ZnPg==\"/></div></span><span class=\"_2_R_DZ\"><span><span>11,941 Ratings </span><span class=\"_13vcmD\">&amp;</span><span> 943 Reviews</span></span></span></div><div class=\"fMghEO\"><ul class=\"_1xgFaf\"><li class=\"rgWa7D\">800 rpm Max Speed</li><li class=\"rgWa7D\">5 Star Rating</li><li class=\"rgWa7D\">2 Years Comprehensive Warranty on Product and 10 Years Warranty on Motor from Haier</li></ul></div></div><div class=\"col col-5-12 nlI3QM\"><div class=\"_3tbKJL\"><div class=\"_25b18c\"><div class=\"_30jeq3 _1_WHN1\">₹12,990</div><div class=\"_3I9_wc _27UcVY\">₹<!-- -->22,000</div><div class=\"_3Ay6Sb\"><span>40% off</span></div></div><div class=\"_3tcB5a p8ucoS\"><div><div class=\"_2Tpdn3\" style=\"color:#000000;font-size:12px;font-weight:400\">Free delivery</div></div></div></div><div class=\"_13J9qT\"><img height=\"21\" src=\"//static-assets-web.flixcart.com/fk-p-linchpin-web/fk-cp-zion/img/fa_62673a.png\"/></div><div class=\"_2ZdXDB\"><div class=\"_3xFhiH\"><div class=\"_2Tpdn3 _18hQoS\" style=\"color:#000000;font-size:14px;font-style:normal;font-weight:400\">Upto </div><div class=\"_2Tpdn3 _18hQoS\" style=\"color:#000000;font-size:14px;font-style:normal;font-weight:700\">₹2,200</div><div class=\"_2Tpdn3 _18hQoS\" style=\"color:#000000;font-size:14px;font-style:normal;font-weight:400\"> Off on Exchange</div></div></div><div class=\"_2ZdXDB\"><div class=\"_3xFhiH\"><div class=\"_2Tpdn3 _18hQoS\" style=\"color:#000000;font-size:12px;font-weight:400\">No Cost EMI from ₹1,444/month</div></div></div></div></div></a></div></div></div></div><div class=\"_1AtVbE col-12-12\"><div class=\"_13oc-S\"><div data-id=\"WMNG4VNTJAUVBCKN\" style=\"width:100%\"><div class=\"_2kHMtA\"><a class=\"_1fQZEK\" href=\"/lg-7-kg-5-star-rating-wind-jet-dry-semi-automatic-top-load-washing-machine-grey-white/p/itmc9d497e9b58bb?pid=WMNG4VNTJAUVBCKN&amp;lid=LSTWMNG4VNTJAUVBCKNBMH2FY&amp;marketplace=FLIPKART&amp;q=washing+machine&amp;store=j9e%2Fabm%2F8qx&amp;spotlightTagId=FkPickId_j9e%2Fabm%2F8qx&amp;srno=s_1_4&amp;otracker=AS_QueryStore_OrganicAutoSuggest_1_3_na_na_ps&amp;otracker1=AS_QueryStore_OrganicAutoSuggest_1_3_na_na_ps&amp;fm=organic&amp;iid=a1fec95a-848f-4b6d-8df3-e024719ab563.WMNG4VNTJAUVBCKN.SEARCH&amp;ppt=None&amp;ppn=None&amp;ssid=x06p3n2l4g0000001682757740118&amp;qH=b3522a5e7056c9c0\" rel=\"noopener noreferrer\" target=\"_blank\"><div></div><div class=\"MIXNux\"><div class=\"_2QcLo-\"><div><div class=\"CXW8mj\" style=\"height:200px;width:200px\"><img alt=\"LG 7 kg 5 star rating and Wind jet dry Semi Automatic Top Load Washing Machine Grey, White\" class=\"_396cs4\" loading=\"eager\" src=\"https://rukminim1.flixcart.com/image/312/312/kqzj7gw0/washing-machine-new/k/t/a/7-p7020ngay-lg-original-imag4vnghhh5qzhq.jpeg?q=70\"/></div></div></div><div class=\"_3wLduG\"><div class=\"_3PzNI-\"><span class=\"f3A4_V\"><label class=\"_2iDkf8\"><input class=\"_30VH1S\" readonly=\"\" type=\"checkbox\"/><div class=\"_24_Dny\"></div></label></span><label class=\"_6Up2sF\"><span>Add to Compare</span></label></div></div><div class=\"_2hVSre _3nq8ih\"><div class=\"_36FSn5\"><svg class=\"_1l0elc\" height=\"16\" viewbox=\"0 0 20 16\" width=\"16\" xmlns=\"http://www.w3.org/2000/svg\"><path class=\"eX72wL\" d=\"M8.695 16.682C4.06 12.382 1 9.536 1 6.065 1 3.219 3.178 1 5.95 1c1.566 0 3.069.746 4.05 1.915C10.981 1.745 12.484 1 14.05 1 16.822 1 19 3.22 19 6.065c0 3.471-3.06 6.316-7.695 10.617L10 17.897l-1.305-1.215z\" fill=\"#2874F0\" fill-rule=\"evenodd\" opacity=\".9\" stroke=\"#FFF\"></path></svg></div></div></div><div class=\"_3pLy-c row\"><div class=\"col col-7-12\"><div class=\"_4rR01T\">LG 7 kg 5 star rating and Wind jet dry Semi Automatic Top Load Washing Machine Grey, White</div><div class=\"gUuXy-\"><span class=\"_1lRcqv\" id=\"productRating_LSTWMNG4VNTJAUVBCKNBMH2FY_WMNG4VNTJAUVBCKN_\"><div class=\"_3LWZlK\">4.5<img class=\"_1wB99o\" src=\"data:image/svg+xml;base64,PHN2ZyB4bWxucz0iaHR0cDovL3d3dy53My5vcmcvMjAwMC9zdmciIHdpZHRoPSIxMyIgaGVpZ2h0PSIxMiI+PHBhdGggZmlsbD0iI0ZGRiIgZD0iTTYuNSA5LjQzOWwtMy42NzQgMi4yMy45NC00LjI2LTMuMjEtMi44ODMgNC4yNTQtLjQwNEw2LjUuMTEybDEuNjkgNC4wMSA0LjI1NC40MDQtMy4yMSAyLjg4Mi45NCA0LjI2eiIvPjwvc3ZnPg==\"/></div></span><span class=\"_2_R_DZ\"><span><span>11,431 Ratings </span><span class=\"_13vcmD\">&amp;</span><span> 870 Reviews</span></span></span></div><div class=\"fMghEO\"><ul class=\"_1xgFaf\"><li class=\"rgWa7D\">1350 rpm Max Speed</li><li class=\"rgWa7D\">5 Star Rating</li><li class=\"rgWa7D\">2 Years Comprehensive Warranty on product and 5 Years on Wash Motor from LG</li></ul></div></div><div class=\"col col-5-12 nlI3QM\"><div class=\"_3tbKJL\"><div class=\"_25b18c\"><div class=\"_30jeq3 _1_WHN1\">₹11,990</div><div class=\"_3I9_wc _27UcVY\">₹<!-- -->14,190</div><div class=\"_3Ay6Sb\"><span>15% off</span></div></div><div class=\"_3tcB5a p8ucoS\"><div><div class=\"_2Tpdn3\" style=\"color:#000000;font-size:12px;font-weight:400\">Free delivery</div></div></div></div><div class=\"_13J9qT\"><img height=\"21\" src=\"//static-assets-web.flixcart.com/fk-p-linchpin-web/fk-cp-zion/img/fa_62673a.png\"/></div><div class=\"_2ZdXDB\"><div class=\"_3xFhiH\"><div class=\"_2Tpdn3 _18hQoS\" style=\"color:#000000;font-size:14px;font-style:normal;font-weight:400\">Upto </div><div class=\"_2Tpdn3 _18hQoS\" style=\"color:#000000;font-size:14px;font-style:normal;font-weight:700\">₹2,200</div><div class=\"_2Tpdn3 _18hQoS\" style=\"color:#000000;font-size:14px;font-style:normal;font-weight:400\"> Off on Exchange</div></div></div><div class=\"_2ZdXDB\"><div class=\"_3xFhiH\"><div class=\"_2Tpdn3 _18hQoS\" style=\"color:#000000;font-size:12px;font-weight:400\">No Cost EMI from ₹1,999/month</div></div></div></div></div></a></div></div></div></div><div class=\"_1AtVbE col-12-12\"><div class=\"_13oc-S\"><div data-id=\"WMNGGUWZK6VEQPXD\" style=\"width:100%\"><div class=\"_2kHMtA\"><a class=\"_1fQZEK\" href=\"/samsung-7-kg-inverter-5-star-eco-bubble-technology-washing-machine-fully-automatic-top-load-grey/p/itmfad620b791ea9?pid=WMNGGUWZK6VEQPXD&amp;lid=LSTWMNGGUWZK6VEQPXDBGVOA0&amp;marketplace=FLIPKART&amp;q=washing+machine&amp;store=j9e%2Fabm%2F8qx&amp;spotlightTagId=BestsellerId_j9e%2Fabm%2F8qx&amp;srno=s_1_5&amp;otracker=AS_QueryStore_OrganicAutoSuggest_1_3_na_na_ps&amp;otracker1=AS_QueryStore_OrganicAutoSuggest_1_3_na_na_ps&amp;fm=organic&amp;iid=a1fec95a-848f-4b6d-8df3-e024719ab563.WMNGGUWZK6VEQPXD.SEARCH&amp;ppt=None&amp;ppn=None&amp;ssid=x06p3n2l4g0000001682757740118&amp;qH=b3522a5e7056c9c0\" rel=\"noopener noreferrer\" target=\"_blank\"><div></div><div class=\"MIXNux\"><div class=\"_2QcLo-\"><div><div class=\"CXW8mj\" style=\"height:200px;width:200px\"><img alt=\"SAMSUNG 7 kg Inverter 5 Star with Eco Bubble Technology Washing Machine Fully Automatic Top Load Grey\" class=\"_396cs4\" loading=\"eager\" src=\"https://rukminim1.flixcart.com/image/312/312/xif0q/washing-machine-new/k/r/i/-original-imagh74bepfgefhz.jpeg?q=70\"/></div></div></div><div class=\"_3wLduG\"><div class=\"_3PzNI-\"><span class=\"f3A4_V\"><label class=\"_2iDkf8\"><input class=\"_30VH1S\" readonly=\"\" type=\"checkbox\"/><div class=\"_24_Dny\"></div></label></span><label class=\"_6Up2sF\"><span>Add to Compare</span></label></div></div><div class=\"_2hVSre _3nq8ih\"><div class=\"_36FSn5\"><svg class=\"_1l0elc\" height=\"16\" viewbox=\"0 0 20 16\" width=\"16\" xmlns=\"http://www.w3.org/2000/svg\"><path class=\"eX72wL\" d=\"M8.695 16.682C4.06 12.382 1 9.536 1 6.065 1 3.219 3.178 1 5.95 1c1.566 0 3.069.746 4.05 1.915C10.981 1.745 12.484 1 14.05 1 16.822 1 19 3.22 19 6.065c0 3.471-3.06 6.316-7.695 10.617L10 17.897l-1.305-1.215z\" fill=\"#2874F0\" fill-rule=\"evenodd\" opacity=\".9\" stroke=\"#FFF\"></path></svg></div></div></div><div class=\"_3pLy-c row\"><div class=\"col col-7-12\"><div class=\"_4rR01T\">SAMSUNG 7 kg Inverter 5 Star with Eco Bubble Technology Washing Machine Fully Automatic Top Load Grey</div><div class=\"gUuXy-\"><span class=\"_1lRcqv\" id=\"productRating_LSTWMNGGUWZK6VEQPXDBGVOA0_WMNGGUWZK6VEQPXD_\"><div class=\"_3LWZlK\">4.3<img class=\"_1wB99o\" src=\"data:image/svg+xml;base64,PHN2ZyB4bWxucz0iaHR0cDovL3d3dy53My5vcmcvMjAwMC9zdmciIHdpZHRoPSIxMyIgaGVpZ2h0PSIxMiI+PHBhdGggZmlsbD0iI0ZGRiIgZD0iTTYuNSA5LjQzOWwtMy42NzQgMi4yMy45NC00LjI2LTMuMjEtMi44ODMgNC4yNTQtLjQwNEw2LjUuMTEybDEuNjkgNC4wMSA0LjI1NC40MDQtMy4yMSAyLjg4Mi45NCA0LjI2eiIvPjwvc3ZnPg==\"/></div></span><span class=\"_2_R_DZ\"><span><span>24,436 Ratings </span><span class=\"_13vcmD\">&amp;</span><span> 2,035 Reviews</span></span></span></div><div class=\"fMghEO\"><ul class=\"_1xgFaf\"><li class=\"rgWa7D\">700 rpm Max Speed</li><li class=\"rgWa7D\">5 Star Rating</li><li class=\"rgWa7D\">For all Fully Automatic Washing Machines with Digital Inverter Motors, sold on or after 1st Dec 2022 (All Fully Automatic Front Load Washing Machine and Top Load Washing Machine) the Warranty period on the Digital Inverter Motor shall be revised from 10 years to 20 years and Comprehensive Product Warranty shall be revised from 3 years to 2 years.</li></ul></div></div><div class=\"col col-5-12 nlI3QM\"><div class=\"_3tbKJL\"><div class=\"_25b18c\"><div class=\"_30jeq3 _1_WHN1\">₹17,990</div><div class=\"_3I9_wc _27UcVY\">₹<!-- -->21,500</div><div class=\"_3Ay6Sb\"><span>16% off</span></div></div><div class=\"_3tcB5a p8ucoS\"><div><div class=\"_2Tpdn3\" style=\"color:#000000;font-size:12px;font-weight:400\">Free delivery</div></div></div></div><div class=\"_13J9qT\"><img height=\"21\" src=\"//static-assets-web.flixcart.com/fk-p-linchpin-web/fk-cp-zion/img/fa_62673a.png\"/></div><div class=\"_2ZdXDB\"><div class=\"_3xFhiH\"><div class=\"_2Tpdn3 _18hQoS\" style=\"color:#000000;font-size:14px;font-style:normal;font-weight:400\">Upto </div><div class=\"_2Tpdn3 _18hQoS\" style=\"color:#000000;font-size:14px;font-style:normal;font-weight:700\">₹2,200</div><div class=\"_2Tpdn3 _18hQoS\" style=\"color:#000000;font-size:14px;font-style:normal;font-weight:400\"> Off on Exchange</div></div></div><div class=\"_2ZdXDB\"><div class=\"_3xFhiH\"><div class=\"_2Tpdn3 _18hQoS\" style=\"color:#000000;font-size:12px;font-weight:400\">No Cost EMI from ₹1,500/month</div></div></div></div></div></a></div></div></div></div><div class=\"_1AtVbE col-12-12\"><div class=\"_13oc-S\"><div data-id=\"WMNFV6ZYYAEZX6HM\" style=\"width:100%\"><div class=\"_2kHMtA\"><a class=\"_1fQZEK\" href=\"/samsung-7-kg-diamond-drum-feature-fully-automatic-top-load-washing-machine-silver/p/itm45d6cd26e5975?pid=WMNFV6ZYYAEZX6HM&amp;lid=LSTWMNFV6ZYYAEZX6HMNJZL4B&amp;marketplace=FLIPKART&amp;q=washing+machine&amp;store=j9e%2Fabm%2F8qx&amp;srno=s_1_6&amp;otracker=AS_QueryStore_OrganicAutoSuggest_1_3_na_na_ps&amp;otracker1=AS_QueryStore_OrganicAutoSuggest_1_3_na_na_ps&amp;fm=organic&amp;iid=a1fec95a-848f-4b6d-8df3-e024719ab563.WMNFV6ZYYAEZX6HM.SEARCH&amp;ppt=None&amp;ppn=None&amp;ssid=x06p3n2l4g0000001682757740118&amp;qH=b3522a5e7056c9c0\" rel=\"noopener noreferrer\" target=\"_blank\"><div class=\"MIXNux\"><div class=\"_2QcLo-\"><div><div class=\"CXW8mj\" style=\"height:200px;width:200px\"><img alt=\"SAMSUNG 7 kg Diamond Drum feature Fully Automatic Top Load Washing Machine Silver\" class=\"_396cs4\" loading=\"eager\" src=\"https://rukminim1.flixcart.com/image/312/312/xif0q/washing-machine-new/m/z/w/-original-imagh74bbufkhenh.jpeg?q=70\"/></div></div></div><div class=\"_3wLduG\"><div class=\"_3PzNI-\"><span class=\"f3A4_V\"><label class=\"_2iDkf8\"><input class=\"_30VH1S\" readonly=\"\" type=\"checkbox\"/><div class=\"_24_Dny\"></div></label></span><label class=\"_6Up2sF\"><span>Add to Compare</span></label></div></div><div class=\"_2hVSre _3nq8ih\"><div class=\"_36FSn5\"><svg class=\"_1l0elc\" height=\"16\" viewbox=\"0 0 20 16\" width=\"16\" xmlns=\"http://www.w3.org/2000/svg\"><path class=\"eX72wL\" d=\"M8.695 16.682C4.06 12.382 1 9.536 1 6.065 1 3.219 3.178 1 5.95 1c1.566 0 3.069.746 4.05 1.915C10.981 1.745 12.484 1 14.05 1 16.822 1 19 3.22 19 6.065c0 3.471-3.06 6.316-7.695 10.617L10 17.897l-1.305-1.215z\" fill=\"#2874F0\" fill-rule=\"evenodd\" opacity=\".9\" stroke=\"#FFF\"></path></svg></div></div></div><div class=\"_3pLy-c row\"><div class=\"col col-7-12\"><div class=\"_4rR01T\">SAMSUNG 7 kg Diamond Drum feature Fully Automatic Top Load Washing Machine Silver</div><div class=\"gUuXy-\"><span class=\"_1lRcqv\" id=\"productRating_LSTWMNFV6ZYYAEZX6HMNJZL4B_WMNFV6ZYYAEZX6HM_\"><div class=\"_3LWZlK\">4.3<img class=\"_1wB99o\" src=\"data:image/svg+xml;base64,PHN2ZyB4bWxucz0iaHR0cDovL3d3dy53My5vcmcvMjAwMC9zdmciIHdpZHRoPSIxMyIgaGVpZ2h0PSIxMiI+PHBhdGggZmlsbD0iI0ZGRiIgZD0iTTYuNSA5LjQzOWwtMy42NzQgMi4yMy45NC00LjI2LTMuMjEtMi44ODMgNC4yNTQtLjQwNEw2LjUuMTEybDEuNjkgNC4wMSA0LjI1NC40MDQtMy4yMSAyLjg4Mi45NCA0LjI2eiIvPjwvc3ZnPg==\"/></div></span><span class=\"_2_R_DZ\"><span><span>5,751 Ratings </span><span class=\"_13vcmD\">&amp;</span><span> 458 Reviews</span></span></span></div><div class=\"fMghEO\"><ul class=\"_1xgFaf\"><li class=\"rgWa7D\">680 rpm Max Speed</li><li class=\"rgWa7D\">3 Star Rating</li><li class=\"rgWa7D\">For all Fully Automatic Washing Machines with Digital Inverter Motors, sold on or after 1st Dec 2022 (All Fully Automatic Front Load Washing Machine and Top Load Washing Machine) the Warranty period on the Digital Inverter Motor shall be revised from 10 years to 20 years and Comprehensive Product Warranty shall be revised from 3 years to 2 years.</li></ul></div></div><div class=\"col col-5-12 nlI3QM\"><div class=\"_3tbKJL\"><div class=\"_25b18c\"><div class=\"_30jeq3 _1_WHN1\">₹15,790</div><div class=\"_3I9_wc _27UcVY\">₹<!-- -->19,800</div><div class=\"_3Ay6Sb\"><span>20% off</span></div></div><div class=\"_3tcB5a p8ucoS\"><div><div class=\"_2Tpdn3\" style=\"color:#000000;font-size:12px;font-weight:400\">Free delivery</div></div></div></div><div class=\"_13J9qT\"><img height=\"21\" src=\"//static-assets-web.flixcart.com/fk-p-linchpin-web/fk-cp-zion/img/fa_62673a.png\"/></div><div class=\"_2ZdXDB\"><div class=\"_3xFhiH\"><div class=\"_2Tpdn3 _18hQoS\" style=\"color:#000000;font-size:14px;font-style:normal;font-weight:400\">Upto </div><div class=\"_2Tpdn3 _18hQoS\" style=\"color:#000000;font-size:14px;font-style:normal;font-weight:700\">₹2,200</div><div class=\"_2Tpdn3 _18hQoS\" style=\"color:#000000;font-size:14px;font-style:normal;font-weight:400\"> Off on Exchange</div></div></div><div class=\"_2ZdXDB\"><div class=\"_3xFhiH\"><div class=\"_2Tpdn3 _18hQoS\" style=\"color:#000000;font-size:12px;font-weight:400\">No Cost EMI from ₹1,316/month</div></div></div></div></div></a></div></div></div></div><div class=\"_1AtVbE col-12-12\"><div class=\"_13oc-S\"><div data-id=\"WMNG4XM5CQTNRQHV\" style=\"width:100%\"><div class=\"_2kHMtA\"><a class=\"_1fQZEK\" href=\"/realme-techlife-7-5-kg-5-star-rating-fabric-safe-wash-fully-automatic-top-load-washing-machine-grey/p/itm048aca1726a71?pid=WMNG4XM5CQTNRQHV&amp;lid=LSTWMNG4XM5CQTNRQHVWOSYMQ&amp;marketplace=FLIPKART&amp;q=washing+machine&amp;store=j9e%2Fabm%2F8qx&amp;srno=s_1_7&amp;otracker=AS_QueryStore_OrganicAutoSuggest_1_3_na_na_ps&amp;otracker1=AS_QueryStore_OrganicAutoSuggest_1_3_na_na_ps&amp;fm=organic&amp;iid=a1fec95a-848f-4b6d-8df3-e024719ab563.WMNG4XM5CQTNRQHV.SEARCH&amp;ppt=None&amp;ppn=None&amp;ssid=x06p3n2l4g0000001682757740118&amp;qH=b3522a5e7056c9c0\" rel=\"noopener noreferrer\" target=\"_blank\"><div class=\"MIXNux\"><div class=\"_2QcLo-\"><div><div class=\"CXW8mj\" style=\"height:200px;width:200px\"><img alt=\"realme TechLife 7.5 kg 5 Star Rating Fabric Safe Wash Fully Automatic Top Load Washing Machine Grey\" class=\"_396cs4\" loading=\"eager\" src=\"https://rukminim1.flixcart.com/image/312/312/kufuikw0/washing-machine-new/a/c/c/rmfa75a5g-realme-techlife-original-imag7k8dp5xfsmg4.jpeg?q=70\"/></div></div></div><div class=\"_3wLduG\"><div class=\"_3PzNI-\"><span class=\"f3A4_V\"><label class=\"_2iDkf8\"><input class=\"_30VH1S\" readonly=\"\" type=\"checkbox\"/><div class=\"_24_Dny\"></div></label></span><label class=\"_6Up2sF\"><span>Add to Compare</span></label></div></div><div class=\"_2hVSre _3nq8ih\"><div class=\"_36FSn5\"><svg class=\"_1l0elc\" height=\"16\" viewbox=\"0 0 20 16\" width=\"16\" xmlns=\"http://www.w3.org/2000/svg\"><path class=\"eX72wL\" d=\"M8.695 16.682C4.06 12.382 1 9.536 1 6.065 1 3.219 3.178 1 5.95 1c1.566 0 3.069.746 4.05 1.915C10.981 1.745 12.484 1 14.05 1 16.822 1 19 3.22 19 6.065c0 3.471-3.06 6.316-7.695 10.617L10 17.897l-1.305-1.215z\" fill=\"#2874F0\" fill-rule=\"evenodd\" opacity=\".9\" stroke=\"#FFF\"></path></svg></div></div></div><div class=\"_3pLy-c row\"><div class=\"col col-7-12\"><div class=\"_4rR01T\">realme TechLife 7.5 kg 5 Star Rating Fabric Safe Wash Fully Automatic Top Load Washing Machine Grey</div><div class=\"gUuXy-\"><span class=\"_1lRcqv\" id=\"productRating_LSTWMNG4XM5CQTNRQHVWOSYMQ_WMNG4XM5CQTNRQHV_\"><div class=\"_3LWZlK\">4.2<img class=\"_1wB99o\" src=\"data:image/svg+xml;base64,PHN2ZyB4bWxucz0iaHR0cDovL3d3dy53My5vcmcvMjAwMC9zdmciIHdpZHRoPSIxMyIgaGVpZ2h0PSIxMiI+PHBhdGggZmlsbD0iI0ZGRiIgZD0iTTYuNSA5LjQzOWwtMy42NzQgMi4yMy45NC00LjI2LTMuMjEtMi44ODMgNC4yNTQtLjQwNEw2LjUuMTEybDEuNjkgNC4wMSA0LjI1NC40MDQtMy4yMSAyLjg4Mi45NCA0LjI2eiIvPjwvc3ZnPg==\"/></div></span><span class=\"_2_R_DZ\"><span><span>19,868 Ratings </span><span class=\"_13vcmD\">&amp;</span><span> 2,427 Reviews</span></span></span></div><div class=\"fMghEO\"><ul class=\"_1xgFaf\"><li class=\"rgWa7D\">700 rpm Max Speed</li><li class=\"rgWa7D\">5 Star Rating</li><li class=\"rgWa7D\">2 Years Comprehensive Warranty on Product and 5 Years on Motor</li></ul></div></div><div class=\"col col-5-12 nlI3QM\"><div class=\"_3tbKJL\"><div class=\"_25b18c\"><div class=\"_30jeq3 _1_WHN1\">₹13,290</div><div class=\"_3I9_wc _27UcVY\">₹<!-- -->19,990</div><div class=\"_3Ay6Sb\"><span>33% off</span></div></div><div class=\"_3tcB5a p8ucoS\"><div><div class=\"_2Tpdn3\" style=\"color:#000000;font-size:12px;font-weight:400\">Free delivery</div></div></div></div><div class=\"_13J9qT\"><img height=\"21\" src=\"//static-assets-web.flixcart.com/fk-p-linchpin-web/fk-cp-zion/img/fa_62673a.png\"/></div><div class=\"_2ZdXDB\"><div class=\"_3xFhiH\"><div class=\"_2Tpdn3 _18hQoS\" style=\"color:#000000;font-size:14px;font-style:normal;font-weight:400\">Upto </div><div class=\"_2Tpdn3 _18hQoS\" style=\"color:#000000;font-size:14px;font-style:normal;font-weight:700\">₹2,200</div><div class=\"_2Tpdn3 _18hQoS\" style=\"color:#000000;font-size:14px;font-style:normal;font-weight:400\"> Off on Exchange</div></div></div><div class=\"_2ZdXDB\"><div class=\"_3xFhiH\"><div class=\"_2Tpdn3 _18hQoS\" style=\"color:#000000;font-size:12px;font-weight:400\">No Cost EMI from ₹1,477/month</div></div></div></div></div></a></div></div></div></div><div class=\"_1AtVbE col-12-12\"><div class=\"_13oc-S\"><div data-id=\"WMNGHHY8GKAFTKKZ\" style=\"width:100%\"><div class=\"_2kHMtA\"><div class=\"_2tfzpE\"><span>Ad</span></div><a class=\"_1fQZEK\" href=\"/ifb-7-kg-5-star-2x-power-steam-hard-water-wash-fully-automatic-front-load-washing-machine-in-built-heater-white/p/itmae1b351a1f461?pid=WMNGHHY8GKAFTKKZ&amp;lid=LSTWMNGHHY8GKAFTKKZXIT3UJ&amp;marketplace=FLIPKART&amp;q=washing+machine&amp;store=j9e%2Fabm%2F8qx&amp;srno=s_1_8&amp;otracker=AS_QueryStore_OrganicAutoSuggest_1_3_na_na_ps&amp;otracker1=AS_QueryStore_OrganicAutoSuggest_1_3_na_na_ps&amp;fm=organic&amp;iid=en_87oalko4yLDEx5DQLmnOfvh3rbmQWGvDLerTOW3UkgYDxTRFBUXs9hRGI56Mbj%2BbpDUFoy0ArDqOE3v52ADoqA%3D%3D&amp;ppt=None&amp;ppn=None&amp;ssid=x06p3n2l4g0000001682757740118&amp;qH=b3522a5e7056c9c0\" rel=\"noopener noreferrer\" target=\"_blank\"><div class=\"MIXNux\"><div class=\"_2QcLo-\"><div><div class=\"CXW8mj\" style=\"height:200px;width:200px\"><img alt=\"IFB 7 kg 5 Star 2X Power Steam,Hard Water Wash Fully Automatic Front Load Washing Machine with In-buil...\" class=\"_396cs4\" loading=\"eager\" src=\"https://rukminim1.flixcart.com/image/312/312/xif0q/washing-machine-new/5/d/g/-original-imagzwjk87tnahh4.jpeg?q=70\"/></div></div></div><div class=\"_3wLduG\"><div class=\"_3PzNI-\"><span class=\"f3A4_V\"><label class=\"_2iDkf8\"><input class=\"_30VH1S\" readonly=\"\" type=\"checkbox\"/><div class=\"_24_Dny\"></div></label></span><label class=\"_6Up2sF\"><span>Add to Compare</span></label></div></div><div class=\"_2hVSre _3nq8ih\"><div class=\"_36FSn5\"><svg class=\"_1l0elc\" height=\"16\" viewbox=\"0 0 20 16\" width=\"16\" xmlns=\"http://www.w3.org/2000/svg\"><path class=\"eX72wL\" d=\"M8.695 16.682C4.06 12.382 1 9.536 1 6.065 1 3.219 3.178 1 5.95 1c1.566 0 3.069.746 4.05 1.915C10.981 1.745 12.484 1 14.05 1 16.822 1 19 3.22 19 6.065c0 3.471-3.06 6.316-7.695 10.617L10 17.897l-1.305-1.215z\" fill=\"#2874F0\" fill-rule=\"evenodd\" opacity=\".9\" stroke=\"#FFF\"></path></svg></div></div></div><div class=\"_3pLy-c row\"><div class=\"col col-7-12\"><div class=\"_4rR01T\">IFB 7 kg 5 Star 2X Power Steam,Hard Water Wash Fully Automatic Front Load Washing Machine with In-buil...</div><div class=\"gUuXy-\"><span class=\"_1lRcqv\" id=\"productRating_LSTWMNGHHY8GKAFTKKZXIT3UJ_WMNGHHY8GKAFTKKZ_\"><div class=\"_3LWZlK\">4.3<img class=\"_1wB99o\" src=\"data:image/svg+xml;base64,PHN2ZyB4bWxucz0iaHR0cDovL3d3dy53My5vcmcvMjAwMC9zdmciIHdpZHRoPSIxMyIgaGVpZ2h0PSIxMiI+PHBhdGggZmlsbD0iI0ZGRiIgZD0iTTYuNSA5LjQzOWwtMy42NzQgMi4yMy45NC00LjI2LTMuMjEtMi44ODMgNC4yNTQtLjQwNEw2LjUuMTEybDEuNjkgNC4wMSA0LjI1NC40MDQtMy4yMSAyLjg4Mi45NCA0LjI2eiIvPjwvc3ZnPg==\"/></div></span><span class=\"_2_R_DZ\"><span><span>11,024 Ratings </span><span class=\"_13vcmD\">&amp;</span><span> 1,116 Reviews</span></span></span></div><div class=\"fMghEO\"><ul class=\"_1xgFaf\"><li class=\"rgWa7D\">1000 rpm Max Speed</li><li class=\"rgWa7D\">5 Star Rating</li><li class=\"rgWa7D\">4 Years Comprehensive Warranty, 10 Years Motor Warranty and 10 Years Spares Support</li></ul></div></div><div class=\"col col-5-12 nlI3QM\"><div class=\"_3tbKJL\"><div class=\"_25b18c\"><div class=\"_30jeq3 _1_WHN1\">₹27,990</div><div class=\"_3I9_wc _27UcVY\">₹<!-- -->32,490</div><div class=\"_3Ay6Sb\"><span>13% off</span></div></div><div class=\"_3tcB5a p8ucoS\"><div><div class=\"_2Tpdn3\" style=\"color:#000000;font-size:12px;font-weight:400\">Free delivery</div></div></div></div><div class=\"_13J9qT\"><img height=\"21\" src=\"//static-assets-web.flixcart.com/fk-p-linchpin-web/fk-cp-zion/img/fa_62673a.png\"/></div><div class=\"_2ZdXDB\"><div class=\"_3xFhiH\"><div class=\"_2Tpdn3 _18hQoS\" style=\"color:#000000;font-size:14px;font-style:normal;font-weight:400\">Upto </div><div class=\"_2Tpdn3 _18hQoS\" style=\"color:#000000;font-size:14px;font-style:normal;font-weight:700\">₹5,200</div><div class=\"_2Tpdn3 _18hQoS\" style=\"color:#000000;font-size:14px;font-style:normal;font-weight:400\"> Off on Exchange</div></div></div><div class=\"_2ZdXDB\"><div class=\"_3xFhiH\"><div class=\"_2Tpdn3 _18hQoS\" style=\"color:#000000;font-size:12px;font-weight:400\">No Cost EMI from ₹2,333/month</div></div></div></div></div></a></div></div></div></div><div class=\"_1AtVbE col-12-12\"><div class=\"_13oc-S\"><div data-id=\"WMNGBFX49DZJWFKZ\" style=\"width:100%\"><div class=\"_2kHMtA\"><a class=\"_1fQZEK\" href=\"/realme-techlife-7-kg-semi-automatic-top-load-washing-machine-white-black/p/itmc94e124668ec6?pid=WMNGBFX49DZJWFKZ&amp;lid=LSTWMNGBFX49DZJWFKZKCTHM6&amp;marketplace=FLIPKART&amp;q=washing+machine&amp;store=j9e%2Fabm%2F8qx&amp;spotlightTagId=BestsellerId_j9e%2Fabm%2F8qx&amp;srno=s_1_9&amp;otracker=AS_QueryStore_OrganicAutoSuggest_1_3_na_na_ps&amp;otracker1=AS_QueryStore_OrganicAutoSuggest_1_3_na_na_ps&amp;fm=organic&amp;iid=a1fec95a-848f-4b6d-8df3-e024719ab563.WMNGBFX49DZJWFKZ.SEARCH&amp;ppt=None&amp;ppn=None&amp;ssid=x06p3n2l4g0000001682757740118&amp;qH=b3522a5e7056c9c0\" rel=\"noopener noreferrer\" target=\"_blank\"><div></div><div class=\"MIXNux\"><div class=\"_2QcLo-\"><div><div class=\"CXW8mj\" style=\"height:200px;width:200px\"><img alt=\"realme TechLife 7 kg Semi Automatic Top Load Washing Machine White, Black\" class=\"_396cs4\" loading=\"eager\" src=\"https://rukminim1.flixcart.com/image/312/312/l37mtu80/washing-machine-new/n/i/n/-original-imagednhyxjeh8xc.jpeg?q=70\"/></div></div></div><div class=\"_3wLduG\"><div class=\"_3PzNI-\"><span class=\"f3A4_V\"><label class=\"_2iDkf8\"><input class=\"_30VH1S\" readonly=\"\" type=\"checkbox\"/><div class=\"_24_Dny\"></div></label></span><label class=\"_6Up2sF\"><span>Add to Compare</span></label></div></div><div class=\"_2hVSre _3nq8ih\"><div class=\"_36FSn5\"><svg class=\"_1l0elc\" height=\"16\" viewbox=\"0 0 20 16\" width=\"16\" xmlns=\"http://www.w3.org/2000/svg\"><path class=\"eX72wL\" d=\"M8.695 16.682C4.06 12.382 1 9.536 1 6.065 1 3.219 3.178 1 5.95 1c1.566 0 3.069.746 4.05 1.915C10.981 1.745 12.484 1 14.05 1 16.822 1 19 3.22 19 6.065c0 3.471-3.06 6.316-7.695 10.617L10 17.897l-1.305-1.215z\" fill=\"#2874F0\" fill-rule=\"evenodd\" opacity=\".9\" stroke=\"#FFF\"></path></svg></div></div></div><div class=\"_3pLy-c row\"><div class=\"col col-7-12\"><div class=\"_4rR01T\">realme TechLife 7 kg Semi Automatic Top Load Washing Machine White, Black</div><div class=\"gUuXy-\"><span class=\"_1lRcqv\" id=\"productRating_LSTWMNGBFX49DZJWFKZKCTHM6_WMNGBFX49DZJWFKZ_\"><div class=\"_3LWZlK\">4.2<img class=\"_1wB99o\" src=\"data:image/svg+xml;base64,PHN2ZyB4bWxucz0iaHR0cDovL3d3dy53My5vcmcvMjAwMC9zdmciIHdpZHRoPSIxMyIgaGVpZ2h0PSIxMiI+PHBhdGggZmlsbD0iI0ZGRiIgZD0iTTYuNSA5LjQzOWwtMy42NzQgMi4yMy45NC00LjI2LTMuMjEtMi44ODMgNC4yNTQtLjQwNEw2LjUuMTEybDEuNjkgNC4wMSA0LjI1NC40MDQtMy4yMSAyLjg4Mi45NCA0LjI2eiIvPjwvc3ZnPg==\"/></div></span><span class=\"_2_R_DZ\"><span><span>18,845 Ratings </span><span class=\"_13vcmD\">&amp;</span><span> 2,140 Reviews</span></span></span></div><div class=\"fMghEO\"><ul class=\"_1xgFaf\"><li class=\"rgWa7D\">1400 RPM Max Speed</li><li class=\"rgWa7D\">5 Star Rating</li><li class=\"rgWa7D\">2 Years Comprehensive and 5 Years on Wash Motor</li></ul></div></div><div class=\"col col-5-12 nlI3QM\"><div class=\"_3tbKJL\"><div class=\"_25b18c\"><div class=\"_30jeq3 _1_WHN1\">₹7,990</div><div class=\"_3I9_wc _27UcVY\">₹<!-- -->12,490</div><div class=\"_3Ay6Sb\"><span>36% off</span></div></div><div class=\"_3tcB5a p8ucoS\"><div><div class=\"_2Tpdn3\" style=\"color:#000000;font-size:12px;font-weight:400\">Free delivery</div></div></div></div><div class=\"_13J9qT\"><img height=\"21\" src=\"//static-assets-web.flixcart.com/fk-p-linchpin-web/fk-cp-zion/img/fa_62673a.png\"/></div><div class=\"_2ZdXDB\"><div class=\"_3xFhiH\"><div class=\"_2Tpdn3 _18hQoS\" style=\"color:#000000;font-size:14px;font-style:normal;font-weight:400\">Upto </div><div class=\"_2Tpdn3 _18hQoS\" style=\"color:#000000;font-size:14px;font-style:normal;font-weight:700\">₹2,200</div><div class=\"_2Tpdn3 _18hQoS\" style=\"color:#000000;font-size:14px;font-style:normal;font-weight:400\"> Off on Exchange</div></div></div><div class=\"_2ZdXDB\"><div class=\"_3xFhiH\"><div class=\"_2Tpdn3 _18hQoS\" style=\"color:#000000;font-size:12px;font-weight:400\">No Cost EMI from ₹1,332/month</div></div></div></div></div></a></div></div></div></div><div class=\"_1AtVbE col-12-12\"><div class=\"_13oc-S\"><div data-id=\"WMNGDSUXZS5BWH7H\" style=\"width:100%\"><div class=\"_2kHMtA\"><a class=\"_1fQZEK\" href=\"/whirlpool-7-kg-magic-clean-5-star-fully-automatic-top-load-grey/p/itm50fdb8ca1e478?pid=WMNGDSUXZS5BWH7H&amp;lid=LSTWMNGDSUXZS5BWH7HJAJBFH&amp;marketplace=FLIPKART&amp;q=washing+machine&amp;store=j9e%2Fabm%2F8qx&amp;srno=s_1_10&amp;otracker=AS_QueryStore_OrganicAutoSuggest_1_3_na_na_ps&amp;otracker1=AS_QueryStore_OrganicAutoSuggest_1_3_na_na_ps&amp;fm=organic&amp;iid=a1fec95a-848f-4b6d-8df3-e024719ab563.WMNGDSUXZS5BWH7H.SEARCH&amp;ppt=None&amp;ppn=None&amp;ssid=x06p3n2l4g0000001682757740118&amp;qH=b3522a5e7056c9c0\" rel=\"noopener noreferrer\" target=\"_blank\"><div class=\"MIXNux\"><div class=\"_2QcLo-\"><div><div class=\"CXW8mj\" style=\"height:200px;width:200px\"><img alt=\"Whirlpool 7 kg Magic Clean 5 Star Fully Automatic Top Load Grey\" class=\"_396cs4\" loading=\"eager\" src=\"https://rukminim1.flixcart.com/image/312/312/xif0q/washing-machine-new/s/e/b/-original-imagzcg5zgb7bvfh.jpeg?q=70\"/></div></div></div><div class=\"_3wLduG\"><div class=\"_3PzNI-\"><span class=\"f3A4_V\"><label class=\"_2iDkf8\"><input class=\"_30VH1S\" readonly=\"\" type=\"checkbox\"/><div class=\"_24_Dny\"></div></label></span><label class=\"_6Up2sF\"><span>Add to Compare</span></label></div></div><div class=\"_2hVSre _3nq8ih\"><div class=\"_36FSn5\"><svg class=\"_1l0elc\" height=\"16\" viewbox=\"0 0 20 16\" width=\"16\" xmlns=\"http://www.w3.org/2000/svg\"><path class=\"eX72wL\" d=\"M8.695 16.682C4.06 12.382 1 9.536 1 6.065 1 3.219 3.178 1 5.95 1c1.566 0 3.069.746 4.05 1.915C10.981 1.745 12.484 1 14.05 1 16.822 1 19 3.22 19 6.065c0 3.471-3.06 6.316-7.695 10.617L10 17.897l-1.305-1.215z\" fill=\"#2874F0\" fill-rule=\"evenodd\" opacity=\".9\" stroke=\"#FFF\"></path></svg></div></div></div><div class=\"_3pLy-c row\"><div class=\"col col-7-12\"><div class=\"_4rR01T\">Whirlpool 7 kg Magic Clean 5 Star Fully Automatic Top Load Grey</div><div class=\"gUuXy-\"><span class=\"_1lRcqv\" id=\"productRating_LSTWMNGDSUXZS5BWH7HJAJBFH_WMNGDSUXZS5BWH7H_\"><div class=\"_3LWZlK\">4.2<img class=\"_1wB99o\" src=\"data:image/svg+xml;base64,PHN2ZyB4bWxucz0iaHR0cDovL3d3dy53My5vcmcvMjAwMC9zdmciIHdpZHRoPSIxMyIgaGVpZ2h0PSIxMiI+PHBhdGggZmlsbD0iI0ZGRiIgZD0iTTYuNSA5LjQzOWwtMy42NzQgMi4yMy45NC00LjI2LTMuMjEtMi44ODMgNC4yNTQtLjQwNEw2LjUuMTEybDEuNjkgNC4wMSA0LjI1NC40MDQtMy4yMSAyLjg4Mi45NCA0LjI2eiIvPjwvc3ZnPg==\"/></div></span><span class=\"_2_R_DZ\"><span><span>3,659 Ratings </span><span class=\"_13vcmD\">&amp;</span><span> 336 Reviews</span></span></span></div><div class=\"fMghEO\"><ul class=\"_1xgFaf\"><li class=\"rgWa7D\">740 rpm Max Speed</li><li class=\"rgWa7D\">5 Star Rating</li><li class=\"rgWa7D\">2 Years Comprehensive Warranty on Product and 5 Years on Prime Mover and Motor</li></ul></div></div><div class=\"col col-5-12 nlI3QM\"><div class=\"_3tbKJL\"><div class=\"_25b18c\"><div class=\"_30jeq3 _1_WHN1\">₹15,240</div><div class=\"_3I9_wc _27UcVY\">₹<!-- -->19,350</div><div class=\"_3Ay6Sb\"><span>21% off</span></div></div><div class=\"_3tcB5a p8ucoS\"><div><div class=\"_2Tpdn3\" style=\"color:#000000;font-size:12px;font-weight:400\">Free delivery</div></div></div></div><div class=\"_13J9qT\"><img height=\"21\" src=\"//static-assets-web.flixcart.com/fk-p-linchpin-web/fk-cp-zion/img/fa_62673a.png\"/></div><div class=\"_2ZdXDB\"><div class=\"_3xFhiH\"><div class=\"_2Tpdn3 _18hQoS\" style=\"color:#000000;font-size:14px;font-style:normal;font-weight:400\">Upto </div><div class=\"_2Tpdn3 _18hQoS\" style=\"color:#000000;font-size:14px;font-style:normal;font-weight:700\">₹2,200</div><div class=\"_2Tpdn3 _18hQoS\" style=\"color:#000000;font-size:14px;font-style:normal;font-weight:400\"> Off on Exchange</div></div></div><div class=\"_2ZdXDB\"><div class=\"_3xFhiH\"><div class=\"_2Tpdn3 _18hQoS\" style=\"color:#000000;font-size:12px;font-weight:400\">No Cost EMI from ₹1,270/month</div></div></div></div></div></a></div></div></div></div><div class=\"_1AtVbE col-12-12\"><div class=\"_13oc-S\"><div data-id=\"WMNGF9W8K8R9V8DA\" style=\"width:100%\"><div class=\"_2kHMtA\"><a class=\"_1fQZEK\" href=\"/whirlpool-7-kg-magic-clean-5-star-semi-automatic-top-load-black-grey/p/itmee28cf6539c3f?pid=WMNGF9W8K8R9V8DA&amp;lid=LSTWMNGF9W8K8R9V8DAD0ZSYT&amp;marketplace=FLIPKART&amp;q=washing+machine&amp;store=j9e%2Fabm%2F8qx&amp;srno=s_1_11&amp;otracker=AS_QueryStore_OrganicAutoSuggest_1_3_na_na_ps&amp;otracker1=AS_QueryStore_OrganicAutoSuggest_1_3_na_na_ps&amp;fm=organic&amp;iid=a1fec95a-848f-4b6d-8df3-e024719ab563.WMNGF9W8K8R9V8DA.SEARCH&amp;ppt=None&amp;ppn=None&amp;ssid=x06p3n2l4g0000001682757740118&amp;qH=b3522a5e7056c9c0\" rel=\"noopener noreferrer\" target=\"_blank\"><div class=\"MIXNux\"><div class=\"_2QcLo-\"><div><div class=\"CXW8mj\" style=\"height:200px;width:200px\"><img alt=\"Whirlpool 7 kg Magic Clean 5 Star Semi Automatic Top Load Black, Grey\" class=\"_396cs4\" loading=\"eager\" src=\"https://rukminim1.flixcart.com/image/312/312/xif0q/washing-machine-new/m/n/m/-original-imaggsh27bvznsbz.jpeg?q=70\"/></div></div></div><div class=\"_3wLduG\"><div class=\"_3PzNI-\"><span class=\"f3A4_V\"><label class=\"_2iDkf8\"><input class=\"_30VH1S\" readonly=\"\" type=\"checkbox\"/><div class=\"_24_Dny\"></div></label></span><label class=\"_6Up2sF\"><span>Add to Compare</span></label></div></div><div class=\"_2hVSre _3nq8ih\"><div class=\"_36FSn5\"><svg class=\"_1l0elc\" height=\"16\" viewbox=\"0 0 20 16\" width=\"16\" xmlns=\"http://www.w3.org/2000/svg\"><path class=\"eX72wL\" d=\"M8.695 16.682C4.06 12.382 1 9.536 1 6.065 1 3.219 3.178 1 5.95 1c1.566 0 3.069.746 4.05 1.915C10.981 1.745 12.484 1 14.05 1 16.822 1 19 3.22 19 6.065c0 3.471-3.06 6.316-7.695 10.617L10 17.897l-1.305-1.215z\" fill=\"#2874F0\" fill-rule=\"evenodd\" opacity=\".9\" stroke=\"#FFF\"></path></svg></div></div></div><div class=\"_3pLy-c row\"><div class=\"col col-7-12\"><div class=\"_4rR01T\">Whirlpool 7 kg Magic Clean 5 Star Semi Automatic Top Load Black, Grey</div><div class=\"gUuXy-\"><span class=\"_1lRcqv\" id=\"productRating_LSTWMNGF9W8K8R9V8DAD0ZSYT_WMNGF9W8K8R9V8DA_\"><div class=\"_3LWZlK\">4.4<img class=\"_1wB99o\" src=\"data:image/svg+xml;base64,PHN2ZyB4bWxucz0iaHR0cDovL3d3dy53My5vcmcvMjAwMC9zdmciIHdpZHRoPSIxMyIgaGVpZ2h0PSIxMiI+PHBhdGggZmlsbD0iI0ZGRiIgZD0iTTYuNSA5LjQzOWwtMy42NzQgMi4yMy45NC00LjI2LTMuMjEtMi44ODMgNC4yNTQtLjQwNEw2LjUuMTEybDEuNjkgNC4wMSA0LjI1NC40MDQtMy4yMSAyLjg4Mi45NCA0LjI2eiIvPjwvc3ZnPg==\"/></div></span><span class=\"_2_R_DZ\"><span><span>5,292 Ratings </span><span class=\"_13vcmD\">&amp;</span><span> 418 Reviews</span></span></span></div><div class=\"fMghEO\"><ul class=\"_1xgFaf\"><li class=\"rgWa7D\">1400 rpm Max Speed</li><li class=\"rgWa7D\">5 Star Rating</li><li class=\"rgWa7D\">2 Years Comprehensive Warranty and 5 Years Warranty on Wash Motor</li></ul></div></div><div class=\"col col-5-12 nlI3QM\"><div class=\"_3tbKJL\"><div class=\"_25b18c\"><div class=\"_30jeq3 _1_WHN1\">₹9,990</div><div class=\"_3I9_wc _27UcVY\">₹<!-- -->13,350</div><div class=\"_3Ay6Sb\"><span>25% off</span></div></div><div class=\"_3tcB5a p8ucoS\"><div><div class=\"_2Tpdn3\" style=\"color:#000000;font-size:12px;font-weight:400\">Free delivery</div></div></div></div><div class=\"_13J9qT\"><img height=\"21\" src=\"//static-assets-web.flixcart.com/fk-p-linchpin-web/fk-cp-zion/img/fa_62673a.png\"/></div><div class=\"_2ZdXDB\"><div class=\"_3xFhiH\"><div class=\"_2Tpdn3 _18hQoS\" style=\"color:#000000;font-size:14px;font-style:normal;font-weight:400\">Upto </div><div class=\"_2Tpdn3 _18hQoS\" style=\"color:#000000;font-size:14px;font-style:normal;font-weight:700\">₹2,200</div><div class=\"_2Tpdn3 _18hQoS\" style=\"color:#000000;font-size:14px;font-style:normal;font-weight:400\"> Off on Exchange</div></div></div><div class=\"_2ZdXDB\"><div class=\"_3xFhiH\"><div class=\"_2Tpdn3 _18hQoS\" style=\"color:#000000;font-size:12px;font-weight:400\">No Cost EMI from ₹1,110/month</div></div></div></div></div></a></div></div></div></div><div class=\"_1AtVbE col-12-12\"><div class=\"_13oc-S\"><div data-id=\"WMNGDMYHAKGZHEPK\" style=\"width:100%\"><div class=\"_2kHMtA\"><div class=\"_2tfzpE\"><span>Ad</span></div><a class=\"_1fQZEK\" href=\"/ifb-6-kg-5-star-2x-power-steam-hard-water-wash-fully-automatic-front-load-washing-machine-in-built-heater-white/p/itm3bf21ef8dc5e7?pid=WMNGDMYHAKGZHEPK&amp;lid=LSTWMNGDMYHAKGZHEPKZXNDIY&amp;marketplace=FLIPKART&amp;q=washing+machine&amp;store=j9e%2Fabm%2F8qx&amp;srno=s_1_12&amp;otracker=AS_QueryStore_OrganicAutoSuggest_1_3_na_na_ps&amp;otracker1=AS_QueryStore_OrganicAutoSuggest_1_3_na_na_ps&amp;fm=organic&amp;iid=en_87oalko4yLDEx5DQLmnOfvh3rbmQWGvDLerTOW3UkgatEDOFAmVx%2B0F4nN0eyKFtgCBUkBvifzY7Ut3MFVcKXw%3D%3D&amp;ppt=None&amp;ppn=None&amp;ssid=x06p3n2l4g0000001682757740118&amp;qH=b3522a5e7056c9c0\" rel=\"noopener noreferrer\" target=\"_blank\"><div class=\"MIXNux\"><div class=\"_2QcLo-\"><div><div class=\"CXW8mj\" style=\"height:200px;width:200px\"><img alt=\"IFB 6 kg 5 Star 2X Power Steam,Hard Water Wash Fully Automatic Front Load Washing Machine with In-buil...\" class=\"_396cs4\" loading=\"eager\" src=\"https://rukminim1.flixcart.com/image/312/312/xif0q/washing-machine-new/k/n/e/-original-imagzhnema6e4haz.jpeg?q=70\"/></div></div></div><div class=\"_3wLduG\"><div class=\"_3PzNI-\"><span class=\"f3A4_V\"><label class=\"_2iDkf8\"><input class=\"_30VH1S\" readonly=\"\" type=\"checkbox\"/><div class=\"_24_Dny\"></div></label></span><label class=\"_6Up2sF\"><span>Add to Compare</span></label></div></div><div class=\"_2hVSre _3nq8ih\"><div class=\"_36FSn5\"><svg class=\"_1l0elc\" height=\"16\" viewbox=\"0 0 20 16\" width=\"16\" xmlns=\"http://www.w3.org/2000/svg\"><path class=\"eX72wL\" d=\"M8.695 16.682C4.06 12.382 1 9.536 1 6.065 1 3.219 3.178 1 5.95 1c1.566 0 3.069.746 4.05 1.915C10.981 1.745 12.484 1 14.05 1 16.822 1 19 3.22 19 6.065c0 3.471-3.06 6.316-7.695 10.617L10 17.897l-1.305-1.215z\" fill=\"#2874F0\" fill-rule=\"evenodd\" opacity=\".9\" stroke=\"#FFF\"></path></svg></div></div></div><div class=\"_3pLy-c row\"><div class=\"col col-7-12\"><div class=\"_4rR01T\">IFB 6 kg 5 Star 2X Power Steam,Hard Water Wash Fully Automatic Front Load Washing Machine with In-buil...</div><div class=\"gUuXy-\"><span class=\"_1lRcqv\" id=\"productRating_LSTWMNGDMYHAKGZHEPKZXNDIY_WMNGDMYHAKGZHEPK_\"><div class=\"_3LWZlK\">4.2<img class=\"_1wB99o\" src=\"data:image/svg+xml;base64,PHN2ZyB4bWxucz0iaHR0cDovL3d3dy53My5vcmcvMjAwMC9zdmciIHdpZHRoPSIxMyIgaGVpZ2h0PSIxMiI+PHBhdGggZmlsbD0iI0ZGRiIgZD0iTTYuNSA5LjQzOWwtMy42NzQgMi4yMy45NC00LjI2LTMuMjEtMi44ODMgNC4yNTQtLjQwNEw2LjUuMTEybDEuNjkgNC4wMSA0LjI1NC40MDQtMy4yMSAyLjg4Mi45NCA0LjI2eiIvPjwvc3ZnPg==\"/></div></span><span class=\"_2_R_DZ\"><span><span>9,110 Ratings </span><span class=\"_13vcmD\">&amp;</span><span> 754 Reviews</span></span></span></div><div class=\"fMghEO\"><ul class=\"_1xgFaf\"><li class=\"rgWa7D\">800 rpm Max Speed</li><li class=\"rgWa7D\">5 Star Rating</li><li class=\"rgWa7D\">4 Years Comprehensive Warranty, 10 Years Motor Warranty, 10 Years Spares Support</li></ul></div></div><div class=\"col col-5-12 nlI3QM\"><div class=\"_3tbKJL\"><div class=\"_25b18c\"><div class=\"_30jeq3 _1_WHN1\">₹22,990</div><div class=\"_3I9_wc _27UcVY\">₹<!-- -->26,390</div><div class=\"_3Ay6Sb\"><span>12% off</span></div></div><div class=\"_3tcB5a p8ucoS\"><div><div class=\"_2Tpdn3\" style=\"color:#000000;font-size:12px;font-weight:400\">Free delivery</div></div></div></div><div class=\"_13J9qT\"><img height=\"21\" src=\"//static-assets-web.flixcart.com/fk-p-linchpin-web/fk-cp-zion/img/fa_62673a.png\"/></div><div class=\"_2ZdXDB\"><div class=\"_3xFhiH\"><div class=\"_2Tpdn3 _18hQoS\" style=\"color:#000000;font-size:14px;font-style:normal;font-weight:400\">Upto </div><div class=\"_2Tpdn3 _18hQoS\" style=\"color:#000000;font-size:14px;font-style:normal;font-weight:700\">₹4,200</div><div class=\"_2Tpdn3 _18hQoS\" style=\"color:#000000;font-size:14px;font-style:normal;font-weight:400\"> Off on Exchange</div></div></div><div class=\"_2ZdXDB\"><div class=\"_3xFhiH\"><div class=\"_2Tpdn3 _18hQoS\" style=\"color:#000000;font-size:12px;font-weight:400\">No Cost EMI from ₹1,916/month</div></div></div></div></div></a></div></div></div></div><div class=\"_1AtVbE col-12-12\"><div class=\"_13oc-S\"><div data-id=\"WMNG4J2CS9YPWCFX\" style=\"width:100%\"><div class=\"_2kHMtA\"><a class=\"_1fQZEK\" href=\"/sansui-7-kg-semi-automatic-top-load-washing-machine-red-white/p/itm26c27d6cd1402?pid=WMNG4J2CS9YPWCFX&amp;lid=LSTWMNG4J2CS9YPWCFX6UXHM1&amp;marketplace=FLIPKART&amp;q=washing+machine&amp;store=j9e%2Fabm%2F8qx&amp;srno=s_1_13&amp;otracker=AS_QueryStore_OrganicAutoSuggest_1_3_na_na_ps&amp;otracker1=AS_QueryStore_OrganicAutoSuggest_1_3_na_na_ps&amp;fm=organic&amp;iid=a1fec95a-848f-4b6d-8df3-e024719ab563.WMNG4J2CS9YPWCFX.SEARCH&amp;ppt=None&amp;ppn=None&amp;ssid=x06p3n2l4g0000001682757740118&amp;qH=b3522a5e7056c9c0\" rel=\"noopener noreferrer\" target=\"_blank\"><div class=\"MIXNux\"><div class=\"_2QcLo-\"><div><div class=\"CXW8mj\" style=\"height:200px;width:200px\"><img alt=\"Sansui 7 kg Semi Automatic Top Load Washing Machine Red, White\" class=\"_396cs4\" loading=\"eager\" src=\"https://rukminim1.flixcart.com/image/312/312/kqse07k0/washing-machine-new/q/e/f/7-jsp70s-2024l-sansui-original-imag4ptubhzjfzkq.jpeg?q=70\"/></div></div></div><div class=\"_3wLduG\"><div class=\"_3PzNI-\"><span class=\"f3A4_V\"><label class=\"_2iDkf8\"><input class=\"_30VH1S\" readonly=\"\" type=\"checkbox\"/><div class=\"_24_Dny\"></div></label></span><label class=\"_6Up2sF\"><span>Add to Compare</span></label></div></div><div class=\"_2hVSre _3nq8ih\"><div class=\"_36FSn5\"><svg class=\"_1l0elc\" height=\"16\" viewbox=\"0 0 20 16\" width=\"16\" xmlns=\"http://www.w3.org/2000/svg\"><path class=\"eX72wL\" d=\"M8.695 16.682C4.06 12.382 1 9.536 1 6.065 1 3.219 3.178 1 5.95 1c1.566 0 3.069.746 4.05 1.915C10.981 1.745 12.484 1 14.05 1 16.822 1 19 3.22 19 6.065c0 3.471-3.06 6.316-7.695 10.617L10 17.897l-1.305-1.215z\" fill=\"#2874F0\" fill-rule=\"evenodd\" opacity=\".9\" stroke=\"#FFF\"></path></svg></div></div></div><div class=\"_3pLy-c row\"><div class=\"col col-7-12\"><div class=\"_4rR01T\">Sansui 7 kg Semi Automatic Top Load Washing Machine Red, White</div><div class=\"gUuXy-\"><span class=\"_1lRcqv\" id=\"productRating_LSTWMNG4J2CS9YPWCFX6UXHM1_WMNG4J2CS9YPWCFX_\"><div class=\"_3LWZlK\">4.3<img class=\"_1wB99o\" src=\"data:image/svg+xml;base64,PHN2ZyB4bWxucz0iaHR0cDovL3d3dy53My5vcmcvMjAwMC9zdmciIHdpZHRoPSIxMyIgaGVpZ2h0PSIxMiI+PHBhdGggZmlsbD0iI0ZGRiIgZD0iTTYuNSA5LjQzOWwtMy42NzQgMi4yMy45NC00LjI2LTMuMjEtMi44ODMgNC4yNTQtLjQwNEw2LjUuMTEybDEuNjkgNC4wMSA0LjI1NC40MDQtMy4yMSAyLjg4Mi45NCA0LjI2eiIvPjwvc3ZnPg==\"/></div></span><span class=\"_2_R_DZ\"><span><span>12,305 Ratings </span><span class=\"_13vcmD\">&amp;</span><span> 1,112 Reviews</span></span></span></div><div class=\"fMghEO\"><ul class=\"_1xgFaf\"><li class=\"rgWa7D\">1300 rpm Max Speed</li><li class=\"rgWa7D\">5 Star Rating</li><li class=\"rgWa7D\">2 Years Comprehensive and 5 Years Motor Domestic Warranty from Sansui</li></ul></div></div><div class=\"col col-5-12 nlI3QM\"><div class=\"_3tbKJL\"><div class=\"_25b18c\"><div class=\"_30jeq3 _1_WHN1\">₹7,590</div><div class=\"_3I9_wc _27UcVY\">₹<!-- -->12,990</div><div class=\"_3Ay6Sb\"><span>41% off</span></div></div><div class=\"_3tcB5a p8ucoS\"><div><div class=\"_2Tpdn3\" style=\"color:#000000;font-size:12px;font-weight:400\">Free delivery</div></div></div></div><div class=\"_13J9qT\"><img height=\"21\" src=\"//static-assets-web.flixcart.com/fk-p-linchpin-web/fk-cp-zion/img/fa_62673a.png\"/></div><div class=\"_2ZdXDB\"><div class=\"_3xFhiH\"><div class=\"_2Tpdn3 _18hQoS\" style=\"color:#26A541;font-size:12px;font-weight:700\">Lowest price in the year</div></div></div><div class=\"_2ZdXDB\"><div class=\"_3xFhiH\"><div class=\"_2Tpdn3 _18hQoS\" style=\"color:#000000;font-size:14px;font-style:normal;font-weight:400\">Upto </div><div class=\"_2Tpdn3 _18hQoS\" style=\"color:#000000;font-size:14px;font-style:normal;font-weight:700\">₹2,200</div><div class=\"_2Tpdn3 _18hQoS\" style=\"color:#000000;font-size:14px;font-style:normal;font-weight:400\"> Off on Exchange</div></div></div></div></div></a></div></div></div></div><div class=\"_1AtVbE col-12-12\"><div class=\"_13oc-S\"><div data-id=\"WMNGATRJPSSNF4BN\" style=\"width:100%\"><div class=\"_2kHMtA\"><a class=\"_1fQZEK\" href=\"/realme-techlife-7-5-kg-5-star-rating-semi-automatic-top-load-washing-machine-black-grey/p/itm16f231540f615?pid=WMNGATRJPSSNF4BN&amp;lid=LSTWMNGATRJPSSNF4BNEXRH6Z&amp;marketplace=FLIPKART&amp;q=washing+machine&amp;store=j9e%2Fabm%2F8qx&amp;srno=s_1_14&amp;otracker=AS_QueryStore_OrganicAutoSuggest_1_3_na_na_ps&amp;otracker1=AS_QueryStore_OrganicAutoSuggest_1_3_na_na_ps&amp;fm=organic&amp;iid=a1fec95a-848f-4b6d-8df3-e024719ab563.WMNGATRJPSSNF4BN.SEARCH&amp;ppt=None&amp;ppn=None&amp;ssid=x06p3n2l4g0000001682757740118&amp;qH=b3522a5e7056c9c0\" rel=\"noopener noreferrer\" target=\"_blank\"><div class=\"MIXNux\"><div class=\"_2QcLo-\"><div><div class=\"CXW8mj\" style=\"height:200px;width:200px\"><img alt=\"realme TechLife 7.5 kg 5 Star Rating Semi Automatic Top Load Washing Machine Black, Grey\" class=\"_396cs4\" loading=\"eager\" src=\"https://rukminim1.flixcart.com/image/312/312/l52sivk0/washing-machine-new/v/b/e/-original-imagftsrsng2zzdg.jpeg?q=70\"/></div></div></div><div class=\"_3wLduG\"><div class=\"_3PzNI-\"><span class=\"f3A4_V\"><label class=\"_2iDkf8\"><input class=\"_30VH1S\" readonly=\"\" type=\"checkbox\"/><div class=\"_24_Dny\"></div></label></span><label class=\"_6Up2sF\"><span>Add to Compare</span></label></div></div><div class=\"_2hVSre _3nq8ih\"><div class=\"_36FSn5\"><svg class=\"_1l0elc\" height=\"16\" viewbox=\"0 0 20 16\" width=\"16\" xmlns=\"http://www.w3.org/2000/svg\"><path class=\"eX72wL\" d=\"M8.695 16.682C4.06 12.382 1 9.536 1 6.065 1 3.219 3.178 1 5.95 1c1.566 0 3.069.746 4.05 1.915C10.981 1.745 12.484 1 14.05 1 16.822 1 19 3.22 19 6.065c0 3.471-3.06 6.316-7.695 10.617L10 17.897l-1.305-1.215z\" fill=\"#2874F0\" fill-rule=\"evenodd\" opacity=\".9\" stroke=\"#FFF\"></path></svg></div></div></div><div class=\"_3pLy-c row\"><div class=\"col col-7-12\"><div class=\"_4rR01T\">realme TechLife 7.5 kg 5 Star Rating Semi Automatic Top Load Washing Machine Black, Grey</div><div class=\"gUuXy-\"><span class=\"_1lRcqv\" id=\"productRating_LSTWMNGATRJPSSNF4BNEXRH6Z_WMNGATRJPSSNF4BN_\"><div class=\"_3LWZlK\">4.2<img class=\"_1wB99o\" src=\"data:image/svg+xml;base64,PHN2ZyB4bWxucz0iaHR0cDovL3d3dy53My5vcmcvMjAwMC9zdmciIHdpZHRoPSIxMyIgaGVpZ2h0PSIxMiI+PHBhdGggZmlsbD0iI0ZGRiIgZD0iTTYuNSA5LjQzOWwtMy42NzQgMi4yMy45NC00LjI2LTMuMjEtMi44ODMgNC4yNTQtLjQwNEw2LjUuMTEybDEuNjkgNC4wMSA0LjI1NC40MDQtMy4yMSAyLjg4Mi45NCA0LjI2eiIvPjwvc3ZnPg==\"/></div></span><span class=\"_2_R_DZ\"><span><span>18,845 Ratings </span><span class=\"_13vcmD\">&amp;</span><span> 2,140 Reviews</span></span></span></div><div class=\"fMghEO\"><ul class=\"_1xgFaf\"><li class=\"rgWa7D\">1400 RPM Max Speed</li><li class=\"rgWa7D\">5 Star Rating</li><li class=\"rgWa7D\">2 Years Comprehensive and 5 Years on Wash Motor</li></ul></div></div><div class=\"col col-5-12 nlI3QM\"><div class=\"_3tbKJL\"><div class=\"_25b18c\"><div class=\"_30jeq3 _1_WHN1\">₹8,690</div><div class=\"_3I9_wc _27UcVY\">₹<!-- -->13,990</div><div class=\"_3Ay6Sb\"><span>37% off</span></div></div><div class=\"_3tcB5a p8ucoS\"><div><div class=\"_2Tpdn3\" style=\"color:#000000;font-size:12px;font-weight:400\">Free delivery</div></div></div></div><div class=\"_13J9qT\"><img height=\"21\" src=\"//static-assets-web.flixcart.com/fk-p-linchpin-web/fk-cp-zion/img/fa_62673a.png\"/></div><div class=\"_2ZdXDB\"><div class=\"_3xFhiH\"><div class=\"_2Tpdn3 _18hQoS\" style=\"color:#000000;font-size:14px;font-style:normal;font-weight:400\">Upto </div><div class=\"_2Tpdn3 _18hQoS\" style=\"color:#000000;font-size:14px;font-style:normal;font-weight:700\">₹2,200</div><div class=\"_2Tpdn3 _18hQoS\" style=\"color:#000000;font-size:14px;font-style:normal;font-weight:400\"> Off on Exchange</div></div></div><div class=\"_2ZdXDB\"><div class=\"_3xFhiH\"><div class=\"_2Tpdn3 _18hQoS\" style=\"color:#000000;font-size:12px;font-weight:400\">No Cost EMI from ₹1,449/month</div></div></div></div></div></a></div></div></div></div><div class=\"_1AtVbE col-12-12\"><div class=\"_13oc-S\"><div data-id=\"WMNFP6FWBB4AMHYJ\" style=\"width:100%\"><div class=\"_2kHMtA\"><a class=\"_1fQZEK\" href=\"/samsung-6-kg-5-star-hygiene-steam-ceramic-heater-fully-automatic-front-load-washing-machine-in-built-white/p/itm2ee8237807ed7?pid=WMNFP6FWBB4AMHYJ&amp;lid=LSTWMNFP6FWBB4AMHYJVZX57N&amp;marketplace=FLIPKART&amp;q=washing+machine&amp;store=j9e%2Fabm%2F8qx&amp;srno=s_1_15&amp;otracker=AS_QueryStore_OrganicAutoSuggest_1_3_na_na_ps&amp;otracker1=AS_QueryStore_OrganicAutoSuggest_1_3_na_na_ps&amp;fm=organic&amp;iid=a1fec95a-848f-4b6d-8df3-e024719ab563.WMNFP6FWBB4AMHYJ.SEARCH&amp;ppt=None&amp;ppn=None&amp;ssid=x06p3n2l4g0000001682757740118&amp;qH=b3522a5e7056c9c0\" rel=\"noopener noreferrer\" target=\"_blank\"><div class=\"MIXNux\"><div class=\"_2QcLo-\"><div><div class=\"CXW8mj\" style=\"height:200px;width:200px\"><img alt=\"SAMSUNG 6 kg 5 Star With Hygiene Steam and Ceramic Heater Fully Automatic Front Load Washing Machine w...\" class=\"_396cs4\" loading=\"eager\" src=\"https://rukminim1.flixcart.com/image/312/312/xif0q/washing-machine-new/e/j/e/-original-imagnjr27tzs83vh.jpeg?q=70\"/></div></div></div><div class=\"_3wLduG\"><div class=\"_3PzNI-\"><span class=\"f3A4_V\"><label class=\"_2iDkf8\"><input class=\"_30VH1S\" readonly=\"\" type=\"checkbox\"/><div class=\"_24_Dny\"></div></label></span><label class=\"_6Up2sF\"><span>Add to Compare</span></label></div></div><div class=\"_2hVSre _3nq8ih\"><div class=\"_36FSn5\"><svg class=\"_1l0elc\" height=\"16\" viewbox=\"0 0 20 16\" width=\"16\" xmlns=\"http://www.w3.org/2000/svg\"><path class=\"eX72wL\" d=\"M8.695 16.682C4.06 12.382 1 9.536 1 6.065 1 3.219 3.178 1 5.95 1c1.566 0 3.069.746 4.05 1.915C10.981 1.745 12.484 1 14.05 1 16.822 1 19 3.22 19 6.065c0 3.471-3.06 6.316-7.695 10.617L10 17.897l-1.305-1.215z\" fill=\"#2874F0\" fill-rule=\"evenodd\" opacity=\".9\" stroke=\"#FFF\"></path></svg></div></div></div><div class=\"_3pLy-c row\"><div class=\"col col-7-12\"><div class=\"_4rR01T\">SAMSUNG 6 kg 5 Star With Hygiene Steam and Ceramic Heater Fully Automatic Front Load Washing Machine w...</div><div class=\"gUuXy-\"><span class=\"_1lRcqv\" id=\"productRating_LSTWMNFP6FWBB4AMHYJVZX57N_WMNFP6FWBB4AMHYJ_\"><div class=\"_3LWZlK\">4.4<img class=\"_1wB99o\" src=\"data:image/svg+xml;base64,PHN2ZyB4bWxucz0iaHR0cDovL3d3dy53My5vcmcvMjAwMC9zdmciIHdpZHRoPSIxMyIgaGVpZ2h0PSIxMiI+PHBhdGggZmlsbD0iI0ZGRiIgZD0iTTYuNSA5LjQzOWwtMy42NzQgMi4yMy45NC00LjI2LTMuMjEtMi44ODMgNC4yNTQtLjQwNEw2LjUuMTEybDEuNjkgNC4wMSA0LjI1NC40MDQtMy4yMSAyLjg4Mi45NCA0LjI2eiIvPjwvc3ZnPg==\"/></div></span><span class=\"_2_R_DZ\"><span><span>28,435 Ratings </span><span class=\"_13vcmD\">&amp;</span><span> 2,766 Reviews</span></span></span></div><div class=\"fMghEO\"><ul class=\"_1xgFaf\"><li class=\"rgWa7D\">1000 rpm Max Speed</li><li class=\"rgWa7D\">5 Star Rating</li><li class=\"rgWa7D\">For all Fully Automatic Washing Machines with Digital Inverter Motors, sold on or after 1st Dec 2022 (All Fully Automatic Front Load Washing Machine and Top Load Washing Machine) the Warranty period on the Digital Inverter Motor shall be revised from 10 years to 20 years and Comprehensive Product Warranty shall be revised from 3 years to 2 years.</li></ul></div></div><div class=\"col col-5-12 nlI3QM\"><div class=\"_3tbKJL\"><div class=\"_25b18c\"><div class=\"_30jeq3 _1_WHN1\">₹22,990</div><div class=\"_3I9_wc _27UcVY\">₹<!-- -->26,500</div><div class=\"_3Ay6Sb\"><span>13% off</span></div></div><div class=\"_3tcB5a p8ucoS\"><div><div class=\"_2Tpdn3\" style=\"color:#000000;font-size:12px;font-weight:400\">Free delivery</div></div></div></div><div class=\"_13J9qT\"><img height=\"21\" src=\"//static-assets-web.flixcart.com/fk-p-linchpin-web/fk-cp-zion/img/fa_62673a.png\"/></div><div class=\"_2ZdXDB\"><div class=\"_3xFhiH\"><div class=\"_2Tpdn3 _18hQoS\" style=\"color:#000000;font-size:14px;font-style:normal;font-weight:400\">Upto </div><div class=\"_2Tpdn3 _18hQoS\" style=\"color:#000000;font-size:14px;font-style:normal;font-weight:700\">₹3,200</div><div class=\"_2Tpdn3 _18hQoS\" style=\"color:#000000;font-size:14px;font-style:normal;font-weight:400\"> Off on Exchange</div></div></div><div class=\"_2ZdXDB\"><div class=\"_3xFhiH\"><div class=\"_2Tpdn3 _18hQoS\" style=\"color:#000000;font-size:12px;font-weight:400\">No Cost EMI from ₹1,916/month</div></div></div></div></div></a></div></div></div></div><div class=\"_1AtVbE col-12-12\"><div class=\"_13oc-S\"><div data-id=\"WMNGHAWGYQDUMZFH\" style=\"width:100%\"><div class=\"_2kHMtA\"><div class=\"_2tfzpE\"><span>Ad</span></div><a class=\"_1fQZEK\" href=\"/voltas-beko-9-kg-double-waterfall-multiple-wash-program-waterproof-ipx4-panel-monsoon-dry-option-fully-automatic-top-load-washing-machine-black-grey/p/itmbc1c01bac569c?pid=WMNGHAWGYQDUMZFH&amp;lid=LSTWMNGHAWGYQDUMZFHDLRTMU&amp;marketplace=FLIPKART&amp;q=washing+machine&amp;store=j9e%2Fabm%2F8qx&amp;srno=s_1_16&amp;otracker=AS_QueryStore_OrganicAutoSuggest_1_3_na_na_ps&amp;otracker1=AS_QueryStore_OrganicAutoSuggest_1_3_na_na_ps&amp;fm=organic&amp;iid=en_87oalko4yLDEx5DQLmnOfvh3rbmQWGvDLerTOW3UkgYbKXR6MWX3%2FofatHlLkxJx4wmqxcOi3mLF%2FoYUdqt16Q%3D%3D&amp;ppt=None&amp;ppn=None&amp;ssid=x06p3n2l4g0000001682757740118&amp;qH=b3522a5e7056c9c0\" rel=\"noopener noreferrer\" target=\"_blank\"><div class=\"MIXNux\"><div class=\"_2QcLo-\"><div><div class=\"CXW8mj\" style=\"height:200px;width:200px\"><img alt=\"Voltas Beko 9 kg with Double waterfall, Multiple Wash Program, Waterproof IPX4 panel and Monsoon Dry o...\" class=\"_396cs4\" loading=\"eager\" src=\"https://rukminim1.flixcart.com/image/312/312/xif0q/washing-machine-new/y/a/4/9-578-wtl90upgb-5-530-564-31-voltas-beko-956-original-imaghbsukagsj9z7.jpeg?q=70\"/></div></div></div><div class=\"_3wLduG\"><div class=\"_3PzNI-\"><span class=\"f3A4_V\"><label class=\"_2iDkf8\"><input class=\"_30VH1S\" readonly=\"\" type=\"checkbox\"/><div class=\"_24_Dny\"></div></label></span><label class=\"_6Up2sF\"><span>Add to Compare</span></label></div></div><div class=\"_2hVSre _3nq8ih\"><div class=\"_36FSn5\"><svg class=\"_1l0elc\" height=\"16\" viewbox=\"0 0 20 16\" width=\"16\" xmlns=\"http://www.w3.org/2000/svg\"><path class=\"eX72wL\" d=\"M8.695 16.682C4.06 12.382 1 9.536 1 6.065 1 3.219 3.178 1 5.95 1c1.566 0 3.069.746 4.05 1.915C10.981 1.745 12.484 1 14.05 1 16.822 1 19 3.22 19 6.065c0 3.471-3.06 6.316-7.695 10.617L10 17.897l-1.305-1.215z\" fill=\"#2874F0\" fill-rule=\"evenodd\" opacity=\".9\" stroke=\"#FFF\"></path></svg></div></div></div><div class=\"_3pLy-c row\"><div class=\"col col-7-12\"><div class=\"_4rR01T\">Voltas Beko 9 kg with Double waterfall, Multiple Wash Program, Waterproof IPX4 panel and Monsoon Dry o...</div><div class=\"gUuXy-\"><span class=\"_1lRcqv\" id=\"productRating_LSTWMNGHAWGYQDUMZFHDLRTMU_WMNGHAWGYQDUMZFH_\"><div class=\"_3LWZlK\">4.2<img class=\"_1wB99o\" src=\"data:image/svg+xml;base64,PHN2ZyB4bWxucz0iaHR0cDovL3d3dy53My5vcmcvMjAwMC9zdmciIHdpZHRoPSIxMyIgaGVpZ2h0PSIxMiI+PHBhdGggZmlsbD0iI0ZGRiIgZD0iTTYuNSA5LjQzOWwtMy42NzQgMi4yMy45NC00LjI2LTMuMjEtMi44ODMgNC4yNTQtLjQwNEw2LjUuMTEybDEuNjkgNC4wMSA0LjI1NC40MDQtMy4yMSAyLjg4Mi45NCA0LjI2eiIvPjwvc3ZnPg==\"/></div></span><span class=\"_2_R_DZ\"><span><span>39 Ratings </span><span class=\"_13vcmD\">&amp;</span><span> 6 Reviews</span></span></span></div><div class=\"fMghEO\"><ul class=\"_1xgFaf\"><li class=\"rgWa7D\">700 rpm Max Speed</li><li class=\"rgWa7D\">5 Star Rating</li><li class=\"rgWa7D\">3 Years Comprehensive Warranty on Product and 12 Years Warranty on Motor</li></ul></div></div><div class=\"col col-5-12 nlI3QM\"><div class=\"_3tbKJL\"><div class=\"_25b18c\"><div class=\"_30jeq3 _1_WHN1\">₹18,990</div><div class=\"_3I9_wc _27UcVY\">₹<!-- -->38,590</div><div class=\"_3Ay6Sb\"><span>50% off</span></div></div><div class=\"_3tcB5a p8ucoS\"><div><div class=\"_2Tpdn3\" style=\"color:#000000;font-size:12px;font-weight:400\">Free delivery</div></div></div></div><div class=\"_13J9qT\"><img height=\"21\" src=\"//static-assets-web.flixcart.com/fk-p-linchpin-web/fk-cp-zion/img/fa_62673a.png\"/></div><div class=\"_2ZdXDB\"><div class=\"_3xFhiH\"><div class=\"_2Tpdn3 _18hQoS\" style=\"color:#000000;font-size:14px;font-style:normal;font-weight:400\">Upto </div><div class=\"_2Tpdn3 _18hQoS\" style=\"color:#000000;font-size:14px;font-style:normal;font-weight:700\">₹2,200</div><div class=\"_2Tpdn3 _18hQoS\" style=\"color:#000000;font-size:14px;font-style:normal;font-weight:400\"> Off on Exchange</div></div></div><div class=\"_2ZdXDB\"><div class=\"_3xFhiH\"><div class=\"_2Tpdn3 _18hQoS\" style=\"color:#000000;font-size:12px;font-weight:400\">No Cost EMI from ₹1,583/month</div></div></div></div></div></a></div></div></div></div><div class=\"_1AtVbE col-12-12\"><div class=\"_13oc-S\"><div data-id=\"WMNFZX5BMUYJMPRB\" style=\"width:100%\"><div class=\"_2kHMtA\"><a class=\"_1fQZEK\" href=\"/lg-6-5-kg-smart-diagnosis-inverter-fully-automatic-top-load-washing-machine-silver/p/itme4cacbedc1c8f?pid=WMNFZX5BMUYJMPRB&amp;lid=LSTWMNFZX5BMUYJMPRBQPQHWF&amp;marketplace=FLIPKART&amp;q=washing+machine&amp;store=j9e%2Fabm%2F8qx&amp;srno=s_1_17&amp;otracker=AS_QueryStore_OrganicAutoSuggest_1_3_na_na_ps&amp;otracker1=AS_QueryStore_OrganicAutoSuggest_1_3_na_na_ps&amp;fm=organic&amp;iid=a1fec95a-848f-4b6d-8df3-e024719ab563.WMNFZX5BMUYJMPRB.SEARCH&amp;ppt=None&amp;ppn=None&amp;ssid=x06p3n2l4g0000001682757740118&amp;qH=b3522a5e7056c9c0\" rel=\"noopener noreferrer\" target=\"_blank\"><div class=\"MIXNux\"><div class=\"_2QcLo-\"><div><div class=\"CXW8mj\" style=\"height:200px;width:200px\"><img alt=\"LG 6.5 kg with Smart Diagnosis and Smart Inverter Fully Automatic Top Load Washing Machine Silver\" class=\"_396cs4\" loading=\"eager\" src=\"https://rukminim1.flixcart.com/image/312/312/xif0q/washing-machine-new/h/b/t/-original-imagm92hgkshgwxt.jpeg?q=70\"/></div></div></div><div class=\"_3wLduG\"><div class=\"_3PzNI-\"><span class=\"f3A4_V\"><label class=\"_2iDkf8\"><input class=\"_30VH1S\" readonly=\"\" type=\"checkbox\"/><div class=\"_24_Dny\"></div></label></span><label class=\"_6Up2sF\"><span>Add to Compare</span></label></div></div><div class=\"_2hVSre _3nq8ih\"><div class=\"_36FSn5\"><svg class=\"_1l0elc\" height=\"16\" viewbox=\"0 0 20 16\" width=\"16\" xmlns=\"http://www.w3.org/2000/svg\"><path class=\"eX72wL\" d=\"M8.695 16.682C4.06 12.382 1 9.536 1 6.065 1 3.219 3.178 1 5.95 1c1.566 0 3.069.746 4.05 1.915C10.981 1.745 12.484 1 14.05 1 16.822 1 19 3.22 19 6.065c0 3.471-3.06 6.316-7.695 10.617L10 17.897l-1.305-1.215z\" fill=\"#2874F0\" fill-rule=\"evenodd\" opacity=\".9\" stroke=\"#FFF\"></path></svg></div></div></div><div class=\"_3pLy-c row\"><div class=\"col col-7-12\"><div class=\"_4rR01T\">LG 6.5 kg with Smart Diagnosis and Smart Inverter Fully Automatic Top Load Washing Machine Silver</div><div class=\"gUuXy-\"><span class=\"_1lRcqv\" id=\"productRating_LSTWMNFZX5BMUYJMPRBQPQHWF_WMNFZX5BMUYJMPRB_\"><div class=\"_3LWZlK\">4.3<img class=\"_1wB99o\" src=\"data:image/svg+xml;base64,PHN2ZyB4bWxucz0iaHR0cDovL3d3dy53My5vcmcvMjAwMC9zdmciIHdpZHRoPSIxMyIgaGVpZ2h0PSIxMiI+PHBhdGggZmlsbD0iI0ZGRiIgZD0iTTYuNSA5LjQzOWwtMy42NzQgMi4yMy45NC00LjI2LTMuMjEtMi44ODMgNC4yNTQtLjQwNEw2LjUuMTEybDEuNjkgNC4wMSA0LjI1NC40MDQtMy4yMSAyLjg4Mi45NCA0LjI2eiIvPjwvc3ZnPg==\"/></div></span><span class=\"_2_R_DZ\"><span><span>34,582 Ratings </span><span class=\"_13vcmD\">&amp;</span><span> 2,844 Reviews</span></span></span></div><div class=\"fMghEO\"><ul class=\"_1xgFaf\"><li class=\"rgWa7D\">700 rpm Max Speed</li><li class=\"rgWa7D\">5 Star Rating</li><li class=\"rgWa7D\">2 Years Comprehensive Warranty on Product and 10 Years Warranty on Motor from LG</li></ul></div></div><div class=\"col col-5-12 nlI3QM\"><div class=\"_3tbKJL\"><div class=\"_25b18c\"><div class=\"_30jeq3 _1_WHN1\">₹16,990</div><div class=\"_3I9_wc _27UcVY\">₹<!-- -->18,999</div><div class=\"_3Ay6Sb\"><span>10% off</span></div></div><div class=\"_3tcB5a p8ucoS\"><div><div class=\"_2Tpdn3\" style=\"color:#000000;font-size:12px;font-weight:400\">Free delivery</div></div></div></div><div class=\"_13J9qT\"><img height=\"21\" src=\"//static-assets-web.flixcart.com/fk-p-linchpin-web/fk-cp-zion/img/fa_62673a.png\"/></div><div class=\"_2ZdXDB\"><div class=\"_3xFhiH\"><div class=\"_2Tpdn3 _18hQoS\" style=\"color:#000000;font-size:14px;font-style:normal;font-weight:400\">Upto </div><div class=\"_2Tpdn3 _18hQoS\" style=\"color:#000000;font-size:14px;font-style:normal;font-weight:700\">₹2,200</div><div class=\"_2Tpdn3 _18hQoS\" style=\"color:#000000;font-size:14px;font-style:normal;font-weight:400\"> Off on Exchange</div></div></div><div class=\"_2ZdXDB\"><div class=\"_3xFhiH\"><div class=\"_2Tpdn3 _18hQoS\" style=\"color:#000000;font-size:12px;font-weight:400\">No Cost EMI from ₹1,888/month</div></div></div></div></div></a></div></div></div></div><div class=\"_1AtVbE col-12-12\"><div class=\"_13oc-S\"><div data-id=\"WMNGG5G73HH8MEWY\" style=\"width:100%\"><div class=\"_2kHMtA\"><a class=\"_1fQZEK\" href=\"/lg-8-kg-smart-inverter-motion-combined-turbodrum-5-star-rated-middle-free-fully-automatic-top-load-washing-machine-silver/p/itmfbd15192a962d?pid=WMNGG5G73HH8MEWY&amp;lid=LSTWMNGG5G73HH8MEWYEXBLWZ&amp;marketplace=FLIPKART&amp;q=washing+machine&amp;store=j9e%2Fabm%2F8qx&amp;srno=s_1_18&amp;otracker=AS_QueryStore_OrganicAutoSuggest_1_3_na_na_ps&amp;otracker1=AS_QueryStore_OrganicAutoSuggest_1_3_na_na_ps&amp;fm=organic&amp;iid=a1fec95a-848f-4b6d-8df3-e024719ab563.WMNGG5G73HH8MEWY.SEARCH&amp;ppt=None&amp;ppn=None&amp;ssid=x06p3n2l4g0000001682757740118&amp;qH=b3522a5e7056c9c0\" rel=\"noopener noreferrer\" target=\"_blank\"><div class=\"MIXNux\"><div class=\"_2QcLo-\"><div><div class=\"CXW8mj\" style=\"height:200px;width:200px\"><img alt=\"LG 8 kg Smart Inverter, Smart Motion, Combined with TurboDrum and 5 Star Rated, Middle Free Fully Auto...\" class=\"_396cs4\" loading=\"eager\" src=\"https://rukminim1.flixcart.com/image/312/312/xif0q/washing-machine-new/i/h/a/-original-imagm93xvghpgtpy.jpeg?q=70\"/></div></div></div><div class=\"_3wLduG\"><div class=\"_3PzNI-\"><span class=\"f3A4_V\"><label class=\"_2iDkf8\"><input class=\"_30VH1S\" readonly=\"\" type=\"checkbox\"/><div class=\"_24_Dny\"></div></label></span><label class=\"_6Up2sF\"><span>Add to Compare</span></label></div></div><div class=\"_2hVSre _3nq8ih\"><div class=\"_36FSn5\"><svg class=\"_1l0elc\" height=\"16\" viewbox=\"0 0 20 16\" width=\"16\" xmlns=\"http://www.w3.org/2000/svg\"><path class=\"eX72wL\" d=\"M8.695 16.682C4.06 12.382 1 9.536 1 6.065 1 3.219 3.178 1 5.95 1c1.566 0 3.069.746 4.05 1.915C10.981 1.745 12.484 1 14.05 1 16.822 1 19 3.22 19 6.065c0 3.471-3.06 6.316-7.695 10.617L10 17.897l-1.305-1.215z\" fill=\"#2874F0\" fill-rule=\"evenodd\" opacity=\".9\" stroke=\"#FFF\"></path></svg></div></div></div><div class=\"_3pLy-c row\"><div class=\"col col-7-12\"><div class=\"_4rR01T\">LG 8 kg Smart Inverter, Smart Motion, Combined with TurboDrum and 5 Star Rated, Middle Free Fully Auto...</div><div class=\"gUuXy-\"><span class=\"_1lRcqv\" id=\"productRating_LSTWMNGG5G73HH8MEWYEXBLWZ_WMNGG5G73HH8MEWY_\"><div class=\"_3LWZlK\">4.4<img class=\"_1wB99o\" src=\"data:image/svg+xml;base64,PHN2ZyB4bWxucz0iaHR0cDovL3d3dy53My5vcmcvMjAwMC9zdmciIHdpZHRoPSIxMyIgaGVpZ2h0PSIxMiI+PHBhdGggZmlsbD0iI0ZGRiIgZD0iTTYuNSA5LjQzOWwtMy42NzQgMi4yMy45NC00LjI2LTMuMjEtMi44ODMgNC4yNTQtLjQwNEw2LjUuMTEybDEuNjkgNC4wMSA0LjI1NC40MDQtMy4yMSAyLjg4Mi45NCA0LjI2eiIvPjwvc3ZnPg==\"/></div></span><span class=\"_2_R_DZ\"><span><span>8,798 Ratings </span><span class=\"_13vcmD\">&amp;</span><span> 694 Reviews</span></span></span></div><div class=\"fMghEO\"><ul class=\"_1xgFaf\"><li class=\"rgWa7D\">700 rpm Max Speed</li><li class=\"rgWa7D\">5 Star Rating</li><li class=\"rgWa7D\">2 Years Comprehensive Warranty on Product and 10 Years Warranty on Motor (T&amp;C)</li></ul></div></div><div class=\"col col-5-12 nlI3QM\"><div class=\"_3tbKJL\"><div class=\"_25b18c\"><div class=\"_30jeq3 _1_WHN1\">₹19,990</div><div class=\"_3I9_wc _27UcVY\">₹<!-- -->29,990</div><div class=\"_3Ay6Sb\"><span>33% off</span></div></div><div class=\"_3tcB5a p8ucoS\"><div><div class=\"_2Tpdn3\" style=\"color:#000000;font-size:12px;font-weight:400\">Free delivery</div></div></div></div><div class=\"_13J9qT\"><img height=\"21\" src=\"//static-assets-web.flixcart.com/fk-p-linchpin-web/fk-cp-zion/img/fa_62673a.png\"/></div><div class=\"_2ZdXDB\"><div class=\"_3xFhiH\"><div class=\"_2Tpdn3 _18hQoS\" style=\"color:#000000;font-size:14px;font-style:normal;font-weight:400\">Upto </div><div class=\"_2Tpdn3 _18hQoS\" style=\"color:#000000;font-size:14px;font-style:normal;font-weight:700\">₹3,200</div><div class=\"_2Tpdn3 _18hQoS\" style=\"color:#000000;font-size:14px;font-style:normal;font-weight:400\"> Off on Exchange</div></div></div><div class=\"_2ZdXDB\"><div class=\"_3xFhiH\"><div class=\"_2Tpdn3 _18hQoS\" style=\"color:#000000;font-size:12px;font-weight:400\">No Cost EMI from ₹2,221/month</div></div></div></div></div></a></div></div></div></div><div class=\"_1AtVbE col-12-12\"><div class=\"_13oc-S\"><div data-id=\"WMNG2A7GGTDSVQV8\" style=\"width:100%\"><div class=\"_2kHMtA\"><a class=\"_1fQZEK\" href=\"/marq-flipkart-7-kg-semi-automatic-top-load-washing-machine-blue-white/p/itma96b6a63dbf26?pid=WMNG2A7GGTDSVQV8&amp;lid=LSTWMNG2A7GGTDSVQV8JF02X3&amp;marketplace=FLIPKART&amp;q=washing+machine&amp;store=j9e%2Fabm%2F8qx&amp;srno=s_1_19&amp;otracker=AS_QueryStore_OrganicAutoSuggest_1_3_na_na_ps&amp;otracker1=AS_QueryStore_OrganicAutoSuggest_1_3_na_na_ps&amp;fm=organic&amp;iid=a1fec95a-848f-4b6d-8df3-e024719ab563.WMNG2A7GGTDSVQV8.SEARCH&amp;ppt=None&amp;ppn=None&amp;ssid=x06p3n2l4g0000001682757740118&amp;qH=b3522a5e7056c9c0\" rel=\"noopener noreferrer\" target=\"_blank\"><div class=\"MIXNux\"><div class=\"_2QcLo-\"><div><div class=\"CXW8mj\" style=\"height:200px;width:200px\"><img alt=\"MarQ by Flipkart 7 kg Semi Automatic Top Load Washing Machine Blue, White\" class=\"_396cs4\" loading=\"eager\" src=\"https://rukminim1.flixcart.com/image/312/312/ku1k4280/washing-machine-new/5/s/p/mqsa70h5m-marq-by-flipkart-original-imag796qzwdrqetb.jpeg?q=70\"/></div></div></div><div class=\"_3wLduG\"><div class=\"_3PzNI-\"><span class=\"f3A4_V\"><label class=\"_2iDkf8\"><input class=\"_30VH1S\" readonly=\"\" type=\"checkbox\"/><div class=\"_24_Dny\"></div></label></span><label class=\"_6Up2sF\"><span>Add to Compare</span></label></div></div><div class=\"_2hVSre _3nq8ih\"><div class=\"_36FSn5\"><svg class=\"_1l0elc\" height=\"16\" viewbox=\"0 0 20 16\" width=\"16\" xmlns=\"http://www.w3.org/2000/svg\"><path class=\"eX72wL\" d=\"M8.695 16.682C4.06 12.382 1 9.536 1 6.065 1 3.219 3.178 1 5.95 1c1.566 0 3.069.746 4.05 1.915C10.981 1.745 12.484 1 14.05 1 16.822 1 19 3.22 19 6.065c0 3.471-3.06 6.316-7.695 10.617L10 17.897l-1.305-1.215z\" fill=\"#2874F0\" fill-rule=\"evenodd\" opacity=\".9\" stroke=\"#FFF\"></path></svg></div></div></div><div class=\"_3pLy-c row\"><div class=\"col col-7-12\"><div class=\"_4rR01T\">MarQ by Flipkart 7 kg Semi Automatic Top Load Washing Machine Blue, White</div><div class=\"gUuXy-\"><span class=\"_1lRcqv\" id=\"productRating_LSTWMNG2A7GGTDSVQV8JF02X3_WMNG2A7GGTDSVQV8_\"><div class=\"_3LWZlK\">4.2<img class=\"_1wB99o\" src=\"data:image/svg+xml;base64,PHN2ZyB4bWxucz0iaHR0cDovL3d3dy53My5vcmcvMjAwMC9zdmciIHdpZHRoPSIxMyIgaGVpZ2h0PSIxMiI+PHBhdGggZmlsbD0iI0ZGRiIgZD0iTTYuNSA5LjQzOWwtMy42NzQgMi4yMy45NC00LjI2LTMuMjEtMi44ODMgNC4yNTQtLjQwNEw2LjUuMTEybDEuNjkgNC4wMSA0LjI1NC40MDQtMy4yMSAyLjg4Mi45NCA0LjI2eiIvPjwvc3ZnPg==\"/></div></span><span class=\"_2_R_DZ\"><span><span>9,530 Ratings </span><span class=\"_13vcmD\">&amp;</span><span> 1,111 Reviews</span></span></span></div><div class=\"fMghEO\"><ul class=\"_1xgFaf\"><li class=\"rgWa7D\">1350 rpm Max Speed</li><li class=\"rgWa7D\">5 Star Rating</li><li class=\"rgWa7D\">2 Years Comprehensive and 5 Years on Wash Motor from MarQ by Flipkart</li></ul></div></div><div class=\"col col-5-12 nlI3QM\"><div class=\"_3tbKJL\"><div class=\"_25b18c\"><div class=\"_30jeq3 _1_WHN1\">₹7,690</div><div class=\"_3I9_wc _27UcVY\">₹<!-- -->10,990</div><div class=\"_3Ay6Sb\"><span>30% off</span></div></div><div class=\"_3tcB5a p8ucoS\"><div><div class=\"_2Tpdn3\" style=\"color:#000000;font-size:12px;font-weight:400\">Free delivery</div></div></div></div><div class=\"_13J9qT\"><img height=\"21\" src=\"//static-assets-web.flixcart.com/fk-p-linchpin-web/fk-cp-zion/img/fa_62673a.png\"/></div><div class=\"_2ZdXDB\"><div class=\"_3xFhiH\"><div class=\"_2Tpdn3 _18hQoS\" style=\"color:#000000;font-size:14px;font-style:normal;font-weight:400\">Upto </div><div class=\"_2Tpdn3 _18hQoS\" style=\"color:#000000;font-size:14px;font-style:normal;font-weight:700\">₹2,200</div><div class=\"_2Tpdn3 _18hQoS\" style=\"color:#000000;font-size:14px;font-style:normal;font-weight:400\"> Off on Exchange</div></div></div><div class=\"_2ZdXDB\"><div class=\"_3xFhiH\"><div class=\"_2Tpdn3 _18hQoS\" style=\"color:#000000;font-size:12px;font-weight:400\">No Cost EMI from ₹1,282/month</div></div></div></div></div></a></div></div></div></div><div class=\"_1AtVbE col-12-12\"><div class=\"_13oc-S\"><div data-id=\"WMNGN53UBAZP8HGT\" style=\"width:100%\"><div class=\"_2kHMtA\"><div class=\"_2tfzpE\"><span>Ad</span></div><a class=\"_1fQZEK\" href=\"/voltas-beko-6-kg-hygiene-pro-smart-invertor-motor-fully-automatic-front-load-washing-machine-in-built-heater-white/p/itmd1d27ddf19d58?pid=WMNGN53UBAZP8HGT&amp;lid=LSTWMNGN53UBAZP8HGTJISZTE&amp;marketplace=FLIPKART&amp;q=washing+machine&amp;store=j9e%2Fabm%2F8qx&amp;srno=s_1_20&amp;otracker=AS_QueryStore_OrganicAutoSuggest_1_3_na_na_ps&amp;otracker1=AS_QueryStore_OrganicAutoSuggest_1_3_na_na_ps&amp;fm=organic&amp;iid=en_87oalko4yLDEx5DQLmnOfvh3rbmQWGvDLerTOW3UkgYqrxwue%2Bs%2BQKbFp5uXnZvQRL%2FVoxLaC9LsnQH5b7S2xg%3D%3D&amp;ppt=None&amp;ppn=None&amp;ssid=x06p3n2l4g0000001682757740118&amp;qH=b3522a5e7056c9c0\" rel=\"noopener noreferrer\" target=\"_blank\"><div class=\"MIXNux\"><div class=\"_2QcLo-\"><div><div class=\"CXW8mj\" style=\"height:200px;width:200px\"><img alt=\"Voltas Beko 6 kg Hygiene+ with Pro Smart Invertor Motor Fully Automatic Front Load Washing Machine wit...\" class=\"_396cs4\" loading=\"eager\" src=\"https://rukminim1.flixcart.com/image/312/312/xif0q/washing-machine-new/y/7/r/-original-imagzr4btym6erv3.jpeg?q=70\"/></div></div></div><div class=\"_3wLduG\"><div class=\"_3PzNI-\"><span class=\"f3A4_V\"><label class=\"_2iDkf8\"><input class=\"_30VH1S\" readonly=\"\" type=\"checkbox\"/><div class=\"_24_Dny\"></div></label></span><label class=\"_6Up2sF\"><span>Add to Compare</span></label></div></div><div class=\"_2hVSre _3nq8ih\"><div class=\"_36FSn5\"><svg class=\"_1l0elc\" height=\"16\" viewbox=\"0 0 20 16\" width=\"16\" xmlns=\"http://www.w3.org/2000/svg\"><path class=\"eX72wL\" d=\"M8.695 16.682C4.06 12.382 1 9.536 1 6.065 1 3.219 3.178 1 5.95 1c1.566 0 3.069.746 4.05 1.915C10.981 1.745 12.484 1 14.05 1 16.822 1 19 3.22 19 6.065c0 3.471-3.06 6.316-7.695 10.617L10 17.897l-1.305-1.215z\" fill=\"#2874F0\" fill-rule=\"evenodd\" opacity=\".9\" stroke=\"#FFF\"></path></svg></div></div></div><div class=\"_3pLy-c row\"><div class=\"col col-7-12\"><div class=\"_4rR01T\">Voltas Beko 6 kg Hygiene+ with Pro Smart Invertor Motor Fully Automatic Front Load Washing Machine wit...</div><div class=\"fMghEO\"><ul class=\"_1xgFaf\"><li class=\"rgWa7D\">1000 rpm Max Speed</li><li class=\"rgWa7D\">5 Star Rating</li><li class=\"rgWa7D\">3 Years Comprehensive Warranty on Product and 12 Years Warranty on Motor</li></ul></div></div><div class=\"col col-5-12 nlI3QM\"><div class=\"_3tbKJL\"><div class=\"_25b18c\"><div class=\"_30jeq3 _1_WHN1\">₹21,490</div><div class=\"_3I9_wc _27UcVY\">₹<!-- -->29,990</div><div class=\"_3Ay6Sb\"><span>28% off</span></div></div><div class=\"_3tcB5a p8ucoS\"><div><div class=\"_2Tpdn3\" style=\"color:#000000;font-size:12px;font-weight:400\">Free delivery</div></div></div></div><div class=\"_13J9qT\"><img height=\"21\" src=\"//static-assets-web.flixcart.com/fk-p-linchpin-web/fk-cp-zion/img/fa_62673a.png\"/></div><div class=\"_2ZdXDB\"><div class=\"_3xFhiH\"><div class=\"_2Tpdn3 _18hQoS\" style=\"color:#000000;font-size:14px;font-style:normal;font-weight:400\">Upto </div><div class=\"_2Tpdn3 _18hQoS\" style=\"color:#000000;font-size:14px;font-style:normal;font-weight:700\">₹3,700</div><div class=\"_2Tpdn3 _18hQoS\" style=\"color:#000000;font-size:14px;font-style:normal;font-weight:400\"> Off on Exchange</div></div></div><div class=\"_2ZdXDB\"><div class=\"_3xFhiH\"><div class=\"_2Tpdn3 _18hQoS\" style=\"color:#000000;font-size:12px;font-weight:400\">No Cost EMI from ₹1,791/month</div></div></div></div></div></a></div></div></div></div><div class=\"_1AtVbE col-12-12\"><div class=\"_13oc-S\"><div data-id=\"WMNFYGG2CZMZXG7S\" style=\"width:100%\"><div class=\"_2kHMtA\"><a class=\"_1fQZEK\" href=\"/whirlpool-7-kg-hard-water-wash-fully-automatic-top-load-washing-machine-grey/p/itmda9428f9a44c8?pid=WMNFYGG2CZMZXG7S&amp;lid=LSTWMNFYGG2CZMZXG7ST2HFQS&amp;marketplace=FLIPKART&amp;q=washing+machine&amp;store=j9e%2Fabm%2F8qx&amp;srno=s_1_21&amp;otracker=AS_QueryStore_OrganicAutoSuggest_1_3_na_na_ps&amp;otracker1=AS_QueryStore_OrganicAutoSuggest_1_3_na_na_ps&amp;fm=organic&amp;iid=a1fec95a-848f-4b6d-8df3-e024719ab563.WMNFYGG2CZMZXG7S.SEARCH&amp;ppt=None&amp;ppn=None&amp;ssid=x06p3n2l4g0000001682757740118&amp;qH=b3522a5e7056c9c0\" rel=\"noopener noreferrer\" target=\"_blank\"><div class=\"MIXNux\"><div class=\"_2QcLo-\"><div><div class=\"CXW8mj\" style=\"height:200px;width:200px\"><img alt=\"Whirlpool 7 kg with Hard Water Wash Fully Automatic Top Load Washing Machine Grey\" class=\"_396cs4\" loading=\"eager\" src=\"https://rukminim1.flixcart.com/image/312/312/kmp7ngw0/washing-machine-new/v/i/7/wm-royal-7-0-genx-grey-5ymw-whirlpool-original-imagfjhmk78dz6qy.jpeg?q=70\"/></div></div></div><div class=\"_3wLduG\"><div class=\"_3PzNI-\"><span class=\"f3A4_V\"><label class=\"_2iDkf8\"><input class=\"_30VH1S\" readonly=\"\" type=\"checkbox\"/><div class=\"_24_Dny\"></div></label></span><label class=\"_6Up2sF\"><span>Add to Compare</span></label></div></div><div class=\"_2hVSre _3nq8ih\"><div class=\"_36FSn5\"><svg class=\"_1l0elc\" height=\"16\" viewbox=\"0 0 20 16\" width=\"16\" xmlns=\"http://www.w3.org/2000/svg\"><path class=\"eX72wL\" d=\"M8.695 16.682C4.06 12.382 1 9.536 1 6.065 1 3.219 3.178 1 5.95 1c1.566 0 3.069.746 4.05 1.915C10.981 1.745 12.484 1 14.05 1 16.822 1 19 3.22 19 6.065c0 3.471-3.06 6.316-7.695 10.617L10 17.897l-1.305-1.215z\" fill=\"#2874F0\" fill-rule=\"evenodd\" opacity=\".9\" stroke=\"#FFF\"></path></svg></div></div></div><div class=\"_3pLy-c row\"><div class=\"col col-7-12\"><div class=\"_4rR01T\">Whirlpool 7 kg with Hard Water Wash Fully Automatic Top Load Washing Machine Grey</div><div class=\"gUuXy-\"><span class=\"_1lRcqv\" id=\"productRating_LSTWMNFYGG2CZMZXG7ST2HFQS_WMNFYGG2CZMZXG7S_\"><div class=\"_3LWZlK\">4.3<img class=\"_1wB99o\" src=\"data:image/svg+xml;base64,PHN2ZyB4bWxucz0iaHR0cDovL3d3dy53My5vcmcvMjAwMC9zdmciIHdpZHRoPSIxMyIgaGVpZ2h0PSIxMiI+PHBhdGggZmlsbD0iI0ZGRiIgZD0iTTYuNSA5LjQzOWwtMy42NzQgMi4yMy45NC00LjI2LTMuMjEtMi44ODMgNC4yNTQtLjQwNEw2LjUuMTEybDEuNjkgNC4wMSA0LjI1NC40MDQtMy4yMSAyLjg4Mi45NCA0LjI2eiIvPjwvc3ZnPg==\"/></div></span><span class=\"_2_R_DZ\"><span><span>33,469 Ratings </span><span class=\"_13vcmD\">&amp;</span><span> 2,567 Reviews</span></span></span></div><div class=\"fMghEO\"><ul class=\"_1xgFaf\"><li class=\"rgWa7D\">740 rpm Max Speed</li><li class=\"rgWa7D\">5 Star Rating</li><li class=\"rgWa7D\">2 Years Comprehensive Warranty and 5 Years on Motor from Whirlpool</li></ul></div></div><div class=\"col col-5-12 nlI3QM\"><div class=\"_3tbKJL\"><div class=\"_25b18c\"><div class=\"_30jeq3 _1_WHN1\">₹15,240</div><div class=\"_3I9_wc _27UcVY\">₹<!-- -->18,950</div><div class=\"_3Ay6Sb\"><span>19% off</span></div></div><div class=\"_3tcB5a p8ucoS\"><div><div class=\"_2Tpdn3\" style=\"color:#000000;font-size:12px;font-weight:400\">Free delivery</div></div></div></div><div class=\"_13J9qT\"><img height=\"21\" src=\"//static-assets-web.flixcart.com/fk-p-linchpin-web/fk-cp-zion/img/fa_62673a.png\"/></div><div class=\"_2ZdXDB\"><div class=\"_3xFhiH\"><div class=\"_2Tpdn3 _18hQoS\" style=\"color:#000000;font-size:14px;font-style:normal;font-weight:400\">Upto </div><div class=\"_2Tpdn3 _18hQoS\" style=\"color:#000000;font-size:14px;font-style:normal;font-weight:700\">₹2,200</div><div class=\"_2Tpdn3 _18hQoS\" style=\"color:#000000;font-size:14px;font-style:normal;font-weight:400\"> Off on Exchange</div></div></div><div class=\"_2ZdXDB\"><div class=\"_3xFhiH\"><div class=\"_2Tpdn3 _18hQoS\" style=\"color:#000000;font-size:12px;font-weight:400\">No Cost EMI from ₹1,270/month</div></div></div></div></div></a></div></div></div></div><div class=\"_1AtVbE col-12-12\"><div class=\"_13oc-S\"><div data-id=\"WMNGF9W8ZNF6C5VT\" style=\"width:100%\"><div class=\"_2kHMtA\"><a class=\"_1fQZEK\" href=\"/whirlpool-6-kg-magic-clean-5-star-semi-automatic-top-load-washing-machine-black-grey/p/itme0cb6f5a78ac5?pid=WMNGF9W8ZNF6C5VT&amp;lid=LSTWMNGF9W8ZNF6C5VTSVIZGI&amp;marketplace=FLIPKART&amp;q=washing+machine&amp;store=j9e%2Fabm%2F8qx&amp;srno=s_1_22&amp;otracker=AS_QueryStore_OrganicAutoSuggest_1_3_na_na_ps&amp;otracker1=AS_QueryStore_OrganicAutoSuggest_1_3_na_na_ps&amp;fm=organic&amp;iid=a1fec95a-848f-4b6d-8df3-e024719ab563.WMNGF9W8ZNF6C5VT.SEARCH&amp;ppt=None&amp;ppn=None&amp;ssid=x06p3n2l4g0000001682757740118&amp;qH=b3522a5e7056c9c0\" rel=\"noopener noreferrer\" target=\"_blank\"><div class=\"MIXNux\"><div class=\"_2QcLo-\"><div><div class=\"CXW8mj\" style=\"height:200px;width:200px\"><img alt=\"Whirlpool 6 kg Magic Clean 5 Star Semi Automatic Top Load Washing Machine Black, Grey\" class=\"_396cs4\" loading=\"eager\" src=\"https://rukminim1.flixcart.com/image/312/312/l4zxn680/washing-machine-new/6/k/w/-original-imagfryzffszgvgm.jpeg?q=70\"/></div></div></div><div class=\"_3wLduG\"><div class=\"_3PzNI-\"><span class=\"f3A4_V\"><label class=\"_2iDkf8\"><input class=\"_30VH1S\" readonly=\"\" type=\"checkbox\"/><div class=\"_24_Dny\"></div></label></span><label class=\"_6Up2sF\"><span>Add to Compare</span></label></div></div><div class=\"_2hVSre _3nq8ih\"><div class=\"_36FSn5\"><svg class=\"_1l0elc\" height=\"16\" viewbox=\"0 0 20 16\" width=\"16\" xmlns=\"http://www.w3.org/2000/svg\"><path class=\"eX72wL\" d=\"M8.695 16.682C4.06 12.382 1 9.536 1 6.065 1 3.219 3.178 1 5.95 1c1.566 0 3.069.746 4.05 1.915C10.981 1.745 12.484 1 14.05 1 16.822 1 19 3.22 19 6.065c0 3.471-3.06 6.316-7.695 10.617L10 17.897l-1.305-1.215z\" fill=\"#2874F0\" fill-rule=\"evenodd\" opacity=\".9\" stroke=\"#FFF\"></path></svg></div></div></div><div class=\"_3pLy-c row\"><div class=\"col col-7-12\"><div class=\"_4rR01T\">Whirlpool 6 kg Magic Clean 5 Star Semi Automatic Top Load Washing Machine Black, Grey</div><div class=\"gUuXy-\"><span class=\"_1lRcqv\" id=\"productRating_LSTWMNGF9W8ZNF6C5VTSVIZGI_WMNGF9W8ZNF6C5VT_\"><div class=\"_3LWZlK\">4.4<img class=\"_1wB99o\" src=\"data:image/svg+xml;base64,PHN2ZyB4bWxucz0iaHR0cDovL3d3dy53My5vcmcvMjAwMC9zdmciIHdpZHRoPSIxMyIgaGVpZ2h0PSIxMiI+PHBhdGggZmlsbD0iI0ZGRiIgZD0iTTYuNSA5LjQzOWwtMy42NzQgMi4yMy45NC00LjI2LTMuMjEtMi44ODMgNC4yNTQtLjQwNEw2LjUuMTEybDEuNjkgNC4wMSA0LjI1NC40MDQtMy4yMSAyLjg4Mi45NCA0LjI2eiIvPjwvc3ZnPg==\"/></div></span><span class=\"_2_R_DZ\"><span><span>5,292 Ratings </span><span class=\"_13vcmD\">&amp;</span><span> 418 Reviews</span></span></span></div><div class=\"fMghEO\"><ul class=\"_1xgFaf\"><li class=\"rgWa7D\">1400 rpm Max Speed</li><li class=\"rgWa7D\">5 Star Rating</li><li class=\"rgWa7D\">2 Years Comprehensive Warranty and 5 Years Warranty on Wash Motor</li></ul></div></div><div class=\"col col-5-12 nlI3QM\"><div class=\"_3tbKJL\"><div class=\"_25b18c\"><div class=\"_30jeq3 _1_WHN1\">₹8,990</div><div class=\"_3I9_wc _27UcVY\">₹<!-- -->12,700</div><div class=\"_3Ay6Sb\"><span>29% off</span></div></div><div class=\"_3tcB5a p8ucoS\"><div><div class=\"_2Tpdn3\" style=\"color:#000000;font-size:12px;font-weight:400\">Free delivery</div></div></div></div><div class=\"_13J9qT\"><img height=\"21\" src=\"//static-assets-web.flixcart.com/fk-p-linchpin-web/fk-cp-zion/img/fa_62673a.png\"/></div><div class=\"_2ZdXDB\"><div class=\"_3xFhiH\"><div class=\"_2Tpdn3 _18hQoS\" style=\"color:#000000;font-size:14px;font-style:normal;font-weight:400\">Upto </div><div class=\"_2Tpdn3 _18hQoS\" style=\"color:#000000;font-size:14px;font-style:normal;font-weight:700\">₹2,200</div><div class=\"_2Tpdn3 _18hQoS\" style=\"color:#000000;font-size:14px;font-style:normal;font-weight:400\"> Off on Exchange</div></div></div><div class=\"_2ZdXDB\"><div class=\"_3xFhiH\"><div class=\"_2Tpdn3 _18hQoS\" style=\"color:#000000;font-size:12px;font-weight:400\">No Cost EMI from ₹999/month</div></div></div></div></div></a></div></div></div></div><div class=\"_1AtVbE col-12-12\"><div class=\"_13oc-S\"><div data-id=\"WMNGCYG9HQFBCUBJ\" style=\"width:100%\"><div class=\"_2kHMtA\"><a class=\"_1fQZEK\" href=\"/samsung-7-kg-semi-automatic-top-load-washing-machine-grey-purple/p/itm5c2eea1d02979?pid=WMNGCYG9HQFBCUBJ&amp;lid=LSTWMNGCYG9HQFBCUBJBAP2OM&amp;marketplace=FLIPKART&amp;q=washing+machine&amp;store=j9e%2Fabm%2F8qx&amp;srno=s_1_23&amp;otracker=AS_QueryStore_OrganicAutoSuggest_1_3_na_na_ps&amp;otracker1=AS_QueryStore_OrganicAutoSuggest_1_3_na_na_ps&amp;fm=organic&amp;iid=a1fec95a-848f-4b6d-8df3-e024719ab563.WMNGCYG9HQFBCUBJ.SEARCH&amp;ppt=None&amp;ppn=None&amp;ssid=x06p3n2l4g0000001682757740118&amp;qH=b3522a5e7056c9c0\" rel=\"noopener noreferrer\" target=\"_blank\"><div class=\"MIXNux\"><div class=\"_2QcLo-\"><div><div class=\"CXW8mj\" style=\"height:200px;width:200px\"><img alt=\"SAMSUNG 7 kg Semi Automatic Top Load Washing Machine Grey, Purple\" class=\"_396cs4\" loading=\"eager\" src=\"https://rukminim1.flixcart.com/image/312/312/l0h1g280/washing-machine-new/v/e/t/7-48-5-wt70m3000uu-tl-5-160-83-23-samsung-96-5-original-imagc99nuuhyspgh.jpeg?q=70\"/></div></div></div><div class=\"_3wLduG\"><div class=\"_3PzNI-\"><span class=\"f3A4_V\"><label class=\"_2iDkf8\"><input class=\"_30VH1S\" readonly=\"\" type=\"checkbox\"/><div class=\"_24_Dny\"></div></label></span><label class=\"_6Up2sF\"><span>Add to Compare</span></label></div></div><div class=\"_2hVSre _3nq8ih\"><div class=\"_36FSn5\"><svg class=\"_1l0elc\" height=\"16\" viewbox=\"0 0 20 16\" width=\"16\" xmlns=\"http://www.w3.org/2000/svg\"><path class=\"eX72wL\" d=\"M8.695 16.682C4.06 12.382 1 9.536 1 6.065 1 3.219 3.178 1 5.95 1c1.566 0 3.069.746 4.05 1.915C10.981 1.745 12.484 1 14.05 1 16.822 1 19 3.22 19 6.065c0 3.471-3.06 6.316-7.695 10.617L10 17.897l-1.305-1.215z\" fill=\"#2874F0\" fill-rule=\"evenodd\" opacity=\".9\" stroke=\"#FFF\"></path></svg></div></div></div><div class=\"_3pLy-c row\"><div class=\"col col-7-12\"><div class=\"_4rR01T\">SAMSUNG 7 kg Semi Automatic Top Load Washing Machine Grey, Purple</div><div class=\"gUuXy-\"><span class=\"_1lRcqv\" id=\"productRating_LSTWMNGCYG9HQFBCUBJBAP2OM_WMNGCYG9HQFBCUBJ_\"><div class=\"_3LWZlK\">4.4<img class=\"_1wB99o\" src=\"data:image/svg+xml;base64,PHN2ZyB4bWxucz0iaHR0cDovL3d3dy53My5vcmcvMjAwMC9zdmciIHdpZHRoPSIxMyIgaGVpZ2h0PSIxMiI+PHBhdGggZmlsbD0iI0ZGRiIgZD0iTTYuNSA5LjQzOWwtMy42NzQgMi4yMy45NC00LjI2LTMuMjEtMi44ODMgNC4yNTQtLjQwNEw2LjUuMTEybDEuNjkgNC4wMSA0LjI1NC40MDQtMy4yMSAyLjg4Mi45NCA0LjI2eiIvPjwvc3ZnPg==\"/></div></span><span class=\"_2_R_DZ\"><span><span>18,944 Ratings </span><span class=\"_13vcmD\">&amp;</span><span> 1,464 Reviews</span></span></span></div><div class=\"fMghEO\"><ul class=\"_1xgFaf\"><li class=\"rgWa7D\">1350 rpm Max Speed</li><li class=\"rgWa7D\">5 Star Rating</li><li class=\"rgWa7D\">2 Years Comprehensive Warranty on Product and 5 Years on Motor</li></ul></div></div><div class=\"col col-5-12 nlI3QM\"><div class=\"_3tbKJL\"><div class=\"_25b18c\"><div class=\"_30jeq3 _1_WHN1\">₹11,290</div><div class=\"_3I9_wc _27UcVY\">₹<!-- -->13,500</div><div class=\"_3Ay6Sb\"><span>16% off</span></div></div><div class=\"_3tcB5a p8ucoS\"><div><div class=\"_2Tpdn3\" style=\"color:#000000;font-size:12px;font-weight:400\">Free delivery</div></div></div></div><div class=\"_13J9qT\"><img height=\"21\" src=\"//static-assets-web.flixcart.com/fk-p-linchpin-web/fk-cp-zion/img/fa_62673a.png\"/></div><div class=\"_2ZdXDB\"><div class=\"_3xFhiH\"><div class=\"_2Tpdn3 _18hQoS\" style=\"color:#000000;font-size:14px;font-style:normal;font-weight:400\">Upto </div><div class=\"_2Tpdn3 _18hQoS\" style=\"color:#000000;font-size:14px;font-style:normal;font-weight:700\">₹2,200</div><div class=\"_2Tpdn3 _18hQoS\" style=\"color:#000000;font-size:14px;font-style:normal;font-weight:400\"> Off on Exchange</div></div></div><div class=\"_2ZdXDB\"><div class=\"_3xFhiH\"><div class=\"_2Tpdn3 _18hQoS\" style=\"color:#000000;font-size:12px;font-weight:400\">No Cost EMI from ₹941/month</div></div></div></div></div></a></div></div></div></div><div class=\"_1AtVbE col-12-12\"><div class=\"_13oc-S\"><div data-id=\"WMNFSNKN2K2ZAAYH\" style=\"width:100%\"><div class=\"_2kHMtA\"><div class=\"_2tfzpE\"><span>Ad</span></div><a class=\"_1fQZEK\" href=\"/panasonic-6-kg-5-star-aquabeat-wash-fully-automatic-top-load-washing-machine-grey/p/itm909929dc404cc?pid=WMNFSNKN2K2ZAAYH&amp;lid=LSTWMNFSNKN2K2ZAAYHDBW38K&amp;marketplace=FLIPKART&amp;q=washing+machine&amp;store=j9e%2Fabm%2F8qx&amp;srno=s_1_24&amp;otracker=AS_QueryStore_OrganicAutoSuggest_1_3_na_na_ps&amp;otracker1=AS_QueryStore_OrganicAutoSuggest_1_3_na_na_ps&amp;fm=organic&amp;iid=en_87oalko4yLDEx5DQLmnOfvh3rbmQWGvDLerTOW3UkgbJVJCuG0s7u%2BojoEdnyqhYs6Neu8Wvbzfqavnfxkl11w%3D%3D&amp;ppt=None&amp;ppn=None&amp;ssid=x06p3n2l4g0000001682757740118&amp;qH=b3522a5e7056c9c0\" rel=\"noopener noreferrer\" target=\"_blank\"><div class=\"MIXNux\"><div class=\"_2QcLo-\"><div><div class=\"CXW8mj\" style=\"height:200px;width:200px\"><img alt=\"Panasonic 6 kg 5 Star AquaBeat Wash Fully Automatic Top Load Washing Machine Grey\" class=\"_396cs4\" loading=\"eager\" src=\"https://rukminim1.flixcart.com/image/312/312/xif0q/washing-machine-new/o/w/i/-original-imaghhz8cngn4jkh.jpeg?q=70\"/></div></div></div><div class=\"_3wLduG\"><div class=\"_3PzNI-\"><span class=\"f3A4_V\"><label class=\"_2iDkf8\"><input class=\"_30VH1S\" readonly=\"\" type=\"checkbox\"/><div class=\"_24_Dny\"></div></label></span><label class=\"_6Up2sF\"><span>Add to Compare</span></label></div></div><div class=\"_2hVSre _3nq8ih\"><div class=\"_36FSn5\"><svg class=\"_1l0elc\" height=\"16\" viewbox=\"0 0 20 16\" width=\"16\" xmlns=\"http://www.w3.org/2000/svg\"><path class=\"eX72wL\" d=\"M8.695 16.682C4.06 12.382 1 9.536 1 6.065 1 3.219 3.178 1 5.95 1c1.566 0 3.069.746 4.05 1.915C10.981 1.745 12.484 1 14.05 1 16.822 1 19 3.22 19 6.065c0 3.471-3.06 6.316-7.695 10.617L10 17.897l-1.305-1.215z\" fill=\"#2874F0\" fill-rule=\"evenodd\" opacity=\".9\" stroke=\"#FFF\"></path></svg></div></div></div><div class=\"_3pLy-c row\"><div class=\"col col-7-12\"><div class=\"_4rR01T\">Panasonic 6 kg 5 Star AquaBeat Wash Fully Automatic Top Load Washing Machine Grey</div><div class=\"gUuXy-\"><span class=\"_1lRcqv\" id=\"productRating_LSTWMNFSNKN2K2ZAAYHDBW38K_WMNFSNKN2K2ZAAYH_\"><div class=\"_3LWZlK\">4.3<img class=\"_1wB99o\" src=\"data:image/svg+xml;base64,PHN2ZyB4bWxucz0iaHR0cDovL3d3dy53My5vcmcvMjAwMC9zdmciIHdpZHRoPSIxMyIgaGVpZ2h0PSIxMiI+PHBhdGggZmlsbD0iI0ZGRiIgZD0iTTYuNSA5LjQzOWwtMy42NzQgMi4yMy45NC00LjI2LTMuMjEtMi44ODMgNC4yNTQtLjQwNEw2LjUuMTEybDEuNjkgNC4wMSA0LjI1NC40MDQtMy4yMSAyLjg4Mi45NCA0LjI2eiIvPjwvc3ZnPg==\"/></div></span><span class=\"_2_R_DZ\"><span><span>9,767 Ratings </span><span class=\"_13vcmD\">&amp;</span><span> 1,290 Reviews</span></span></span></div><div class=\"fMghEO\"><ul class=\"_1xgFaf\"><li class=\"rgWa7D\">680 rpm Max Speed</li><li class=\"rgWa7D\">5 Star Rating</li><li class=\"rgWa7D\">2 Year  Comprehensive Warranty and 10 Years on Motor from Panasonic</li></ul></div></div><div class=\"col col-5-12 nlI3QM\"><div class=\"_3tbKJL\"><div class=\"_25b18c\"><div class=\"_30jeq3 _1_WHN1\">₹13,990</div><div class=\"_3I9_wc _27UcVY\">₹<!-- -->16,700</div><div class=\"_3Ay6Sb\"><span>16% off</span></div></div><div class=\"_3tcB5a p8ucoS\"><div><div class=\"_2Tpdn3\" style=\"color:#000000;font-size:12px;font-weight:400\">Free delivery</div></div></div></div><div class=\"_13J9qT\"><img height=\"21\" src=\"//static-assets-web.flixcart.com/fk-p-linchpin-web/fk-cp-zion/img/fa_62673a.png\"/></div><div class=\"_2ZdXDB\"><div class=\"_3xFhiH\"><div class=\"_2Tpdn3 _18hQoS\" style=\"color:#000000;font-size:14px;font-style:normal;font-weight:400\">Upto </div><div class=\"_2Tpdn3 _18hQoS\" style=\"color:#000000;font-size:14px;font-style:normal;font-weight:700\">₹2,200</div><div class=\"_2Tpdn3 _18hQoS\" style=\"color:#000000;font-size:14px;font-style:normal;font-weight:400\"> Off on Exchange</div></div></div><div class=\"_2ZdXDB\"><div class=\"_3xFhiH\"><div class=\"_2Tpdn3 _18hQoS\" style=\"color:#000000;font-size:12px;font-weight:400\">No Cost EMI from ₹2,332/month</div></div></div></div></div></a></div></div></div></div><div class=\"_1AtVbE col-12-12\"><div><div class=\"_2MImiq\"><span>Page 1 of 39</span><nav class=\"yFHi8N\"><a class=\"ge-49M _2Kfbh8\" href=\"/search?q=washing+machine&amp;sid=j9e%2Cabm%2C8qx&amp;as=on&amp;as-show=on&amp;otracker=AS_QueryStore_OrganicAutoSuggest_1_3_na_na_ps&amp;otracker1=AS_QueryStore_OrganicAutoSuggest_1_3_na_na_ps&amp;as-pos=1&amp;as-type=RECENT&amp;suggestionId=washing+machine%7CWashing+Machines&amp;requestId=e63ab4cd-7596-4ad4-86ad-030719a7993f&amp;as-searchtext=was&amp;page=1\">1</a><a class=\"ge-49M\" href=\"/search?q=washing+machine&amp;sid=j9e%2Cabm%2C8qx&amp;as=on&amp;as-show=on&amp;otracker=AS_QueryStore_OrganicAutoSuggest_1_3_na_na_ps&amp;otracker1=AS_QueryStore_OrganicAutoSuggest_1_3_na_na_ps&amp;as-pos=1&amp;as-type=RECENT&amp;suggestionId=washing+machine%7CWashing+Machines&amp;requestId=e63ab4cd-7596-4ad4-86ad-030719a7993f&amp;as-searchtext=was&amp;page=2\">2</a><a class=\"ge-49M\" href=\"/search?q=washing+machine&amp;sid=j9e%2Cabm%2C8qx&amp;as=on&amp;as-show=on&amp;otracker=AS_QueryStore_OrganicAutoSuggest_1_3_na_na_ps&amp;otracker1=AS_QueryStore_OrganicAutoSuggest_1_3_na_na_ps&amp;as-pos=1&amp;as-type=RECENT&amp;suggestionId=washing+machine%7CWashing+Machines&amp;requestId=e63ab4cd-7596-4ad4-86ad-030719a7993f&amp;as-searchtext=was&amp;page=3\">3</a><a class=\"ge-49M\" href=\"/search?q=washing+machine&amp;sid=j9e%2Cabm%2C8qx&amp;as=on&amp;as-show=on&amp;otracker=AS_QueryStore_OrganicAutoSuggest_1_3_na_na_ps&amp;otracker1=AS_QueryStore_OrganicAutoSuggest_1_3_na_na_ps&amp;as-pos=1&amp;as-type=RECENT&amp;suggestionId=washing+machine%7CWashing+Machines&amp;requestId=e63ab4cd-7596-4ad4-86ad-030719a7993f&amp;as-searchtext=was&amp;page=4\">4</a><a class=\"ge-49M\" href=\"/search?q=washing+machine&amp;sid=j9e%2Cabm%2C8qx&amp;as=on&amp;as-show=on&amp;otracker=AS_QueryStore_OrganicAutoSuggest_1_3_na_na_ps&amp;otracker1=AS_QueryStore_OrganicAutoSuggest_1_3_na_na_ps&amp;as-pos=1&amp;as-type=RECENT&amp;suggestionId=washing+machine%7CWashing+Machines&amp;requestId=e63ab4cd-7596-4ad4-86ad-030719a7993f&amp;as-searchtext=was&amp;page=5\">5</a><a class=\"ge-49M\" href=\"/search?q=washing+machine&amp;sid=j9e%2Cabm%2C8qx&amp;as=on&amp;as-show=on&amp;otracker=AS_QueryStore_OrganicAutoSuggest_1_3_na_na_ps&amp;otracker1=AS_QueryStore_OrganicAutoSuggest_1_3_na_na_ps&amp;as-pos=1&amp;as-type=RECENT&amp;suggestionId=washing+machine%7CWashing+Machines&amp;requestId=e63ab4cd-7596-4ad4-86ad-030719a7993f&amp;as-searchtext=was&amp;page=6\">6</a><a class=\"ge-49M\" href=\"/search?q=washing+machine&amp;sid=j9e%2Cabm%2C8qx&amp;as=on&amp;as-show=on&amp;otracker=AS_QueryStore_OrganicAutoSuggest_1_3_na_na_ps&amp;otracker1=AS_QueryStore_OrganicAutoSuggest_1_3_na_na_ps&amp;as-pos=1&amp;as-type=RECENT&amp;suggestionId=washing+machine%7CWashing+Machines&amp;requestId=e63ab4cd-7596-4ad4-86ad-030719a7993f&amp;as-searchtext=was&amp;page=7\">7</a><a class=\"ge-49M\" href=\"/search?q=washing+machine&amp;sid=j9e%2Cabm%2C8qx&amp;as=on&amp;as-show=on&amp;otracker=AS_QueryStore_OrganicAutoSuggest_1_3_na_na_ps&amp;otracker1=AS_QueryStore_OrganicAutoSuggest_1_3_na_na_ps&amp;as-pos=1&amp;as-type=RECENT&amp;suggestionId=washing+machine%7CWashing+Machines&amp;requestId=e63ab4cd-7596-4ad4-86ad-030719a7993f&amp;as-searchtext=was&amp;page=8\">8</a><a class=\"ge-49M\" href=\"/search?q=washing+machine&amp;sid=j9e%2Cabm%2C8qx&amp;as=on&amp;as-show=on&amp;otracker=AS_QueryStore_OrganicAutoSuggest_1_3_na_na_ps&amp;otracker1=AS_QueryStore_OrganicAutoSuggest_1_3_na_na_ps&amp;as-pos=1&amp;as-type=RECENT&amp;suggestionId=washing+machine%7CWashing+Machines&amp;requestId=e63ab4cd-7596-4ad4-86ad-030719a7993f&amp;as-searchtext=was&amp;page=9\">9</a><a class=\"ge-49M\" href=\"/search?q=washing+machine&amp;sid=j9e%2Cabm%2C8qx&amp;as=on&amp;as-show=on&amp;otracker=AS_QueryStore_OrganicAutoSuggest_1_3_na_na_ps&amp;otracker1=AS_QueryStore_OrganicAutoSuggest_1_3_na_na_ps&amp;as-pos=1&amp;as-type=RECENT&amp;suggestionId=washing+machine%7CWashing+Machines&amp;requestId=e63ab4cd-7596-4ad4-86ad-030719a7993f&amp;as-searchtext=was&amp;page=10\">10</a><a class=\"_1LKTO3\" href=\"/search?q=washing+machine&amp;sid=j9e%2Cabm%2C8qx&amp;as=on&amp;as-show=on&amp;otracker=AS_QueryStore_OrganicAutoSuggest_1_3_na_na_ps&amp;otracker1=AS_QueryStore_OrganicAutoSuggest_1_3_na_na_ps&amp;as-pos=1&amp;as-type=RECENT&amp;suggestionId=washing+machine%7CWashing+Machines&amp;requestId=e63ab4cd-7596-4ad4-86ad-030719a7993f&amp;as-searchtext=was&amp;page=2\"><span>Next</span></a></nav><span class=\"_22Tduf\"></span></div></div></div><div class=\"_1AtVbE col-12-12\" style=\"margin:10px 0px 0px 0px\"><div class=\"_1anD2T\"><span class=\"PTpXCl\">Did you find what you were looking for?</span><div class=\"_1ye8x2 _1xLf4B\"><span class=\"_2eFmU2 _3ZMjMT\">Yes</span><span class=\"_2eFmU2 _3ZMjMT\">No</span></div></div></div></div></div><div class=\"_1AtVbE col-12-12\" style=\"padding:16px 0px 0px 0px\"><div class=\"_3E8aIl X3IECw row\"><div class=\"_88-NUv\">Reviews for Popular Washing Machines</div><div class=\"_2nRPpA\"><div class=\"_1Ni40J\"><div class=\"_3hVUcF\"><div class=\"CXW8mj\" style=\"height:150px;width:150px\"><img alt=\"Voltas Beko 9 kg with Double waterfall, Multiple Wash Program, Waterproof IPX4 panel and Monsoon Dry option Fully Automatic Top Load Washing Machine Black, Grey\" class=\"_396cs4\" loading=\"lazy\" src=\"https://rukminim1.flixcart.com/image/300/300/xif0q/washing-machine-new/y/a/4/9-578-wtl90upgb-5-530-564-31-voltas-beko-956-original-imaghbsukagsj9z7.jpeg?q=90\"/></div></div><div class=\"_1kLt05\"><a href=\"/voltas-beko-9-kg-double-waterfall-multiple-wash-program-waterproof-ipx4-panel-monsoon-dry-option-fully-automatic-top-load-washing-machine-black-grey/p/itmbc1c01bac569c?pid=WMNGHAWGYQDUMZFH&amp;marketplace=FLIPKART\" rel=\"noopener noreferrer\" target=\"_blank\"><div class=\"_1W9f5C\"><div>1. Voltas Beko 9 kg with Doubl...</div></div><div class=\"_3VDxyD\"><div class=\"_3LWZlK\">4.2<img class=\"_1wB99o\" src=\"data:image/svg+xml;base64,PHN2ZyB4bWxucz0iaHR0cDovL3d3dy53My5vcmcvMjAwMC9zdmciIHdpZHRoPSIxMyIgaGVpZ2h0PSIxMiI+PHBhdGggZmlsbD0iI0ZGRiIgZD0iTTYuNSA5LjQzOWwtMy42NzQgMi4yMy45NC00LjI2LTMuMjEtMi44ODMgNC4yNTQtLjQwNEw2LjUuMTEybDEuNjkgNC4wMSA0LjI1NC40MDQtMy4yMSAyLjg4Mi45NCA0LjI2eiIvPjwvc3ZnPg==\"/></div><span class=\"_34hpFu\"><span>39 Ratings</span><span><span class=\"_2oY1qB\">&amp;</span><span>6 Reviews</span></span></span></div><div class=\"_2wYYVP\"><div class=\"_25b18c\"><div class=\"_30jeq3 UMT9wN\">₹18,990</div><div class=\"_3Ay6Sb _2FuKQX\"><span>50% off</span></div></div></div></a><ul class=\"_1Sq2Fs\"><li class=\"_2OosNL\">700 rpm Max Speed</li><li class=\"_2OosNL\">5 Star Rating</li></ul></div></div><div class=\"_2tzWk4\"><div class=\"_1A_Aux\">Most Helpful Review</div><div class=\"col\"><div class=\"col _2wzgFH _2cVXgz\"><div class=\"row\"><div class=\"_3LWZlK _1BLPMq\">5<img class=\"_1wB99o\" src=\"data:image/svg+xml;base64,PHN2ZyB4bWxucz0iaHR0cDovL3d3dy53My5vcmcvMjAwMC9zdmciIHdpZHRoPSIxMyIgaGVpZ2h0PSIxMiI+PHBhdGggZmlsbD0iI0ZGRiIgZD0iTTYuNSA5LjQzOWwtMy42NzQgMi4yMy45NC00LjI2LTMuMjEtMi44ODMgNC4yNTQtLjQwNEw2LjUuMTEybDEuNjkgNC4wMSA0LjI1NC40MDQtMy4yMSAyLjg4Mi45NCA0LjI2eiIvPjwvc3ZnPg==\"/></div><p class=\"_2-N8zT\">Must buy!</p></div><div class=\"row\"><div class=\"t-ZTKy\"><div><div class=\"\">Value for  money products..</div><span class=\"_1H-bmy\"><span>Read full review</span></span></div></div></div><div class=\"row _3n8db9\"><div class=\"row\"><p class=\"_2sc7ZR _2V5EHH\">Amit Kumar</p><svg class=\"_2a1p_T\" height=\"14\" viewbox=\"0 0 12 12\" width=\"14\" xmlns=\"http://www.w3.org/2000/svg\"><g><circle cx=\"6\" cy=\"6\" fill=\"#878787\" r=\"6\"></circle><path d=\"M3 6l2 2 4-4\" fill=\"#878787\" stroke=\"#FFF\" stroke-width=\"1.5\"></path></g></svg><p class=\"_2mcZGG\" id=\"review-aa8825b7-048f-43be-9842-d01d0cfe2838\"><span>Certified Buyer</span></p><p class=\"_2sc7ZR\">2 months ago</p></div></div></div></div></div><div class=\"_2tzWk4\"><div class=\"_1A_Aux\">Recent Review</div><div class=\"col\"><div class=\"col _2wzgFH _2cVXgz\"><div class=\"row\"><div class=\"_3LWZlK _1BLPMq\">5<img class=\"_1wB99o\" src=\"data:image/svg+xml;base64,PHN2ZyB4bWxucz0iaHR0cDovL3d3dy53My5vcmcvMjAwMC9zdmciIHdpZHRoPSIxMyIgaGVpZ2h0PSIxMiI+PHBhdGggZmlsbD0iI0ZGRiIgZD0iTTYuNSA5LjQzOWwtMy42NzQgMi4yMy45NC00LjI2LTMuMjEtMi44ODMgNC4yNTQtLjQwNEw2LjUuMTEybDEuNjkgNC4wMSA0LjI1NC40MDQtMy4yMSAyLjg4Mi45NCA0LjI2eiIvPjwvc3ZnPg==\"/></div><p class=\"_2-N8zT\">Terrific</p></div><div class=\"row\"><div class=\"t-ZTKy\"><div><div class=\"\">Good product, installation is also done very quickly</div><span class=\"_1H-bmy\"><span>Read full review</span></span></div></div></div><div class=\"row _3n8db9\"><div class=\"row\"><p class=\"_2sc7ZR _2V5EHH\"></p><svg class=\"_2a1p_T\" height=\"14\" viewbox=\"0 0 12 12\" width=\"14\" xmlns=\"http://www.w3.org/2000/svg\"><g><circle cx=\"6\" cy=\"6\" fill=\"#878787\" r=\"6\"></circle><path d=\"M3 6l2 2 4-4\" fill=\"#878787\" stroke=\"#FFF\" stroke-width=\"1.5\"></path></g></svg><p class=\"_2mcZGG\" id=\"review-0c55931f-740f-4f05-b8c6-50774f2f7a26\"><span>Certified Buyer</span></p><p class=\"_2sc7ZR\">24 days ago</p></div></div></div></div></div></div><div class=\"_2nRPpA\"><div class=\"_1Ni40J\"><div class=\"_3hVUcF\"><div class=\"CXW8mj\" style=\"height:150px;width:150px\"><img alt=\"LG 6.5 kg with Smart Diagnosis and Smart Inverter Fully Automatic Top Load Washing Machine Silver\" class=\"_396cs4\" loading=\"lazy\" src=\"https://rukminim1.flixcart.com/image/300/300/xif0q/washing-machine-new/h/b/t/-original-imagm92hgkshgwxt.jpeg?q=90\"/></div></div><div class=\"_1kLt05\"><a href=\"/lg-6-5-kg-smart-diagnosis-inverter-fully-automatic-top-load-washing-machine-silver/p/itme4cacbedc1c8f?pid=WMNFZX5BMUYJMPRB&amp;marketplace=FLIPKART\" rel=\"noopener noreferrer\" target=\"_blank\"><div class=\"_1W9f5C\"><div>2. LG 6.5 kg with Smart Diagno...</div></div><div class=\"_3VDxyD\"><div class=\"_3LWZlK\">4.3<img class=\"_1wB99o\" src=\"data:image/svg+xml;base64,PHN2ZyB4bWxucz0iaHR0cDovL3d3dy53My5vcmcvMjAwMC9zdmciIHdpZHRoPSIxMyIgaGVpZ2h0PSIxMiI+PHBhdGggZmlsbD0iI0ZGRiIgZD0iTTYuNSA5LjQzOWwtMy42NzQgMi4yMy45NC00LjI2LTMuMjEtMi44ODMgNC4yNTQtLjQwNEw2LjUuMTEybDEuNjkgNC4wMSA0LjI1NC40MDQtMy4yMSAyLjg4Mi45NCA0LjI2eiIvPjwvc3ZnPg==\"/></div><span class=\"_34hpFu\"><span>34,582 Ratings</span><span><span class=\"_2oY1qB\">&amp;</span><span>2,844 Reviews</span></span></span></div><div class=\"_2wYYVP\"><div class=\"_25b18c\"><div class=\"_30jeq3 UMT9wN\">₹16,990</div><div class=\"_3Ay6Sb _2FuKQX\"><span>10% off</span></div></div></div></a><ul class=\"_1Sq2Fs\"><li class=\"_2OosNL\">700 rpm Max Speed</li><li class=\"_2OosNL\">5 Star Rating</li></ul></div></div><div class=\"_2tzWk4\"><div class=\"_1A_Aux\">Most Helpful Review</div><div class=\"col\"><div class=\"col _2wzgFH _2cVXgz\"><div class=\"row\"><div class=\"_3LWZlK _1BLPMq\">4<img class=\"_1wB99o\" src=\"data:image/svg+xml;base64,PHN2ZyB4bWxucz0iaHR0cDovL3d3dy53My5vcmcvMjAwMC9zdmciIHdpZHRoPSIxMyIgaGVpZ2h0PSIxMiI+PHBhdGggZmlsbD0iI0ZGRiIgZD0iTTYuNSA5LjQzOWwtMy42NzQgMi4yMy45NC00LjI2LTMuMjEtMi44ODMgNC4yNTQtLjQwNEw2LjUuMTEybDEuNjkgNC4wMSA0LjI1NC40MDQtMy4yMSAyLjg4Mi45NCA0LjI2eiIvPjwvc3ZnPg==\"/></div><p class=\"_2-N8zT\">Nice product, can recommend to buy</p></div><div class=\"row\"><div class=\"t-ZTKy\"><div><div class=\"\">Pros:<br/>* Good for small family, clean and simple UI and easy to operate for old age people (specially if you are buying for father/mother/grand father/grand m...</div><span class=\"_1BWGvX\"><span>Read full review</span></span></div></div></div><div class=\"row _3n8db9\"><div class=\"row\"><p class=\"_2sc7ZR _2V5EHH\">Saurav Kumar Suman</p><svg class=\"_2a1p_T\" height=\"14\" viewbox=\"0 0 12 12\" width=\"14\" xmlns=\"http://www.w3.org/2000/svg\"><g><circle cx=\"6\" cy=\"6\" fill=\"#878787\" r=\"6\"></circle><path d=\"M3 6l2 2 4-4\" fill=\"#878787\" stroke=\"#FFF\" stroke-width=\"1.5\"></path></g></svg><p class=\"_2mcZGG\" id=\"review-25c26610-fafd-4189-b237-5d3d6815583f\"><span>Certified Buyer</span></p><p class=\"_2sc7ZR\">Jul, 2020</p></div></div></div></div></div><div class=\"_2tzWk4\"><div class=\"_1A_Aux\">Recent Review</div><div class=\"col\"><div class=\"col _2wzgFH _2cVXgz\"><div class=\"row\"><div class=\"_3LWZlK _1rdVr6 _1BLPMq\">1<img class=\"_1wB99o\" src=\"data:image/svg+xml;base64,PHN2ZyB4bWxucz0iaHR0cDovL3d3dy53My5vcmcvMjAwMC9zdmciIHdpZHRoPSIxMyIgaGVpZ2h0PSIxMiI+PHBhdGggZmlsbD0iI0ZGRiIgZD0iTTYuNSA5LjQzOWwtMy42NzQgMi4yMy45NC00LjI2LTMuMjEtMi44ODMgNC4yNTQtLjQwNEw2LjUuMTEybDEuNjkgNC4wMSA0LjI1NC40MDQtMy4yMSAyLjg4Mi45NCA0LjI2eiIvPjwvc3ZnPg==\"/></div><p class=\"_2-N8zT\">Hated it!</p></div><div class=\"row\"><div class=\"t-ZTKy\"><div><div class=\"\">Taking more than 3 hrs to wash. warranty service not provided by nearby LG service centre they told you bought product through Flipkart so we don't provide a...</div><span class=\"_1BWGvX\"><span>Read full review</span></span></div></div></div><div class=\"row _3n8db9\"><div class=\"row\"><p class=\"_2sc7ZR _2V5EHH\"></p><svg class=\"_2a1p_T\" height=\"14\" viewbox=\"0 0 12 12\" width=\"14\" xmlns=\"http://www.w3.org/2000/svg\"><g><circle cx=\"6\" cy=\"6\" fill=\"#878787\" r=\"6\"></circle><path d=\"M3 6l2 2 4-4\" fill=\"#878787\" stroke=\"#FFF\" stroke-width=\"1.5\"></path></g></svg><p class=\"_2mcZGG\" id=\"review-b8c7dab7-c8dc-45c5-a9e4-3c54055d3b66\"><span>Certified Buyer</span></p><p class=\"_2sc7ZR\">10 days ago</p></div></div></div></div></div></div><div class=\"_2nRPpA\"><div class=\"_1Ni40J\"><div class=\"_3hVUcF\"><div class=\"CXW8mj\" style=\"height:150px;width:150px\"><img alt=\"MarQ by Flipkart 7 kg Semi Automatic Top Load Washing Machine Blue, White\" class=\"_396cs4\" loading=\"lazy\" src=\"https://rukminim1.flixcart.com/image/300/300/ku1k4280/washing-machine-new/5/s/p/mqsa70h5m-marq-by-flipkart-original-imag796qzwdrqetb.jpeg?q=90\"/></div></div><div class=\"_1kLt05\"><a href=\"/marq-flipkart-7-kg-semi-automatic-top-load-washing-machine-blue-white/p/itma96b6a63dbf26?pid=WMNG2A7GGTDSVQV8&amp;marketplace=FLIPKART\" rel=\"noopener noreferrer\" target=\"_blank\"><div class=\"_1W9f5C\"><div>3. MarQ by Flipkart 7 kg Semi ...</div></div><div class=\"_3VDxyD\"><div class=\"_3LWZlK\">4.2<img class=\"_1wB99o\" src=\"data:image/svg+xml;base64,PHN2ZyB4bWxucz0iaHR0cDovL3d3dy53My5vcmcvMjAwMC9zdmciIHdpZHRoPSIxMyIgaGVpZ2h0PSIxMiI+PHBhdGggZmlsbD0iI0ZGRiIgZD0iTTYuNSA5LjQzOWwtMy42NzQgMi4yMy45NC00LjI2LTMuMjEtMi44ODMgNC4yNTQtLjQwNEw2LjUuMTEybDEuNjkgNC4wMSA0LjI1NC40MDQtMy4yMSAyLjg4Mi45NCA0LjI2eiIvPjwvc3ZnPg==\"/></div><span class=\"_34hpFu\"><span>9,530 Ratings</span><span><span class=\"_2oY1qB\">&amp;</span><span>1,111 Reviews</span></span></span></div><div class=\"_2wYYVP\"><div class=\"_25b18c\"><div class=\"_30jeq3 UMT9wN\">₹7,690</div><div class=\"_3Ay6Sb _2FuKQX\"><span>30% off</span></div></div></div></a><ul class=\"_1Sq2Fs\"><li class=\"_2OosNL\">1350 rpm Max Speed</li><li class=\"_2OosNL\">5 Star Rating</li></ul></div></div><div class=\"_2tzWk4\"><div class=\"_1A_Aux\">Most Helpful Review</div><div class=\"col\"><div class=\"col _2wzgFH _2cVXgz\"><div class=\"row\"><div class=\"_3LWZlK _1BLPMq\">4<img class=\"_1wB99o\" src=\"data:image/svg+xml;base64,PHN2ZyB4bWxucz0iaHR0cDovL3d3dy53My5vcmcvMjAwMC9zdmciIHdpZHRoPSIxMyIgaGVpZ2h0PSIxMiI+PHBhdGggZmlsbD0iI0ZGRiIgZD0iTTYuNSA5LjQzOWwtMy42NzQgMi4yMy45NC00LjI2LTMuMjEtMi44ODMgNC4yNTQtLjQwNEw2LjUuMTEybDEuNjkgNC4wMSA0LjI1NC40MDQtMy4yMSAyLjg4Mi45NCA0LjI2eiIvPjwvc3ZnPg==\"/></div><p class=\"_2-N8zT\">Good choice</p></div><div class=\"row\"><div class=\"t-ZTKy\"><div><div class=\"\">Very nice product... nice performance at a good price.<br/>I am happy thank you Flipkart</div><span class=\"_1H-bmy\"><span>Read full review</span></span></div></div></div><div class=\"row _3n8db9\"><div class=\"row\"><p class=\"_2sc7ZR _2V5EHH\">Umesh Sinha</p><svg class=\"_2a1p_T\" height=\"14\" viewbox=\"0 0 12 12\" width=\"14\" xmlns=\"http://www.w3.org/2000/svg\"><g><circle cx=\"6\" cy=\"6\" fill=\"#878787\" r=\"6\"></circle><path d=\"M3 6l2 2 4-4\" fill=\"#878787\" stroke=\"#FFF\" stroke-width=\"1.5\"></path></g></svg><p class=\"_2mcZGG\" id=\"review-e0db8fe5-0838-48c1-aad3-c3d52964917a\"><span>Certified Buyer</span></p><p class=\"_2sc7ZR\">Nov, 2021</p></div></div></div></div></div><div class=\"_2tzWk4\"><div class=\"_1A_Aux\">Recent Review</div><div class=\"col\"><div class=\"col _2wzgFH _2cVXgz\"><div class=\"row\"><div class=\"_3LWZlK _1BLPMq\">5<img class=\"_1wB99o\" src=\"data:image/svg+xml;base64,PHN2ZyB4bWxucz0iaHR0cDovL3d3dy53My5vcmcvMjAwMC9zdmciIHdpZHRoPSIxMyIgaGVpZ2h0PSIxMiI+PHBhdGggZmlsbD0iI0ZGRiIgZD0iTTYuNSA5LjQzOWwtMy42NzQgMi4yMy45NC00LjI2LTMuMjEtMi44ODMgNC4yNTQtLjQwNEw2LjUuMTEybDEuNjkgNC4wMSA0LjI1NC40MDQtMy4yMSAyLjg4Mi45NCA0LjI2eiIvPjwvc3ZnPg==\"/></div><p class=\"_2-N8zT\">Awesome</p></div><div class=\"row\"><div class=\"t-ZTKy\"><div><div class=\"\">Good prouduct value of money</div><span class=\"_1H-bmy\"><span>Read full review</span></span></div></div></div><div class=\"row _3n8db9\"><div class=\"row\"><p class=\"_2sc7ZR _2V5EHH\"></p><svg class=\"_2a1p_T\" height=\"14\" viewbox=\"0 0 12 12\" width=\"14\" xmlns=\"http://www.w3.org/2000/svg\"><g><circle cx=\"6\" cy=\"6\" fill=\"#878787\" r=\"6\"></circle><path d=\"M3 6l2 2 4-4\" fill=\"#878787\" stroke=\"#FFF\" stroke-width=\"1.5\"></path></g></svg><p class=\"_2mcZGG\" id=\"review-b88126cf-cca2-4713-830a-e6a3ebfad9ab\"><span>Certified Buyer</span></p><p class=\"_2sc7ZR\">8 days ago</p></div></div></div></div></div></div><div class=\"_2nRPpA\"><div class=\"_1Ni40J\"><div class=\"_3hVUcF\"><div class=\"CXW8mj\" style=\"height:150px;width:150px\"><img alt=\"IFB 6.5 kg 5 Star Fully Automatic Top Load Washing Machine Silver\" class=\"_396cs4\" loading=\"lazy\" src=\"https://rukminim1.flixcart.com/image/300/300/k0o69ow0/washing-machine-new/a/8/z/tl-rds-rdss-6-5-kg-aqua-ifb-original-imafketbjaefm9aa.jpeg?q=90\"/></div></div><div class=\"_1kLt05\"><a href=\"/ifb-6-5-kg-5-star-fully-automatic-top-load-washing-machine-silver/p/itme7n44fajwgxh2?pid=WMNE7N442RHHWA8Z&amp;marketplace=FLIPKART\" rel=\"noopener noreferrer\" target=\"_blank\"><div class=\"_1W9f5C\"><div>4. IFB 6.5 kg 5 Star Fully Aut...</div></div><div class=\"_3VDxyD\"><div class=\"_3LWZlK\">4.3<img class=\"_1wB99o\" src=\"data:image/svg+xml;base64,PHN2ZyB4bWxucz0iaHR0cDovL3d3dy53My5vcmcvMjAwMC9zdmciIHdpZHRoPSIxMyIgaGVpZ2h0PSIxMiI+PHBhdGggZmlsbD0iI0ZGRiIgZD0iTTYuNSA5LjQzOWwtMy42NzQgMi4yMy45NC00LjI2LTMuMjEtMi44ODMgNC4yNTQtLjQwNEw2LjUuMTEybDEuNjkgNC4wMSA0LjI1NC40MDQtMy4yMSAyLjg4Mi45NCA0LjI2eiIvPjwvc3ZnPg==\"/></div><span class=\"_34hpFu\"><span>6,198 Ratings</span><span><span class=\"_2oY1qB\">&amp;</span><span>632 Reviews</span></span></span></div><div class=\"_2wYYVP\"><div class=\"_25b18c\"><div class=\"_30jeq3 UMT9wN\">₹19,290</div><div class=\"_3Ay6Sb _2FuKQX\"><span>3% off</span></div></div></div></a><ul class=\"_1Sq2Fs\"><li class=\"_2OosNL\">720 rpm Max Speed</li><li class=\"_2OosNL\">5 Star Rating</li></ul></div></div><div class=\"_2tzWk4\"><div class=\"_1A_Aux\">Most Helpful Review</div><div class=\"col\"><div class=\"col _2wzgFH _2cVXgz\"><div class=\"row\"><div class=\"_3LWZlK _1BLPMq\">5<img class=\"_1wB99o\" src=\"data:image/svg+xml;base64,PHN2ZyB4bWxucz0iaHR0cDovL3d3dy53My5vcmcvMjAwMC9zdmciIHdpZHRoPSIxMyIgaGVpZ2h0PSIxMiI+PHBhdGggZmlsbD0iI0ZGRiIgZD0iTTYuNSA5LjQzOWwtMy42NzQgMi4yMy45NC00LjI2LTMuMjEtMi44ODMgNC4yNTQtLjQwNEw2LjUuMTEybDEuNjkgNC4wMSA0LjI1NC40MDQtMy4yMSAyLjg4Mi45NCA0LjI2eiIvPjwvc3ZnPg==\"/></div><p class=\"_2-N8zT\">Highly recommended</p></div><div class=\"row\"><div class=\"t-ZTKy\"><div><div class=\"\">This washing machine is awesome. Its exactly what I need.. Delivery &amp; installation was on time...looks are also very cool..  Liked the service.. Now coming t...</div><span class=\"_1BWGvX\"><span>Read full review</span></span></div></div></div><div class=\"row _3n8db9\"><div class=\"row\"><p class=\"_2sc7ZR _2V5EHH\">Christina kurp</p><svg class=\"_2a1p_T\" height=\"14\" viewbox=\"0 0 12 12\" width=\"14\" xmlns=\"http://www.w3.org/2000/svg\"><g><circle cx=\"6\" cy=\"6\" fill=\"#878787\" r=\"6\"></circle><path d=\"M3 6l2 2 4-4\" fill=\"#878787\" stroke=\"#FFF\" stroke-width=\"1.5\"></path></g></svg><p class=\"_2mcZGG\" id=\"review-18823fe2-06b5-4053-990e-f845bac0d153\"><span>Certified Buyer</span></p><p class=\"_2sc7ZR\">Sep, 2019</p></div></div></div></div></div><div class=\"_2tzWk4\"><div class=\"_1A_Aux\">Recent Review</div><div class=\"col\"><div class=\"col _2wzgFH _2cVXgz\"><div class=\"row\"><div class=\"_3LWZlK _1BLPMq\">4<img class=\"_1wB99o\" src=\"data:image/svg+xml;base64,PHN2ZyB4bWxucz0iaHR0cDovL3d3dy53My5vcmcvMjAwMC9zdmciIHdpZHRoPSIxMyIgaGVpZ2h0PSIxMiI+PHBhdGggZmlsbD0iI0ZGRiIgZD0iTTYuNSA5LjQzOWwtMy42NzQgMi4yMy45NC00LjI2LTMuMjEtMi44ODMgNC4yNTQtLjQwNEw2LjUuMTEybDEuNjkgNC4wMSA0LjI1NC40MDQtMy4yMSAyLjg4Mi45NCA0LjI2eiIvPjwvc3ZnPg==\"/></div><p class=\"_2-N8zT\">Worth the money</p></div><div class=\"row\"><div class=\"t-ZTKy\"><div><div class=\"\">Working ok from 4 years. But meantime observed rusting on its body endpoints. Washing machine was in fully warranty, but IFB denied for body this. So be caut...</div><span class=\"_1BWGvX\"><span>Read full review</span></span></div></div></div><div class=\"row _3n8db9\"><div class=\"row\"><p class=\"_2sc7ZR _2V5EHH\">Subhash Sirmori</p><svg class=\"_2a1p_T\" height=\"14\" viewbox=\"0 0 12 12\" width=\"14\" xmlns=\"http://www.w3.org/2000/svg\"><g><circle cx=\"6\" cy=\"6\" fill=\"#878787\" r=\"6\"></circle><path d=\"M3 6l2 2 4-4\" fill=\"#878787\" stroke=\"#FFF\" stroke-width=\"1.5\"></path></g></svg><p class=\"_2mcZGG\" id=\"review-cbec25fa-0b7f-41d1-8376-82fc87f88287\"><span>Certified Buyer</span></p><p class=\"_2sc7ZR\">1 month ago</p></div></div></div></div></div></div><div class=\"_2nRPpA\"><div class=\"_1Ni40J\"><div class=\"_3hVUcF\"><div class=\"CXW8mj\" style=\"height:150px;width:150px\"><img alt=\"IFB 7 kg 5 Star 2X Power Steam,Hard Water Wash Fully Automatic Front Load Washing Machine with In-built Heater White\" class=\"_396cs4\" loading=\"lazy\" src=\"https://rukminim1.flixcart.com/image/300/300/xif0q/washing-machine-new/5/d/g/-original-imagzwjk87tnahh4.jpeg?q=90\"/></div></div><div class=\"_1kLt05\"><a href=\"/ifb-7-kg-5-star-2x-power-steam-hard-water-wash-fully-automatic-front-load-washing-machine-in-built-heater-white/p/itmae1b351a1f461?pid=WMNGHHY8GKAFTKKZ&amp;marketplace=FLIPKART\" rel=\"noopener noreferrer\" target=\"_blank\"><div class=\"_1W9f5C\"><div>5. IFB 7 kg 5 Star 2X Power St...</div></div><div class=\"_3VDxyD\"><div class=\"_3LWZlK\">4.3<img class=\"_1wB99o\" src=\"data:image/svg+xml;base64,PHN2ZyB4bWxucz0iaHR0cDovL3d3dy53My5vcmcvMjAwMC9zdmciIHdpZHRoPSIxMyIgaGVpZ2h0PSIxMiI+PHBhdGggZmlsbD0iI0ZGRiIgZD0iTTYuNSA5LjQzOWwtMy42NzQgMi4yMy45NC00LjI2LTMuMjEtMi44ODMgNC4yNTQtLjQwNEw2LjUuMTEybDEuNjkgNC4wMSA0LjI1NC40MDQtMy4yMSAyLjg4Mi45NCA0LjI2eiIvPjwvc3ZnPg==\"/></div><span class=\"_34hpFu\"><span>11,024 Ratings</span><span><span class=\"_2oY1qB\">&amp;</span><span>1,116 Reviews</span></span></span></div><div class=\"_2wYYVP\"><div class=\"_25b18c\"><div class=\"_30jeq3 UMT9wN\">₹27,990</div><div class=\"_3Ay6Sb _2FuKQX\"><span>13% off</span></div></div></div></a><ul class=\"_1Sq2Fs\"><li class=\"_2OosNL\">1000 rpm Max Speed</li><li class=\"_2OosNL\">5 Star Rating</li></ul></div></div><div class=\"_2tzWk4\"><div class=\"_1A_Aux\">Most Helpful Review</div><div class=\"col\"><div class=\"col _2wzgFH _2cVXgz\"><div class=\"row\"><div class=\"_3LWZlK _1BLPMq\">5<img class=\"_1wB99o\" src=\"data:image/svg+xml;base64,PHN2ZyB4bWxucz0iaHR0cDovL3d3dy53My5vcmcvMjAwMC9zdmciIHdpZHRoPSIxMyIgaGVpZ2h0PSIxMiI+PHBhdGggZmlsbD0iI0ZGRiIgZD0iTTYuNSA5LjQzOWwtMy42NzQgMi4yMy45NC00LjI2LTMuMjEtMi44ODMgNC4yNTQtLjQwNEw2LjUuMTEybDEuNjkgNC4wMSA0LjI1NC40MDQtMy4yMSAyLjg4Mi45NCA0LjI2eiIvPjwvc3ZnPg==\"/></div><p class=\"_2-N8zT\">Fabulous!</p></div><div class=\"row\"><div class=\"t-ZTKy\"><div><div class=\"\">A pro among the front loads. This is a fantastic piece of engineering. Cleans the cloths to sharp bright and is silent in a moderatly noisy environment. If y...</div><span class=\"_1BWGvX\"><span>Read full review</span></span></div></div></div><div class=\"row _3n8db9\"><div class=\"row\"><p class=\"_2sc7ZR _2V5EHH\">Vitthal Karajigi</p><svg class=\"_2a1p_T\" height=\"14\" viewbox=\"0 0 12 12\" width=\"14\" xmlns=\"http://www.w3.org/2000/svg\"><g><circle cx=\"6\" cy=\"6\" fill=\"#878787\" r=\"6\"></circle><path d=\"M3 6l2 2 4-4\" fill=\"#878787\" stroke=\"#FFF\" stroke-width=\"1.5\"></path></g></svg><p class=\"_2mcZGG\" id=\"review-237fdade-ae05-42fb-acf7-45ad60c0db77\"><span>Certified Buyer</span></p><p class=\"_2sc7ZR\">Jun, 2018</p></div></div></div></div></div><div class=\"_2tzWk4\"><div class=\"_1A_Aux\">Recent Review</div><div class=\"col\"><div class=\"col _2wzgFH _2cVXgz\"><div class=\"row\"><div class=\"_3LWZlK _1BLPMq\">5<img class=\"_1wB99o\" src=\"data:image/svg+xml;base64,PHN2ZyB4bWxucz0iaHR0cDovL3d3dy53My5vcmcvMjAwMC9zdmciIHdpZHRoPSIxMyIgaGVpZ2h0PSIxMiI+PHBhdGggZmlsbD0iI0ZGRiIgZD0iTTYuNSA5LjQzOWwtMy42NzQgMi4yMy45NC00LjI2LTMuMjEtMi44ODMgNC4yNTQtLjQwNEw2LjUuMTEybDEuNjkgNC4wMSA0LjI1NC40MDQtMy4yMSAyLjg4Mi45NCA0LjI2eiIvPjwvc3ZnPg==\"/></div><p class=\"_2-N8zT\">Great product</p></div><div class=\"row\"><div class=\"t-ZTKy\"><div><div class=\"\">Takes good load. Am far more satisfied than Bosch machine used for last 7 years.<br/>Better wash quality, more options and easier to operate.<br/>But a longer use is...</div><span class=\"_1BWGvX\"><span>Read full review</span></span></div></div></div><div class=\"row _3n8db9\"><div class=\"row\"><p class=\"_2sc7ZR _2V5EHH\"></p><svg class=\"_2a1p_T\" height=\"14\" viewbox=\"0 0 12 12\" width=\"14\" xmlns=\"http://www.w3.org/2000/svg\"><g><circle cx=\"6\" cy=\"6\" fill=\"#878787\" r=\"6\"></circle><path d=\"M3 6l2 2 4-4\" fill=\"#878787\" stroke=\"#FFF\" stroke-width=\"1.5\"></path></g></svg><p class=\"_2mcZGG\" id=\"review-9aafdbf4-564e-4822-b45e-b6ff2320d78a\"><span>Certified Buyer</span></p><p class=\"_2sc7ZR\">5 days ago</p></div></div></div></div></div></div></div></div><div class=\"_1AtVbE col-12-12\"></div></div><footer class=\"_3voSl0\"><div class=\"_3rc_xQ\"><div class=\"row\"><div class=\"col gu12 _8Qljeg\"></div></div><div><div class=\"_2WErco row\"><div class=\"_2Brcj4\"><div class=\"_3-dnWo\">ABOUT</div><a class=\"_1arVWX\" href=\"/helpcentre?otracker=undefined_footer_navlinks\">Contact Us</a><a class=\"_1arVWX\" href=\"/about-us?otracker=undefined_footer_navlinks\">About Us</a><a class=\"_1arVWX\" href=\"https://www.flipkartcareers.com/?otracker=undefined_footer_navlinks\">Careers</a><a class=\"_1arVWX\" href=\"http://stories.flipkart.com/?otracker=undefined_footer_navlinks\">Flipkart Stories</a><a class=\"_1arVWX\" href=\"/s/press?otracker=undefined_footer_navlinks\">Press</a><a class=\"_1arVWX\" href=\"https://www.flipkartwholesale.com/?otracker=undefined_footer_navlinks\" rel=\"noopener noreferrer\" target=\"_blank\">Flipkart Wholesale</a><a class=\"_1arVWX\" href=\"/corporate-information\">Corporate Information</a></div><div class=\"_2Brcj4\"><div class=\"_3-dnWo\">HELP</div><a class=\"_1arVWX\" href=\"/pages/payments\">Payments</a><a class=\"_1arVWX\" href=\"/pages/shipping\">Shipping</a><a class=\"_1arVWX\" href=\"/helpcentre?catalog=55c9c6edb000002e002c1701&amp;view=CATALOG\">Cancellation &amp; Returns</a><a class=\"_1arVWX\" href=\"/helpcentre?catalog=55c9c8e2b0000023002c1702&amp;view=CATALOG\">FAQ</a><a class=\"_1arVWX\" href=\"https://seller.flipkart.com/fiv?otracker=undefined_footer_navlinks\">Report Infringement</a></div><div class=\"_2Brcj4\"><div class=\"_3-dnWo\">CONSUMER POLICY</div><a class=\"_1arVWX\" href=\"/pages/returnpolicy?otracker=undefined_footer_navlinks\">Return Policy</a><a class=\"_1arVWX\" href=\"/pages/terms?otracker=undefined_footer_navlinks\">Terms Of Use</a><a class=\"_1arVWX\" href=\"/pages/paymentsecurity?otracker=undefined_footer_navlinks\">Security</a><a class=\"_1arVWX\" href=\"/pages/privacypolicy?otracker=undefined_footer_navlinks\">Privacy</a><a class=\"_1arVWX\" href=\"/sitemap?otracker=undefined_footer_navlinks\">Sitemap</a><a class=\"_1arVWX\" href=\"/pages/grievance-redressal-mechanism?otracker=undefined_footer_navlinks\">Grievance Redressal</a><a class=\"_1arVWX\" href=\"/pages/ewaste-compliance-tnc?otracker=undefined_footer_navlinks\">EPR Compliance</a></div><div class=\"_2Brcj4\"><div class=\"_3-dnWo\">SOCIAL</div><a class=\"_1arVWX\" href=\"https://www.facebook.com/flipkart\">Facebook</a><a class=\"_1arVWX\" href=\"https://www.twitter.com/flipkart\">Twitter</a><a class=\"_1arVWX\" href=\"https://www.youtube.com/flipkart\">YouTube</a></div><div class=\"_2Brcj4 address\"><div class=\"_3JHi0r\"><div class=\"_3-dnWo\"><span>Mail Us:</span></div><div class=\"_1U1qnR\"><div class=\"_1LJS6T\"><div class=\"_2NKhZn _1U1qnR\"><p>Flipkart Internet Private Limited, </p>\n",
       "<p> Buildings Alyssa, Begonia &amp; </p>\n",
       "<p> Clove Embassy Tech Village, </p>\n",
       "<p> Outer Ring Road, Devarabeesanahalli Village, </p>\n",
       "<p> Bengaluru, 560103, </p>\n",
       "<p> Karnataka, India</p>\n",
       "</div></div></div></div></div><div class=\"_2Brcj4 address\"><div class=\"_3IT4e6\"><div class=\"_3-dnWo\"><span>Registered Office Address:</span></div><div class=\"_1U1qnR\"><div class=\"_1LJS6T\"><div class=\"_2NKhZn _1U1qnR\"><p>Flipkart Internet Private Limited, </p>\n",
       "<p> Buildings Alyssa, Begonia &amp; </p>\n",
       "<p> Clove Embassy Tech Village, </p>\n",
       "<p> Outer Ring Road, Devarabeesanahalli Village, </p>\n",
       "<p> Bengaluru, 560103, </p>\n",
       "<p> Karnataka, India </p>\n",
       "<p> CIN : U51109KA2012PTC066107 </p>\n",
       "<p> Telephone: <a href=\"tel:044-45614700\">044-45614700</a></p>\n",
       "</div></div></div></div></div></div><div><div class=\"_2uz0vJ\"><div><img src=\"data:image/svg+xml;base64,PHN2ZyB4bWxucz0iaHR0cDovL3d3dy53My5vcmcvMjAwMC9zdmciIHdpZHRoPSIxNiIgaGVpZ2h0PSIxNSIgdmlld0JveD0iMCAwIDE2IDE1Ij4KICAgIDxkZWZzPgogICAgICAgIDxsaW5lYXJHcmFkaWVudCBpZD0iYSIgeDE9IjAlIiB4Mj0iODYuODc2JSIgeTE9IjAlIiB5Mj0iODAuMjAyJSI+CiAgICAgICAgICAgIDxzdG9wIG9mZnNldD0iMCUiIHN0b3AtY29sb3I9IiNGRkQ4MDAiLz4KICAgICAgICAgICAgPHN0b3Agb2Zmc2V0PSIxMDAlIiBzdG9wLWNvbG9yPSIjRkZBRjAwIi8+CiAgICAgICAgPC9saW5lYXJHcmFkaWVudD4KICAgIDwvZGVmcz4KICAgIDxnIGZpbGw9Im5vbmUiIGZpbGwtcnVsZT0iZXZlbm9kZCI+CiAgICAgICAgPHBhdGggZD0iTS0yLTJoMjB2MjBILTJ6Ii8+CiAgICAgICAgPHBhdGggZmlsbD0idXJsKCNhKSIgZmlsbC1ydWxlPSJub256ZXJvIiBkPSJNMTUuOTMgNS42MTRoLTIuOTQ4VjQuMTRjMC0uODE4LS42NTUtMS40NzMtMS40NzMtMS40NzNIOC41NmMtLjgxNyAwLTEuNDczLjY1NS0xLjQ3MyAxLjQ3M3YxLjQ3NEg0LjE0Yy0uODE4IDAtMS40NjYuNjU2LTEuNDY2IDEuNDc0bC0uMDA3IDguMTA1YzAgLjgxOC42NTUgMS40NzQgMS40NzMgMS40NzRoMTEuNzljLjgxOCAwIDEuNDc0LS42NTYgMS40NzQtMS40NzRWNy4wODhjMC0uODE4LS42NTYtMS40NzQtMS40NzQtMS40NzR6bS00LjQyMSAwSDguNTZWNC4xNGgyLjk0OHYxLjQ3NHoiIHRyYW5zZm9ybT0idHJhbnNsYXRlKC0yIC0yKSIvPgogICAgPC9nPgo8L3N2Zz4K\"/><a href=\"https://seller.flipkart.com/?utm_source=fkwebsite&amp;utm_medium=websitedirect\"><span class=\"hDTmm5\">Become a Seller</span></a></div><div><img src=\"data:image/svg+xml;base64,PHN2ZyB4bWxucz0iaHR0cDovL3d3dy53My5vcmcvMjAwMC9zdmciIHdpZHRoPSIxNSIgaGVpZ2h0PSIxNSIgdmlld0JveD0iMCAwIDE1IDE1Ij4KICAgIDxkZWZzPgogICAgICAgIDxsaW5lYXJHcmFkaWVudCBpZD0iYSIgeDE9IjAlIiB4Mj0iODYuODc2JSIgeTE9IjAlIiB5Mj0iODAuMjAyJSI+CiAgICAgICAgICAgIDxzdG9wIG9mZnNldD0iMCUiIHN0b3AtY29sb3I9IiNGRkQ4MDAiLz4KICAgICAgICAgICAgPHN0b3Agb2Zmc2V0PSIxMDAlIiBzdG9wLWNvbG9yPSIjRkZBRjAwIi8+CiAgICAgICAgPC9saW5lYXJHcmFkaWVudD4KICAgIDwvZGVmcz4KICAgIDxnIGZpbGw9Im5vbmUiIGZpbGwtcnVsZT0iZXZlbm9kZCI+CiAgICAgICAgPHBhdGggZD0iTS0zLTNoMjB2MjBILTN6Ii8+CiAgICAgICAgPHBhdGggZmlsbD0idXJsKCNhKSIgZmlsbC1ydWxlPSJub256ZXJvIiBkPSJNMTAuNDkyIDNDNi4zNTMgMyAzIDYuMzYgMyAxMC41YzAgNC4xNCAzLjM1MyA3LjUgNy40OTIgNy41QzE0LjY0IDE4IDE4IDE0LjY0IDE4IDEwLjUgMTggNi4zNiAxNC42NCAzIDEwLjQ5MiAzem0zLjE4IDEyTDEwLjUgMTMuMDg4IDcuMzI3IDE1bC44NC0zLjYwN0w1LjM3IDguOTdsMy42OS0uMzE1TDEwLjUgNS4yNWwxLjQ0IDMuMzk4IDMuNjkuMzE1LTIuNzk4IDIuNDIyLjg0IDMuNjE1eiIgdHJhbnNmb3JtPSJ0cmFuc2xhdGUoLTMgLTMpIi8+CiAgICA8L2c+Cjwvc3ZnPgo=\"/><a href=\"https://brands.flipkart.com\"><span class=\"hDTmm5\">Advertise</span></a></div><div><img src=\"data:image/svg+xml;base64,PHN2ZyB4bWxucz0iaHR0cDovL3d3dy53My5vcmcvMjAwMC9zdmciIHdpZHRoPSIxOCIgaGVpZ2h0PSIxNyIgdmlld0JveD0iMCAwIDE4IDE3Ij4KICAgIDxkZWZzPgogICAgICAgIDxsaW5lYXJHcmFkaWVudCBpZD0iYSIgeDE9IjAlIiB4Mj0iODYuODc2JSIgeTE9IjAlIiB5Mj0iODAuMjAyJSI+CiAgICAgICAgICAgIDxzdG9wIG9mZnNldD0iMCUiIHN0b3AtY29sb3I9IiNGRkQ4MDAiLz4KICAgICAgICAgICAgPHN0b3Agb2Zmc2V0PSIxMDAlIiBzdG9wLWNvbG9yPSIjRkZBRjAwIi8+CiAgICAgICAgPC9saW5lYXJHcmFkaWVudD4KICAgIDwvZGVmcz4KICAgIDxnIGZpbGw9Im5vbmUiIGZpbGwtcnVsZT0iZXZlbm9kZCI+CiAgICAgICAgPHBhdGggZD0iTS0xLTFoMjB2MjBILTF6Ii8+CiAgICAgICAgPHBhdGggZmlsbD0idXJsKCNhKSIgZmlsbC1ydWxlPSJub256ZXJvIiBkPSJNMTYuNjY3IDVIMTQuODVjLjA5Mi0uMjU4LjE1LS41NDIuMTUtLjgzM2EyLjQ5NyAyLjQ5NyAwIDAgMC00LjU4My0xLjM3NUwxMCAzLjM1bC0uNDE3LS41NjdBMi41MSAyLjUxIDAgMCAwIDcuNSAxLjY2N2EyLjQ5NyAyLjQ5NyAwIDAgMC0yLjUgMi41YzAgLjI5MS4wNTguNTc1LjE1LjgzM0gzLjMzM2MtLjkyNSAwLTEuNjU4Ljc0Mi0xLjY1OCAxLjY2N2wtLjAwOCA5LjE2NkExLjY2IDEuNjYgMCAwIDAgMy4zMzMgMTcuNWgxMy4zMzRhMS42NiAxLjY2IDAgMCAwIDEuNjY2LTEuNjY3VjYuNjY3QTEuNjYgMS42NiAwIDAgMCAxNi42NjcgNXptMCA2LjY2N0gzLjMzM3YtNWg0LjIzNEw1LjgzMyA5LjAyNWwxLjM1Ljk3NSAxLjk4NC0yLjdMMTAgNi4xNjdsLjgzMyAxLjEzMyAxLjk4NCAyLjcgMS4zNS0uOTc1LTEuNzM0LTIuMzU4aDQuMjM0djV6IiB0cmFuc2Zvcm09InRyYW5zbGF0ZSgtMSAtMSkiLz4KICAgIDwvZz4KPC9zdmc+Cg==\"/><a href=\"/the-gift-card-store?otracker=undefined_footer_footer_navlinks\"><span class=\"hDTmm5\">Gift Cards</span></a></div><div><img src=\"data:image/svg+xml;base64,PHN2ZyB4bWxucz0iaHR0cDovL3d3dy53My5vcmcvMjAwMC9zdmciIHdpZHRoPSIxNSIgaGVpZ2h0PSIxNSIgdmlld0JveD0iMCAwIDE1IDE1Ij4KICAgIDxkZWZzPgogICAgICAgIDxsaW5lYXJHcmFkaWVudCBpZD0iYSIgeDE9IjAlIiB4Mj0iODYuODc2JSIgeTE9IjAlIiB5Mj0iODAuMjAyJSI+CiAgICAgICAgICAgIDxzdG9wIG9mZnNldD0iMCUiIHN0b3AtY29sb3I9IiNGRkQ4MDAiLz4KICAgICAgICAgICAgPHN0b3Agb2Zmc2V0PSIxMDAlIiBzdG9wLWNvbG9yPSIjRkZBRjAwIi8+CiAgICAgICAgPC9saW5lYXJHcmFkaWVudD4KICAgIDwvZGVmcz4KICAgIDxnIGZpbGw9Im5vbmUiIGZpbGwtcnVsZT0iZXZlbm9kZCI+CiAgICAgICAgPHBhdGggZD0iTS0yLTNoMjB2MjBILTJ6Ii8+CiAgICAgICAgPHBhdGggZmlsbD0idXJsKCNhKSIgZmlsbC1ydWxlPSJub256ZXJvIiBkPSJNOS41IDNDNS4zNiAzIDIgNi4zNiAyIDEwLjUgMiAxNC42NCA1LjM2IDE4IDkuNSAxOGM0LjE0IDAgNy41LTMuMzYgNy41LTcuNUMxNyA2LjM2IDEzLjY0IDMgOS41IDN6bS43NSAxMi43NWgtMS41di0xLjVoMS41djEuNXptMS41NTMtNS44MTNsLS42NzYuNjljLS41NC41NDgtLjg3Ny45OTgtLjg3NyAyLjEyM2gtMS41di0uMzc1YzAtLjgyNS4zMzgtMS41NzUuODc3LTIuMTIzbC45My0uOTQ1Yy4yNzgtLjI3LjQ0My0uNjQ1LjQ0My0xLjA1NyAwLS44MjUtLjY3NS0xLjUtMS41LTEuNVM4IDcuNDI1IDggOC4yNUg2LjVhMyAzIDAgMSAxIDYgMGMwIC42Ni0uMjcgMS4yNi0uNjk3IDEuNjg4eiIgdHJhbnNmb3JtPSJ0cmFuc2xhdGUoLTIgLTMpIi8+CiAgICA8L2c+Cjwvc3ZnPgo=\"/><a href=\"/helpcentre?otracker=undefined_footer_footer_navlinks\"><span class=\"hDTmm5\">Help Center</span></a></div><span class=\"z3ht-w\">© 2007-<!-- -->2023<!-- --> <span>Flipkart.com</span></span><img src=\"//static-assets-web.flixcart.com/fk-p-linchpin-web/fk-cp-zion/img/payment-method_69e7ec.svg\"/></div></div></div></div></footer><div class=\"_1EcK2J _38JCdA\"><div class=\"bra6U8\"><svg class=\"_2TdLiZ\" height=\"27\" viewbox=\"0 0 16 27\" width=\"16\" xmlns=\"http://www.w3.org/2000/svg\"><path class=\"_3ZKfA2\" d=\"M16 23.207L6.11 13.161 16 3.093 12.955 0 0 13.161l12.955 13.161z\" fill=\"#fff\"></path></svg><span>Back to top</span></div></div></div></div> <script id=\"jsonLD\" nonce=\"1277212754646149451\" type=\"application/ld+json\">{}</script> <script id=\"jsonLD\" nonce=\"1277212754646149451\" type=\"application/ld+json\">{}</script><script nonce=\"1277212754646149451\" type=\"application/ld+json\">{\n",
       "    \"@context\": \"http://schema.org\",\n",
       "    \"@type\": \"WebSite\",\n",
       "    \"url\": \"http://www.flipkart.com/\",\n",
       "    \"potentialAction\": [{\n",
       "        \"@type\": \"SearchAction\",\n",
       "        \"target\": \"http://www.flipkart.com/search?q={search_term_string}\",\n",
       "        \"query-input\": \"required name=search_term_string\"\n",
       "        },{\n",
       "        \"@type\": \"SearchAction\",\n",
       "        \"target\": \"android-app://com.flipkart.android/flipkart/de_sq_seg_-search.flipkart.com-_{search_term_string}\",\n",
       "        \"query-input\": \"required name=search_term_string\"\n",
       "    }]\n",
       "}</script><script id=\"is_script\" nonce=\"1277212754646149451\">window.__INITIAL_STATE__ = {};</script> <link data-chunk=\"NavMenu\" href=\"//static-assets-web.flixcart.com/fk-p-linchpin-web/fk-cp-zion/css/NavMenu.chunk.10ffe7.css\" rel=\"stylesheet\"/>\n",
       "<link data-chunk=\"SearchFeedback\" href=\"//static-assets-web.flixcart.com/fk-p-linchpin-web/fk-cp-zion/css/SearchFeedback.chunk.822f57.css\" rel=\"stylesheet\"/> <script id=\"__LOADABLE_REQUIRED_CHUNKS__\" type=\"application/json\">[121,195]</script><script id=\"__LOADABLE_REQUIRED_CHUNKS___ext\" type=\"application/json\">{\"namedChunks\":[\"NavMenu\",\"SearchFeedback\"]}</script>\n",
       "<script async=\"\" data-chunk=\"NavMenu\" src=\"//static-assets-web.flixcart.com/fk-p-linchpin-web/fk-cp-zion/js/NavMenu.chunk.0e949246.js\"></script>\n",
       "<script async=\"\" data-chunk=\"SearchFeedback\" src=\"//static-assets-web.flixcart.com/fk-p-linchpin-web/fk-cp-zion/js/SearchFeedback.chunk.0f554561.js\"></script><script nonce=\"1277212754646149451\">window.omniture={tpv:[],tl:[]};window.omniture.trackPageView=function(){window.omniture.tpv.push(arguments)};window.omniture.trackLink=function(){window.omniture.tl.push(arguments)}\n",
       "\n",
       "    if(window.location.host === 'www.flipkart.com' || /\\.store\\.flipkart\\.com/i.test(window.location.host)){\n",
       "        window.s_account = \"flipkart-prd\"; //omniture account id\n",
       "    }else{\n",
       "        window.s_account = \"flipkart-prd-test\";\n",
       "    }\n",
       "    window.s_isDesktop = true;</script><script nonce=\"1277212754646149451\">function isMobile(){\n",
       "\t\tif (!!(navigator.userAgentData && navigator.userAgentData.mobile) || navigator.userAgent.indexOf(\"Mobile\") !== -1){\n",
       "\t\t\treturn true;\n",
       "\t\t}\n",
       "\t\telse {\n",
       "\t\t\treturn false;\n",
       "\t\t}\n",
       "\t}\n",
       "\n",
       "\tif ('serviceWorker' in navigator && !isMobile()) {\n",
       "\t\tnavigator.serviceWorker.register('/sw.js').then(function(registration) {\n",
       "\t\t\tconsole.log('ServiceWorker registration successful with scope: ', registration.scope);\n",
       "\t\t\tnavigator.onLine && navigator.serviceWorker.controller && navigator.serviceWorker.controller.postMessage('BANDWIDTH_COMPUTE');\n",
       "\t\t\tnavigator.serviceWorker.addEventListener('message', function (event) {\n",
       "\t\t\t\ttry {\n",
       "\t\t\t\t\tconst bandwidthData = JSON.parse(event.data);\n",
       "\t\t\t\t\tif (bandwidthData && bandwidthData.data) {\n",
       "\t\t\t\t\t\twindow.bandwidth = bandwidthData.data.downlink + '_' + bandwidthData.data.computeMethod + '_' + bandwidthData.data.effectiveType + '_' + bandwidthData.data.type;\n",
       "\t\t\t\t\t}\n",
       "\t\t\t\t}catch(err) {\n",
       "\t\t\t\t\tconsole.error('JSON.parse failed:', err);\n",
       "\t\t\t\t}\n",
       "\t\t\t});\n",
       "\t\t})\n",
       "\t\t.catch(function(err) {\n",
       "\t\t\tconsole.error('ServiceWorker registration failed: ', err);\n",
       "\t\t});\n",
       "\t} else if('serviceWorker' in navigator && isMobile()){\n",
       "        navigator.serviceWorker.getRegistration().then(function(registration) {\n",
       "            var serviceWorkerUnregistered=false;\n",
       "            if(registration) {\n",
       "                registration.unregister();\n",
       "                serviceWorkerUnregistered=true;\n",
       "            }\n",
       "            serviceWorkerUnregistered && window.location.reload();\n",
       "        });\n",
       "    }</script> <script async=\"\" defer=\"defer\" id=\"omni_script\" nonce=\"1277212754646149451\" src=\"///www/linchpin/batman-returns/omni/omni16.js\"></script> <script nonce=\"1277212754646149451\">window._pxAppId = 'PXgNtTli3A';</script><script async=\"\" nonce=\"1277212754646149451\" src=\"///px/gNtTli3A/init.js\"></script></body></html>"
      ]
     },
     "execution_count": 6,
     "metadata": {},
     "output_type": "execute_result"
    }
   ],
   "source": [
    "soup = BeautifulSoup(htmlpage.text)\n",
    "soup"
   ]
  },
  {
   "cell_type": "code",
   "execution_count": 7,
   "id": "c8b58443",
   "metadata": {},
   "outputs": [
    {
     "data": {
      "text/plain": [
       "bs4.BeautifulSoup"
      ]
     },
     "execution_count": 7,
     "metadata": {},
     "output_type": "execute_result"
    }
   ],
   "source": [
    "type(soup)"
   ]
  },
  {
   "cell_type": "code",
   "execution_count": 8,
   "id": "63b76c2c",
   "metadata": {},
   "outputs": [
    {
     "data": {
      "text/plain": [
       "[<div class=\"_3pLy-c row\"><div class=\"col col-7-12\"><div class=\"_4rR01T\">IFB 6.5 kg 5 Star Fully Automatic Top Load Washing Machine Silver</div><div class=\"gUuXy-\"><span class=\"_1lRcqv\" id=\"productRating_LSTWMNE7N442RHHWA8Z5EWS8C_WMNE7N442RHHWA8Z_\"><div class=\"_3LWZlK\">4.3<img class=\"_1wB99o\" src=\"data:image/svg+xml;base64,PHN2ZyB4bWxucz0iaHR0cDovL3d3dy53My5vcmcvMjAwMC9zdmciIHdpZHRoPSIxMyIgaGVpZ2h0PSIxMiI+PHBhdGggZmlsbD0iI0ZGRiIgZD0iTTYuNSA5LjQzOWwtMy42NzQgMi4yMy45NC00LjI2LTMuMjEtMi44ODMgNC4yNTQtLjQwNEw2LjUuMTEybDEuNjkgNC4wMSA0LjI1NC40MDQtMy4yMSAyLjg4Mi45NCA0LjI2eiIvPjwvc3ZnPg==\"/></div></span><span class=\"_2_R_DZ\"><span><span>6,198 Ratings </span><span class=\"_13vcmD\">&amp;</span><span> 632 Reviews</span></span></span></div><div class=\"fMghEO\"><ul class=\"_1xgFaf\"><li class=\"rgWa7D\">720 rpm Max Speed</li><li class=\"rgWa7D\">5 Star Rating</li><li class=\"rgWa7D\">4 Years Comprehensive Warranty and 10 Years Spare Part Support from IFB</li></ul></div></div><div class=\"col col-5-12 nlI3QM\"><div class=\"_3tbKJL\"><div class=\"_25b18c\"><div class=\"_30jeq3 _1_WHN1\">₹19,290</div><div class=\"_3I9_wc _27UcVY\">₹<!-- -->19,990</div><div class=\"_3Ay6Sb\"><span>3% off</span></div></div><div class=\"_3tcB5a p8ucoS\"><div><div class=\"_2Tpdn3\" style=\"color:#000000;font-size:12px;font-weight:400\">Free delivery</div></div></div></div><div class=\"_13J9qT\"><img height=\"21\" src=\"//static-assets-web.flixcart.com/fk-p-linchpin-web/fk-cp-zion/img/fa_62673a.png\"/></div><div class=\"_2ZdXDB\"><div class=\"_3xFhiH\"><div class=\"_2Tpdn3 _18hQoS\" style=\"color:#000000;font-size:14px;font-style:normal;font-weight:400\">Upto </div><div class=\"_2Tpdn3 _18hQoS\" style=\"color:#000000;font-size:14px;font-style:normal;font-weight:700\">₹2,200</div><div class=\"_2Tpdn3 _18hQoS\" style=\"color:#000000;font-size:14px;font-style:normal;font-weight:400\"> Off on Exchange</div></div></div><div class=\"_2ZdXDB\"><div class=\"_3xFhiH\"><div class=\"_2Tpdn3 _18hQoS\" style=\"color:#26A541;font-size:14px;font-weight:700\">Bank Offer</div></div></div></div></div>,\n",
       " <div class=\"_3pLy-c row\"><div class=\"col col-7-12\"><div class=\"_4rR01T\">Voltas Beko 6 kg WiFi enabled HomeWhiz with Steam Wash Fully Automatic Front Load Washing Machine with...</div><div class=\"gUuXy-\"><span class=\"_1lRcqv\" id=\"productRating_LSTWMNGN53UNZ9JVAYU0RNFGG_WMNGN53UNZ9JVAYU_\"><div class=\"_3LWZlK\">3.8<img class=\"_1wB99o\" src=\"data:image/svg+xml;base64,PHN2ZyB4bWxucz0iaHR0cDovL3d3dy53My5vcmcvMjAwMC9zdmciIHdpZHRoPSIxMyIgaGVpZ2h0PSIxMiI+PHBhdGggZmlsbD0iI0ZGRiIgZD0iTTYuNSA5LjQzOWwtMy42NzQgMi4yMy45NC00LjI2LTMuMjEtMi44ODMgNC4yNTQtLjQwNEw2LjUuMTEybDEuNjkgNC4wMSA0LjI1NC40MDQtMy4yMSAyLjg4Mi45NCA0LjI2eiIvPjwvc3ZnPg==\"/></div></span><span class=\"_2_R_DZ\"><span><span>20 Ratings </span><span class=\"_13vcmD\">&amp;</span><span> 2 Reviews</span></span></span></div><div class=\"fMghEO\"><ul class=\"_1xgFaf\"><li class=\"rgWa7D\">1000 rpm Max Speed</li><li class=\"rgWa7D\">5 Star Rating</li><li class=\"rgWa7D\">3 Years Comprehensive Warranty on Product and 12 Years Warranty on Motor</li></ul></div></div><div class=\"col col-5-12 nlI3QM\"><div class=\"_3tbKJL\"><div class=\"_25b18c\"><div class=\"_30jeq3 _1_WHN1\">₹21,990</div><div class=\"_3I9_wc _27UcVY\">₹<!-- -->33,490</div><div class=\"_3Ay6Sb\"><span>34% off</span></div></div><div class=\"_3tcB5a p8ucoS\"><div><div class=\"_2Tpdn3\" style=\"color:#000000;font-size:12px;font-weight:400\">Free delivery</div></div></div></div><div class=\"_13J9qT\"><img height=\"21\" src=\"//static-assets-web.flixcart.com/fk-p-linchpin-web/fk-cp-zion/img/fa_62673a.png\"/></div><div class=\"_2ZdXDB\"><div class=\"_3xFhiH\"><div class=\"_2Tpdn3 _18hQoS\" style=\"color:#000000;font-size:14px;font-style:normal;font-weight:400\">Upto </div><div class=\"_2Tpdn3 _18hQoS\" style=\"color:#000000;font-size:14px;font-style:normal;font-weight:700\">₹3,700</div><div class=\"_2Tpdn3 _18hQoS\" style=\"color:#000000;font-size:14px;font-style:normal;font-weight:400\"> Off on Exchange</div></div></div><div class=\"_2ZdXDB\"><div class=\"_3xFhiH\"><div class=\"_2Tpdn3 _18hQoS\" style=\"color:#000000;font-size:12px;font-weight:400\">No Cost EMI from ₹1,833/month</div></div></div></div></div>,\n",
       " <div class=\"_3pLy-c row\"><div class=\"col col-7-12\"><div class=\"_4rR01T\">Haier 6.5 kg 5 Star Oceanus Wave Drum Washing Machine Fully Automatic Top Load Brown, Grey</div><div class=\"gUuXy-\"><span class=\"_1lRcqv\" id=\"productRating_LSTWMNGFHFPD9KCRH7YJFXO8Y_WMNGFHFPD9KCRH7Y_\"><div class=\"_3LWZlK\">4.3<img class=\"_1wB99o\" src=\"data:image/svg+xml;base64,PHN2ZyB4bWxucz0iaHR0cDovL3d3dy53My5vcmcvMjAwMC9zdmciIHdpZHRoPSIxMyIgaGVpZ2h0PSIxMiI+PHBhdGggZmlsbD0iI0ZGRiIgZD0iTTYuNSA5LjQzOWwtMy42NzQgMi4yMy45NC00LjI2LTMuMjEtMi44ODMgNC4yNTQtLjQwNEw2LjUuMTEybDEuNjkgNC4wMSA0LjI1NC40MDQtMy4yMSAyLjg4Mi45NCA0LjI2eiIvPjwvc3ZnPg==\"/></div></span><span class=\"_2_R_DZ\"><span><span>11,941 Ratings </span><span class=\"_13vcmD\">&amp;</span><span> 943 Reviews</span></span></span></div><div class=\"fMghEO\"><ul class=\"_1xgFaf\"><li class=\"rgWa7D\">800 rpm Max Speed</li><li class=\"rgWa7D\">5 Star Rating</li><li class=\"rgWa7D\">2 Years Comprehensive Warranty on Product and 10 Years Warranty on Motor from Haier</li></ul></div></div><div class=\"col col-5-12 nlI3QM\"><div class=\"_3tbKJL\"><div class=\"_25b18c\"><div class=\"_30jeq3 _1_WHN1\">₹12,990</div><div class=\"_3I9_wc _27UcVY\">₹<!-- -->22,000</div><div class=\"_3Ay6Sb\"><span>40% off</span></div></div><div class=\"_3tcB5a p8ucoS\"><div><div class=\"_2Tpdn3\" style=\"color:#000000;font-size:12px;font-weight:400\">Free delivery</div></div></div></div><div class=\"_13J9qT\"><img height=\"21\" src=\"//static-assets-web.flixcart.com/fk-p-linchpin-web/fk-cp-zion/img/fa_62673a.png\"/></div><div class=\"_2ZdXDB\"><div class=\"_3xFhiH\"><div class=\"_2Tpdn3 _18hQoS\" style=\"color:#000000;font-size:14px;font-style:normal;font-weight:400\">Upto </div><div class=\"_2Tpdn3 _18hQoS\" style=\"color:#000000;font-size:14px;font-style:normal;font-weight:700\">₹2,200</div><div class=\"_2Tpdn3 _18hQoS\" style=\"color:#000000;font-size:14px;font-style:normal;font-weight:400\"> Off on Exchange</div></div></div><div class=\"_2ZdXDB\"><div class=\"_3xFhiH\"><div class=\"_2Tpdn3 _18hQoS\" style=\"color:#000000;font-size:12px;font-weight:400\">No Cost EMI from ₹1,444/month</div></div></div></div></div>,\n",
       " <div class=\"_3pLy-c row\"><div class=\"col col-7-12\"><div class=\"_4rR01T\">LG 7 kg 5 star rating and Wind jet dry Semi Automatic Top Load Washing Machine Grey, White</div><div class=\"gUuXy-\"><span class=\"_1lRcqv\" id=\"productRating_LSTWMNG4VNTJAUVBCKNBMH2FY_WMNG4VNTJAUVBCKN_\"><div class=\"_3LWZlK\">4.5<img class=\"_1wB99o\" src=\"data:image/svg+xml;base64,PHN2ZyB4bWxucz0iaHR0cDovL3d3dy53My5vcmcvMjAwMC9zdmciIHdpZHRoPSIxMyIgaGVpZ2h0PSIxMiI+PHBhdGggZmlsbD0iI0ZGRiIgZD0iTTYuNSA5LjQzOWwtMy42NzQgMi4yMy45NC00LjI2LTMuMjEtMi44ODMgNC4yNTQtLjQwNEw2LjUuMTEybDEuNjkgNC4wMSA0LjI1NC40MDQtMy4yMSAyLjg4Mi45NCA0LjI2eiIvPjwvc3ZnPg==\"/></div></span><span class=\"_2_R_DZ\"><span><span>11,431 Ratings </span><span class=\"_13vcmD\">&amp;</span><span> 870 Reviews</span></span></span></div><div class=\"fMghEO\"><ul class=\"_1xgFaf\"><li class=\"rgWa7D\">1350 rpm Max Speed</li><li class=\"rgWa7D\">5 Star Rating</li><li class=\"rgWa7D\">2 Years Comprehensive Warranty on product and 5 Years on Wash Motor from LG</li></ul></div></div><div class=\"col col-5-12 nlI3QM\"><div class=\"_3tbKJL\"><div class=\"_25b18c\"><div class=\"_30jeq3 _1_WHN1\">₹11,990</div><div class=\"_3I9_wc _27UcVY\">₹<!-- -->14,190</div><div class=\"_3Ay6Sb\"><span>15% off</span></div></div><div class=\"_3tcB5a p8ucoS\"><div><div class=\"_2Tpdn3\" style=\"color:#000000;font-size:12px;font-weight:400\">Free delivery</div></div></div></div><div class=\"_13J9qT\"><img height=\"21\" src=\"//static-assets-web.flixcart.com/fk-p-linchpin-web/fk-cp-zion/img/fa_62673a.png\"/></div><div class=\"_2ZdXDB\"><div class=\"_3xFhiH\"><div class=\"_2Tpdn3 _18hQoS\" style=\"color:#000000;font-size:14px;font-style:normal;font-weight:400\">Upto </div><div class=\"_2Tpdn3 _18hQoS\" style=\"color:#000000;font-size:14px;font-style:normal;font-weight:700\">₹2,200</div><div class=\"_2Tpdn3 _18hQoS\" style=\"color:#000000;font-size:14px;font-style:normal;font-weight:400\"> Off on Exchange</div></div></div><div class=\"_2ZdXDB\"><div class=\"_3xFhiH\"><div class=\"_2Tpdn3 _18hQoS\" style=\"color:#000000;font-size:12px;font-weight:400\">No Cost EMI from ₹1,999/month</div></div></div></div></div>,\n",
       " <div class=\"_3pLy-c row\"><div class=\"col col-7-12\"><div class=\"_4rR01T\">SAMSUNG 7 kg Inverter 5 Star with Eco Bubble Technology Washing Machine Fully Automatic Top Load Grey</div><div class=\"gUuXy-\"><span class=\"_1lRcqv\" id=\"productRating_LSTWMNGGUWZK6VEQPXDBGVOA0_WMNGGUWZK6VEQPXD_\"><div class=\"_3LWZlK\">4.3<img class=\"_1wB99o\" src=\"data:image/svg+xml;base64,PHN2ZyB4bWxucz0iaHR0cDovL3d3dy53My5vcmcvMjAwMC9zdmciIHdpZHRoPSIxMyIgaGVpZ2h0PSIxMiI+PHBhdGggZmlsbD0iI0ZGRiIgZD0iTTYuNSA5LjQzOWwtMy42NzQgMi4yMy45NC00LjI2LTMuMjEtMi44ODMgNC4yNTQtLjQwNEw2LjUuMTEybDEuNjkgNC4wMSA0LjI1NC40MDQtMy4yMSAyLjg4Mi45NCA0LjI2eiIvPjwvc3ZnPg==\"/></div></span><span class=\"_2_R_DZ\"><span><span>24,436 Ratings </span><span class=\"_13vcmD\">&amp;</span><span> 2,035 Reviews</span></span></span></div><div class=\"fMghEO\"><ul class=\"_1xgFaf\"><li class=\"rgWa7D\">700 rpm Max Speed</li><li class=\"rgWa7D\">5 Star Rating</li><li class=\"rgWa7D\">For all Fully Automatic Washing Machines with Digital Inverter Motors, sold on or after 1st Dec 2022 (All Fully Automatic Front Load Washing Machine and Top Load Washing Machine) the Warranty period on the Digital Inverter Motor shall be revised from 10 years to 20 years and Comprehensive Product Warranty shall be revised from 3 years to 2 years.</li></ul></div></div><div class=\"col col-5-12 nlI3QM\"><div class=\"_3tbKJL\"><div class=\"_25b18c\"><div class=\"_30jeq3 _1_WHN1\">₹17,990</div><div class=\"_3I9_wc _27UcVY\">₹<!-- -->21,500</div><div class=\"_3Ay6Sb\"><span>16% off</span></div></div><div class=\"_3tcB5a p8ucoS\"><div><div class=\"_2Tpdn3\" style=\"color:#000000;font-size:12px;font-weight:400\">Free delivery</div></div></div></div><div class=\"_13J9qT\"><img height=\"21\" src=\"//static-assets-web.flixcart.com/fk-p-linchpin-web/fk-cp-zion/img/fa_62673a.png\"/></div><div class=\"_2ZdXDB\"><div class=\"_3xFhiH\"><div class=\"_2Tpdn3 _18hQoS\" style=\"color:#000000;font-size:14px;font-style:normal;font-weight:400\">Upto </div><div class=\"_2Tpdn3 _18hQoS\" style=\"color:#000000;font-size:14px;font-style:normal;font-weight:700\">₹2,200</div><div class=\"_2Tpdn3 _18hQoS\" style=\"color:#000000;font-size:14px;font-style:normal;font-weight:400\"> Off on Exchange</div></div></div><div class=\"_2ZdXDB\"><div class=\"_3xFhiH\"><div class=\"_2Tpdn3 _18hQoS\" style=\"color:#000000;font-size:12px;font-weight:400\">No Cost EMI from ₹1,500/month</div></div></div></div></div>,\n",
       " <div class=\"_3pLy-c row\"><div class=\"col col-7-12\"><div class=\"_4rR01T\">SAMSUNG 7 kg Diamond Drum feature Fully Automatic Top Load Washing Machine Silver</div><div class=\"gUuXy-\"><span class=\"_1lRcqv\" id=\"productRating_LSTWMNFV6ZYYAEZX6HMNJZL4B_WMNFV6ZYYAEZX6HM_\"><div class=\"_3LWZlK\">4.3<img class=\"_1wB99o\" src=\"data:image/svg+xml;base64,PHN2ZyB4bWxucz0iaHR0cDovL3d3dy53My5vcmcvMjAwMC9zdmciIHdpZHRoPSIxMyIgaGVpZ2h0PSIxMiI+PHBhdGggZmlsbD0iI0ZGRiIgZD0iTTYuNSA5LjQzOWwtMy42NzQgMi4yMy45NC00LjI2LTMuMjEtMi44ODMgNC4yNTQtLjQwNEw2LjUuMTEybDEuNjkgNC4wMSA0LjI1NC40MDQtMy4yMSAyLjg4Mi45NCA0LjI2eiIvPjwvc3ZnPg==\"/></div></span><span class=\"_2_R_DZ\"><span><span>5,751 Ratings </span><span class=\"_13vcmD\">&amp;</span><span> 458 Reviews</span></span></span></div><div class=\"fMghEO\"><ul class=\"_1xgFaf\"><li class=\"rgWa7D\">680 rpm Max Speed</li><li class=\"rgWa7D\">3 Star Rating</li><li class=\"rgWa7D\">For all Fully Automatic Washing Machines with Digital Inverter Motors, sold on or after 1st Dec 2022 (All Fully Automatic Front Load Washing Machine and Top Load Washing Machine) the Warranty period on the Digital Inverter Motor shall be revised from 10 years to 20 years and Comprehensive Product Warranty shall be revised from 3 years to 2 years.</li></ul></div></div><div class=\"col col-5-12 nlI3QM\"><div class=\"_3tbKJL\"><div class=\"_25b18c\"><div class=\"_30jeq3 _1_WHN1\">₹15,790</div><div class=\"_3I9_wc _27UcVY\">₹<!-- -->19,800</div><div class=\"_3Ay6Sb\"><span>20% off</span></div></div><div class=\"_3tcB5a p8ucoS\"><div><div class=\"_2Tpdn3\" style=\"color:#000000;font-size:12px;font-weight:400\">Free delivery</div></div></div></div><div class=\"_13J9qT\"><img height=\"21\" src=\"//static-assets-web.flixcart.com/fk-p-linchpin-web/fk-cp-zion/img/fa_62673a.png\"/></div><div class=\"_2ZdXDB\"><div class=\"_3xFhiH\"><div class=\"_2Tpdn3 _18hQoS\" style=\"color:#000000;font-size:14px;font-style:normal;font-weight:400\">Upto </div><div class=\"_2Tpdn3 _18hQoS\" style=\"color:#000000;font-size:14px;font-style:normal;font-weight:700\">₹2,200</div><div class=\"_2Tpdn3 _18hQoS\" style=\"color:#000000;font-size:14px;font-style:normal;font-weight:400\"> Off on Exchange</div></div></div><div class=\"_2ZdXDB\"><div class=\"_3xFhiH\"><div class=\"_2Tpdn3 _18hQoS\" style=\"color:#000000;font-size:12px;font-weight:400\">No Cost EMI from ₹1,316/month</div></div></div></div></div>,\n",
       " <div class=\"_3pLy-c row\"><div class=\"col col-7-12\"><div class=\"_4rR01T\">realme TechLife 7.5 kg 5 Star Rating Fabric Safe Wash Fully Automatic Top Load Washing Machine Grey</div><div class=\"gUuXy-\"><span class=\"_1lRcqv\" id=\"productRating_LSTWMNG4XM5CQTNRQHVWOSYMQ_WMNG4XM5CQTNRQHV_\"><div class=\"_3LWZlK\">4.2<img class=\"_1wB99o\" src=\"data:image/svg+xml;base64,PHN2ZyB4bWxucz0iaHR0cDovL3d3dy53My5vcmcvMjAwMC9zdmciIHdpZHRoPSIxMyIgaGVpZ2h0PSIxMiI+PHBhdGggZmlsbD0iI0ZGRiIgZD0iTTYuNSA5LjQzOWwtMy42NzQgMi4yMy45NC00LjI2LTMuMjEtMi44ODMgNC4yNTQtLjQwNEw2LjUuMTEybDEuNjkgNC4wMSA0LjI1NC40MDQtMy4yMSAyLjg4Mi45NCA0LjI2eiIvPjwvc3ZnPg==\"/></div></span><span class=\"_2_R_DZ\"><span><span>19,868 Ratings </span><span class=\"_13vcmD\">&amp;</span><span> 2,427 Reviews</span></span></span></div><div class=\"fMghEO\"><ul class=\"_1xgFaf\"><li class=\"rgWa7D\">700 rpm Max Speed</li><li class=\"rgWa7D\">5 Star Rating</li><li class=\"rgWa7D\">2 Years Comprehensive Warranty on Product and 5 Years on Motor</li></ul></div></div><div class=\"col col-5-12 nlI3QM\"><div class=\"_3tbKJL\"><div class=\"_25b18c\"><div class=\"_30jeq3 _1_WHN1\">₹13,290</div><div class=\"_3I9_wc _27UcVY\">₹<!-- -->19,990</div><div class=\"_3Ay6Sb\"><span>33% off</span></div></div><div class=\"_3tcB5a p8ucoS\"><div><div class=\"_2Tpdn3\" style=\"color:#000000;font-size:12px;font-weight:400\">Free delivery</div></div></div></div><div class=\"_13J9qT\"><img height=\"21\" src=\"//static-assets-web.flixcart.com/fk-p-linchpin-web/fk-cp-zion/img/fa_62673a.png\"/></div><div class=\"_2ZdXDB\"><div class=\"_3xFhiH\"><div class=\"_2Tpdn3 _18hQoS\" style=\"color:#000000;font-size:14px;font-style:normal;font-weight:400\">Upto </div><div class=\"_2Tpdn3 _18hQoS\" style=\"color:#000000;font-size:14px;font-style:normal;font-weight:700\">₹2,200</div><div class=\"_2Tpdn3 _18hQoS\" style=\"color:#000000;font-size:14px;font-style:normal;font-weight:400\"> Off on Exchange</div></div></div><div class=\"_2ZdXDB\"><div class=\"_3xFhiH\"><div class=\"_2Tpdn3 _18hQoS\" style=\"color:#000000;font-size:12px;font-weight:400\">No Cost EMI from ₹1,477/month</div></div></div></div></div>,\n",
       " <div class=\"_3pLy-c row\"><div class=\"col col-7-12\"><div class=\"_4rR01T\">IFB 7 kg 5 Star 2X Power Steam,Hard Water Wash Fully Automatic Front Load Washing Machine with In-buil...</div><div class=\"gUuXy-\"><span class=\"_1lRcqv\" id=\"productRating_LSTWMNGHHY8GKAFTKKZXIT3UJ_WMNGHHY8GKAFTKKZ_\"><div class=\"_3LWZlK\">4.3<img class=\"_1wB99o\" src=\"data:image/svg+xml;base64,PHN2ZyB4bWxucz0iaHR0cDovL3d3dy53My5vcmcvMjAwMC9zdmciIHdpZHRoPSIxMyIgaGVpZ2h0PSIxMiI+PHBhdGggZmlsbD0iI0ZGRiIgZD0iTTYuNSA5LjQzOWwtMy42NzQgMi4yMy45NC00LjI2LTMuMjEtMi44ODMgNC4yNTQtLjQwNEw2LjUuMTEybDEuNjkgNC4wMSA0LjI1NC40MDQtMy4yMSAyLjg4Mi45NCA0LjI2eiIvPjwvc3ZnPg==\"/></div></span><span class=\"_2_R_DZ\"><span><span>11,024 Ratings </span><span class=\"_13vcmD\">&amp;</span><span> 1,116 Reviews</span></span></span></div><div class=\"fMghEO\"><ul class=\"_1xgFaf\"><li class=\"rgWa7D\">1000 rpm Max Speed</li><li class=\"rgWa7D\">5 Star Rating</li><li class=\"rgWa7D\">4 Years Comprehensive Warranty, 10 Years Motor Warranty and 10 Years Spares Support</li></ul></div></div><div class=\"col col-5-12 nlI3QM\"><div class=\"_3tbKJL\"><div class=\"_25b18c\"><div class=\"_30jeq3 _1_WHN1\">₹27,990</div><div class=\"_3I9_wc _27UcVY\">₹<!-- -->32,490</div><div class=\"_3Ay6Sb\"><span>13% off</span></div></div><div class=\"_3tcB5a p8ucoS\"><div><div class=\"_2Tpdn3\" style=\"color:#000000;font-size:12px;font-weight:400\">Free delivery</div></div></div></div><div class=\"_13J9qT\"><img height=\"21\" src=\"//static-assets-web.flixcart.com/fk-p-linchpin-web/fk-cp-zion/img/fa_62673a.png\"/></div><div class=\"_2ZdXDB\"><div class=\"_3xFhiH\"><div class=\"_2Tpdn3 _18hQoS\" style=\"color:#000000;font-size:14px;font-style:normal;font-weight:400\">Upto </div><div class=\"_2Tpdn3 _18hQoS\" style=\"color:#000000;font-size:14px;font-style:normal;font-weight:700\">₹5,200</div><div class=\"_2Tpdn3 _18hQoS\" style=\"color:#000000;font-size:14px;font-style:normal;font-weight:400\"> Off on Exchange</div></div></div><div class=\"_2ZdXDB\"><div class=\"_3xFhiH\"><div class=\"_2Tpdn3 _18hQoS\" style=\"color:#000000;font-size:12px;font-weight:400\">No Cost EMI from ₹2,333/month</div></div></div></div></div>,\n",
       " <div class=\"_3pLy-c row\"><div class=\"col col-7-12\"><div class=\"_4rR01T\">realme TechLife 7 kg Semi Automatic Top Load Washing Machine White, Black</div><div class=\"gUuXy-\"><span class=\"_1lRcqv\" id=\"productRating_LSTWMNGBFX49DZJWFKZKCTHM6_WMNGBFX49DZJWFKZ_\"><div class=\"_3LWZlK\">4.2<img class=\"_1wB99o\" src=\"data:image/svg+xml;base64,PHN2ZyB4bWxucz0iaHR0cDovL3d3dy53My5vcmcvMjAwMC9zdmciIHdpZHRoPSIxMyIgaGVpZ2h0PSIxMiI+PHBhdGggZmlsbD0iI0ZGRiIgZD0iTTYuNSA5LjQzOWwtMy42NzQgMi4yMy45NC00LjI2LTMuMjEtMi44ODMgNC4yNTQtLjQwNEw2LjUuMTEybDEuNjkgNC4wMSA0LjI1NC40MDQtMy4yMSAyLjg4Mi45NCA0LjI2eiIvPjwvc3ZnPg==\"/></div></span><span class=\"_2_R_DZ\"><span><span>18,845 Ratings </span><span class=\"_13vcmD\">&amp;</span><span> 2,140 Reviews</span></span></span></div><div class=\"fMghEO\"><ul class=\"_1xgFaf\"><li class=\"rgWa7D\">1400 RPM Max Speed</li><li class=\"rgWa7D\">5 Star Rating</li><li class=\"rgWa7D\">2 Years Comprehensive and 5 Years on Wash Motor</li></ul></div></div><div class=\"col col-5-12 nlI3QM\"><div class=\"_3tbKJL\"><div class=\"_25b18c\"><div class=\"_30jeq3 _1_WHN1\">₹7,990</div><div class=\"_3I9_wc _27UcVY\">₹<!-- -->12,490</div><div class=\"_3Ay6Sb\"><span>36% off</span></div></div><div class=\"_3tcB5a p8ucoS\"><div><div class=\"_2Tpdn3\" style=\"color:#000000;font-size:12px;font-weight:400\">Free delivery</div></div></div></div><div class=\"_13J9qT\"><img height=\"21\" src=\"//static-assets-web.flixcart.com/fk-p-linchpin-web/fk-cp-zion/img/fa_62673a.png\"/></div><div class=\"_2ZdXDB\"><div class=\"_3xFhiH\"><div class=\"_2Tpdn3 _18hQoS\" style=\"color:#000000;font-size:14px;font-style:normal;font-weight:400\">Upto </div><div class=\"_2Tpdn3 _18hQoS\" style=\"color:#000000;font-size:14px;font-style:normal;font-weight:700\">₹2,200</div><div class=\"_2Tpdn3 _18hQoS\" style=\"color:#000000;font-size:14px;font-style:normal;font-weight:400\"> Off on Exchange</div></div></div><div class=\"_2ZdXDB\"><div class=\"_3xFhiH\"><div class=\"_2Tpdn3 _18hQoS\" style=\"color:#000000;font-size:12px;font-weight:400\">No Cost EMI from ₹1,332/month</div></div></div></div></div>,\n",
       " <div class=\"_3pLy-c row\"><div class=\"col col-7-12\"><div class=\"_4rR01T\">Whirlpool 7 kg Magic Clean 5 Star Fully Automatic Top Load Grey</div><div class=\"gUuXy-\"><span class=\"_1lRcqv\" id=\"productRating_LSTWMNGDSUXZS5BWH7HJAJBFH_WMNGDSUXZS5BWH7H_\"><div class=\"_3LWZlK\">4.2<img class=\"_1wB99o\" src=\"data:image/svg+xml;base64,PHN2ZyB4bWxucz0iaHR0cDovL3d3dy53My5vcmcvMjAwMC9zdmciIHdpZHRoPSIxMyIgaGVpZ2h0PSIxMiI+PHBhdGggZmlsbD0iI0ZGRiIgZD0iTTYuNSA5LjQzOWwtMy42NzQgMi4yMy45NC00LjI2LTMuMjEtMi44ODMgNC4yNTQtLjQwNEw2LjUuMTEybDEuNjkgNC4wMSA0LjI1NC40MDQtMy4yMSAyLjg4Mi45NCA0LjI2eiIvPjwvc3ZnPg==\"/></div></span><span class=\"_2_R_DZ\"><span><span>3,659 Ratings </span><span class=\"_13vcmD\">&amp;</span><span> 336 Reviews</span></span></span></div><div class=\"fMghEO\"><ul class=\"_1xgFaf\"><li class=\"rgWa7D\">740 rpm Max Speed</li><li class=\"rgWa7D\">5 Star Rating</li><li class=\"rgWa7D\">2 Years Comprehensive Warranty on Product and 5 Years on Prime Mover and Motor</li></ul></div></div><div class=\"col col-5-12 nlI3QM\"><div class=\"_3tbKJL\"><div class=\"_25b18c\"><div class=\"_30jeq3 _1_WHN1\">₹15,240</div><div class=\"_3I9_wc _27UcVY\">₹<!-- -->19,350</div><div class=\"_3Ay6Sb\"><span>21% off</span></div></div><div class=\"_3tcB5a p8ucoS\"><div><div class=\"_2Tpdn3\" style=\"color:#000000;font-size:12px;font-weight:400\">Free delivery</div></div></div></div><div class=\"_13J9qT\"><img height=\"21\" src=\"//static-assets-web.flixcart.com/fk-p-linchpin-web/fk-cp-zion/img/fa_62673a.png\"/></div><div class=\"_2ZdXDB\"><div class=\"_3xFhiH\"><div class=\"_2Tpdn3 _18hQoS\" style=\"color:#000000;font-size:14px;font-style:normal;font-weight:400\">Upto </div><div class=\"_2Tpdn3 _18hQoS\" style=\"color:#000000;font-size:14px;font-style:normal;font-weight:700\">₹2,200</div><div class=\"_2Tpdn3 _18hQoS\" style=\"color:#000000;font-size:14px;font-style:normal;font-weight:400\"> Off on Exchange</div></div></div><div class=\"_2ZdXDB\"><div class=\"_3xFhiH\"><div class=\"_2Tpdn3 _18hQoS\" style=\"color:#000000;font-size:12px;font-weight:400\">No Cost EMI from ₹1,270/month</div></div></div></div></div>,\n",
       " <div class=\"_3pLy-c row\"><div class=\"col col-7-12\"><div class=\"_4rR01T\">Whirlpool 7 kg Magic Clean 5 Star Semi Automatic Top Load Black, Grey</div><div class=\"gUuXy-\"><span class=\"_1lRcqv\" id=\"productRating_LSTWMNGF9W8K8R9V8DAD0ZSYT_WMNGF9W8K8R9V8DA_\"><div class=\"_3LWZlK\">4.4<img class=\"_1wB99o\" src=\"data:image/svg+xml;base64,PHN2ZyB4bWxucz0iaHR0cDovL3d3dy53My5vcmcvMjAwMC9zdmciIHdpZHRoPSIxMyIgaGVpZ2h0PSIxMiI+PHBhdGggZmlsbD0iI0ZGRiIgZD0iTTYuNSA5LjQzOWwtMy42NzQgMi4yMy45NC00LjI2LTMuMjEtMi44ODMgNC4yNTQtLjQwNEw2LjUuMTEybDEuNjkgNC4wMSA0LjI1NC40MDQtMy4yMSAyLjg4Mi45NCA0LjI2eiIvPjwvc3ZnPg==\"/></div></span><span class=\"_2_R_DZ\"><span><span>5,292 Ratings </span><span class=\"_13vcmD\">&amp;</span><span> 418 Reviews</span></span></span></div><div class=\"fMghEO\"><ul class=\"_1xgFaf\"><li class=\"rgWa7D\">1400 rpm Max Speed</li><li class=\"rgWa7D\">5 Star Rating</li><li class=\"rgWa7D\">2 Years Comprehensive Warranty and 5 Years Warranty on Wash Motor</li></ul></div></div><div class=\"col col-5-12 nlI3QM\"><div class=\"_3tbKJL\"><div class=\"_25b18c\"><div class=\"_30jeq3 _1_WHN1\">₹9,990</div><div class=\"_3I9_wc _27UcVY\">₹<!-- -->13,350</div><div class=\"_3Ay6Sb\"><span>25% off</span></div></div><div class=\"_3tcB5a p8ucoS\"><div><div class=\"_2Tpdn3\" style=\"color:#000000;font-size:12px;font-weight:400\">Free delivery</div></div></div></div><div class=\"_13J9qT\"><img height=\"21\" src=\"//static-assets-web.flixcart.com/fk-p-linchpin-web/fk-cp-zion/img/fa_62673a.png\"/></div><div class=\"_2ZdXDB\"><div class=\"_3xFhiH\"><div class=\"_2Tpdn3 _18hQoS\" style=\"color:#000000;font-size:14px;font-style:normal;font-weight:400\">Upto </div><div class=\"_2Tpdn3 _18hQoS\" style=\"color:#000000;font-size:14px;font-style:normal;font-weight:700\">₹2,200</div><div class=\"_2Tpdn3 _18hQoS\" style=\"color:#000000;font-size:14px;font-style:normal;font-weight:400\"> Off on Exchange</div></div></div><div class=\"_2ZdXDB\"><div class=\"_3xFhiH\"><div class=\"_2Tpdn3 _18hQoS\" style=\"color:#000000;font-size:12px;font-weight:400\">No Cost EMI from ₹1,110/month</div></div></div></div></div>,\n",
       " <div class=\"_3pLy-c row\"><div class=\"col col-7-12\"><div class=\"_4rR01T\">IFB 6 kg 5 Star 2X Power Steam,Hard Water Wash Fully Automatic Front Load Washing Machine with In-buil...</div><div class=\"gUuXy-\"><span class=\"_1lRcqv\" id=\"productRating_LSTWMNGDMYHAKGZHEPKZXNDIY_WMNGDMYHAKGZHEPK_\"><div class=\"_3LWZlK\">4.2<img class=\"_1wB99o\" src=\"data:image/svg+xml;base64,PHN2ZyB4bWxucz0iaHR0cDovL3d3dy53My5vcmcvMjAwMC9zdmciIHdpZHRoPSIxMyIgaGVpZ2h0PSIxMiI+PHBhdGggZmlsbD0iI0ZGRiIgZD0iTTYuNSA5LjQzOWwtMy42NzQgMi4yMy45NC00LjI2LTMuMjEtMi44ODMgNC4yNTQtLjQwNEw2LjUuMTEybDEuNjkgNC4wMSA0LjI1NC40MDQtMy4yMSAyLjg4Mi45NCA0LjI2eiIvPjwvc3ZnPg==\"/></div></span><span class=\"_2_R_DZ\"><span><span>9,110 Ratings </span><span class=\"_13vcmD\">&amp;</span><span> 754 Reviews</span></span></span></div><div class=\"fMghEO\"><ul class=\"_1xgFaf\"><li class=\"rgWa7D\">800 rpm Max Speed</li><li class=\"rgWa7D\">5 Star Rating</li><li class=\"rgWa7D\">4 Years Comprehensive Warranty, 10 Years Motor Warranty, 10 Years Spares Support</li></ul></div></div><div class=\"col col-5-12 nlI3QM\"><div class=\"_3tbKJL\"><div class=\"_25b18c\"><div class=\"_30jeq3 _1_WHN1\">₹22,990</div><div class=\"_3I9_wc _27UcVY\">₹<!-- -->26,390</div><div class=\"_3Ay6Sb\"><span>12% off</span></div></div><div class=\"_3tcB5a p8ucoS\"><div><div class=\"_2Tpdn3\" style=\"color:#000000;font-size:12px;font-weight:400\">Free delivery</div></div></div></div><div class=\"_13J9qT\"><img height=\"21\" src=\"//static-assets-web.flixcart.com/fk-p-linchpin-web/fk-cp-zion/img/fa_62673a.png\"/></div><div class=\"_2ZdXDB\"><div class=\"_3xFhiH\"><div class=\"_2Tpdn3 _18hQoS\" style=\"color:#000000;font-size:14px;font-style:normal;font-weight:400\">Upto </div><div class=\"_2Tpdn3 _18hQoS\" style=\"color:#000000;font-size:14px;font-style:normal;font-weight:700\">₹4,200</div><div class=\"_2Tpdn3 _18hQoS\" style=\"color:#000000;font-size:14px;font-style:normal;font-weight:400\"> Off on Exchange</div></div></div><div class=\"_2ZdXDB\"><div class=\"_3xFhiH\"><div class=\"_2Tpdn3 _18hQoS\" style=\"color:#000000;font-size:12px;font-weight:400\">No Cost EMI from ₹1,916/month</div></div></div></div></div>,\n",
       " <div class=\"_3pLy-c row\"><div class=\"col col-7-12\"><div class=\"_4rR01T\">Sansui 7 kg Semi Automatic Top Load Washing Machine Red, White</div><div class=\"gUuXy-\"><span class=\"_1lRcqv\" id=\"productRating_LSTWMNG4J2CS9YPWCFX6UXHM1_WMNG4J2CS9YPWCFX_\"><div class=\"_3LWZlK\">4.3<img class=\"_1wB99o\" src=\"data:image/svg+xml;base64,PHN2ZyB4bWxucz0iaHR0cDovL3d3dy53My5vcmcvMjAwMC9zdmciIHdpZHRoPSIxMyIgaGVpZ2h0PSIxMiI+PHBhdGggZmlsbD0iI0ZGRiIgZD0iTTYuNSA5LjQzOWwtMy42NzQgMi4yMy45NC00LjI2LTMuMjEtMi44ODMgNC4yNTQtLjQwNEw2LjUuMTEybDEuNjkgNC4wMSA0LjI1NC40MDQtMy4yMSAyLjg4Mi45NCA0LjI2eiIvPjwvc3ZnPg==\"/></div></span><span class=\"_2_R_DZ\"><span><span>12,305 Ratings </span><span class=\"_13vcmD\">&amp;</span><span> 1,112 Reviews</span></span></span></div><div class=\"fMghEO\"><ul class=\"_1xgFaf\"><li class=\"rgWa7D\">1300 rpm Max Speed</li><li class=\"rgWa7D\">5 Star Rating</li><li class=\"rgWa7D\">2 Years Comprehensive and 5 Years Motor Domestic Warranty from Sansui</li></ul></div></div><div class=\"col col-5-12 nlI3QM\"><div class=\"_3tbKJL\"><div class=\"_25b18c\"><div class=\"_30jeq3 _1_WHN1\">₹7,590</div><div class=\"_3I9_wc _27UcVY\">₹<!-- -->12,990</div><div class=\"_3Ay6Sb\"><span>41% off</span></div></div><div class=\"_3tcB5a p8ucoS\"><div><div class=\"_2Tpdn3\" style=\"color:#000000;font-size:12px;font-weight:400\">Free delivery</div></div></div></div><div class=\"_13J9qT\"><img height=\"21\" src=\"//static-assets-web.flixcart.com/fk-p-linchpin-web/fk-cp-zion/img/fa_62673a.png\"/></div><div class=\"_2ZdXDB\"><div class=\"_3xFhiH\"><div class=\"_2Tpdn3 _18hQoS\" style=\"color:#26A541;font-size:12px;font-weight:700\">Lowest price in the year</div></div></div><div class=\"_2ZdXDB\"><div class=\"_3xFhiH\"><div class=\"_2Tpdn3 _18hQoS\" style=\"color:#000000;font-size:14px;font-style:normal;font-weight:400\">Upto </div><div class=\"_2Tpdn3 _18hQoS\" style=\"color:#000000;font-size:14px;font-style:normal;font-weight:700\">₹2,200</div><div class=\"_2Tpdn3 _18hQoS\" style=\"color:#000000;font-size:14px;font-style:normal;font-weight:400\"> Off on Exchange</div></div></div></div></div>,\n",
       " <div class=\"_3pLy-c row\"><div class=\"col col-7-12\"><div class=\"_4rR01T\">realme TechLife 7.5 kg 5 Star Rating Semi Automatic Top Load Washing Machine Black, Grey</div><div class=\"gUuXy-\"><span class=\"_1lRcqv\" id=\"productRating_LSTWMNGATRJPSSNF4BNEXRH6Z_WMNGATRJPSSNF4BN_\"><div class=\"_3LWZlK\">4.2<img class=\"_1wB99o\" src=\"data:image/svg+xml;base64,PHN2ZyB4bWxucz0iaHR0cDovL3d3dy53My5vcmcvMjAwMC9zdmciIHdpZHRoPSIxMyIgaGVpZ2h0PSIxMiI+PHBhdGggZmlsbD0iI0ZGRiIgZD0iTTYuNSA5LjQzOWwtMy42NzQgMi4yMy45NC00LjI2LTMuMjEtMi44ODMgNC4yNTQtLjQwNEw2LjUuMTEybDEuNjkgNC4wMSA0LjI1NC40MDQtMy4yMSAyLjg4Mi45NCA0LjI2eiIvPjwvc3ZnPg==\"/></div></span><span class=\"_2_R_DZ\"><span><span>18,845 Ratings </span><span class=\"_13vcmD\">&amp;</span><span> 2,140 Reviews</span></span></span></div><div class=\"fMghEO\"><ul class=\"_1xgFaf\"><li class=\"rgWa7D\">1400 RPM Max Speed</li><li class=\"rgWa7D\">5 Star Rating</li><li class=\"rgWa7D\">2 Years Comprehensive and 5 Years on Wash Motor</li></ul></div></div><div class=\"col col-5-12 nlI3QM\"><div class=\"_3tbKJL\"><div class=\"_25b18c\"><div class=\"_30jeq3 _1_WHN1\">₹8,690</div><div class=\"_3I9_wc _27UcVY\">₹<!-- -->13,990</div><div class=\"_3Ay6Sb\"><span>37% off</span></div></div><div class=\"_3tcB5a p8ucoS\"><div><div class=\"_2Tpdn3\" style=\"color:#000000;font-size:12px;font-weight:400\">Free delivery</div></div></div></div><div class=\"_13J9qT\"><img height=\"21\" src=\"//static-assets-web.flixcart.com/fk-p-linchpin-web/fk-cp-zion/img/fa_62673a.png\"/></div><div class=\"_2ZdXDB\"><div class=\"_3xFhiH\"><div class=\"_2Tpdn3 _18hQoS\" style=\"color:#000000;font-size:14px;font-style:normal;font-weight:400\">Upto </div><div class=\"_2Tpdn3 _18hQoS\" style=\"color:#000000;font-size:14px;font-style:normal;font-weight:700\">₹2,200</div><div class=\"_2Tpdn3 _18hQoS\" style=\"color:#000000;font-size:14px;font-style:normal;font-weight:400\"> Off on Exchange</div></div></div><div class=\"_2ZdXDB\"><div class=\"_3xFhiH\"><div class=\"_2Tpdn3 _18hQoS\" style=\"color:#000000;font-size:12px;font-weight:400\">No Cost EMI from ₹1,449/month</div></div></div></div></div>,\n",
       " <div class=\"_3pLy-c row\"><div class=\"col col-7-12\"><div class=\"_4rR01T\">SAMSUNG 6 kg 5 Star With Hygiene Steam and Ceramic Heater Fully Automatic Front Load Washing Machine w...</div><div class=\"gUuXy-\"><span class=\"_1lRcqv\" id=\"productRating_LSTWMNFP6FWBB4AMHYJVZX57N_WMNFP6FWBB4AMHYJ_\"><div class=\"_3LWZlK\">4.4<img class=\"_1wB99o\" src=\"data:image/svg+xml;base64,PHN2ZyB4bWxucz0iaHR0cDovL3d3dy53My5vcmcvMjAwMC9zdmciIHdpZHRoPSIxMyIgaGVpZ2h0PSIxMiI+PHBhdGggZmlsbD0iI0ZGRiIgZD0iTTYuNSA5LjQzOWwtMy42NzQgMi4yMy45NC00LjI2LTMuMjEtMi44ODMgNC4yNTQtLjQwNEw2LjUuMTEybDEuNjkgNC4wMSA0LjI1NC40MDQtMy4yMSAyLjg4Mi45NCA0LjI2eiIvPjwvc3ZnPg==\"/></div></span><span class=\"_2_R_DZ\"><span><span>28,435 Ratings </span><span class=\"_13vcmD\">&amp;</span><span> 2,766 Reviews</span></span></span></div><div class=\"fMghEO\"><ul class=\"_1xgFaf\"><li class=\"rgWa7D\">1000 rpm Max Speed</li><li class=\"rgWa7D\">5 Star Rating</li><li class=\"rgWa7D\">For all Fully Automatic Washing Machines with Digital Inverter Motors, sold on or after 1st Dec 2022 (All Fully Automatic Front Load Washing Machine and Top Load Washing Machine) the Warranty period on the Digital Inverter Motor shall be revised from 10 years to 20 years and Comprehensive Product Warranty shall be revised from 3 years to 2 years.</li></ul></div></div><div class=\"col col-5-12 nlI3QM\"><div class=\"_3tbKJL\"><div class=\"_25b18c\"><div class=\"_30jeq3 _1_WHN1\">₹22,990</div><div class=\"_3I9_wc _27UcVY\">₹<!-- -->26,500</div><div class=\"_3Ay6Sb\"><span>13% off</span></div></div><div class=\"_3tcB5a p8ucoS\"><div><div class=\"_2Tpdn3\" style=\"color:#000000;font-size:12px;font-weight:400\">Free delivery</div></div></div></div><div class=\"_13J9qT\"><img height=\"21\" src=\"//static-assets-web.flixcart.com/fk-p-linchpin-web/fk-cp-zion/img/fa_62673a.png\"/></div><div class=\"_2ZdXDB\"><div class=\"_3xFhiH\"><div class=\"_2Tpdn3 _18hQoS\" style=\"color:#000000;font-size:14px;font-style:normal;font-weight:400\">Upto </div><div class=\"_2Tpdn3 _18hQoS\" style=\"color:#000000;font-size:14px;font-style:normal;font-weight:700\">₹3,200</div><div class=\"_2Tpdn3 _18hQoS\" style=\"color:#000000;font-size:14px;font-style:normal;font-weight:400\"> Off on Exchange</div></div></div><div class=\"_2ZdXDB\"><div class=\"_3xFhiH\"><div class=\"_2Tpdn3 _18hQoS\" style=\"color:#000000;font-size:12px;font-weight:400\">No Cost EMI from ₹1,916/month</div></div></div></div></div>,\n",
       " <div class=\"_3pLy-c row\"><div class=\"col col-7-12\"><div class=\"_4rR01T\">Voltas Beko 9 kg with Double waterfall, Multiple Wash Program, Waterproof IPX4 panel and Monsoon Dry o...</div><div class=\"gUuXy-\"><span class=\"_1lRcqv\" id=\"productRating_LSTWMNGHAWGYQDUMZFHDLRTMU_WMNGHAWGYQDUMZFH_\"><div class=\"_3LWZlK\">4.2<img class=\"_1wB99o\" src=\"data:image/svg+xml;base64,PHN2ZyB4bWxucz0iaHR0cDovL3d3dy53My5vcmcvMjAwMC9zdmciIHdpZHRoPSIxMyIgaGVpZ2h0PSIxMiI+PHBhdGggZmlsbD0iI0ZGRiIgZD0iTTYuNSA5LjQzOWwtMy42NzQgMi4yMy45NC00LjI2LTMuMjEtMi44ODMgNC4yNTQtLjQwNEw2LjUuMTEybDEuNjkgNC4wMSA0LjI1NC40MDQtMy4yMSAyLjg4Mi45NCA0LjI2eiIvPjwvc3ZnPg==\"/></div></span><span class=\"_2_R_DZ\"><span><span>39 Ratings </span><span class=\"_13vcmD\">&amp;</span><span> 6 Reviews</span></span></span></div><div class=\"fMghEO\"><ul class=\"_1xgFaf\"><li class=\"rgWa7D\">700 rpm Max Speed</li><li class=\"rgWa7D\">5 Star Rating</li><li class=\"rgWa7D\">3 Years Comprehensive Warranty on Product and 12 Years Warranty on Motor</li></ul></div></div><div class=\"col col-5-12 nlI3QM\"><div class=\"_3tbKJL\"><div class=\"_25b18c\"><div class=\"_30jeq3 _1_WHN1\">₹18,990</div><div class=\"_3I9_wc _27UcVY\">₹<!-- -->38,590</div><div class=\"_3Ay6Sb\"><span>50% off</span></div></div><div class=\"_3tcB5a p8ucoS\"><div><div class=\"_2Tpdn3\" style=\"color:#000000;font-size:12px;font-weight:400\">Free delivery</div></div></div></div><div class=\"_13J9qT\"><img height=\"21\" src=\"//static-assets-web.flixcart.com/fk-p-linchpin-web/fk-cp-zion/img/fa_62673a.png\"/></div><div class=\"_2ZdXDB\"><div class=\"_3xFhiH\"><div class=\"_2Tpdn3 _18hQoS\" style=\"color:#000000;font-size:14px;font-style:normal;font-weight:400\">Upto </div><div class=\"_2Tpdn3 _18hQoS\" style=\"color:#000000;font-size:14px;font-style:normal;font-weight:700\">₹2,200</div><div class=\"_2Tpdn3 _18hQoS\" style=\"color:#000000;font-size:14px;font-style:normal;font-weight:400\"> Off on Exchange</div></div></div><div class=\"_2ZdXDB\"><div class=\"_3xFhiH\"><div class=\"_2Tpdn3 _18hQoS\" style=\"color:#000000;font-size:12px;font-weight:400\">No Cost EMI from ₹1,583/month</div></div></div></div></div>,\n",
       " <div class=\"_3pLy-c row\"><div class=\"col col-7-12\"><div class=\"_4rR01T\">LG 6.5 kg with Smart Diagnosis and Smart Inverter Fully Automatic Top Load Washing Machine Silver</div><div class=\"gUuXy-\"><span class=\"_1lRcqv\" id=\"productRating_LSTWMNFZX5BMUYJMPRBQPQHWF_WMNFZX5BMUYJMPRB_\"><div class=\"_3LWZlK\">4.3<img class=\"_1wB99o\" src=\"data:image/svg+xml;base64,PHN2ZyB4bWxucz0iaHR0cDovL3d3dy53My5vcmcvMjAwMC9zdmciIHdpZHRoPSIxMyIgaGVpZ2h0PSIxMiI+PHBhdGggZmlsbD0iI0ZGRiIgZD0iTTYuNSA5LjQzOWwtMy42NzQgMi4yMy45NC00LjI2LTMuMjEtMi44ODMgNC4yNTQtLjQwNEw2LjUuMTEybDEuNjkgNC4wMSA0LjI1NC40MDQtMy4yMSAyLjg4Mi45NCA0LjI2eiIvPjwvc3ZnPg==\"/></div></span><span class=\"_2_R_DZ\"><span><span>34,582 Ratings </span><span class=\"_13vcmD\">&amp;</span><span> 2,844 Reviews</span></span></span></div><div class=\"fMghEO\"><ul class=\"_1xgFaf\"><li class=\"rgWa7D\">700 rpm Max Speed</li><li class=\"rgWa7D\">5 Star Rating</li><li class=\"rgWa7D\">2 Years Comprehensive Warranty on Product and 10 Years Warranty on Motor from LG</li></ul></div></div><div class=\"col col-5-12 nlI3QM\"><div class=\"_3tbKJL\"><div class=\"_25b18c\"><div class=\"_30jeq3 _1_WHN1\">₹16,990</div><div class=\"_3I9_wc _27UcVY\">₹<!-- -->18,999</div><div class=\"_3Ay6Sb\"><span>10% off</span></div></div><div class=\"_3tcB5a p8ucoS\"><div><div class=\"_2Tpdn3\" style=\"color:#000000;font-size:12px;font-weight:400\">Free delivery</div></div></div></div><div class=\"_13J9qT\"><img height=\"21\" src=\"//static-assets-web.flixcart.com/fk-p-linchpin-web/fk-cp-zion/img/fa_62673a.png\"/></div><div class=\"_2ZdXDB\"><div class=\"_3xFhiH\"><div class=\"_2Tpdn3 _18hQoS\" style=\"color:#000000;font-size:14px;font-style:normal;font-weight:400\">Upto </div><div class=\"_2Tpdn3 _18hQoS\" style=\"color:#000000;font-size:14px;font-style:normal;font-weight:700\">₹2,200</div><div class=\"_2Tpdn3 _18hQoS\" style=\"color:#000000;font-size:14px;font-style:normal;font-weight:400\"> Off on Exchange</div></div></div><div class=\"_2ZdXDB\"><div class=\"_3xFhiH\"><div class=\"_2Tpdn3 _18hQoS\" style=\"color:#000000;font-size:12px;font-weight:400\">No Cost EMI from ₹1,888/month</div></div></div></div></div>,\n",
       " <div class=\"_3pLy-c row\"><div class=\"col col-7-12\"><div class=\"_4rR01T\">LG 8 kg Smart Inverter, Smart Motion, Combined with TurboDrum and 5 Star Rated, Middle Free Fully Auto...</div><div class=\"gUuXy-\"><span class=\"_1lRcqv\" id=\"productRating_LSTWMNGG5G73HH8MEWYEXBLWZ_WMNGG5G73HH8MEWY_\"><div class=\"_3LWZlK\">4.4<img class=\"_1wB99o\" src=\"data:image/svg+xml;base64,PHN2ZyB4bWxucz0iaHR0cDovL3d3dy53My5vcmcvMjAwMC9zdmciIHdpZHRoPSIxMyIgaGVpZ2h0PSIxMiI+PHBhdGggZmlsbD0iI0ZGRiIgZD0iTTYuNSA5LjQzOWwtMy42NzQgMi4yMy45NC00LjI2LTMuMjEtMi44ODMgNC4yNTQtLjQwNEw2LjUuMTEybDEuNjkgNC4wMSA0LjI1NC40MDQtMy4yMSAyLjg4Mi45NCA0LjI2eiIvPjwvc3ZnPg==\"/></div></span><span class=\"_2_R_DZ\"><span><span>8,798 Ratings </span><span class=\"_13vcmD\">&amp;</span><span> 694 Reviews</span></span></span></div><div class=\"fMghEO\"><ul class=\"_1xgFaf\"><li class=\"rgWa7D\">700 rpm Max Speed</li><li class=\"rgWa7D\">5 Star Rating</li><li class=\"rgWa7D\">2 Years Comprehensive Warranty on Product and 10 Years Warranty on Motor (T&amp;C)</li></ul></div></div><div class=\"col col-5-12 nlI3QM\"><div class=\"_3tbKJL\"><div class=\"_25b18c\"><div class=\"_30jeq3 _1_WHN1\">₹19,990</div><div class=\"_3I9_wc _27UcVY\">₹<!-- -->29,990</div><div class=\"_3Ay6Sb\"><span>33% off</span></div></div><div class=\"_3tcB5a p8ucoS\"><div><div class=\"_2Tpdn3\" style=\"color:#000000;font-size:12px;font-weight:400\">Free delivery</div></div></div></div><div class=\"_13J9qT\"><img height=\"21\" src=\"//static-assets-web.flixcart.com/fk-p-linchpin-web/fk-cp-zion/img/fa_62673a.png\"/></div><div class=\"_2ZdXDB\"><div class=\"_3xFhiH\"><div class=\"_2Tpdn3 _18hQoS\" style=\"color:#000000;font-size:14px;font-style:normal;font-weight:400\">Upto </div><div class=\"_2Tpdn3 _18hQoS\" style=\"color:#000000;font-size:14px;font-style:normal;font-weight:700\">₹3,200</div><div class=\"_2Tpdn3 _18hQoS\" style=\"color:#000000;font-size:14px;font-style:normal;font-weight:400\"> Off on Exchange</div></div></div><div class=\"_2ZdXDB\"><div class=\"_3xFhiH\"><div class=\"_2Tpdn3 _18hQoS\" style=\"color:#000000;font-size:12px;font-weight:400\">No Cost EMI from ₹2,221/month</div></div></div></div></div>,\n",
       " <div class=\"_3pLy-c row\"><div class=\"col col-7-12\"><div class=\"_4rR01T\">MarQ by Flipkart 7 kg Semi Automatic Top Load Washing Machine Blue, White</div><div class=\"gUuXy-\"><span class=\"_1lRcqv\" id=\"productRating_LSTWMNG2A7GGTDSVQV8JF02X3_WMNG2A7GGTDSVQV8_\"><div class=\"_3LWZlK\">4.2<img class=\"_1wB99o\" src=\"data:image/svg+xml;base64,PHN2ZyB4bWxucz0iaHR0cDovL3d3dy53My5vcmcvMjAwMC9zdmciIHdpZHRoPSIxMyIgaGVpZ2h0PSIxMiI+PHBhdGggZmlsbD0iI0ZGRiIgZD0iTTYuNSA5LjQzOWwtMy42NzQgMi4yMy45NC00LjI2LTMuMjEtMi44ODMgNC4yNTQtLjQwNEw2LjUuMTEybDEuNjkgNC4wMSA0LjI1NC40MDQtMy4yMSAyLjg4Mi45NCA0LjI2eiIvPjwvc3ZnPg==\"/></div></span><span class=\"_2_R_DZ\"><span><span>9,530 Ratings </span><span class=\"_13vcmD\">&amp;</span><span> 1,111 Reviews</span></span></span></div><div class=\"fMghEO\"><ul class=\"_1xgFaf\"><li class=\"rgWa7D\">1350 rpm Max Speed</li><li class=\"rgWa7D\">5 Star Rating</li><li class=\"rgWa7D\">2 Years Comprehensive and 5 Years on Wash Motor from MarQ by Flipkart</li></ul></div></div><div class=\"col col-5-12 nlI3QM\"><div class=\"_3tbKJL\"><div class=\"_25b18c\"><div class=\"_30jeq3 _1_WHN1\">₹7,690</div><div class=\"_3I9_wc _27UcVY\">₹<!-- -->10,990</div><div class=\"_3Ay6Sb\"><span>30% off</span></div></div><div class=\"_3tcB5a p8ucoS\"><div><div class=\"_2Tpdn3\" style=\"color:#000000;font-size:12px;font-weight:400\">Free delivery</div></div></div></div><div class=\"_13J9qT\"><img height=\"21\" src=\"//static-assets-web.flixcart.com/fk-p-linchpin-web/fk-cp-zion/img/fa_62673a.png\"/></div><div class=\"_2ZdXDB\"><div class=\"_3xFhiH\"><div class=\"_2Tpdn3 _18hQoS\" style=\"color:#000000;font-size:14px;font-style:normal;font-weight:400\">Upto </div><div class=\"_2Tpdn3 _18hQoS\" style=\"color:#000000;font-size:14px;font-style:normal;font-weight:700\">₹2,200</div><div class=\"_2Tpdn3 _18hQoS\" style=\"color:#000000;font-size:14px;font-style:normal;font-weight:400\"> Off on Exchange</div></div></div><div class=\"_2ZdXDB\"><div class=\"_3xFhiH\"><div class=\"_2Tpdn3 _18hQoS\" style=\"color:#000000;font-size:12px;font-weight:400\">No Cost EMI from ₹1,282/month</div></div></div></div></div>,\n",
       " <div class=\"_3pLy-c row\"><div class=\"col col-7-12\"><div class=\"_4rR01T\">Voltas Beko 6 kg Hygiene+ with Pro Smart Invertor Motor Fully Automatic Front Load Washing Machine wit...</div><div class=\"fMghEO\"><ul class=\"_1xgFaf\"><li class=\"rgWa7D\">1000 rpm Max Speed</li><li class=\"rgWa7D\">5 Star Rating</li><li class=\"rgWa7D\">3 Years Comprehensive Warranty on Product and 12 Years Warranty on Motor</li></ul></div></div><div class=\"col col-5-12 nlI3QM\"><div class=\"_3tbKJL\"><div class=\"_25b18c\"><div class=\"_30jeq3 _1_WHN1\">₹21,490</div><div class=\"_3I9_wc _27UcVY\">₹<!-- -->29,990</div><div class=\"_3Ay6Sb\"><span>28% off</span></div></div><div class=\"_3tcB5a p8ucoS\"><div><div class=\"_2Tpdn3\" style=\"color:#000000;font-size:12px;font-weight:400\">Free delivery</div></div></div></div><div class=\"_13J9qT\"><img height=\"21\" src=\"//static-assets-web.flixcart.com/fk-p-linchpin-web/fk-cp-zion/img/fa_62673a.png\"/></div><div class=\"_2ZdXDB\"><div class=\"_3xFhiH\"><div class=\"_2Tpdn3 _18hQoS\" style=\"color:#000000;font-size:14px;font-style:normal;font-weight:400\">Upto </div><div class=\"_2Tpdn3 _18hQoS\" style=\"color:#000000;font-size:14px;font-style:normal;font-weight:700\">₹3,700</div><div class=\"_2Tpdn3 _18hQoS\" style=\"color:#000000;font-size:14px;font-style:normal;font-weight:400\"> Off on Exchange</div></div></div><div class=\"_2ZdXDB\"><div class=\"_3xFhiH\"><div class=\"_2Tpdn3 _18hQoS\" style=\"color:#000000;font-size:12px;font-weight:400\">No Cost EMI from ₹1,791/month</div></div></div></div></div>,\n",
       " <div class=\"_3pLy-c row\"><div class=\"col col-7-12\"><div class=\"_4rR01T\">Whirlpool 7 kg with Hard Water Wash Fully Automatic Top Load Washing Machine Grey</div><div class=\"gUuXy-\"><span class=\"_1lRcqv\" id=\"productRating_LSTWMNFYGG2CZMZXG7ST2HFQS_WMNFYGG2CZMZXG7S_\"><div class=\"_3LWZlK\">4.3<img class=\"_1wB99o\" src=\"data:image/svg+xml;base64,PHN2ZyB4bWxucz0iaHR0cDovL3d3dy53My5vcmcvMjAwMC9zdmciIHdpZHRoPSIxMyIgaGVpZ2h0PSIxMiI+PHBhdGggZmlsbD0iI0ZGRiIgZD0iTTYuNSA5LjQzOWwtMy42NzQgMi4yMy45NC00LjI2LTMuMjEtMi44ODMgNC4yNTQtLjQwNEw2LjUuMTEybDEuNjkgNC4wMSA0LjI1NC40MDQtMy4yMSAyLjg4Mi45NCA0LjI2eiIvPjwvc3ZnPg==\"/></div></span><span class=\"_2_R_DZ\"><span><span>33,469 Ratings </span><span class=\"_13vcmD\">&amp;</span><span> 2,567 Reviews</span></span></span></div><div class=\"fMghEO\"><ul class=\"_1xgFaf\"><li class=\"rgWa7D\">740 rpm Max Speed</li><li class=\"rgWa7D\">5 Star Rating</li><li class=\"rgWa7D\">2 Years Comprehensive Warranty and 5 Years on Motor from Whirlpool</li></ul></div></div><div class=\"col col-5-12 nlI3QM\"><div class=\"_3tbKJL\"><div class=\"_25b18c\"><div class=\"_30jeq3 _1_WHN1\">₹15,240</div><div class=\"_3I9_wc _27UcVY\">₹<!-- -->18,950</div><div class=\"_3Ay6Sb\"><span>19% off</span></div></div><div class=\"_3tcB5a p8ucoS\"><div><div class=\"_2Tpdn3\" style=\"color:#000000;font-size:12px;font-weight:400\">Free delivery</div></div></div></div><div class=\"_13J9qT\"><img height=\"21\" src=\"//static-assets-web.flixcart.com/fk-p-linchpin-web/fk-cp-zion/img/fa_62673a.png\"/></div><div class=\"_2ZdXDB\"><div class=\"_3xFhiH\"><div class=\"_2Tpdn3 _18hQoS\" style=\"color:#000000;font-size:14px;font-style:normal;font-weight:400\">Upto </div><div class=\"_2Tpdn3 _18hQoS\" style=\"color:#000000;font-size:14px;font-style:normal;font-weight:700\">₹2,200</div><div class=\"_2Tpdn3 _18hQoS\" style=\"color:#000000;font-size:14px;font-style:normal;font-weight:400\"> Off on Exchange</div></div></div><div class=\"_2ZdXDB\"><div class=\"_3xFhiH\"><div class=\"_2Tpdn3 _18hQoS\" style=\"color:#000000;font-size:12px;font-weight:400\">No Cost EMI from ₹1,270/month</div></div></div></div></div>,\n",
       " <div class=\"_3pLy-c row\"><div class=\"col col-7-12\"><div class=\"_4rR01T\">Whirlpool 6 kg Magic Clean 5 Star Semi Automatic Top Load Washing Machine Black, Grey</div><div class=\"gUuXy-\"><span class=\"_1lRcqv\" id=\"productRating_LSTWMNGF9W8ZNF6C5VTSVIZGI_WMNGF9W8ZNF6C5VT_\"><div class=\"_3LWZlK\">4.4<img class=\"_1wB99o\" src=\"data:image/svg+xml;base64,PHN2ZyB4bWxucz0iaHR0cDovL3d3dy53My5vcmcvMjAwMC9zdmciIHdpZHRoPSIxMyIgaGVpZ2h0PSIxMiI+PHBhdGggZmlsbD0iI0ZGRiIgZD0iTTYuNSA5LjQzOWwtMy42NzQgMi4yMy45NC00LjI2LTMuMjEtMi44ODMgNC4yNTQtLjQwNEw2LjUuMTEybDEuNjkgNC4wMSA0LjI1NC40MDQtMy4yMSAyLjg4Mi45NCA0LjI2eiIvPjwvc3ZnPg==\"/></div></span><span class=\"_2_R_DZ\"><span><span>5,292 Ratings </span><span class=\"_13vcmD\">&amp;</span><span> 418 Reviews</span></span></span></div><div class=\"fMghEO\"><ul class=\"_1xgFaf\"><li class=\"rgWa7D\">1400 rpm Max Speed</li><li class=\"rgWa7D\">5 Star Rating</li><li class=\"rgWa7D\">2 Years Comprehensive Warranty and 5 Years Warranty on Wash Motor</li></ul></div></div><div class=\"col col-5-12 nlI3QM\"><div class=\"_3tbKJL\"><div class=\"_25b18c\"><div class=\"_30jeq3 _1_WHN1\">₹8,990</div><div class=\"_3I9_wc _27UcVY\">₹<!-- -->12,700</div><div class=\"_3Ay6Sb\"><span>29% off</span></div></div><div class=\"_3tcB5a p8ucoS\"><div><div class=\"_2Tpdn3\" style=\"color:#000000;font-size:12px;font-weight:400\">Free delivery</div></div></div></div><div class=\"_13J9qT\"><img height=\"21\" src=\"//static-assets-web.flixcart.com/fk-p-linchpin-web/fk-cp-zion/img/fa_62673a.png\"/></div><div class=\"_2ZdXDB\"><div class=\"_3xFhiH\"><div class=\"_2Tpdn3 _18hQoS\" style=\"color:#000000;font-size:14px;font-style:normal;font-weight:400\">Upto </div><div class=\"_2Tpdn3 _18hQoS\" style=\"color:#000000;font-size:14px;font-style:normal;font-weight:700\">₹2,200</div><div class=\"_2Tpdn3 _18hQoS\" style=\"color:#000000;font-size:14px;font-style:normal;font-weight:400\"> Off on Exchange</div></div></div><div class=\"_2ZdXDB\"><div class=\"_3xFhiH\"><div class=\"_2Tpdn3 _18hQoS\" style=\"color:#000000;font-size:12px;font-weight:400\">No Cost EMI from ₹999/month</div></div></div></div></div>,\n",
       " <div class=\"_3pLy-c row\"><div class=\"col col-7-12\"><div class=\"_4rR01T\">SAMSUNG 7 kg Semi Automatic Top Load Washing Machine Grey, Purple</div><div class=\"gUuXy-\"><span class=\"_1lRcqv\" id=\"productRating_LSTWMNGCYG9HQFBCUBJBAP2OM_WMNGCYG9HQFBCUBJ_\"><div class=\"_3LWZlK\">4.4<img class=\"_1wB99o\" src=\"data:image/svg+xml;base64,PHN2ZyB4bWxucz0iaHR0cDovL3d3dy53My5vcmcvMjAwMC9zdmciIHdpZHRoPSIxMyIgaGVpZ2h0PSIxMiI+PHBhdGggZmlsbD0iI0ZGRiIgZD0iTTYuNSA5LjQzOWwtMy42NzQgMi4yMy45NC00LjI2LTMuMjEtMi44ODMgNC4yNTQtLjQwNEw2LjUuMTEybDEuNjkgNC4wMSA0LjI1NC40MDQtMy4yMSAyLjg4Mi45NCA0LjI2eiIvPjwvc3ZnPg==\"/></div></span><span class=\"_2_R_DZ\"><span><span>18,944 Ratings </span><span class=\"_13vcmD\">&amp;</span><span> 1,464 Reviews</span></span></span></div><div class=\"fMghEO\"><ul class=\"_1xgFaf\"><li class=\"rgWa7D\">1350 rpm Max Speed</li><li class=\"rgWa7D\">5 Star Rating</li><li class=\"rgWa7D\">2 Years Comprehensive Warranty on Product and 5 Years on Motor</li></ul></div></div><div class=\"col col-5-12 nlI3QM\"><div class=\"_3tbKJL\"><div class=\"_25b18c\"><div class=\"_30jeq3 _1_WHN1\">₹11,290</div><div class=\"_3I9_wc _27UcVY\">₹<!-- -->13,500</div><div class=\"_3Ay6Sb\"><span>16% off</span></div></div><div class=\"_3tcB5a p8ucoS\"><div><div class=\"_2Tpdn3\" style=\"color:#000000;font-size:12px;font-weight:400\">Free delivery</div></div></div></div><div class=\"_13J9qT\"><img height=\"21\" src=\"//static-assets-web.flixcart.com/fk-p-linchpin-web/fk-cp-zion/img/fa_62673a.png\"/></div><div class=\"_2ZdXDB\"><div class=\"_3xFhiH\"><div class=\"_2Tpdn3 _18hQoS\" style=\"color:#000000;font-size:14px;font-style:normal;font-weight:400\">Upto </div><div class=\"_2Tpdn3 _18hQoS\" style=\"color:#000000;font-size:14px;font-style:normal;font-weight:700\">₹2,200</div><div class=\"_2Tpdn3 _18hQoS\" style=\"color:#000000;font-size:14px;font-style:normal;font-weight:400\"> Off on Exchange</div></div></div><div class=\"_2ZdXDB\"><div class=\"_3xFhiH\"><div class=\"_2Tpdn3 _18hQoS\" style=\"color:#000000;font-size:12px;font-weight:400\">No Cost EMI from ₹941/month</div></div></div></div></div>,\n",
       " <div class=\"_3pLy-c row\"><div class=\"col col-7-12\"><div class=\"_4rR01T\">Panasonic 6 kg 5 Star AquaBeat Wash Fully Automatic Top Load Washing Machine Grey</div><div class=\"gUuXy-\"><span class=\"_1lRcqv\" id=\"productRating_LSTWMNFSNKN2K2ZAAYHDBW38K_WMNFSNKN2K2ZAAYH_\"><div class=\"_3LWZlK\">4.3<img class=\"_1wB99o\" src=\"data:image/svg+xml;base64,PHN2ZyB4bWxucz0iaHR0cDovL3d3dy53My5vcmcvMjAwMC9zdmciIHdpZHRoPSIxMyIgaGVpZ2h0PSIxMiI+PHBhdGggZmlsbD0iI0ZGRiIgZD0iTTYuNSA5LjQzOWwtMy42NzQgMi4yMy45NC00LjI2LTMuMjEtMi44ODMgNC4yNTQtLjQwNEw2LjUuMTEybDEuNjkgNC4wMSA0LjI1NC40MDQtMy4yMSAyLjg4Mi45NCA0LjI2eiIvPjwvc3ZnPg==\"/></div></span><span class=\"_2_R_DZ\"><span><span>9,767 Ratings </span><span class=\"_13vcmD\">&amp;</span><span> 1,290 Reviews</span></span></span></div><div class=\"fMghEO\"><ul class=\"_1xgFaf\"><li class=\"rgWa7D\">680 rpm Max Speed</li><li class=\"rgWa7D\">5 Star Rating</li><li class=\"rgWa7D\">2 Year  Comprehensive Warranty and 10 Years on Motor from Panasonic</li></ul></div></div><div class=\"col col-5-12 nlI3QM\"><div class=\"_3tbKJL\"><div class=\"_25b18c\"><div class=\"_30jeq3 _1_WHN1\">₹13,990</div><div class=\"_3I9_wc _27UcVY\">₹<!-- -->16,700</div><div class=\"_3Ay6Sb\"><span>16% off</span></div></div><div class=\"_3tcB5a p8ucoS\"><div><div class=\"_2Tpdn3\" style=\"color:#000000;font-size:12px;font-weight:400\">Free delivery</div></div></div></div><div class=\"_13J9qT\"><img height=\"21\" src=\"//static-assets-web.flixcart.com/fk-p-linchpin-web/fk-cp-zion/img/fa_62673a.png\"/></div><div class=\"_2ZdXDB\"><div class=\"_3xFhiH\"><div class=\"_2Tpdn3 _18hQoS\" style=\"color:#000000;font-size:14px;font-style:normal;font-weight:400\">Upto </div><div class=\"_2Tpdn3 _18hQoS\" style=\"color:#000000;font-size:14px;font-style:normal;font-weight:700\">₹2,200</div><div class=\"_2Tpdn3 _18hQoS\" style=\"color:#000000;font-size:14px;font-style:normal;font-weight:400\"> Off on Exchange</div></div></div><div class=\"_2ZdXDB\"><div class=\"_3xFhiH\"><div class=\"_2Tpdn3 _18hQoS\" style=\"color:#000000;font-size:12px;font-weight:400\">No Cost EMI from ₹2,332/month</div></div></div></div></div>]"
      ]
     },
     "execution_count": 8,
     "metadata": {},
     "output_type": "execute_result"
    }
   ],
   "source": [
    "search_wash_M = soup.find_all(\"div\", attrs = {\"class\":\"_3pLy-c row\"})\n",
    "search_wash_M"
   ]
  },
  {
   "cell_type": "code",
   "execution_count": 9,
   "id": "0f15988e",
   "metadata": {},
   "outputs": [
    {
     "data": {
      "text/plain": [
       "24"
      ]
     },
     "execution_count": 9,
     "metadata": {},
     "output_type": "execute_result"
    }
   ],
   "source": [
    "len(search_wash_M)"
   ]
  },
  {
   "cell_type": "markdown",
   "id": "6ea8e54a",
   "metadata": {},
   "source": [
    "#### Request for all data together (Data Extraction)"
   ]
  },
  {
   "cell_type": "code",
   "execution_count": 10,
   "id": "66873bc5",
   "metadata": {},
   "outputs": [],
   "source": [
    "title = []\n",
    "features = []\n",
    "ratings = []\n",
    "price = []\n",
    "\n",
    "for page in range(1,39):\n",
    "    url = f\"https://www.flipkart.com/search?q=washing+machine&sid=j9e%2Cabm%2C8qx&as=on&as-show=on&otracker=AS_QueryStore_OrganicAutoSuggest_1_3_na_na_ps&otracker1=AS_QueryStore_OrganicAutoSuggest_1_3_na_na_ps&as-pos=1&as-type=RECENT&suggestionId=washing+machine%7CWashing+Machines&requestId=e63ab4cd-7596-4ad4-86ad-030719a7993f&as-searchtext=was&page={page}\"\n",
    "#     print(url)\n",
    "    \n",
    "    \n",
    "    for wash_M in search_wash_M:\n",
    "        \n",
    "        t = wash_M.find(\"div\", attrs={\"class\":\"_4rR01T\"})\n",
    "        if(t is None):\n",
    "            title.append(np.nan)\n",
    "        else:\n",
    "            title.append(t.text)\n",
    "        \n",
    "        f = wash_M.find(\"div\", attrs={\"class\":\"col col-7-12\"})\n",
    "        if(f is None):\n",
    "            features.append(np.nan)\n",
    "        else:\n",
    "            features.append(f.text)\n",
    "        \n",
    "        r = wash_M.find(\"div\", attrs={\"class\":\"_3LWZlK\"})\n",
    "        if(r is None):\n",
    "            ratings.append(np.nan)\n",
    "        else:\n",
    "            ratings.append(r.text)\n",
    "            \n",
    "        p = wash_M.find(\"div\", attrs={\"class\":\"_30jeq3 _1_WHN1\"})\n",
    "        if(p is None):\n",
    "            price.append(np.nan)\n",
    "        else:\n",
    "            price.append(p.text)\n",
    "    "
   ]
  },
  {
   "cell_type": "code",
   "execution_count": 11,
   "id": "267387f6",
   "metadata": {},
   "outputs": [
    {
     "data": {
      "text/plain": [
       "(912, 912, 912, 912)"
      ]
     },
     "execution_count": 11,
     "metadata": {},
     "output_type": "execute_result"
    }
   ],
   "source": [
    "len(title),len(features),len(ratings),len(price)"
   ]
  },
  {
   "cell_type": "markdown",
   "id": "b9f55fa5",
   "metadata": {},
   "source": [
    "#### Converting the raw data into table format"
   ]
  },
  {
   "cell_type": "code",
   "execution_count": 12,
   "id": "0a4e1b74",
   "metadata": {},
   "outputs": [
    {
     "data": {
      "text/html": [
       "<div>\n",
       "<style scoped>\n",
       "    .dataframe tbody tr th:only-of-type {\n",
       "        vertical-align: middle;\n",
       "    }\n",
       "\n",
       "    .dataframe tbody tr th {\n",
       "        vertical-align: top;\n",
       "    }\n",
       "\n",
       "    .dataframe thead th {\n",
       "        text-align: right;\n",
       "    }\n",
       "</style>\n",
       "<table border=\"1\" class=\"dataframe\">\n",
       "  <thead>\n",
       "    <tr style=\"text-align: right;\">\n",
       "      <th></th>\n",
       "      <th>Title</th>\n",
       "      <th>Features</th>\n",
       "      <th>Ratings</th>\n",
       "      <th>Price</th>\n",
       "    </tr>\n",
       "  </thead>\n",
       "  <tbody>\n",
       "    <tr>\n",
       "      <th>0</th>\n",
       "      <td>IFB 6.5 kg 5 Star Fully Automatic Top Load Was...</td>\n",
       "      <td>IFB 6.5 kg 5 Star Fully Automatic Top Load Was...</td>\n",
       "      <td>4.3</td>\n",
       "      <td>₹19,290</td>\n",
       "    </tr>\n",
       "    <tr>\n",
       "      <th>1</th>\n",
       "      <td>Voltas Beko 6 kg WiFi enabled HomeWhiz with St...</td>\n",
       "      <td>Voltas Beko 6 kg WiFi enabled HomeWhiz with St...</td>\n",
       "      <td>3.8</td>\n",
       "      <td>₹21,990</td>\n",
       "    </tr>\n",
       "    <tr>\n",
       "      <th>2</th>\n",
       "      <td>Haier 6.5 kg 5 Star Oceanus Wave Drum Washing ...</td>\n",
       "      <td>Haier 6.5 kg 5 Star Oceanus Wave Drum Washing ...</td>\n",
       "      <td>4.3</td>\n",
       "      <td>₹12,990</td>\n",
       "    </tr>\n",
       "    <tr>\n",
       "      <th>3</th>\n",
       "      <td>LG 7 kg 5 star rating and Wind jet dry Semi Au...</td>\n",
       "      <td>LG 7 kg 5 star rating and Wind jet dry Semi Au...</td>\n",
       "      <td>4.5</td>\n",
       "      <td>₹11,990</td>\n",
       "    </tr>\n",
       "    <tr>\n",
       "      <th>4</th>\n",
       "      <td>SAMSUNG 7 kg Inverter 5 Star with Eco Bubble T...</td>\n",
       "      <td>SAMSUNG 7 kg Inverter 5 Star with Eco Bubble T...</td>\n",
       "      <td>4.3</td>\n",
       "      <td>₹17,990</td>\n",
       "    </tr>\n",
       "    <tr>\n",
       "      <th>...</th>\n",
       "      <td>...</td>\n",
       "      <td>...</td>\n",
       "      <td>...</td>\n",
       "      <td>...</td>\n",
       "    </tr>\n",
       "    <tr>\n",
       "      <th>907</th>\n",
       "      <td>Voltas Beko 6 kg Hygiene+ with Pro Smart Inver...</td>\n",
       "      <td>Voltas Beko 6 kg Hygiene+ with Pro Smart Inver...</td>\n",
       "      <td>NaN</td>\n",
       "      <td>₹21,490</td>\n",
       "    </tr>\n",
       "    <tr>\n",
       "      <th>908</th>\n",
       "      <td>Whirlpool 7 kg with Hard Water Wash Fully Auto...</td>\n",
       "      <td>Whirlpool 7 kg with Hard Water Wash Fully Auto...</td>\n",
       "      <td>4.3</td>\n",
       "      <td>₹15,240</td>\n",
       "    </tr>\n",
       "    <tr>\n",
       "      <th>909</th>\n",
       "      <td>Whirlpool 6 kg Magic Clean 5 Star Semi Automat...</td>\n",
       "      <td>Whirlpool 6 kg Magic Clean 5 Star Semi Automat...</td>\n",
       "      <td>4.4</td>\n",
       "      <td>₹8,990</td>\n",
       "    </tr>\n",
       "    <tr>\n",
       "      <th>910</th>\n",
       "      <td>SAMSUNG 7 kg Semi Automatic Top Load Washing M...</td>\n",
       "      <td>SAMSUNG 7 kg Semi Automatic Top Load Washing M...</td>\n",
       "      <td>4.4</td>\n",
       "      <td>₹11,290</td>\n",
       "    </tr>\n",
       "    <tr>\n",
       "      <th>911</th>\n",
       "      <td>Panasonic 6 kg 5 Star AquaBeat Wash Fully Auto...</td>\n",
       "      <td>Panasonic 6 kg 5 Star AquaBeat Wash Fully Auto...</td>\n",
       "      <td>4.3</td>\n",
       "      <td>₹13,990</td>\n",
       "    </tr>\n",
       "  </tbody>\n",
       "</table>\n",
       "<p>912 rows × 4 columns</p>\n",
       "</div>"
      ],
      "text/plain": [
       "                                                 Title  \\\n",
       "0    IFB 6.5 kg 5 Star Fully Automatic Top Load Was...   \n",
       "1    Voltas Beko 6 kg WiFi enabled HomeWhiz with St...   \n",
       "2    Haier 6.5 kg 5 Star Oceanus Wave Drum Washing ...   \n",
       "3    LG 7 kg 5 star rating and Wind jet dry Semi Au...   \n",
       "4    SAMSUNG 7 kg Inverter 5 Star with Eco Bubble T...   \n",
       "..                                                 ...   \n",
       "907  Voltas Beko 6 kg Hygiene+ with Pro Smart Inver...   \n",
       "908  Whirlpool 7 kg with Hard Water Wash Fully Auto...   \n",
       "909  Whirlpool 6 kg Magic Clean 5 Star Semi Automat...   \n",
       "910  SAMSUNG 7 kg Semi Automatic Top Load Washing M...   \n",
       "911  Panasonic 6 kg 5 Star AquaBeat Wash Fully Auto...   \n",
       "\n",
       "                                              Features Ratings    Price  \n",
       "0    IFB 6.5 kg 5 Star Fully Automatic Top Load Was...     4.3  ₹19,290  \n",
       "1    Voltas Beko 6 kg WiFi enabled HomeWhiz with St...     3.8  ₹21,990  \n",
       "2    Haier 6.5 kg 5 Star Oceanus Wave Drum Washing ...     4.3  ₹12,990  \n",
       "3    LG 7 kg 5 star rating and Wind jet dry Semi Au...     4.5  ₹11,990  \n",
       "4    SAMSUNG 7 kg Inverter 5 Star with Eco Bubble T...     4.3  ₹17,990  \n",
       "..                                                 ...     ...      ...  \n",
       "907  Voltas Beko 6 kg Hygiene+ with Pro Smart Inver...     NaN  ₹21,490  \n",
       "908  Whirlpool 7 kg with Hard Water Wash Fully Auto...     4.3  ₹15,240  \n",
       "909  Whirlpool 6 kg Magic Clean 5 Star Semi Automat...     4.4   ₹8,990  \n",
       "910  SAMSUNG 7 kg Semi Automatic Top Load Washing M...     4.4  ₹11,290  \n",
       "911  Panasonic 6 kg 5 Star AquaBeat Wash Fully Auto...     4.3  ₹13,990  \n",
       "\n",
       "[912 rows x 4 columns]"
      ]
     },
     "execution_count": 12,
     "metadata": {},
     "output_type": "execute_result"
    }
   ],
   "source": [
    "wash_M_df = pd.DataFrame({\"Title\": title,\n",
    "                         \"Features\": features,\n",
    "                         \"Ratings\": ratings,\n",
    "                         \"Price\": price})\n",
    "wash_M_df"
   ]
  },
  {
   "cell_type": "code",
   "execution_count": 13,
   "id": "671ea364",
   "metadata": {},
   "outputs": [
    {
     "data": {
      "text/html": [
       "<div>\n",
       "<style scoped>\n",
       "    .dataframe tbody tr th:only-of-type {\n",
       "        vertical-align: middle;\n",
       "    }\n",
       "\n",
       "    .dataframe tbody tr th {\n",
       "        vertical-align: top;\n",
       "    }\n",
       "\n",
       "    .dataframe thead th {\n",
       "        text-align: right;\n",
       "    }\n",
       "</style>\n",
       "<table border=\"1\" class=\"dataframe\">\n",
       "  <thead>\n",
       "    <tr style=\"text-align: right;\">\n",
       "      <th></th>\n",
       "      <th>Title</th>\n",
       "      <th>Features</th>\n",
       "      <th>Ratings</th>\n",
       "      <th>Price</th>\n",
       "    </tr>\n",
       "  </thead>\n",
       "  <tbody>\n",
       "    <tr>\n",
       "      <th>0</th>\n",
       "      <td>IFB 6.5 kg 5 Star Fully Automatic Top Load Was...</td>\n",
       "      <td>IFB 6.5 kg 5 Star Fully Automatic Top Load Was...</td>\n",
       "      <td>4.3</td>\n",
       "      <td>₹19,290</td>\n",
       "    </tr>\n",
       "    <tr>\n",
       "      <th>1</th>\n",
       "      <td>Voltas Beko 6 kg WiFi enabled HomeWhiz with St...</td>\n",
       "      <td>Voltas Beko 6 kg WiFi enabled HomeWhiz with St...</td>\n",
       "      <td>3.8</td>\n",
       "      <td>₹21,990</td>\n",
       "    </tr>\n",
       "    <tr>\n",
       "      <th>2</th>\n",
       "      <td>Haier 6.5 kg 5 Star Oceanus Wave Drum Washing ...</td>\n",
       "      <td>Haier 6.5 kg 5 Star Oceanus Wave Drum Washing ...</td>\n",
       "      <td>4.3</td>\n",
       "      <td>₹12,990</td>\n",
       "    </tr>\n",
       "    <tr>\n",
       "      <th>3</th>\n",
       "      <td>LG 7 kg 5 star rating and Wind jet dry Semi Au...</td>\n",
       "      <td>LG 7 kg 5 star rating and Wind jet dry Semi Au...</td>\n",
       "      <td>4.5</td>\n",
       "      <td>₹11,990</td>\n",
       "    </tr>\n",
       "    <tr>\n",
       "      <th>4</th>\n",
       "      <td>SAMSUNG 7 kg Inverter 5 Star with Eco Bubble T...</td>\n",
       "      <td>SAMSUNG 7 kg Inverter 5 Star with Eco Bubble T...</td>\n",
       "      <td>4.3</td>\n",
       "      <td>₹17,990</td>\n",
       "    </tr>\n",
       "  </tbody>\n",
       "</table>\n",
       "</div>"
      ],
      "text/plain": [
       "                                               Title  \\\n",
       "0  IFB 6.5 kg 5 Star Fully Automatic Top Load Was...   \n",
       "1  Voltas Beko 6 kg WiFi enabled HomeWhiz with St...   \n",
       "2  Haier 6.5 kg 5 Star Oceanus Wave Drum Washing ...   \n",
       "3  LG 7 kg 5 star rating and Wind jet dry Semi Au...   \n",
       "4  SAMSUNG 7 kg Inverter 5 Star with Eco Bubble T...   \n",
       "\n",
       "                                            Features Ratings    Price  \n",
       "0  IFB 6.5 kg 5 Star Fully Automatic Top Load Was...     4.3  ₹19,290  \n",
       "1  Voltas Beko 6 kg WiFi enabled HomeWhiz with St...     3.8  ₹21,990  \n",
       "2  Haier 6.5 kg 5 Star Oceanus Wave Drum Washing ...     4.3  ₹12,990  \n",
       "3  LG 7 kg 5 star rating and Wind jet dry Semi Au...     4.5  ₹11,990  \n",
       "4  SAMSUNG 7 kg Inverter 5 Star with Eco Bubble T...     4.3  ₹17,990  "
      ]
     },
     "execution_count": 13,
     "metadata": {},
     "output_type": "execute_result"
    }
   ],
   "source": [
    "wash_M_df.head()"
   ]
  },
  {
   "cell_type": "code",
   "execution_count": 14,
   "id": "4ab76656",
   "metadata": {},
   "outputs": [
    {
     "data": {
      "text/plain": [
       "912"
      ]
     },
     "execution_count": 14,
     "metadata": {},
     "output_type": "execute_result"
    }
   ],
   "source": [
    "len(wash_M_df)"
   ]
  },
  {
   "cell_type": "markdown",
   "id": "b0a37b45",
   "metadata": {},
   "source": [
    "#### Saving the file into .csv format"
   ]
  },
  {
   "cell_type": "code",
   "execution_count": 15,
   "id": "79f178b2",
   "metadata": {},
   "outputs": [],
   "source": [
    "wash_M_df.to_csv(\"washing_machine,csv\", index=False)"
   ]
  },
  {
   "cell_type": "markdown",
   "id": "517788b4",
   "metadata": {},
   "source": [
    "#### Reading the csv file"
   ]
  },
  {
   "cell_type": "code",
   "execution_count": 6,
   "id": "bab836a9",
   "metadata": {},
   "outputs": [],
   "source": [
    "wash_M_df = pd.read_csv(\"washing_machine.csv\")"
   ]
  },
  {
   "cell_type": "code",
   "execution_count": 7,
   "id": "501a5373",
   "metadata": {},
   "outputs": [
    {
     "data": {
      "text/plain": [
       "(912, 4)"
      ]
     },
     "execution_count": 7,
     "metadata": {},
     "output_type": "execute_result"
    }
   ],
   "source": [
    "wash_M_df.shape"
   ]
  },
  {
   "cell_type": "code",
   "execution_count": 8,
   "id": "19a462a7",
   "metadata": {},
   "outputs": [
    {
     "name": "stdout",
     "output_type": "stream",
     "text": [
      "<class 'pandas.core.frame.DataFrame'>\n",
      "RangeIndex: 912 entries, 0 to 911\n",
      "Data columns (total 4 columns):\n",
      " #   Column    Non-Null Count  Dtype  \n",
      "---  ------    --------------  -----  \n",
      " 0   Title     912 non-null    object \n",
      " 1   Features  912 non-null    object \n",
      " 2   Ratings   874 non-null    float64\n",
      " 3   Price     912 non-null    object \n",
      "dtypes: float64(1), object(3)\n",
      "memory usage: 28.6+ KB\n"
     ]
    }
   ],
   "source": [
    "wash_M_df.info()"
   ]
  },
  {
   "cell_type": "code",
   "execution_count": 9,
   "id": "81c01c22",
   "metadata": {
    "scrolled": true
   },
   "outputs": [
    {
     "data": {
      "text/html": [
       "<div>\n",
       "<style scoped>\n",
       "    .dataframe tbody tr th:only-of-type {\n",
       "        vertical-align: middle;\n",
       "    }\n",
       "\n",
       "    .dataframe tbody tr th {\n",
       "        vertical-align: top;\n",
       "    }\n",
       "\n",
       "    .dataframe thead th {\n",
       "        text-align: right;\n",
       "    }\n",
       "</style>\n",
       "<table border=\"1\" class=\"dataframe\">\n",
       "  <thead>\n",
       "    <tr style=\"text-align: right;\">\n",
       "      <th></th>\n",
       "      <th>Title</th>\n",
       "      <th>Features</th>\n",
       "      <th>Ratings</th>\n",
       "      <th>Price</th>\n",
       "    </tr>\n",
       "  </thead>\n",
       "  <tbody>\n",
       "    <tr>\n",
       "      <th>0</th>\n",
       "      <td>Thomson 7 kg Washer only Red, White</td>\n",
       "      <td>Thomson 7 kg Washer only Red, White4.1854 Rati...</td>\n",
       "      <td>4.1</td>\n",
       "      <td>₹4,990</td>\n",
       "    </tr>\n",
       "    <tr>\n",
       "      <th>1</th>\n",
       "      <td>SAMSUNG 7 kg Diamond Drum feature Fully Automa...</td>\n",
       "      <td>SAMSUNG 7 kg Diamond Drum feature Fully Automa...</td>\n",
       "      <td>4.3</td>\n",
       "      <td>₹15,790</td>\n",
       "    </tr>\n",
       "    <tr>\n",
       "      <th>2</th>\n",
       "      <td>realme TechLife 7.5 kg 5 Star Rating Fabric Sa...</td>\n",
       "      <td>realme TechLife 7.5 kg 5 Star Rating Fabric Sa...</td>\n",
       "      <td>4.2</td>\n",
       "      <td>₹13,490</td>\n",
       "    </tr>\n",
       "    <tr>\n",
       "      <th>3</th>\n",
       "      <td>SAMSUNG 7 kg Inverter 5 Star with Eco Bubble T...</td>\n",
       "      <td>SAMSUNG 7 kg Inverter 5 Star with Eco Bubble T...</td>\n",
       "      <td>4.3</td>\n",
       "      <td>₹17,990</td>\n",
       "    </tr>\n",
       "    <tr>\n",
       "      <th>4</th>\n",
       "      <td>Whirlpool 6 kg Magic Clean 5 Star Fully Automa...</td>\n",
       "      <td>Whirlpool 6 kg Magic Clean 5 Star Fully Automa...</td>\n",
       "      <td>4.3</td>\n",
       "      <td>₹13,990</td>\n",
       "    </tr>\n",
       "  </tbody>\n",
       "</table>\n",
       "</div>"
      ],
      "text/plain": [
       "                                               Title  \\\n",
       "0                Thomson 7 kg Washer only Red, White   \n",
       "1  SAMSUNG 7 kg Diamond Drum feature Fully Automa...   \n",
       "2  realme TechLife 7.5 kg 5 Star Rating Fabric Sa...   \n",
       "3  SAMSUNG 7 kg Inverter 5 Star with Eco Bubble T...   \n",
       "4  Whirlpool 6 kg Magic Clean 5 Star Fully Automa...   \n",
       "\n",
       "                                            Features  Ratings    Price  \n",
       "0  Thomson 7 kg Washer only Red, White4.1854 Rati...      4.1   ₹4,990  \n",
       "1  SAMSUNG 7 kg Diamond Drum feature Fully Automa...      4.3  ₹15,790  \n",
       "2  realme TechLife 7.5 kg 5 Star Rating Fabric Sa...      4.2  ₹13,490  \n",
       "3  SAMSUNG 7 kg Inverter 5 Star with Eco Bubble T...      4.3  ₹17,990  \n",
       "4  Whirlpool 6 kg Magic Clean 5 Star Fully Automa...      4.3  ₹13,990  "
      ]
     },
     "execution_count": 9,
     "metadata": {},
     "output_type": "execute_result"
    }
   ],
   "source": [
    "wash_M_df.head()"
   ]
  },
  {
   "cell_type": "code",
   "execution_count": 20,
   "id": "6fc46e82",
   "metadata": {},
   "outputs": [
    {
     "data": {
      "text/plain": [
       "'Thomson 7 kg Washer only Red, White4.1854 Ratings\\xa0&\\xa0104 Reviews780 rpm Max Speed1 Years Comprehensive Warranty on Product and 5 Years on Wash Motor'"
      ]
     },
     "execution_count": 20,
     "metadata": {},
     "output_type": "execute_result"
    }
   ],
   "source": [
    "wash_M_df[\"Features\"][0]"
   ]
  },
  {
   "cell_type": "code",
   "execution_count": 11,
   "id": "53e49131",
   "metadata": {},
   "outputs": [
    {
     "data": {
      "text/plain": [
       "'Thomson 7 kg Washer only Red, White'"
      ]
     },
     "execution_count": 11,
     "metadata": {},
     "output_type": "execute_result"
    }
   ],
   "source": [
    "wash_M_df[\"Title\"][0]"
   ]
  },
  {
   "cell_type": "code",
   "execution_count": 12,
   "id": "9a67f6c9",
   "metadata": {},
   "outputs": [
    {
     "data": {
      "text/plain": [
       "'Thomson 7 kg Washer only Red, White'"
      ]
     },
     "execution_count": 12,
     "metadata": {},
     "output_type": "execute_result"
    }
   ],
   "source": [
    "wash_M_df[\"Title\"][0]"
   ]
  },
  {
   "cell_type": "code",
   "execution_count": 13,
   "id": "ee24cbdf",
   "metadata": {},
   "outputs": [
    {
     "data": {
      "text/plain": [
       "[' 7 kg']"
      ]
     },
     "execution_count": 13,
     "metadata": {},
     "output_type": "execute_result"
    }
   ],
   "source": [
    "re.findall(\"[\\d+\\s]+kg\",wash_M_df[\"Features\"][0])"
   ]
  },
  {
   "cell_type": "code",
   "execution_count": 15,
   "id": "ec753dda",
   "metadata": {},
   "outputs": [
    {
     "data": {
      "text/plain": [
       "['Red', 'White']"
      ]
     },
     "execution_count": 15,
     "metadata": {},
     "output_type": "execute_result"
    }
   ],
   "source": [
    "re.findall(\"White|Blue|Green|Red|Purple\", wash_M_df[\"Features\"][0])"
   ]
  },
  {
   "cell_type": "code",
   "execution_count": 16,
   "id": "34787fcb",
   "metadata": {},
   "outputs": [
    {
     "data": {
      "text/plain": [
       "['780 rpm']"
      ]
     },
     "execution_count": 16,
     "metadata": {},
     "output_type": "execute_result"
    }
   ],
   "source": [
    "re.findall(\"[\\d+\\s]+rpm\", wash_M_df[\"Features\"][0])"
   ]
  },
  {
   "cell_type": "code",
   "execution_count": 17,
   "id": "a5c34e58",
   "metadata": {},
   "outputs": [],
   "source": [
    "def getcapacity(x):\n",
    "    return re.findall(\"[\\d\\s|\\d\\.\\d\\s]+kg\", x)"
   ]
  },
  {
   "cell_type": "code",
   "execution_count": 18,
   "id": "edff5aa3",
   "metadata": {},
   "outputs": [
    {
     "data": {
      "text/html": [
       "<div>\n",
       "<style scoped>\n",
       "    .dataframe tbody tr th:only-of-type {\n",
       "        vertical-align: middle;\n",
       "    }\n",
       "\n",
       "    .dataframe tbody tr th {\n",
       "        vertical-align: top;\n",
       "    }\n",
       "\n",
       "    .dataframe thead th {\n",
       "        text-align: right;\n",
       "    }\n",
       "</style>\n",
       "<table border=\"1\" class=\"dataframe\">\n",
       "  <thead>\n",
       "    <tr style=\"text-align: right;\">\n",
       "      <th></th>\n",
       "      <th>Title</th>\n",
       "      <th>Features</th>\n",
       "      <th>Ratings</th>\n",
       "      <th>Price</th>\n",
       "    </tr>\n",
       "  </thead>\n",
       "  <tbody>\n",
       "    <tr>\n",
       "      <th>0</th>\n",
       "      <td>Thomson 7 kg Washer only Red, White</td>\n",
       "      <td>Thomson 7 kg Washer only Red, White4.1854 Rati...</td>\n",
       "      <td>4.1</td>\n",
       "      <td>₹4,990</td>\n",
       "    </tr>\n",
       "    <tr>\n",
       "      <th>1</th>\n",
       "      <td>SAMSUNG 7 kg Diamond Drum feature Fully Automa...</td>\n",
       "      <td>SAMSUNG 7 kg Diamond Drum feature Fully Automa...</td>\n",
       "      <td>4.3</td>\n",
       "      <td>₹15,790</td>\n",
       "    </tr>\n",
       "    <tr>\n",
       "      <th>2</th>\n",
       "      <td>realme TechLife 7.5 kg 5 Star Rating Fabric Sa...</td>\n",
       "      <td>realme TechLife 7.5 kg 5 Star Rating Fabric Sa...</td>\n",
       "      <td>4.2</td>\n",
       "      <td>₹13,490</td>\n",
       "    </tr>\n",
       "    <tr>\n",
       "      <th>3</th>\n",
       "      <td>SAMSUNG 7 kg Inverter 5 Star with Eco Bubble T...</td>\n",
       "      <td>SAMSUNG 7 kg Inverter 5 Star with Eco Bubble T...</td>\n",
       "      <td>4.3</td>\n",
       "      <td>₹17,990</td>\n",
       "    </tr>\n",
       "    <tr>\n",
       "      <th>4</th>\n",
       "      <td>Whirlpool 6 kg Magic Clean 5 Star Fully Automa...</td>\n",
       "      <td>Whirlpool 6 kg Magic Clean 5 Star Fully Automa...</td>\n",
       "      <td>4.3</td>\n",
       "      <td>₹13,990</td>\n",
       "    </tr>\n",
       "  </tbody>\n",
       "</table>\n",
       "</div>"
      ],
      "text/plain": [
       "                                               Title  \\\n",
       "0                Thomson 7 kg Washer only Red, White   \n",
       "1  SAMSUNG 7 kg Diamond Drum feature Fully Automa...   \n",
       "2  realme TechLife 7.5 kg 5 Star Rating Fabric Sa...   \n",
       "3  SAMSUNG 7 kg Inverter 5 Star with Eco Bubble T...   \n",
       "4  Whirlpool 6 kg Magic Clean 5 Star Fully Automa...   \n",
       "\n",
       "                                            Features  Ratings    Price  \n",
       "0  Thomson 7 kg Washer only Red, White4.1854 Rati...      4.1   ₹4,990  \n",
       "1  SAMSUNG 7 kg Diamond Drum feature Fully Automa...      4.3  ₹15,790  \n",
       "2  realme TechLife 7.5 kg 5 Star Rating Fabric Sa...      4.2  ₹13,490  \n",
       "3  SAMSUNG 7 kg Inverter 5 Star with Eco Bubble T...      4.3  ₹17,990  \n",
       "4  Whirlpool 6 kg Magic Clean 5 Star Fully Automa...      4.3  ₹13,990  "
      ]
     },
     "execution_count": 18,
     "metadata": {},
     "output_type": "execute_result"
    }
   ],
   "source": [
    "wash_M_df.head()"
   ]
  },
  {
   "cell_type": "code",
   "execution_count": 19,
   "id": "02fe1a96",
   "metadata": {},
   "outputs": [],
   "source": [
    "wash_M_df[\"Capacity\"] = wash_M_df[\"Features\"].apply(getcapacity)"
   ]
  },
  {
   "cell_type": "code",
   "execution_count": 20,
   "id": "a74b1bb2",
   "metadata": {},
   "outputs": [
    {
     "data": {
      "text/html": [
       "<div>\n",
       "<style scoped>\n",
       "    .dataframe tbody tr th:only-of-type {\n",
       "        vertical-align: middle;\n",
       "    }\n",
       "\n",
       "    .dataframe tbody tr th {\n",
       "        vertical-align: top;\n",
       "    }\n",
       "\n",
       "    .dataframe thead th {\n",
       "        text-align: right;\n",
       "    }\n",
       "</style>\n",
       "<table border=\"1\" class=\"dataframe\">\n",
       "  <thead>\n",
       "    <tr style=\"text-align: right;\">\n",
       "      <th></th>\n",
       "      <th>Title</th>\n",
       "      <th>Features</th>\n",
       "      <th>Ratings</th>\n",
       "      <th>Price</th>\n",
       "      <th>Capacity</th>\n",
       "    </tr>\n",
       "  </thead>\n",
       "  <tbody>\n",
       "    <tr>\n",
       "      <th>0</th>\n",
       "      <td>Thomson 7 kg Washer only Red, White</td>\n",
       "      <td>Thomson 7 kg Washer only Red, White4.1854 Rati...</td>\n",
       "      <td>4.1</td>\n",
       "      <td>₹4,990</td>\n",
       "      <td>[ 7 kg]</td>\n",
       "    </tr>\n",
       "    <tr>\n",
       "      <th>1</th>\n",
       "      <td>SAMSUNG 7 kg Diamond Drum feature Fully Automa...</td>\n",
       "      <td>SAMSUNG 7 kg Diamond Drum feature Fully Automa...</td>\n",
       "      <td>4.3</td>\n",
       "      <td>₹15,790</td>\n",
       "      <td>[ 7 kg]</td>\n",
       "    </tr>\n",
       "    <tr>\n",
       "      <th>2</th>\n",
       "      <td>realme TechLife 7.5 kg 5 Star Rating Fabric Sa...</td>\n",
       "      <td>realme TechLife 7.5 kg 5 Star Rating Fabric Sa...</td>\n",
       "      <td>4.2</td>\n",
       "      <td>₹13,490</td>\n",
       "      <td>[ 7.5 kg]</td>\n",
       "    </tr>\n",
       "    <tr>\n",
       "      <th>3</th>\n",
       "      <td>SAMSUNG 7 kg Inverter 5 Star with Eco Bubble T...</td>\n",
       "      <td>SAMSUNG 7 kg Inverter 5 Star with Eco Bubble T...</td>\n",
       "      <td>4.3</td>\n",
       "      <td>₹17,990</td>\n",
       "      <td>[ 7 kg]</td>\n",
       "    </tr>\n",
       "    <tr>\n",
       "      <th>4</th>\n",
       "      <td>Whirlpool 6 kg Magic Clean 5 Star Fully Automa...</td>\n",
       "      <td>Whirlpool 6 kg Magic Clean 5 Star Fully Automa...</td>\n",
       "      <td>4.3</td>\n",
       "      <td>₹13,990</td>\n",
       "      <td>[ 6 kg]</td>\n",
       "    </tr>\n",
       "  </tbody>\n",
       "</table>\n",
       "</div>"
      ],
      "text/plain": [
       "                                               Title  \\\n",
       "0                Thomson 7 kg Washer only Red, White   \n",
       "1  SAMSUNG 7 kg Diamond Drum feature Fully Automa...   \n",
       "2  realme TechLife 7.5 kg 5 Star Rating Fabric Sa...   \n",
       "3  SAMSUNG 7 kg Inverter 5 Star with Eco Bubble T...   \n",
       "4  Whirlpool 6 kg Magic Clean 5 Star Fully Automa...   \n",
       "\n",
       "                                            Features  Ratings    Price  \\\n",
       "0  Thomson 7 kg Washer only Red, White4.1854 Rati...      4.1   ₹4,990   \n",
       "1  SAMSUNG 7 kg Diamond Drum feature Fully Automa...      4.3  ₹15,790   \n",
       "2  realme TechLife 7.5 kg 5 Star Rating Fabric Sa...      4.2  ₹13,490   \n",
       "3  SAMSUNG 7 kg Inverter 5 Star with Eco Bubble T...      4.3  ₹17,990   \n",
       "4  Whirlpool 6 kg Magic Clean 5 Star Fully Automa...      4.3  ₹13,990   \n",
       "\n",
       "    Capacity  \n",
       "0    [ 7 kg]  \n",
       "1    [ 7 kg]  \n",
       "2  [ 7.5 kg]  \n",
       "3    [ 7 kg]  \n",
       "4    [ 6 kg]  "
      ]
     },
     "execution_count": 20,
     "metadata": {},
     "output_type": "execute_result"
    }
   ],
   "source": [
    "wash_M_df.head()"
   ]
  },
  {
   "cell_type": "code",
   "execution_count": null,
   "id": "8a9c453a",
   "metadata": {},
   "outputs": [],
   "source": []
  },
  {
   "cell_type": "code",
   "execution_count": 21,
   "id": "c300dbf5",
   "metadata": {},
   "outputs": [
    {
     "data": {
      "text/plain": [
       "'Thomson 7 kg Washer only Red, White4.1854 Ratings\\xa0&\\xa0104 Reviews780 rpm Max Speed1 Years Comprehensive Warranty on Product and 5 Years on Wash Motor'"
      ]
     },
     "execution_count": 21,
     "metadata": {},
     "output_type": "execute_result"
    }
   ],
   "source": [
    "wash_M_df[\"Features\"][0]"
   ]
  },
  {
   "cell_type": "code",
   "execution_count": 22,
   "id": "d9498545",
   "metadata": {},
   "outputs": [
    {
     "data": {
      "text/plain": [
       "['780 rpm']"
      ]
     },
     "execution_count": 22,
     "metadata": {},
     "output_type": "execute_result"
    }
   ],
   "source": [
    "re.findall(\"[\\d+\\s]+rpm\", wash_M_df[\"Features\"][0])"
   ]
  },
  {
   "cell_type": "code",
   "execution_count": 23,
   "id": "9fea8342",
   "metadata": {},
   "outputs": [],
   "source": [
    "speed_lambda = lambda x: re.findall(\"[\\d+\\s]+rpm\",x)"
   ]
  },
  {
   "cell_type": "code",
   "execution_count": 24,
   "id": "a7bde406",
   "metadata": {},
   "outputs": [],
   "source": [
    "wash_M_df[\"Speed\"] = wash_M_df[\"Features\"].apply(speed_lambda)"
   ]
  },
  {
   "cell_type": "code",
   "execution_count": 25,
   "id": "b873eb80",
   "metadata": {},
   "outputs": [
    {
     "data": {
      "text/html": [
       "<div>\n",
       "<style scoped>\n",
       "    .dataframe tbody tr th:only-of-type {\n",
       "        vertical-align: middle;\n",
       "    }\n",
       "\n",
       "    .dataframe tbody tr th {\n",
       "        vertical-align: top;\n",
       "    }\n",
       "\n",
       "    .dataframe thead th {\n",
       "        text-align: right;\n",
       "    }\n",
       "</style>\n",
       "<table border=\"1\" class=\"dataframe\">\n",
       "  <thead>\n",
       "    <tr style=\"text-align: right;\">\n",
       "      <th></th>\n",
       "      <th>Title</th>\n",
       "      <th>Features</th>\n",
       "      <th>Ratings</th>\n",
       "      <th>Price</th>\n",
       "      <th>Capacity</th>\n",
       "      <th>Speed</th>\n",
       "    </tr>\n",
       "  </thead>\n",
       "  <tbody>\n",
       "    <tr>\n",
       "      <th>0</th>\n",
       "      <td>Thomson 7 kg Washer only Red, White</td>\n",
       "      <td>Thomson 7 kg Washer only Red, White4.1854 Rati...</td>\n",
       "      <td>4.1</td>\n",
       "      <td>₹4,990</td>\n",
       "      <td>[ 7 kg]</td>\n",
       "      <td>[780 rpm]</td>\n",
       "    </tr>\n",
       "    <tr>\n",
       "      <th>1</th>\n",
       "      <td>SAMSUNG 7 kg Diamond Drum feature Fully Automa...</td>\n",
       "      <td>SAMSUNG 7 kg Diamond Drum feature Fully Automa...</td>\n",
       "      <td>4.3</td>\n",
       "      <td>₹15,790</td>\n",
       "      <td>[ 7 kg]</td>\n",
       "      <td>[680 rpm]</td>\n",
       "    </tr>\n",
       "    <tr>\n",
       "      <th>2</th>\n",
       "      <td>realme TechLife 7.5 kg 5 Star Rating Fabric Sa...</td>\n",
       "      <td>realme TechLife 7.5 kg 5 Star Rating Fabric Sa...</td>\n",
       "      <td>4.2</td>\n",
       "      <td>₹13,490</td>\n",
       "      <td>[ 7.5 kg]</td>\n",
       "      <td>[700 rpm]</td>\n",
       "    </tr>\n",
       "    <tr>\n",
       "      <th>3</th>\n",
       "      <td>SAMSUNG 7 kg Inverter 5 Star with Eco Bubble T...</td>\n",
       "      <td>SAMSUNG 7 kg Inverter 5 Star with Eco Bubble T...</td>\n",
       "      <td>4.3</td>\n",
       "      <td>₹17,990</td>\n",
       "      <td>[ 7 kg]</td>\n",
       "      <td>[700 rpm]</td>\n",
       "    </tr>\n",
       "    <tr>\n",
       "      <th>4</th>\n",
       "      <td>Whirlpool 6 kg Magic Clean 5 Star Fully Automa...</td>\n",
       "      <td>Whirlpool 6 kg Magic Clean 5 Star Fully Automa...</td>\n",
       "      <td>4.3</td>\n",
       "      <td>₹13,990</td>\n",
       "      <td>[ 6 kg]</td>\n",
       "      <td>[740 rpm]</td>\n",
       "    </tr>\n",
       "  </tbody>\n",
       "</table>\n",
       "</div>"
      ],
      "text/plain": [
       "                                               Title  \\\n",
       "0                Thomson 7 kg Washer only Red, White   \n",
       "1  SAMSUNG 7 kg Diamond Drum feature Fully Automa...   \n",
       "2  realme TechLife 7.5 kg 5 Star Rating Fabric Sa...   \n",
       "3  SAMSUNG 7 kg Inverter 5 Star with Eco Bubble T...   \n",
       "4  Whirlpool 6 kg Magic Clean 5 Star Fully Automa...   \n",
       "\n",
       "                                            Features  Ratings    Price  \\\n",
       "0  Thomson 7 kg Washer only Red, White4.1854 Rati...      4.1   ₹4,990   \n",
       "1  SAMSUNG 7 kg Diamond Drum feature Fully Automa...      4.3  ₹15,790   \n",
       "2  realme TechLife 7.5 kg 5 Star Rating Fabric Sa...      4.2  ₹13,490   \n",
       "3  SAMSUNG 7 kg Inverter 5 Star with Eco Bubble T...      4.3  ₹17,990   \n",
       "4  Whirlpool 6 kg Magic Clean 5 Star Fully Automa...      4.3  ₹13,990   \n",
       "\n",
       "    Capacity      Speed  \n",
       "0    [ 7 kg]  [780 rpm]  \n",
       "1    [ 7 kg]  [680 rpm]  \n",
       "2  [ 7.5 kg]  [700 rpm]  \n",
       "3    [ 7 kg]  [700 rpm]  \n",
       "4    [ 6 kg]  [740 rpm]  "
      ]
     },
     "execution_count": 25,
     "metadata": {},
     "output_type": "execute_result"
    }
   ],
   "source": [
    "wash_M_df.head()"
   ]
  },
  {
   "cell_type": "code",
   "execution_count": 26,
   "id": "367d4245",
   "metadata": {},
   "outputs": [
    {
     "data": {
      "text/html": [
       "<div>\n",
       "<style scoped>\n",
       "    .dataframe tbody tr th:only-of-type {\n",
       "        vertical-align: middle;\n",
       "    }\n",
       "\n",
       "    .dataframe tbody tr th {\n",
       "        vertical-align: top;\n",
       "    }\n",
       "\n",
       "    .dataframe thead th {\n",
       "        text-align: right;\n",
       "    }\n",
       "</style>\n",
       "<table border=\"1\" class=\"dataframe\">\n",
       "  <thead>\n",
       "    <tr style=\"text-align: right;\">\n",
       "      <th></th>\n",
       "      <th>Title</th>\n",
       "      <th>Features</th>\n",
       "      <th>Ratings</th>\n",
       "      <th>Price</th>\n",
       "      <th>Capacity</th>\n",
       "      <th>Speed</th>\n",
       "    </tr>\n",
       "  </thead>\n",
       "  <tbody>\n",
       "    <tr>\n",
       "      <th>0</th>\n",
       "      <td>Thomson 7 kg Washer only Red, White</td>\n",
       "      <td>Thomson 7 kg Washer only Red, White4.1854 Rati...</td>\n",
       "      <td>4.1</td>\n",
       "      <td>₹4,990</td>\n",
       "      <td>[ 7 kg]</td>\n",
       "      <td>[780 rpm]</td>\n",
       "    </tr>\n",
       "    <tr>\n",
       "      <th>1</th>\n",
       "      <td>SAMSUNG 7 kg Diamond Drum feature Fully Automa...</td>\n",
       "      <td>SAMSUNG 7 kg Diamond Drum feature Fully Automa...</td>\n",
       "      <td>4.3</td>\n",
       "      <td>₹15,790</td>\n",
       "      <td>[ 7 kg]</td>\n",
       "      <td>[680 rpm]</td>\n",
       "    </tr>\n",
       "    <tr>\n",
       "      <th>2</th>\n",
       "      <td>realme TechLife 7.5 kg 5 Star Rating Fabric Sa...</td>\n",
       "      <td>realme TechLife 7.5 kg 5 Star Rating Fabric Sa...</td>\n",
       "      <td>4.2</td>\n",
       "      <td>₹13,490</td>\n",
       "      <td>[ 7.5 kg]</td>\n",
       "      <td>[700 rpm]</td>\n",
       "    </tr>\n",
       "    <tr>\n",
       "      <th>3</th>\n",
       "      <td>SAMSUNG 7 kg Inverter 5 Star with Eco Bubble T...</td>\n",
       "      <td>SAMSUNG 7 kg Inverter 5 Star with Eco Bubble T...</td>\n",
       "      <td>4.3</td>\n",
       "      <td>₹17,990</td>\n",
       "      <td>[ 7 kg]</td>\n",
       "      <td>[700 rpm]</td>\n",
       "    </tr>\n",
       "    <tr>\n",
       "      <th>4</th>\n",
       "      <td>Whirlpool 6 kg Magic Clean 5 Star Fully Automa...</td>\n",
       "      <td>Whirlpool 6 kg Magic Clean 5 Star Fully Automa...</td>\n",
       "      <td>4.3</td>\n",
       "      <td>₹13,990</td>\n",
       "      <td>[ 6 kg]</td>\n",
       "      <td>[740 rpm]</td>\n",
       "    </tr>\n",
       "  </tbody>\n",
       "</table>\n",
       "</div>"
      ],
      "text/plain": [
       "                                               Title  \\\n",
       "0                Thomson 7 kg Washer only Red, White   \n",
       "1  SAMSUNG 7 kg Diamond Drum feature Fully Automa...   \n",
       "2  realme TechLife 7.5 kg 5 Star Rating Fabric Sa...   \n",
       "3  SAMSUNG 7 kg Inverter 5 Star with Eco Bubble T...   \n",
       "4  Whirlpool 6 kg Magic Clean 5 Star Fully Automa...   \n",
       "\n",
       "                                            Features  Ratings    Price  \\\n",
       "0  Thomson 7 kg Washer only Red, White4.1854 Rati...      4.1   ₹4,990   \n",
       "1  SAMSUNG 7 kg Diamond Drum feature Fully Automa...      4.3  ₹15,790   \n",
       "2  realme TechLife 7.5 kg 5 Star Rating Fabric Sa...      4.2  ₹13,490   \n",
       "3  SAMSUNG 7 kg Inverter 5 Star with Eco Bubble T...      4.3  ₹17,990   \n",
       "4  Whirlpool 6 kg Magic Clean 5 Star Fully Automa...      4.3  ₹13,990   \n",
       "\n",
       "    Capacity      Speed  \n",
       "0    [ 7 kg]  [780 rpm]  \n",
       "1    [ 7 kg]  [680 rpm]  \n",
       "2  [ 7.5 kg]  [700 rpm]  \n",
       "3    [ 7 kg]  [700 rpm]  \n",
       "4    [ 6 kg]  [740 rpm]  "
      ]
     },
     "execution_count": 26,
     "metadata": {},
     "output_type": "execute_result"
    }
   ],
   "source": [
    "wash_M_df.head()"
   ]
  },
  {
   "cell_type": "code",
   "execution_count": 27,
   "id": "97b1fe5e",
   "metadata": {},
   "outputs": [
    {
     "data": {
      "text/plain": [
       "['a', 'b']"
      ]
     },
     "execution_count": 27,
     "metadata": {},
     "output_type": "execute_result"
    }
   ],
   "source": [
    "re.findall('(a|b)xz', 'abcaxz bxz dxz')"
   ]
  },
  {
   "cell_type": "code",
   "execution_count": 28,
   "id": "41b76d2f",
   "metadata": {},
   "outputs": [
    {
     "data": {
      "text/plain": [
       "'Thomson 7 kg Washer only Red, White4.1854 Ratings\\xa0&\\xa0104 Reviews780 rpm Max Speed1 Years Comprehensive Warranty on Product and 5 Years on Wash Motor'"
      ]
     },
     "execution_count": 28,
     "metadata": {},
     "output_type": "execute_result"
    }
   ],
   "source": [
    "wash_M_df[\"Features\"][0]"
   ]
  },
  {
   "cell_type": "code",
   "execution_count": 29,
   "id": "ab96744f",
   "metadata": {},
   "outputs": [
    {
     "data": {
      "text/plain": [
       "['Thomson']"
      ]
     },
     "execution_count": 29,
     "metadata": {},
     "output_type": "execute_result"
    }
   ],
   "source": [
    "re.findall(\"^\\w+\",wash_M_df[\"Features\"][0])"
   ]
  },
  {
   "cell_type": "code",
   "execution_count": 30,
   "id": "73fa61ff",
   "metadata": {},
   "outputs": [],
   "source": [
    "brand_lambda = lambda x :re.findall(\"^\\w+\",x)"
   ]
  },
  {
   "cell_type": "code",
   "execution_count": 31,
   "id": "88eca302",
   "metadata": {},
   "outputs": [],
   "source": [
    "wash_M_df[\"Brand\"] = wash_M_df[\"Features\"].apply(brand_lambda)"
   ]
  },
  {
   "cell_type": "code",
   "execution_count": 32,
   "id": "a0f7b674",
   "metadata": {
    "scrolled": true
   },
   "outputs": [
    {
     "data": {
      "text/html": [
       "<div>\n",
       "<style scoped>\n",
       "    .dataframe tbody tr th:only-of-type {\n",
       "        vertical-align: middle;\n",
       "    }\n",
       "\n",
       "    .dataframe tbody tr th {\n",
       "        vertical-align: top;\n",
       "    }\n",
       "\n",
       "    .dataframe thead th {\n",
       "        text-align: right;\n",
       "    }\n",
       "</style>\n",
       "<table border=\"1\" class=\"dataframe\">\n",
       "  <thead>\n",
       "    <tr style=\"text-align: right;\">\n",
       "      <th></th>\n",
       "      <th>Title</th>\n",
       "      <th>Features</th>\n",
       "      <th>Ratings</th>\n",
       "      <th>Price</th>\n",
       "      <th>Capacity</th>\n",
       "      <th>Speed</th>\n",
       "      <th>Brand</th>\n",
       "    </tr>\n",
       "  </thead>\n",
       "  <tbody>\n",
       "    <tr>\n",
       "      <th>0</th>\n",
       "      <td>Thomson 7 kg Washer only Red, White</td>\n",
       "      <td>Thomson 7 kg Washer only Red, White4.1854 Rati...</td>\n",
       "      <td>4.1</td>\n",
       "      <td>₹4,990</td>\n",
       "      <td>[ 7 kg]</td>\n",
       "      <td>[780 rpm]</td>\n",
       "      <td>[Thomson]</td>\n",
       "    </tr>\n",
       "    <tr>\n",
       "      <th>1</th>\n",
       "      <td>SAMSUNG 7 kg Diamond Drum feature Fully Automa...</td>\n",
       "      <td>SAMSUNG 7 kg Diamond Drum feature Fully Automa...</td>\n",
       "      <td>4.3</td>\n",
       "      <td>₹15,790</td>\n",
       "      <td>[ 7 kg]</td>\n",
       "      <td>[680 rpm]</td>\n",
       "      <td>[SAMSUNG]</td>\n",
       "    </tr>\n",
       "    <tr>\n",
       "      <th>2</th>\n",
       "      <td>realme TechLife 7.5 kg 5 Star Rating Fabric Sa...</td>\n",
       "      <td>realme TechLife 7.5 kg 5 Star Rating Fabric Sa...</td>\n",
       "      <td>4.2</td>\n",
       "      <td>₹13,490</td>\n",
       "      <td>[ 7.5 kg]</td>\n",
       "      <td>[700 rpm]</td>\n",
       "      <td>[realme]</td>\n",
       "    </tr>\n",
       "    <tr>\n",
       "      <th>3</th>\n",
       "      <td>SAMSUNG 7 kg Inverter 5 Star with Eco Bubble T...</td>\n",
       "      <td>SAMSUNG 7 kg Inverter 5 Star with Eco Bubble T...</td>\n",
       "      <td>4.3</td>\n",
       "      <td>₹17,990</td>\n",
       "      <td>[ 7 kg]</td>\n",
       "      <td>[700 rpm]</td>\n",
       "      <td>[SAMSUNG]</td>\n",
       "    </tr>\n",
       "    <tr>\n",
       "      <th>4</th>\n",
       "      <td>Whirlpool 6 kg Magic Clean 5 Star Fully Automa...</td>\n",
       "      <td>Whirlpool 6 kg Magic Clean 5 Star Fully Automa...</td>\n",
       "      <td>4.3</td>\n",
       "      <td>₹13,990</td>\n",
       "      <td>[ 6 kg]</td>\n",
       "      <td>[740 rpm]</td>\n",
       "      <td>[Whirlpool]</td>\n",
       "    </tr>\n",
       "    <tr>\n",
       "      <th>...</th>\n",
       "      <td>...</td>\n",
       "      <td>...</td>\n",
       "      <td>...</td>\n",
       "      <td>...</td>\n",
       "      <td>...</td>\n",
       "      <td>...</td>\n",
       "      <td>...</td>\n",
       "    </tr>\n",
       "    <tr>\n",
       "      <th>907</th>\n",
       "      <td>Thomson 10.5 kg Germ Purifier Technology Fully...</td>\n",
       "      <td>Thomson 10.5 kg Germ Purifier Technology Fully...</td>\n",
       "      <td>4.0</td>\n",
       "      <td>₹22,990</td>\n",
       "      <td>[ 10.5 kg]</td>\n",
       "      <td>[1200 rpm]</td>\n",
       "      <td>[Thomson]</td>\n",
       "    </tr>\n",
       "    <tr>\n",
       "      <th>908</th>\n",
       "      <td>IFB 8 kg 5 Star 2X Power Steam,Hard Water Wash...</td>\n",
       "      <td>IFB 8 kg 5 Star 2X Power Steam,Hard Water Wash...</td>\n",
       "      <td>4.3</td>\n",
       "      <td>₹34,990</td>\n",
       "      <td>[ 8 kg]</td>\n",
       "      <td>[1200 rpm]</td>\n",
       "      <td>[IFB]</td>\n",
       "    </tr>\n",
       "    <tr>\n",
       "      <th>909</th>\n",
       "      <td>ONIDA 7 kg with 5 Star Fully Automatic Top Loa...</td>\n",
       "      <td>ONIDA 7 kg with 5 Star Fully Automatic Top Loa...</td>\n",
       "      <td>4.2</td>\n",
       "      <td>₹13,290</td>\n",
       "      <td>[ 7 kg]</td>\n",
       "      <td>[750 rpm]</td>\n",
       "      <td>[ONIDA]</td>\n",
       "    </tr>\n",
       "    <tr>\n",
       "      <th>910</th>\n",
       "      <td>LG 6.5 kg with Smart Diagnosis and Smart Inver...</td>\n",
       "      <td>LG 6.5 kg with Smart Diagnosis and Smart Inver...</td>\n",
       "      <td>4.3</td>\n",
       "      <td>₹16,990</td>\n",
       "      <td>[ 6.5 kg]</td>\n",
       "      <td>[700 rpm]</td>\n",
       "      <td>[LG]</td>\n",
       "    </tr>\n",
       "    <tr>\n",
       "      <th>911</th>\n",
       "      <td>Thomson 8 kg Semi Automatic Top Load Black, White</td>\n",
       "      <td>Thomson 8 kg Semi Automatic Top Load Black, Wh...</td>\n",
       "      <td>4.1</td>\n",
       "      <td>₹8,790</td>\n",
       "      <td>[ 8 kg]</td>\n",
       "      <td>[1400 rpm]</td>\n",
       "      <td>[Thomson]</td>\n",
       "    </tr>\n",
       "  </tbody>\n",
       "</table>\n",
       "<p>912 rows × 7 columns</p>\n",
       "</div>"
      ],
      "text/plain": [
       "                                                 Title  \\\n",
       "0                  Thomson 7 kg Washer only Red, White   \n",
       "1    SAMSUNG 7 kg Diamond Drum feature Fully Automa...   \n",
       "2    realme TechLife 7.5 kg 5 Star Rating Fabric Sa...   \n",
       "3    SAMSUNG 7 kg Inverter 5 Star with Eco Bubble T...   \n",
       "4    Whirlpool 6 kg Magic Clean 5 Star Fully Automa...   \n",
       "..                                                 ...   \n",
       "907  Thomson 10.5 kg Germ Purifier Technology Fully...   \n",
       "908  IFB 8 kg 5 Star 2X Power Steam,Hard Water Wash...   \n",
       "909  ONIDA 7 kg with 5 Star Fully Automatic Top Loa...   \n",
       "910  LG 6.5 kg with Smart Diagnosis and Smart Inver...   \n",
       "911  Thomson 8 kg Semi Automatic Top Load Black, White   \n",
       "\n",
       "                                              Features  Ratings    Price  \\\n",
       "0    Thomson 7 kg Washer only Red, White4.1854 Rati...      4.1   ₹4,990   \n",
       "1    SAMSUNG 7 kg Diamond Drum feature Fully Automa...      4.3  ₹15,790   \n",
       "2    realme TechLife 7.5 kg 5 Star Rating Fabric Sa...      4.2  ₹13,490   \n",
       "3    SAMSUNG 7 kg Inverter 5 Star with Eco Bubble T...      4.3  ₹17,990   \n",
       "4    Whirlpool 6 kg Magic Clean 5 Star Fully Automa...      4.3  ₹13,990   \n",
       "..                                                 ...      ...      ...   \n",
       "907  Thomson 10.5 kg Germ Purifier Technology Fully...      4.0  ₹22,990   \n",
       "908  IFB 8 kg 5 Star 2X Power Steam,Hard Water Wash...      4.3  ₹34,990   \n",
       "909  ONIDA 7 kg with 5 Star Fully Automatic Top Loa...      4.2  ₹13,290   \n",
       "910  LG 6.5 kg with Smart Diagnosis and Smart Inver...      4.3  ₹16,990   \n",
       "911  Thomson 8 kg Semi Automatic Top Load Black, Wh...      4.1   ₹8,790   \n",
       "\n",
       "       Capacity       Speed        Brand  \n",
       "0       [ 7 kg]   [780 rpm]    [Thomson]  \n",
       "1       [ 7 kg]   [680 rpm]    [SAMSUNG]  \n",
       "2     [ 7.5 kg]   [700 rpm]     [realme]  \n",
       "3       [ 7 kg]   [700 rpm]    [SAMSUNG]  \n",
       "4       [ 6 kg]   [740 rpm]  [Whirlpool]  \n",
       "..          ...         ...          ...  \n",
       "907  [ 10.5 kg]  [1200 rpm]    [Thomson]  \n",
       "908     [ 8 kg]  [1200 rpm]        [IFB]  \n",
       "909     [ 7 kg]   [750 rpm]      [ONIDA]  \n",
       "910   [ 6.5 kg]   [700 rpm]         [LG]  \n",
       "911     [ 8 kg]  [1400 rpm]    [Thomson]  \n",
       "\n",
       "[912 rows x 7 columns]"
      ]
     },
     "execution_count": 32,
     "metadata": {},
     "output_type": "execute_result"
    }
   ],
   "source": [
    "wash_M_df"
   ]
  },
  {
   "cell_type": "code",
   "execution_count": 33,
   "id": "a6b43dbb",
   "metadata": {},
   "outputs": [
    {
     "data": {
      "text/html": [
       "<div>\n",
       "<style scoped>\n",
       "    .dataframe tbody tr th:only-of-type {\n",
       "        vertical-align: middle;\n",
       "    }\n",
       "\n",
       "    .dataframe tbody tr th {\n",
       "        vertical-align: top;\n",
       "    }\n",
       "\n",
       "    .dataframe thead th {\n",
       "        text-align: right;\n",
       "    }\n",
       "</style>\n",
       "<table border=\"1\" class=\"dataframe\">\n",
       "  <thead>\n",
       "    <tr style=\"text-align: right;\">\n",
       "      <th></th>\n",
       "      <th>Title</th>\n",
       "      <th>Features</th>\n",
       "      <th>Ratings</th>\n",
       "      <th>Price</th>\n",
       "      <th>Capacity</th>\n",
       "      <th>Speed</th>\n",
       "      <th>Brand</th>\n",
       "    </tr>\n",
       "  </thead>\n",
       "  <tbody>\n",
       "    <tr>\n",
       "      <th>0</th>\n",
       "      <td>Thomson 7 kg Washer only Red, White</td>\n",
       "      <td>Thomson 7 kg Washer only Red, White4.1854 Rati...</td>\n",
       "      <td>4.1</td>\n",
       "      <td>₹4,990</td>\n",
       "      <td>[ 7 kg]</td>\n",
       "      <td>[780 rpm]</td>\n",
       "      <td>[Thomson]</td>\n",
       "    </tr>\n",
       "    <tr>\n",
       "      <th>1</th>\n",
       "      <td>SAMSUNG 7 kg Diamond Drum feature Fully Automa...</td>\n",
       "      <td>SAMSUNG 7 kg Diamond Drum feature Fully Automa...</td>\n",
       "      <td>4.3</td>\n",
       "      <td>₹15,790</td>\n",
       "      <td>[ 7 kg]</td>\n",
       "      <td>[680 rpm]</td>\n",
       "      <td>[SAMSUNG]</td>\n",
       "    </tr>\n",
       "    <tr>\n",
       "      <th>2</th>\n",
       "      <td>realme TechLife 7.5 kg 5 Star Rating Fabric Sa...</td>\n",
       "      <td>realme TechLife 7.5 kg 5 Star Rating Fabric Sa...</td>\n",
       "      <td>4.2</td>\n",
       "      <td>₹13,490</td>\n",
       "      <td>[ 7.5 kg]</td>\n",
       "      <td>[700 rpm]</td>\n",
       "      <td>[realme]</td>\n",
       "    </tr>\n",
       "    <tr>\n",
       "      <th>3</th>\n",
       "      <td>SAMSUNG 7 kg Inverter 5 Star with Eco Bubble T...</td>\n",
       "      <td>SAMSUNG 7 kg Inverter 5 Star with Eco Bubble T...</td>\n",
       "      <td>4.3</td>\n",
       "      <td>₹17,990</td>\n",
       "      <td>[ 7 kg]</td>\n",
       "      <td>[700 rpm]</td>\n",
       "      <td>[SAMSUNG]</td>\n",
       "    </tr>\n",
       "    <tr>\n",
       "      <th>4</th>\n",
       "      <td>Whirlpool 6 kg Magic Clean 5 Star Fully Automa...</td>\n",
       "      <td>Whirlpool 6 kg Magic Clean 5 Star Fully Automa...</td>\n",
       "      <td>4.3</td>\n",
       "      <td>₹13,990</td>\n",
       "      <td>[ 6 kg]</td>\n",
       "      <td>[740 rpm]</td>\n",
       "      <td>[Whirlpool]</td>\n",
       "    </tr>\n",
       "  </tbody>\n",
       "</table>\n",
       "</div>"
      ],
      "text/plain": [
       "                                               Title  \\\n",
       "0                Thomson 7 kg Washer only Red, White   \n",
       "1  SAMSUNG 7 kg Diamond Drum feature Fully Automa...   \n",
       "2  realme TechLife 7.5 kg 5 Star Rating Fabric Sa...   \n",
       "3  SAMSUNG 7 kg Inverter 5 Star with Eco Bubble T...   \n",
       "4  Whirlpool 6 kg Magic Clean 5 Star Fully Automa...   \n",
       "\n",
       "                                            Features  Ratings    Price  \\\n",
       "0  Thomson 7 kg Washer only Red, White4.1854 Rati...      4.1   ₹4,990   \n",
       "1  SAMSUNG 7 kg Diamond Drum feature Fully Automa...      4.3  ₹15,790   \n",
       "2  realme TechLife 7.5 kg 5 Star Rating Fabric Sa...      4.2  ₹13,490   \n",
       "3  SAMSUNG 7 kg Inverter 5 Star with Eco Bubble T...      4.3  ₹17,990   \n",
       "4  Whirlpool 6 kg Magic Clean 5 Star Fully Automa...      4.3  ₹13,990   \n",
       "\n",
       "    Capacity      Speed        Brand  \n",
       "0    [ 7 kg]  [780 rpm]    [Thomson]  \n",
       "1    [ 7 kg]  [680 rpm]    [SAMSUNG]  \n",
       "2  [ 7.5 kg]  [700 rpm]     [realme]  \n",
       "3    [ 7 kg]  [700 rpm]    [SAMSUNG]  \n",
       "4    [ 6 kg]  [740 rpm]  [Whirlpool]  "
      ]
     },
     "execution_count": 33,
     "metadata": {},
     "output_type": "execute_result"
    }
   ],
   "source": [
    "wash_M_df.head()"
   ]
  },
  {
   "cell_type": "code",
   "execution_count": 34,
   "id": "21fb0a51",
   "metadata": {},
   "outputs": [],
   "source": [
    "automationStatus_lambda = lambda x: re.findall(\"Fully Automatic|Semi Automatic\", x)"
   ]
  },
  {
   "cell_type": "code",
   "execution_count": 35,
   "id": "c38153bb",
   "metadata": {},
   "outputs": [],
   "source": [
    "wash_M_df[\"StatusOfAutomation\"] = wash_M_df[\"Title\"].apply(automationStatus_lambda)"
   ]
  },
  {
   "cell_type": "code",
   "execution_count": 36,
   "id": "9aa7fc28",
   "metadata": {},
   "outputs": [],
   "source": [
    "color_lambda = lambda x : re.findall(\"Grey|Silver|White|Black|Blue|Maroon|Brown\", x)"
   ]
  },
  {
   "cell_type": "code",
   "execution_count": 37,
   "id": "a5ad5759",
   "metadata": {},
   "outputs": [],
   "source": [
    "wash_M_df[\"Color\"] = wash_M_df[\"Title\"].apply(color_lambda)"
   ]
  },
  {
   "cell_type": "code",
   "execution_count": 38,
   "id": "cd625914",
   "metadata": {},
   "outputs": [
    {
     "data": {
      "text/html": [
       "<div>\n",
       "<style scoped>\n",
       "    .dataframe tbody tr th:only-of-type {\n",
       "        vertical-align: middle;\n",
       "    }\n",
       "\n",
       "    .dataframe tbody tr th {\n",
       "        vertical-align: top;\n",
       "    }\n",
       "\n",
       "    .dataframe thead th {\n",
       "        text-align: right;\n",
       "    }\n",
       "</style>\n",
       "<table border=\"1\" class=\"dataframe\">\n",
       "  <thead>\n",
       "    <tr style=\"text-align: right;\">\n",
       "      <th></th>\n",
       "      <th>Title</th>\n",
       "      <th>Features</th>\n",
       "      <th>Ratings</th>\n",
       "      <th>Price</th>\n",
       "      <th>Capacity</th>\n",
       "      <th>Speed</th>\n",
       "      <th>Brand</th>\n",
       "      <th>StatusOfAutomation</th>\n",
       "      <th>Color</th>\n",
       "    </tr>\n",
       "  </thead>\n",
       "  <tbody>\n",
       "    <tr>\n",
       "      <th>0</th>\n",
       "      <td>Thomson 7 kg Washer only Red, White</td>\n",
       "      <td>Thomson 7 kg Washer only Red, White4.1854 Rati...</td>\n",
       "      <td>4.1</td>\n",
       "      <td>₹4,990</td>\n",
       "      <td>[ 7 kg]</td>\n",
       "      <td>[780 rpm]</td>\n",
       "      <td>[Thomson]</td>\n",
       "      <td>[]</td>\n",
       "      <td>[White]</td>\n",
       "    </tr>\n",
       "    <tr>\n",
       "      <th>1</th>\n",
       "      <td>SAMSUNG 7 kg Diamond Drum feature Fully Automa...</td>\n",
       "      <td>SAMSUNG 7 kg Diamond Drum feature Fully Automa...</td>\n",
       "      <td>4.3</td>\n",
       "      <td>₹15,790</td>\n",
       "      <td>[ 7 kg]</td>\n",
       "      <td>[680 rpm]</td>\n",
       "      <td>[SAMSUNG]</td>\n",
       "      <td>[Fully Automatic]</td>\n",
       "      <td>[Silver]</td>\n",
       "    </tr>\n",
       "    <tr>\n",
       "      <th>2</th>\n",
       "      <td>realme TechLife 7.5 kg 5 Star Rating Fabric Sa...</td>\n",
       "      <td>realme TechLife 7.5 kg 5 Star Rating Fabric Sa...</td>\n",
       "      <td>4.2</td>\n",
       "      <td>₹13,490</td>\n",
       "      <td>[ 7.5 kg]</td>\n",
       "      <td>[700 rpm]</td>\n",
       "      <td>[realme]</td>\n",
       "      <td>[Fully Automatic]</td>\n",
       "      <td>[Grey]</td>\n",
       "    </tr>\n",
       "    <tr>\n",
       "      <th>3</th>\n",
       "      <td>SAMSUNG 7 kg Inverter 5 Star with Eco Bubble T...</td>\n",
       "      <td>SAMSUNG 7 kg Inverter 5 Star with Eco Bubble T...</td>\n",
       "      <td>4.3</td>\n",
       "      <td>₹17,990</td>\n",
       "      <td>[ 7 kg]</td>\n",
       "      <td>[700 rpm]</td>\n",
       "      <td>[SAMSUNG]</td>\n",
       "      <td>[Fully Automatic]</td>\n",
       "      <td>[Grey]</td>\n",
       "    </tr>\n",
       "    <tr>\n",
       "      <th>4</th>\n",
       "      <td>Whirlpool 6 kg Magic Clean 5 Star Fully Automa...</td>\n",
       "      <td>Whirlpool 6 kg Magic Clean 5 Star Fully Automa...</td>\n",
       "      <td>4.3</td>\n",
       "      <td>₹13,990</td>\n",
       "      <td>[ 6 kg]</td>\n",
       "      <td>[740 rpm]</td>\n",
       "      <td>[Whirlpool]</td>\n",
       "      <td>[Fully Automatic]</td>\n",
       "      <td>[Grey]</td>\n",
       "    </tr>\n",
       "  </tbody>\n",
       "</table>\n",
       "</div>"
      ],
      "text/plain": [
       "                                               Title  \\\n",
       "0                Thomson 7 kg Washer only Red, White   \n",
       "1  SAMSUNG 7 kg Diamond Drum feature Fully Automa...   \n",
       "2  realme TechLife 7.5 kg 5 Star Rating Fabric Sa...   \n",
       "3  SAMSUNG 7 kg Inverter 5 Star with Eco Bubble T...   \n",
       "4  Whirlpool 6 kg Magic Clean 5 Star Fully Automa...   \n",
       "\n",
       "                                            Features  Ratings    Price  \\\n",
       "0  Thomson 7 kg Washer only Red, White4.1854 Rati...      4.1   ₹4,990   \n",
       "1  SAMSUNG 7 kg Diamond Drum feature Fully Automa...      4.3  ₹15,790   \n",
       "2  realme TechLife 7.5 kg 5 Star Rating Fabric Sa...      4.2  ₹13,490   \n",
       "3  SAMSUNG 7 kg Inverter 5 Star with Eco Bubble T...      4.3  ₹17,990   \n",
       "4  Whirlpool 6 kg Magic Clean 5 Star Fully Automa...      4.3  ₹13,990   \n",
       "\n",
       "    Capacity      Speed        Brand StatusOfAutomation     Color  \n",
       "0    [ 7 kg]  [780 rpm]    [Thomson]                 []   [White]  \n",
       "1    [ 7 kg]  [680 rpm]    [SAMSUNG]  [Fully Automatic]  [Silver]  \n",
       "2  [ 7.5 kg]  [700 rpm]     [realme]  [Fully Automatic]    [Grey]  \n",
       "3    [ 7 kg]  [700 rpm]    [SAMSUNG]  [Fully Automatic]    [Grey]  \n",
       "4    [ 6 kg]  [740 rpm]  [Whirlpool]  [Fully Automatic]    [Grey]  "
      ]
     },
     "execution_count": 38,
     "metadata": {},
     "output_type": "execute_result"
    }
   ],
   "source": [
    "wash_M_df.head()"
   ]
  },
  {
   "cell_type": "markdown",
   "id": "b9dfa679",
   "metadata": {},
   "source": [
    "#### Data Preprocessing"
   ]
  },
  {
   "cell_type": "code",
   "execution_count": 43,
   "id": "66d69fa6",
   "metadata": {
    "scrolled": true
   },
   "outputs": [
    {
     "data": {
      "text/html": [
       "<div>\n",
       "<style scoped>\n",
       "    .dataframe tbody tr th:only-of-type {\n",
       "        vertical-align: middle;\n",
       "    }\n",
       "\n",
       "    .dataframe tbody tr th {\n",
       "        vertical-align: top;\n",
       "    }\n",
       "\n",
       "    .dataframe thead th {\n",
       "        text-align: right;\n",
       "    }\n",
       "</style>\n",
       "<table border=\"1\" class=\"dataframe\">\n",
       "  <thead>\n",
       "    <tr style=\"text-align: right;\">\n",
       "      <th></th>\n",
       "      <th>Title</th>\n",
       "      <th>Features</th>\n",
       "      <th>Ratings</th>\n",
       "      <th>Price</th>\n",
       "      <th>Capacity</th>\n",
       "      <th>Speed</th>\n",
       "      <th>Brand</th>\n",
       "      <th>StatusOfAutomation</th>\n",
       "      <th>Color</th>\n",
       "    </tr>\n",
       "  </thead>\n",
       "  <tbody>\n",
       "    <tr>\n",
       "      <th>0</th>\n",
       "      <td>False</td>\n",
       "      <td>False</td>\n",
       "      <td>False</td>\n",
       "      <td>False</td>\n",
       "      <td>False</td>\n",
       "      <td>False</td>\n",
       "      <td>False</td>\n",
       "      <td>False</td>\n",
       "      <td>False</td>\n",
       "    </tr>\n",
       "    <tr>\n",
       "      <th>1</th>\n",
       "      <td>False</td>\n",
       "      <td>False</td>\n",
       "      <td>False</td>\n",
       "      <td>False</td>\n",
       "      <td>False</td>\n",
       "      <td>False</td>\n",
       "      <td>False</td>\n",
       "      <td>False</td>\n",
       "      <td>False</td>\n",
       "    </tr>\n",
       "    <tr>\n",
       "      <th>2</th>\n",
       "      <td>False</td>\n",
       "      <td>False</td>\n",
       "      <td>False</td>\n",
       "      <td>False</td>\n",
       "      <td>False</td>\n",
       "      <td>False</td>\n",
       "      <td>False</td>\n",
       "      <td>False</td>\n",
       "      <td>False</td>\n",
       "    </tr>\n",
       "    <tr>\n",
       "      <th>3</th>\n",
       "      <td>False</td>\n",
       "      <td>False</td>\n",
       "      <td>False</td>\n",
       "      <td>False</td>\n",
       "      <td>False</td>\n",
       "      <td>False</td>\n",
       "      <td>False</td>\n",
       "      <td>False</td>\n",
       "      <td>False</td>\n",
       "    </tr>\n",
       "    <tr>\n",
       "      <th>4</th>\n",
       "      <td>False</td>\n",
       "      <td>False</td>\n",
       "      <td>False</td>\n",
       "      <td>False</td>\n",
       "      <td>False</td>\n",
       "      <td>False</td>\n",
       "      <td>False</td>\n",
       "      <td>False</td>\n",
       "      <td>False</td>\n",
       "    </tr>\n",
       "    <tr>\n",
       "      <th>...</th>\n",
       "      <td>...</td>\n",
       "      <td>...</td>\n",
       "      <td>...</td>\n",
       "      <td>...</td>\n",
       "      <td>...</td>\n",
       "      <td>...</td>\n",
       "      <td>...</td>\n",
       "      <td>...</td>\n",
       "      <td>...</td>\n",
       "    </tr>\n",
       "    <tr>\n",
       "      <th>907</th>\n",
       "      <td>False</td>\n",
       "      <td>False</td>\n",
       "      <td>False</td>\n",
       "      <td>False</td>\n",
       "      <td>False</td>\n",
       "      <td>False</td>\n",
       "      <td>False</td>\n",
       "      <td>False</td>\n",
       "      <td>False</td>\n",
       "    </tr>\n",
       "    <tr>\n",
       "      <th>908</th>\n",
       "      <td>False</td>\n",
       "      <td>False</td>\n",
       "      <td>False</td>\n",
       "      <td>False</td>\n",
       "      <td>False</td>\n",
       "      <td>False</td>\n",
       "      <td>False</td>\n",
       "      <td>False</td>\n",
       "      <td>False</td>\n",
       "    </tr>\n",
       "    <tr>\n",
       "      <th>909</th>\n",
       "      <td>False</td>\n",
       "      <td>False</td>\n",
       "      <td>False</td>\n",
       "      <td>False</td>\n",
       "      <td>False</td>\n",
       "      <td>False</td>\n",
       "      <td>False</td>\n",
       "      <td>False</td>\n",
       "      <td>False</td>\n",
       "    </tr>\n",
       "    <tr>\n",
       "      <th>910</th>\n",
       "      <td>False</td>\n",
       "      <td>False</td>\n",
       "      <td>False</td>\n",
       "      <td>False</td>\n",
       "      <td>False</td>\n",
       "      <td>False</td>\n",
       "      <td>False</td>\n",
       "      <td>False</td>\n",
       "      <td>False</td>\n",
       "    </tr>\n",
       "    <tr>\n",
       "      <th>911</th>\n",
       "      <td>False</td>\n",
       "      <td>False</td>\n",
       "      <td>False</td>\n",
       "      <td>False</td>\n",
       "      <td>False</td>\n",
       "      <td>False</td>\n",
       "      <td>False</td>\n",
       "      <td>False</td>\n",
       "      <td>False</td>\n",
       "    </tr>\n",
       "  </tbody>\n",
       "</table>\n",
       "<p>912 rows × 9 columns</p>\n",
       "</div>"
      ],
      "text/plain": [
       "     Title  Features  Ratings  Price  Capacity  Speed  Brand  \\\n",
       "0    False     False    False  False     False  False  False   \n",
       "1    False     False    False  False     False  False  False   \n",
       "2    False     False    False  False     False  False  False   \n",
       "3    False     False    False  False     False  False  False   \n",
       "4    False     False    False  False     False  False  False   \n",
       "..     ...       ...      ...    ...       ...    ...    ...   \n",
       "907  False     False    False  False     False  False  False   \n",
       "908  False     False    False  False     False  False  False   \n",
       "909  False     False    False  False     False  False  False   \n",
       "910  False     False    False  False     False  False  False   \n",
       "911  False     False    False  False     False  False  False   \n",
       "\n",
       "     StatusOfAutomation  Color  \n",
       "0                 False  False  \n",
       "1                 False  False  \n",
       "2                 False  False  \n",
       "3                 False  False  \n",
       "4                 False  False  \n",
       "..                  ...    ...  \n",
       "907               False  False  \n",
       "908               False  False  \n",
       "909               False  False  \n",
       "910               False  False  \n",
       "911               False  False  \n",
       "\n",
       "[912 rows x 9 columns]"
      ]
     },
     "execution_count": 43,
     "metadata": {},
     "output_type": "execute_result"
    }
   ],
   "source": [
    "wash_M_df.isnull()"
   ]
  },
  {
   "cell_type": "code",
   "execution_count": 44,
   "id": "b097eefe",
   "metadata": {},
   "outputs": [
    {
     "data": {
      "text/plain": [
       "Title                  0\n",
       "Features               0\n",
       "Ratings               38\n",
       "Price                  0\n",
       "Capacity               0\n",
       "Speed                  0\n",
       "Brand                  0\n",
       "StatusOfAutomation     0\n",
       "Color                  0\n",
       "dtype: int64"
      ]
     },
     "execution_count": 44,
     "metadata": {},
     "output_type": "execute_result"
    }
   ],
   "source": [
    "wash_M_df.isnull().sum()"
   ]
  },
  {
   "cell_type": "code",
   "execution_count": null,
   "id": "6aeb16fe",
   "metadata": {},
   "outputs": [],
   "source": []
  },
  {
   "cell_type": "markdown",
   "id": "3fa59b32",
   "metadata": {},
   "source": [
    "#### Cleaning the Data"
   ]
  },
  {
   "cell_type": "code",
   "execution_count": 46,
   "id": "9d5408c1",
   "metadata": {},
   "outputs": [
    {
     "data": {
      "text/html": [
       "<div>\n",
       "<style scoped>\n",
       "    .dataframe tbody tr th:only-of-type {\n",
       "        vertical-align: middle;\n",
       "    }\n",
       "\n",
       "    .dataframe tbody tr th {\n",
       "        vertical-align: top;\n",
       "    }\n",
       "\n",
       "    .dataframe thead th {\n",
       "        text-align: right;\n",
       "    }\n",
       "</style>\n",
       "<table border=\"1\" class=\"dataframe\">\n",
       "  <thead>\n",
       "    <tr style=\"text-align: right;\">\n",
       "      <th></th>\n",
       "      <th>Title</th>\n",
       "      <th>Features</th>\n",
       "      <th>Ratings</th>\n",
       "      <th>Price</th>\n",
       "      <th>Capacity</th>\n",
       "      <th>Speed</th>\n",
       "      <th>Brand</th>\n",
       "      <th>StatusOfAutomation</th>\n",
       "      <th>Color</th>\n",
       "    </tr>\n",
       "  </thead>\n",
       "  <tbody>\n",
       "    <tr>\n",
       "      <th>0</th>\n",
       "      <td>Thomson 7 kg Washer only Red, White</td>\n",
       "      <td>Thomson 7 kg Washer only Red, White4.1854 Rati...</td>\n",
       "      <td>4.1</td>\n",
       "      <td>₹4,990</td>\n",
       "      <td>[ 7 kg]</td>\n",
       "      <td>[780 rpm]</td>\n",
       "      <td>[Thomson]</td>\n",
       "      <td>[]</td>\n",
       "      <td>[White]</td>\n",
       "    </tr>\n",
       "    <tr>\n",
       "      <th>1</th>\n",
       "      <td>SAMSUNG 7 kg Diamond Drum feature Fully Automa...</td>\n",
       "      <td>SAMSUNG 7 kg Diamond Drum feature Fully Automa...</td>\n",
       "      <td>4.3</td>\n",
       "      <td>₹15,790</td>\n",
       "      <td>[ 7 kg]</td>\n",
       "      <td>[680 rpm]</td>\n",
       "      <td>[SAMSUNG]</td>\n",
       "      <td>[Fully Automatic]</td>\n",
       "      <td>[Silver]</td>\n",
       "    </tr>\n",
       "  </tbody>\n",
       "</table>\n",
       "</div>"
      ],
      "text/plain": [
       "                                               Title  \\\n",
       "0                Thomson 7 kg Washer only Red, White   \n",
       "1  SAMSUNG 7 kg Diamond Drum feature Fully Automa...   \n",
       "\n",
       "                                            Features  Ratings    Price  \\\n",
       "0  Thomson 7 kg Washer only Red, White4.1854 Rati...      4.1   ₹4,990   \n",
       "1  SAMSUNG 7 kg Diamond Drum feature Fully Automa...      4.3  ₹15,790   \n",
       "\n",
       "  Capacity      Speed      Brand StatusOfAutomation     Color  \n",
       "0  [ 7 kg]  [780 rpm]  [Thomson]                 []   [White]  \n",
       "1  [ 7 kg]  [680 rpm]  [SAMSUNG]  [Fully Automatic]  [Silver]  "
      ]
     },
     "execution_count": 46,
     "metadata": {},
     "output_type": "execute_result"
    }
   ],
   "source": [
    "wash_M_df.head(2)"
   ]
  },
  {
   "cell_type": "code",
   "execution_count": 47,
   "id": "be1c2800",
   "metadata": {},
   "outputs": [],
   "source": [
    "wash_M_df[\"Capacity\"] = wash_M_df[\"Capacity\"].apply(lambda x: \"\".join(x))\n",
    "wash_M_df[\"Speed\"] = wash_M_df[\"Speed\"].apply(lambda x: \"\".join(x))\n",
    "wash_M_df[\"Brand\"] = wash_M_df[\"Brand\"].apply(lambda x: \"\".join(x))\n",
    "wash_M_df[\"StatusOfAutomation\"] = wash_M_df[\"StatusOfAutomation\"].apply(lambda x: \"\".join(x))\n",
    "wash_M_df[\"Color\"] = wash_M_df[\"Color\"].apply(lambda x: \"\".join(x))"
   ]
  },
  {
   "cell_type": "code",
   "execution_count": 48,
   "id": "00608709",
   "metadata": {},
   "outputs": [
    {
     "data": {
      "text/html": [
       "<div>\n",
       "<style scoped>\n",
       "    .dataframe tbody tr th:only-of-type {\n",
       "        vertical-align: middle;\n",
       "    }\n",
       "\n",
       "    .dataframe tbody tr th {\n",
       "        vertical-align: top;\n",
       "    }\n",
       "\n",
       "    .dataframe thead th {\n",
       "        text-align: right;\n",
       "    }\n",
       "</style>\n",
       "<table border=\"1\" class=\"dataframe\">\n",
       "  <thead>\n",
       "    <tr style=\"text-align: right;\">\n",
       "      <th></th>\n",
       "      <th>Title</th>\n",
       "      <th>Features</th>\n",
       "      <th>Ratings</th>\n",
       "      <th>Price</th>\n",
       "      <th>Capacity</th>\n",
       "      <th>Speed</th>\n",
       "      <th>Brand</th>\n",
       "      <th>StatusOfAutomation</th>\n",
       "      <th>Color</th>\n",
       "    </tr>\n",
       "  </thead>\n",
       "  <tbody>\n",
       "    <tr>\n",
       "      <th>0</th>\n",
       "      <td>Thomson 7 kg Washer only Red, White</td>\n",
       "      <td>Thomson 7 kg Washer only Red, White4.1854 Rati...</td>\n",
       "      <td>4.1</td>\n",
       "      <td>₹4,990</td>\n",
       "      <td>7 kg</td>\n",
       "      <td>780 rpm</td>\n",
       "      <td>Thomson</td>\n",
       "      <td></td>\n",
       "      <td>White</td>\n",
       "    </tr>\n",
       "    <tr>\n",
       "      <th>1</th>\n",
       "      <td>SAMSUNG 7 kg Diamond Drum feature Fully Automa...</td>\n",
       "      <td>SAMSUNG 7 kg Diamond Drum feature Fully Automa...</td>\n",
       "      <td>4.3</td>\n",
       "      <td>₹15,790</td>\n",
       "      <td>7 kg</td>\n",
       "      <td>680 rpm</td>\n",
       "      <td>SAMSUNG</td>\n",
       "      <td>Fully Automatic</td>\n",
       "      <td>Silver</td>\n",
       "    </tr>\n",
       "    <tr>\n",
       "      <th>2</th>\n",
       "      <td>realme TechLife 7.5 kg 5 Star Rating Fabric Sa...</td>\n",
       "      <td>realme TechLife 7.5 kg 5 Star Rating Fabric Sa...</td>\n",
       "      <td>4.2</td>\n",
       "      <td>₹13,490</td>\n",
       "      <td>7.5 kg</td>\n",
       "      <td>700 rpm</td>\n",
       "      <td>realme</td>\n",
       "      <td>Fully Automatic</td>\n",
       "      <td>Grey</td>\n",
       "    </tr>\n",
       "    <tr>\n",
       "      <th>3</th>\n",
       "      <td>SAMSUNG 7 kg Inverter 5 Star with Eco Bubble T...</td>\n",
       "      <td>SAMSUNG 7 kg Inverter 5 Star with Eco Bubble T...</td>\n",
       "      <td>4.3</td>\n",
       "      <td>₹17,990</td>\n",
       "      <td>7 kg</td>\n",
       "      <td>700 rpm</td>\n",
       "      <td>SAMSUNG</td>\n",
       "      <td>Fully Automatic</td>\n",
       "      <td>Grey</td>\n",
       "    </tr>\n",
       "    <tr>\n",
       "      <th>4</th>\n",
       "      <td>Whirlpool 6 kg Magic Clean 5 Star Fully Automa...</td>\n",
       "      <td>Whirlpool 6 kg Magic Clean 5 Star Fully Automa...</td>\n",
       "      <td>4.3</td>\n",
       "      <td>₹13,990</td>\n",
       "      <td>6 kg</td>\n",
       "      <td>740 rpm</td>\n",
       "      <td>Whirlpool</td>\n",
       "      <td>Fully Automatic</td>\n",
       "      <td>Grey</td>\n",
       "    </tr>\n",
       "  </tbody>\n",
       "</table>\n",
       "</div>"
      ],
      "text/plain": [
       "                                               Title  \\\n",
       "0                Thomson 7 kg Washer only Red, White   \n",
       "1  SAMSUNG 7 kg Diamond Drum feature Fully Automa...   \n",
       "2  realme TechLife 7.5 kg 5 Star Rating Fabric Sa...   \n",
       "3  SAMSUNG 7 kg Inverter 5 Star with Eco Bubble T...   \n",
       "4  Whirlpool 6 kg Magic Clean 5 Star Fully Automa...   \n",
       "\n",
       "                                            Features  Ratings    Price  \\\n",
       "0  Thomson 7 kg Washer only Red, White4.1854 Rati...      4.1   ₹4,990   \n",
       "1  SAMSUNG 7 kg Diamond Drum feature Fully Automa...      4.3  ₹15,790   \n",
       "2  realme TechLife 7.5 kg 5 Star Rating Fabric Sa...      4.2  ₹13,490   \n",
       "3  SAMSUNG 7 kg Inverter 5 Star with Eco Bubble T...      4.3  ₹17,990   \n",
       "4  Whirlpool 6 kg Magic Clean 5 Star Fully Automa...      4.3  ₹13,990   \n",
       "\n",
       "  Capacity    Speed      Brand StatusOfAutomation   Color  \n",
       "0     7 kg  780 rpm    Thomson                      White  \n",
       "1     7 kg  680 rpm    SAMSUNG    Fully Automatic  Silver  \n",
       "2   7.5 kg  700 rpm     realme    Fully Automatic    Grey  \n",
       "3     7 kg  700 rpm    SAMSUNG    Fully Automatic    Grey  \n",
       "4     6 kg  740 rpm  Whirlpool    Fully Automatic    Grey  "
      ]
     },
     "execution_count": 48,
     "metadata": {},
     "output_type": "execute_result"
    }
   ],
   "source": [
    "wash_M_df.head()"
   ]
  },
  {
   "cell_type": "code",
   "execution_count": 49,
   "id": "232794df",
   "metadata": {},
   "outputs": [
    {
     "name": "stdout",
     "output_type": "stream",
     "text": [
      "<class 'pandas.core.frame.DataFrame'>\n",
      "RangeIndex: 912 entries, 0 to 911\n",
      "Data columns (total 9 columns):\n",
      " #   Column              Non-Null Count  Dtype  \n",
      "---  ------              --------------  -----  \n",
      " 0   Title               912 non-null    object \n",
      " 1   Features            912 non-null    object \n",
      " 2   Ratings             874 non-null    float64\n",
      " 3   Price               912 non-null    object \n",
      " 4   Capacity            912 non-null    object \n",
      " 5   Speed               912 non-null    object \n",
      " 6   Brand               912 non-null    object \n",
      " 7   StatusOfAutomation  912 non-null    object \n",
      " 8   Color               912 non-null    object \n",
      "dtypes: float64(1), object(8)\n",
      "memory usage: 64.2+ KB\n"
     ]
    }
   ],
   "source": [
    "wash_M_df.info()"
   ]
  },
  {
   "cell_type": "code",
   "execution_count": 50,
   "id": "507441cd",
   "metadata": {},
   "outputs": [
    {
     "data": {
      "text/html": [
       "<div>\n",
       "<style scoped>\n",
       "    .dataframe tbody tr th:only-of-type {\n",
       "        vertical-align: middle;\n",
       "    }\n",
       "\n",
       "    .dataframe tbody tr th {\n",
       "        vertical-align: top;\n",
       "    }\n",
       "\n",
       "    .dataframe thead th {\n",
       "        text-align: right;\n",
       "    }\n",
       "</style>\n",
       "<table border=\"1\" class=\"dataframe\">\n",
       "  <thead>\n",
       "    <tr style=\"text-align: right;\">\n",
       "      <th></th>\n",
       "      <th>Title</th>\n",
       "      <th>Features</th>\n",
       "      <th>Ratings</th>\n",
       "      <th>Price</th>\n",
       "      <th>Capacity</th>\n",
       "      <th>Speed</th>\n",
       "      <th>Brand</th>\n",
       "      <th>StatusOfAutomation</th>\n",
       "      <th>Color</th>\n",
       "    </tr>\n",
       "  </thead>\n",
       "  <tbody>\n",
       "    <tr>\n",
       "      <th>0</th>\n",
       "      <td>Thomson 7 kg Washer only Red, White</td>\n",
       "      <td>Thomson 7 kg Washer only Red, White4.1854 Rati...</td>\n",
       "      <td>4.1</td>\n",
       "      <td>₹4,990</td>\n",
       "      <td>7 kg</td>\n",
       "      <td>780 rpm</td>\n",
       "      <td>Thomson</td>\n",
       "      <td></td>\n",
       "      <td>White</td>\n",
       "    </tr>\n",
       "    <tr>\n",
       "      <th>1</th>\n",
       "      <td>SAMSUNG 7 kg Diamond Drum feature Fully Automa...</td>\n",
       "      <td>SAMSUNG 7 kg Diamond Drum feature Fully Automa...</td>\n",
       "      <td>4.3</td>\n",
       "      <td>₹15,790</td>\n",
       "      <td>7 kg</td>\n",
       "      <td>680 rpm</td>\n",
       "      <td>SAMSUNG</td>\n",
       "      <td>Fully Automatic</td>\n",
       "      <td>Silver</td>\n",
       "    </tr>\n",
       "  </tbody>\n",
       "</table>\n",
       "</div>"
      ],
      "text/plain": [
       "                                               Title  \\\n",
       "0                Thomson 7 kg Washer only Red, White   \n",
       "1  SAMSUNG 7 kg Diamond Drum feature Fully Automa...   \n",
       "\n",
       "                                            Features  Ratings    Price  \\\n",
       "0  Thomson 7 kg Washer only Red, White4.1854 Rati...      4.1   ₹4,990   \n",
       "1  SAMSUNG 7 kg Diamond Drum feature Fully Automa...      4.3  ₹15,790   \n",
       "\n",
       "  Capacity    Speed    Brand StatusOfAutomation   Color  \n",
       "0     7 kg  780 rpm  Thomson                      White  \n",
       "1     7 kg  680 rpm  SAMSUNG    Fully Automatic  Silver  "
      ]
     },
     "execution_count": 50,
     "metadata": {},
     "output_type": "execute_result"
    }
   ],
   "source": [
    "wash_M_df.head(2)"
   ]
  },
  {
   "cell_type": "code",
   "execution_count": 51,
   "id": "9df8c8fe",
   "metadata": {},
   "outputs": [],
   "source": [
    "#Coversion of numbers that are in string dataypes into integer datatypes in order to perform Statistical Operations"
   ]
  },
  {
   "cell_type": "code",
   "execution_count": 52,
   "id": "0b42d097",
   "metadata": {},
   "outputs": [
    {
     "data": {
      "text/plain": [
       "0       ₹4,990\n",
       "1      ₹15,790\n",
       "2      ₹13,490\n",
       "3      ₹17,990\n",
       "4      ₹13,990\n",
       "        ...   \n",
       "907    ₹22,990\n",
       "908    ₹34,990\n",
       "909    ₹13,290\n",
       "910    ₹16,990\n",
       "911     ₹8,790\n",
       "Name: Price, Length: 912, dtype: object"
      ]
     },
     "execution_count": 52,
     "metadata": {},
     "output_type": "execute_result"
    }
   ],
   "source": [
    "wash_M_df[\"Price\"]"
   ]
  },
  {
   "cell_type": "code",
   "execution_count": 53,
   "id": "7e21771a",
   "metadata": {},
   "outputs": [],
   "source": [
    "# Removing the '₹' symbol and commas from the 'Price' column, then converting the cleaned string values to floats.\n",
    "wash_M_df['Price'] = wash_M_df['Price'].apply(lambda x: x.replace('₹', '').replace(',', '')).astype(float)\n",
    "\n",
    "# Removing the 'kg' unit from the 'Capacity' column, then converting the cleaned string values to floats.\n",
    "wash_M_df['Capacity'] = wash_M_df['Capacity'].apply(lambda x: x.replace('kg', '')).astype(float)\n",
    "\n",
    "# Removing the 'rpm' unit from the 'Speed' column using regex to handle potential multiple occurrences, keeping the numeric values intact.\n",
    "wash_M_df['Speed'] = wash_M_df['Speed'].replace({'rpm': ''}, regex=True)"
   ]
  },
  {
   "cell_type": "code",
   "execution_count": 55,
   "id": "79066b4b",
   "metadata": {},
   "outputs": [
    {
     "data": {
      "text/html": [
       "<div>\n",
       "<style scoped>\n",
       "    .dataframe tbody tr th:only-of-type {\n",
       "        vertical-align: middle;\n",
       "    }\n",
       "\n",
       "    .dataframe tbody tr th {\n",
       "        vertical-align: top;\n",
       "    }\n",
       "\n",
       "    .dataframe thead th {\n",
       "        text-align: right;\n",
       "    }\n",
       "</style>\n",
       "<table border=\"1\" class=\"dataframe\">\n",
       "  <thead>\n",
       "    <tr style=\"text-align: right;\">\n",
       "      <th></th>\n",
       "      <th>Title</th>\n",
       "      <th>Features</th>\n",
       "      <th>Ratings</th>\n",
       "      <th>Price</th>\n",
       "      <th>Capacity</th>\n",
       "      <th>Speed</th>\n",
       "      <th>Brand</th>\n",
       "      <th>StatusOfAutomation</th>\n",
       "      <th>Color</th>\n",
       "    </tr>\n",
       "  </thead>\n",
       "  <tbody>\n",
       "    <tr>\n",
       "      <th>0</th>\n",
       "      <td>Thomson 7 kg Washer only Red, White</td>\n",
       "      <td>Thomson 7 kg Washer only Red, White4.1854 Rati...</td>\n",
       "      <td>4.1</td>\n",
       "      <td>4990.0</td>\n",
       "      <td>7.0</td>\n",
       "      <td>780 rpm</td>\n",
       "      <td>Thomson</td>\n",
       "      <td></td>\n",
       "      <td>White</td>\n",
       "    </tr>\n",
       "    <tr>\n",
       "      <th>1</th>\n",
       "      <td>SAMSUNG 7 kg Diamond Drum feature Fully Automa...</td>\n",
       "      <td>SAMSUNG 7 kg Diamond Drum feature Fully Automa...</td>\n",
       "      <td>4.3</td>\n",
       "      <td>15790.0</td>\n",
       "      <td>7.0</td>\n",
       "      <td>680 rpm</td>\n",
       "      <td>SAMSUNG</td>\n",
       "      <td>Fully Automatic</td>\n",
       "      <td>Silver</td>\n",
       "    </tr>\n",
       "    <tr>\n",
       "      <th>2</th>\n",
       "      <td>realme TechLife 7.5 kg 5 Star Rating Fabric Sa...</td>\n",
       "      <td>realme TechLife 7.5 kg 5 Star Rating Fabric Sa...</td>\n",
       "      <td>4.2</td>\n",
       "      <td>13490.0</td>\n",
       "      <td>7.5</td>\n",
       "      <td>700 rpm</td>\n",
       "      <td>realme</td>\n",
       "      <td>Fully Automatic</td>\n",
       "      <td>Grey</td>\n",
       "    </tr>\n",
       "  </tbody>\n",
       "</table>\n",
       "</div>"
      ],
      "text/plain": [
       "                                               Title  \\\n",
       "0                Thomson 7 kg Washer only Red, White   \n",
       "1  SAMSUNG 7 kg Diamond Drum feature Fully Automa...   \n",
       "2  realme TechLife 7.5 kg 5 Star Rating Fabric Sa...   \n",
       "\n",
       "                                            Features  Ratings    Price  \\\n",
       "0  Thomson 7 kg Washer only Red, White4.1854 Rati...      4.1   4990.0   \n",
       "1  SAMSUNG 7 kg Diamond Drum feature Fully Automa...      4.3  15790.0   \n",
       "2  realme TechLife 7.5 kg 5 Star Rating Fabric Sa...      4.2  13490.0   \n",
       "\n",
       "   Capacity    Speed    Brand StatusOfAutomation   Color  \n",
       "0       7.0  780 rpm  Thomson                      White  \n",
       "1       7.0  680 rpm  SAMSUNG    Fully Automatic  Silver  \n",
       "2       7.5  700 rpm   realme    Fully Automatic    Grey  "
      ]
     },
     "execution_count": 55,
     "metadata": {},
     "output_type": "execute_result"
    }
   ],
   "source": [
    "wash_M_df.head(3)"
   ]
  },
  {
   "cell_type": "code",
   "execution_count": 57,
   "id": "b9bee290",
   "metadata": {},
   "outputs": [
    {
     "name": "stderr",
     "output_type": "stream",
     "text": [
      "C:\\Users\\krishna kumar\\AppData\\Local\\Temp\\ipykernel_13276\\2785077881.py:3: SettingWithCopyWarning: \n",
      "A value is trying to be set on a copy of a slice from a DataFrame\n",
      "\n",
      "See the caveats in the documentation: https://pandas.pydata.org/pandas-docs/stable/user_guide/indexing.html#returning-a-view-versus-a-copy\n",
      "  wash_M_df['Speed'][i]=np.NaN\n"
     ]
    }
   ],
   "source": [
    "for i in range(0,len(wash_M_df['Speed'])):\n",
    "    if wash_M_df['Speed'][i]=='':\n",
    "        wash_M_df['Speed'][i]=np.NaN"
   ]
  },
  {
   "cell_type": "code",
   "execution_count": 58,
   "id": "98d9607a",
   "metadata": {},
   "outputs": [
    {
     "data": {
      "text/plain": [
       "1400     152\n",
       "700      114\n",
       "1350     114\n",
       "740       76\n",
       "1000      76\n",
       "1200      76\n",
       "780       38\n",
       "680       38\n",
       "800       38\n",
       "720       38\n",
       "750       38\n",
       "Name: Speed, dtype: int64"
      ]
     },
     "execution_count": 58,
     "metadata": {},
     "output_type": "execute_result"
    }
   ],
   "source": [
    "wash_M_df['Speed'].value_counts()"
   ]
  },
  {
   "cell_type": "code",
   "execution_count": 59,
   "id": "64b89c44",
   "metadata": {},
   "outputs": [],
   "source": [
    "wash_M_df['Speed'] = wash_M_df['Speed'].astype(float)"
   ]
  },
  {
   "cell_type": "code",
   "execution_count": 61,
   "id": "bde28c70",
   "metadata": {},
   "outputs": [
    {
     "data": {
      "text/plain": [
       "dtype('float64')"
      ]
     },
     "execution_count": 61,
     "metadata": {},
     "output_type": "execute_result"
    }
   ],
   "source": [
    "wash_M_df[\"Speed\"].dtype"
   ]
  },
  {
   "cell_type": "code",
   "execution_count": 62,
   "id": "2516c9b7",
   "metadata": {},
   "outputs": [],
   "source": [
    "wash_M_df.drop(\"Features\", axis=1, inplace = True)"
   ]
  },
  {
   "cell_type": "code",
   "execution_count": 63,
   "id": "46259e40",
   "metadata": {},
   "outputs": [
    {
     "data": {
      "text/html": [
       "<div>\n",
       "<style scoped>\n",
       "    .dataframe tbody tr th:only-of-type {\n",
       "        vertical-align: middle;\n",
       "    }\n",
       "\n",
       "    .dataframe tbody tr th {\n",
       "        vertical-align: top;\n",
       "    }\n",
       "\n",
       "    .dataframe thead th {\n",
       "        text-align: right;\n",
       "    }\n",
       "</style>\n",
       "<table border=\"1\" class=\"dataframe\">\n",
       "  <thead>\n",
       "    <tr style=\"text-align: right;\">\n",
       "      <th></th>\n",
       "      <th>Title</th>\n",
       "      <th>Ratings</th>\n",
       "      <th>Price</th>\n",
       "      <th>Capacity</th>\n",
       "      <th>Speed</th>\n",
       "      <th>Brand</th>\n",
       "      <th>StatusOfAutomation</th>\n",
       "      <th>Color</th>\n",
       "    </tr>\n",
       "  </thead>\n",
       "  <tbody>\n",
       "    <tr>\n",
       "      <th>0</th>\n",
       "      <td>Thomson 7 kg Washer only Red, White</td>\n",
       "      <td>4.1</td>\n",
       "      <td>4990.0</td>\n",
       "      <td>7.0</td>\n",
       "      <td>780.0</td>\n",
       "      <td>Thomson</td>\n",
       "      <td></td>\n",
       "      <td>White</td>\n",
       "    </tr>\n",
       "  </tbody>\n",
       "</table>\n",
       "</div>"
      ],
      "text/plain": [
       "                                 Title  Ratings   Price  Capacity  Speed  \\\n",
       "0  Thomson 7 kg Washer only Red, White      4.1  4990.0       7.0  780.0   \n",
       "\n",
       "     Brand StatusOfAutomation  Color  \n",
       "0  Thomson                     White  "
      ]
     },
     "execution_count": 63,
     "metadata": {},
     "output_type": "execute_result"
    }
   ],
   "source": [
    "wash_M_df.head(1)"
   ]
  },
  {
   "cell_type": "code",
   "execution_count": 64,
   "id": "aed72c06",
   "metadata": {},
   "outputs": [],
   "source": [
    "# Finding the maximum price from all the categories of washing machine\n",
    "max_Price = wash_M_df[\"Price\"].max()\n",
    "\n",
    "# Finding the minimum price of the washing machine from all\n",
    "min_Price = wash_M_df[\"Price\"].min()\n",
    "\n",
    "# Finding the maximum speed \n",
    "max_speed = wash_M_df[\"Speed\"].max()\n",
    "\n",
    "# Finding the minimum speed \n",
    "min_speed = wash_M_df[\"Speed\"].min()\n",
    "\n",
    "# Finding the highest rating \n",
    "max_rating = wash_M_df[\"Ratings\"].max()\n",
    "\n",
    "# Finding the lowest rating \n",
    "min_rating = wash_M_df[\"Ratings\"].min()"
   ]
  },
  {
   "cell_type": "code",
   "execution_count": 68,
   "id": "2b7962d0",
   "metadata": {},
   "outputs": [
    {
     "name": "stdout",
     "output_type": "stream",
     "text": [
      "The price of washing machines starts at 4990.00 and goes up to a maximum of 34990.00.\n"
     ]
    }
   ],
   "source": [
    "# Price\n",
    "# Print the minimum and maximum price of the washing machines\n",
    "print(f\"The price of washing machines starts at {min_Price:.2f} and goes up to a maximum of {max_Price:.2f}.\")"
   ]
  },
  {
   "cell_type": "code",
   "execution_count": 69,
   "id": "22464602",
   "metadata": {},
   "outputs": [
    {
     "name": "stdout",
     "output_type": "stream",
     "text": [
      "The speed of washing machines ranges from 680.00 RPM to 1400.00 RPM.\n"
     ]
    }
   ],
   "source": [
    "# Speed\n",
    "# Print the minimum and maximum speed of the washing machines\n",
    "print(f\"The speed of washing machines ranges from {min_speed:.2f} RPM to {max_speed:.2f} RPM.\")"
   ]
  },
  {
   "cell_type": "code",
   "execution_count": 70,
   "id": "8935d9d9",
   "metadata": {},
   "outputs": [
    {
     "name": "stdout",
     "output_type": "stream",
     "text": [
      "The ratings of washing machines vary from 4.00 to 4.50.\n"
     ]
    }
   ],
   "source": [
    "# Ratings\n",
    "# Print the minimum and maximum ratings of the washing machines\n",
    "print(f\"The ratings of washing machines vary from {min_rating:.2f} to {max_rating:.2f}.\")"
   ]
  },
  {
   "cell_type": "code",
   "execution_count": 73,
   "id": "b5332916",
   "metadata": {},
   "outputs": [],
   "source": [
    "# Finding out the minimum and maximum price brand wise\n",
    "max_prices = wash_M_df.groupby('Brand')['Price'].max()\n",
    "min_prices = wash_M_df.groupby('Brand')['Price'].min()"
   ]
  },
  {
   "cell_type": "code",
   "execution_count": 74,
   "id": "81c2e391",
   "metadata": {},
   "outputs": [
    {
     "data": {
      "text/plain": [
       "Brand\n",
       "Candes        6890.0\n",
       "Haier        12990.0\n",
       "IFB          18690.0\n",
       "LG           12490.0\n",
       "MarQ          7190.0\n",
       "ONIDA        13290.0\n",
       "SAMSUNG      11290.0\n",
       "Thomson       4990.0\n",
       "Whirlpool     9990.0\n",
       "realme        7990.0\n",
       "Name: Price, dtype: float64"
      ]
     },
     "execution_count": 74,
     "metadata": {},
     "output_type": "execute_result"
    }
   ],
   "source": [
    "min_prices"
   ]
  },
  {
   "cell_type": "code",
   "execution_count": 75,
   "id": "a2090f2f",
   "metadata": {},
   "outputs": [
    {
     "data": {
      "text/plain": [
       "Brand\n",
       "Candes        6890.0\n",
       "Haier        12990.0\n",
       "IFB          34990.0\n",
       "LG           16990.0\n",
       "MarQ          7590.0\n",
       "ONIDA        13290.0\n",
       "SAMSUNG      23690.0\n",
       "Thomson      22990.0\n",
       "Whirlpool    15240.0\n",
       "realme       13490.0\n",
       "Name: Price, dtype: float64"
      ]
     },
     "execution_count": 75,
     "metadata": {},
     "output_type": "execute_result"
    }
   ],
   "source": [
    "max_prices"
   ]
  },
  {
   "cell_type": "code",
   "execution_count": 76,
   "id": "2433ecfd",
   "metadata": {},
   "outputs": [
    {
     "data": {
      "text/plain": [
       "Index(['Title', 'Ratings', 'Price', 'Capacity', 'Speed', 'Brand',\n",
       "       'StatusOfAutomation', 'Color'],\n",
       "      dtype='object')"
      ]
     },
     "execution_count": 76,
     "metadata": {},
     "output_type": "execute_result"
    }
   ],
   "source": [
    "wash_M_df.columns"
   ]
  },
  {
   "cell_type": "code",
   "execution_count": 77,
   "id": "6aef8b40",
   "metadata": {},
   "outputs": [
    {
     "data": {
      "text/html": [
       "<div>\n",
       "<style scoped>\n",
       "    .dataframe tbody tr th:only-of-type {\n",
       "        vertical-align: middle;\n",
       "    }\n",
       "\n",
       "    .dataframe tbody tr th {\n",
       "        vertical-align: top;\n",
       "    }\n",
       "\n",
       "    .dataframe thead th {\n",
       "        text-align: right;\n",
       "    }\n",
       "</style>\n",
       "<table border=\"1\" class=\"dataframe\">\n",
       "  <thead>\n",
       "    <tr style=\"text-align: right;\">\n",
       "      <th></th>\n",
       "      <th>Title</th>\n",
       "      <th>Ratings</th>\n",
       "      <th>Price</th>\n",
       "      <th>Capacity</th>\n",
       "      <th>Speed</th>\n",
       "      <th>Brand</th>\n",
       "      <th>StatusOfAutomation</th>\n",
       "      <th>Color</th>\n",
       "    </tr>\n",
       "  </thead>\n",
       "  <tbody>\n",
       "    <tr>\n",
       "      <th>0</th>\n",
       "      <td>Thomson 7 kg Washer only Red, White</td>\n",
       "      <td>4.1</td>\n",
       "      <td>4990.0</td>\n",
       "      <td>7.0</td>\n",
       "      <td>780.0</td>\n",
       "      <td>Thomson</td>\n",
       "      <td></td>\n",
       "      <td>White</td>\n",
       "    </tr>\n",
       "    <tr>\n",
       "      <th>1</th>\n",
       "      <td>SAMSUNG 7 kg Diamond Drum feature Fully Automa...</td>\n",
       "      <td>4.3</td>\n",
       "      <td>15790.0</td>\n",
       "      <td>7.0</td>\n",
       "      <td>680.0</td>\n",
       "      <td>SAMSUNG</td>\n",
       "      <td>Fully Automatic</td>\n",
       "      <td>Silver</td>\n",
       "    </tr>\n",
       "  </tbody>\n",
       "</table>\n",
       "</div>"
      ],
      "text/plain": [
       "                                               Title  Ratings    Price  \\\n",
       "0                Thomson 7 kg Washer only Red, White      4.1   4990.0   \n",
       "1  SAMSUNG 7 kg Diamond Drum feature Fully Automa...      4.3  15790.0   \n",
       "\n",
       "   Capacity  Speed    Brand StatusOfAutomation   Color  \n",
       "0       7.0  780.0  Thomson                      White  \n",
       "1       7.0  680.0  SAMSUNG    Fully Automatic  Silver  "
      ]
     },
     "execution_count": 77,
     "metadata": {},
     "output_type": "execute_result"
    }
   ],
   "source": [
    "wash_M_df.head(2)"
   ]
  },
  {
   "cell_type": "code",
   "execution_count": 79,
   "id": "6d70a54d",
   "metadata": {},
   "outputs": [
    {
     "data": {
      "image/png": "[encoded data removed]",
      "text/plain": [
       "<Figure size 640x480 with 1 Axes>"
      ]
     },
     "metadata": {},
     "output_type": "display_data"
    }
   ],
   "source": [
    "# Checking for the outliers\n",
    "wash_M_df.boxplot()\n",
    "plt.show()"
   ]
  },
  {
   "cell_type": "code",
   "execution_count": 81,
   "id": "e4c2f87a",
   "metadata": {},
   "outputs": [
    {
     "data": {
      "image/png": "[encoded data removed]",
      "text/plain": [
       "<Figure size 640x480 with 1 Axes>"
      ]
     },
     "metadata": {},
     "output_type": "display_data"
    }
   ],
   "source": [
    "sns.boxplot(wash_M_df, x = \"Price\")\n",
    "plt.show()"
   ]
  },
  {
   "cell_type": "code",
   "execution_count": 82,
   "id": "803f66a6",
   "metadata": {},
   "outputs": [],
   "source": [
    "Q1 = wash_M_df[\"Price\"].quantile(q = 0.25)\n",
    "Q3 = wash_M_df[\"Price\"].quantile(q = 0.75)\n",
    "\n",
    "IQR = Q3 - Q1\n",
    "\n",
    "lower_boundary = Q1 - (1.5 * IQR)\n",
    "upper_boundary = Q3 + (1.5 * IQR)"
   ]
  },
  {
   "cell_type": "code",
   "execution_count": 84,
   "id": "6d7f4eb1",
   "metadata": {},
   "outputs": [
    {
     "data": {
      "text/plain": [
       "(8590.0, 17240.0, 8650.0)"
      ]
     },
     "execution_count": 84,
     "metadata": {},
     "output_type": "execute_result"
    }
   ],
   "source": [
    "Q1, Q3, IQR"
   ]
  },
  {
   "cell_type": "code",
   "execution_count": 90,
   "id": "7e1bd8d8",
   "metadata": {},
   "outputs": [
    {
     "name": "stdout",
     "output_type": "stream",
     "text": [
      "Quantile1: 8590.0\n",
      "Quantile3: 17240.0\n",
      "Inter Quartile Ranges: 8650.0\n"
     ]
    }
   ],
   "source": [
    "print(f\"Quantile1: {Q1}\\nQuantile3: {Q3}\\nInter Quartile Ranges: {IQR}\")"
   ]
  },
  {
   "cell_type": "code",
   "execution_count": 89,
   "id": "aaacc841",
   "metadata": {},
   "outputs": [
    {
     "name": "stdout",
     "output_type": "stream",
     "text": [
      "Lower Boundary: -4385.0\n",
      "Upper Boundary: 30215.0\n",
      "\n"
     ]
    }
   ],
   "source": [
    "print(f\"Lower Boundary: {lower_boundary}\\nUpper Boundary: {upper_boundary}\\n\")"
   ]
  },
  {
   "cell_type": "code",
   "execution_count": 95,
   "id": "ea99e0f9",
   "metadata": {},
   "outputs": [
    {
     "data": {
      "text/plain": [
       "38"
      ]
     },
     "execution_count": 95,
     "metadata": {},
     "output_type": "execute_result"
    }
   ],
   "source": [
    "len(wash_M_df[wash_M_df[\"Price\"] > upper_boundary])"
   ]
  },
  {
   "cell_type": "code",
   "execution_count": 97,
   "id": "7347b7e0",
   "metadata": {},
   "outputs": [
    {
     "data": {
      "text/plain": [
       "'While the boxplot may indicate certain washing machine prices as outliers, these values reflect legitimate variations in the market and do not require handling, as they represent high-end or budget models rather than true statistical anomalies.'"
      ]
     },
     "execution_count": 97,
     "metadata": {},
     "output_type": "execute_result"
    }
   ],
   "source": [
    "\"\"\"While the boxplot may indicate certain washing machine prices as outliers, these values reflect legitimate variations in the \n",
    "market and do not require handling, as they represent high-end or budget models rather than true statistical anomalies.\"\"\""
   ]
  },
  {
   "cell_type": "markdown",
   "id": "b37ddc87",
   "metadata": {},
   "source": [
    "#### Exploratory Data Analysis"
   ]
  },
  {
   "cell_type": "code",
   "execution_count": 98,
   "id": "68f93f62",
   "metadata": {},
   "outputs": [],
   "source": [
    "#Price Analysis"
   ]
  },
  {
   "cell_type": "code",
   "execution_count": 99,
   "id": "bcda24f9",
   "metadata": {},
   "outputs": [
    {
     "data": {
      "text/plain": [
       "Index(['Title', 'Ratings', 'Price', 'Capacity', 'Speed', 'Brand',\n",
       "       'StatusOfAutomation', 'Color'],\n",
       "      dtype='object')"
      ]
     },
     "execution_count": 99,
     "metadata": {},
     "output_type": "execute_result"
    }
   ],
   "source": [
    "wash_M_df.columns"
   ]
  },
  {
   "cell_type": "markdown",
   "id": "abb41df6",
   "metadata": {},
   "source": [
    "##### Univariate Analysis"
   ]
  },
  {
   "cell_type": "code",
   "execution_count": 100,
   "id": "caded314",
   "metadata": {},
   "outputs": [
    {
     "data": {
      "image/png": "[encoded data removed]",
      "text/plain": [
       "<Figure size 640x480 with 1 Axes>"
      ]
     },
     "metadata": {},
     "output_type": "display_data"
    },
    {
     "data": {
      "text/plain": [
       "count      912.000000\n",
       "mean     14371.250000\n",
       "std       7153.293621\n",
       "min       4990.000000\n",
       "25%       8590.000000\n",
       "50%      13140.000000\n",
       "75%      17240.000000\n",
       "max      34990.000000\n",
       "Name: Price, dtype: float64"
      ]
     },
     "execution_count": 100,
     "metadata": {},
     "output_type": "execute_result"
    }
   ],
   "source": [
    "# Histogram of Price\n",
    "sns.histplot(wash_M_df['Price'], bins=20, kde=True)\n",
    "plt.title('Price Distribution')\n",
    "plt.show()\n",
    "\n",
    "# Summary statistics for Price\n",
    "wash_M_df['Price'].describe()\n"
   ]
  },
  {
   "cell_type": "markdown",
   "id": "775b1f9e",
   "metadata": {},
   "source": [
    "- `Observations:` Most washing machines fall within the price range of ₹8,000 to ₹20,000, with only a few exceeding ₹20,000."
   ]
  },
  {
   "cell_type": "code",
   "execution_count": 104,
   "id": "61f6bdc9",
   "metadata": {},
   "outputs": [
    {
     "data": {
      "image/png": "[encoded data removed]",
      "text/plain": [
       "<Figure size 640x480 with 1 Axes>"
      ]
     },
     "metadata": {},
     "output_type": "display_data"
    }
   ],
   "source": [
    "sns.boxplot(wash_M_df, x = 'Price')\n",
    "plt.show()"
   ]
  },
  {
   "cell_type": "code",
   "execution_count": 107,
   "id": "5f5da0aa",
   "metadata": {},
   "outputs": [],
   "source": [
    "# Percentage Distribution of Washing Machines Based on Price Range"
   ]
  },
  {
   "cell_type": "code",
   "execution_count": 109,
   "id": "87d53355",
   "metadata": {},
   "outputs": [
    {
     "data": {
      "text/html": [
       "<div>\n",
       "<style scoped>\n",
       "    .dataframe tbody tr th:only-of-type {\n",
       "        vertical-align: middle;\n",
       "    }\n",
       "\n",
       "    .dataframe tbody tr th {\n",
       "        vertical-align: top;\n",
       "    }\n",
       "\n",
       "    .dataframe thead th {\n",
       "        text-align: right;\n",
       "    }\n",
       "</style>\n",
       "<table border=\"1\" class=\"dataframe\">\n",
       "  <thead>\n",
       "    <tr style=\"text-align: right;\">\n",
       "      <th></th>\n",
       "      <th>Title</th>\n",
       "      <th>Ratings</th>\n",
       "      <th>Price</th>\n",
       "      <th>Capacity</th>\n",
       "      <th>Speed</th>\n",
       "      <th>Brand</th>\n",
       "      <th>StatusOfAutomation</th>\n",
       "      <th>Color</th>\n",
       "    </tr>\n",
       "  </thead>\n",
       "  <tbody>\n",
       "    <tr>\n",
       "      <th>0</th>\n",
       "      <td>Thomson 7 kg Washer only Red, White</td>\n",
       "      <td>4.1</td>\n",
       "      <td>4990.0</td>\n",
       "      <td>7.0</td>\n",
       "      <td>780.0</td>\n",
       "      <td>Thomson</td>\n",
       "      <td></td>\n",
       "      <td>White</td>\n",
       "    </tr>\n",
       "  </tbody>\n",
       "</table>\n",
       "</div>"
      ],
      "text/plain": [
       "                                 Title  Ratings   Price  Capacity  Speed  \\\n",
       "0  Thomson 7 kg Washer only Red, White      4.1  4990.0       7.0  780.0   \n",
       "\n",
       "     Brand StatusOfAutomation  Color  \n",
       "0  Thomson                     White  "
      ]
     },
     "execution_count": 109,
     "metadata": {},
     "output_type": "execute_result"
    }
   ],
   "source": [
    "wash_M_df.head(1)"
   ]
  },
  {
   "cell_type": "code",
   "execution_count": 117,
   "id": "ea415bf0",
   "metadata": {},
   "outputs": [],
   "source": [
    "# The number of washing machines price with more than 20000\n",
    "count_under_20000 = wash_M_df[wash_M_df[\"Price\"] < 20000]\n",
    "\n",
    "# The number of washing machines price with lesser than 20000\n",
    "count_above_20000 = wash_M_df[wash_M_df[\"Price\"] > 20000]\n",
    "\n",
    "# Finding out the total number of washing machines\n",
    "total_number_of_wm = wash_M_df.shape[0]"
   ]
  },
  {
   "cell_type": "code",
   "execution_count": 122,
   "id": "0f5398e5",
   "metadata": {},
   "outputs": [
    {
     "name": "stdout",
     "output_type": "stream",
     "text": [
      "The number of washing machines under 20000: 760\n",
      "The number of washing machines above 20000: 152\n",
      "The total number of washing machines: 912\n"
     ]
    }
   ],
   "source": [
    "print(f\"The number of washing machines under 20000: {len(count_under_20000)}\\nThe number of washing machines above 20000: {len(count_above_20000)}\\nThe total number of washing machines: {total_number_of_wm}\")"
   ]
  },
  {
   "cell_type": "code",
   "execution_count": 125,
   "id": "18484300",
   "metadata": {},
   "outputs": [
    {
     "name": "stdout",
     "output_type": "stream",
     "text": [
      "Then Pecentage of washing machines with price under 20000: 83.333%\n",
      "The Percentage of washing machines with price above 20000: 16.667%\n"
     ]
    }
   ],
   "source": [
    "# Percentage of washing machines under ₹20,000\n",
    "percentage_under_20000 = (len(count_under_20000)/total_number_of_wm)*100\n",
    "# Percentage of washing machines above ₹20,000\n",
    "percentage_above_20000 = (len(count_above_20000)/total_number_of_wm)*100\n",
    "print(f\"Then Pecentage of washing machines with price under 20000: {percentage_under_20000:.3f}%\")\n",
    "print(f\"The Percentage of washing machines with price above 20000: {percentage_above_20000:.3f}%\")"
   ]
  },
  {
   "cell_type": "markdown",
   "id": "ff5c89ef",
   "metadata": {},
   "source": [
    "- This shows that over 80% of washing machines available in the market are priced under ₹20,000, while only 20% are priced above ₹20,000."
   ]
  },
  {
   "cell_type": "code",
   "execution_count": 126,
   "id": "32b485ca",
   "metadata": {},
   "outputs": [],
   "source": [
    "#Percentage of Products by Brand"
   ]
  },
  {
   "cell_type": "code",
   "execution_count": 128,
   "id": "1986d8fd",
   "metadata": {},
   "outputs": [
    {
     "name": "stdout",
     "output_type": "stream",
     "text": [
      "Thomson      20.833333\n",
      "SAMSUNG      16.666667\n",
      "Whirlpool    12.500000\n",
      "IFB          12.500000\n",
      "realme        8.333333\n",
      "MarQ          8.333333\n",
      "LG            8.333333\n",
      "Candes        4.166667\n",
      "Haier         4.166667\n",
      "ONIDA         4.166667\n",
      "Name: Brand, dtype: float64\n"
     ]
    }
   ],
   "source": [
    "# Calculate the percentage of products by brand\n",
    "brand_percentage = wash_M_df['Brand'].value_counts(normalize=True) * 100\n",
    "\n",
    "# Display the results\n",
    "print(brand_percentage)"
   ]
  },
  {
   "cell_type": "markdown",
   "id": "298870c5",
   "metadata": {},
   "source": [
    "- 21% of washing machines listed are from Thomson, followed by 17% Samsung, 12% Whirlpooland 12% IFB etc."
   ]
  },
  {
   "cell_type": "code",
   "execution_count": 106,
   "id": "ac7a6cd7",
   "metadata": {},
   "outputs": [
    {
     "data": {
      "image/png": "[encoded data removed]",
      "text/plain": [
       "<Figure size 640x480 with 1 Axes>"
      ]
     },
     "metadata": {},
     "output_type": "display_data"
    }
   ],
   "source": [
    "# Ratings Distributions\n",
    "sns.histplot(wash_M_df['Ratings'], bins=10, kde=True)\n",
    "plt.title('Ratings Distribution')\n",
    "plt.show()"
   ]
  },
  {
   "cell_type": "code",
   "execution_count": 143,
   "id": "436c87f3",
   "metadata": {},
   "outputs": [
    {
     "data": {
      "image/png": "[encoded data removed]",
      "text/plain": [
       "<Figure size 1000x500 with 1 Axes>"
      ]
     },
     "metadata": {},
     "output_type": "display_data"
    }
   ],
   "source": [
    "plt.figure(figsize = (10,5))\n",
    "sns.boxplot(x = wash_M_df.Brand, y = wash_M_df.Price)\n",
    "plt.show()"
   ]
  },
  {
   "cell_type": "code",
   "execution_count": 132,
   "id": "2dbdb92f",
   "metadata": {},
   "outputs": [
    {
     "data": {
      "image/png": "[encoded data removed]",
      "text/plain": [
       "<Figure size 1000x500 with 1 Axes>"
      ]
     },
     "metadata": {},
     "output_type": "display_data"
    }
   ],
   "source": [
    "plt.figure(figsize = (10, 5))\n",
    "sns.boxplot(wash_M_df, x = \"Brand\", y = \"Ratings\")\n",
    "plt.show()"
   ]
  },
  {
   "cell_type": "code",
   "execution_count": 129,
   "id": "6ffec180",
   "metadata": {},
   "outputs": [
    {
     "name": "stdout",
     "output_type": "stream",
     "text": [
      "       Brand         Price  Ratings\n",
      "0     Candes   6890.000000      NaN\n",
      "1      Haier  12990.000000     4.30\n",
      "2        IFB  27356.666667     4.30\n",
      "3         LG  14740.000000     4.40\n",
      "4       MarQ   7390.000000     4.25\n",
      "5      ONIDA  13290.000000     4.20\n",
      "6    SAMSUNG  17190.000000     4.35\n",
      "7    Thomson  11190.000000     4.06\n",
      "8  Whirlpool  13073.333333     4.30\n",
      "9     realme  10740.000000     4.20\n"
     ]
    }
   ],
   "source": [
    "# Group by Brand and calculate mean of Price and Ratings\n",
    "brand_analysis = wash_M_df.groupby('Brand').agg({'Price': 'mean', 'Ratings': 'mean'}).reset_index()\n",
    "\n",
    "# Display the result\n",
    "print(brand_analysis)\n"
   ]
  },
  {
   "cell_type": "markdown",
   "id": "89df2d5b",
   "metadata": {},
   "source": [
    "- LG stands out among all brands with an average price around ₹15,000 and the highest rating of 4.40, indicating a strong balance between affordability and customer satisfaction."
   ]
  },
  {
   "cell_type": "code",
   "execution_count": null,
   "id": "6716d3bc",
   "metadata": {},
   "outputs": [],
   "source": []
  },
  {
   "cell_type": "code",
   "execution_count": null,
   "id": "2bfb3d1d",
   "metadata": {},
   "outputs": [],
   "source": []
  },
  {
   "cell_type": "code",
   "execution_count": 144,
   "id": "55a8f35f",
   "metadata": {
    "scrolled": false
   },
   "outputs": [
    {
     "data": {
      "image/png": "[encoded data removed]",
      "text/plain": [
       "<Figure size 640x480 with 1 Axes>"
      ]
     },
     "metadata": {},
     "output_type": "display_data"
    }
   ],
   "source": [
    "Brand = wash_M_df.Brand\n",
    "Price = wash_M_df.Price\n",
    "plt.title(\"Scatter Plot For Price comparison\", fontsize = 15)\n",
    "plt.xlabel(\"Brand\", fontsize = 15)\n",
    "plt.xticks(rotation = \"vertical\")\n",
    "plt.ylabel(\"Price\" , fontsize = 15)\n",
    "plt.scatter(Brand, Price, color = \"y\", marker = \"*\", edgecolor = \"r\")\n",
    "plt.show()"
   ]
  },
  {
   "cell_type": "markdown",
   "id": "6e7d8c87",
   "metadata": {},
   "source": [
    "### INFERENCE: As we can observe in this graph the IFB wahing mahine has higher cost than all other brand, However, it has average ratings. Whereas Thomson has the lowest price."
   ]
  },
  {
   "cell_type": "code",
   "execution_count": 145,
   "id": "7bb0ac84",
   "metadata": {},
   "outputs": [
    {
     "data": {
      "text/plain": [
       "<AxesSubplot:xlabel='Brand'>"
      ]
     },
     "execution_count": 145,
     "metadata": {},
     "output_type": "execute_result"
    },
    {
     "data": {
      "image/png": "[encoded data removed]",
      "text/plain": [
       "<Figure size 1000x500 with 1 Axes>"
      ]
     },
     "metadata": {},
     "output_type": "display_data"
    }
   ],
   "source": [
    "plt.figure(figsize = (10,5))\n",
    "wash_M_df.groupby([\"Brand\"])[\"Price\"].max().plot(kind = \"bar\")"
   ]
  },
  {
   "cell_type": "code",
   "execution_count": 146,
   "id": "e4e8c854",
   "metadata": {},
   "outputs": [
    {
     "data": {
      "text/plain": [
       "<Figure size 1500x700 with 0 Axes>"
      ]
     },
     "execution_count": 146,
     "metadata": {},
     "output_type": "execute_result"
    },
    {
     "data": {
      "text/plain": [
       "<Figure size 1500x700 with 0 Axes>"
      ]
     },
     "metadata": {},
     "output_type": "display_data"
    }
   ],
   "source": [
    "plt.figure(figsize = (15,7))\n"
   ]
  },
  {
   "cell_type": "code",
   "execution_count": 147,
   "id": "db938d8d",
   "metadata": {},
   "outputs": [
    {
     "data": {
      "image/png": "[encoded data removed]",
      "text/plain": [
       "<Figure size 500x500 with 1 Axes>"
      ]
     },
     "metadata": {},
     "output_type": "display_data"
    }
   ],
   "source": [
    "# Univariate Analysis\n",
    "sns.displot(wash_M_df[\"Price\"], kde = True)\n",
    "plt.show()"
   ]
  },
  {
   "cell_type": "markdown",
   "id": "4523be4c",
   "metadata": {},
   "source": [
    "### INFERENCE: The maximum number of washing machine has average price in the range of 10K to 25K."
   ]
  },
  {
   "cell_type": "code",
   "execution_count": 148,
   "id": "1223af0a",
   "metadata": {},
   "outputs": [
    {
     "data": {
      "image/png": "[encoded data removed]",
      "text/plain": [
       "<Figure size 640x480 with 2 Axes>"
      ]
     },
     "metadata": {},
     "output_type": "display_data"
    }
   ],
   "source": [
    "sns.heatmap(wash_M_df.corr(), annot = True)\n",
    "plt.show()"
   ]
  },
  {
   "cell_type": "code",
   "execution_count": 151,
   "id": "2c256a0c",
   "metadata": {},
   "outputs": [
    {
     "data": {
      "text/plain": [
       "<AxesSubplot:xlabel='Brand', ylabel='count'>"
      ]
     },
     "execution_count": 151,
     "metadata": {},
     "output_type": "execute_result"
    },
    {
     "data": {
      "image/png": "[encoded data removed]",
      "text/plain": [
       "<Figure size 1000x500 with 1 Axes>"
      ]
     },
     "metadata": {},
     "output_type": "display_data"
    }
   ],
   "source": [
    "plt.figure(figsize = (10,5))\n",
    "plt.ylabel(\"No of Washing Machine\")\n",
    "sns.countplot(x = wash_M_df.Brand)"
   ]
  },
  {
   "cell_type": "code",
   "execution_count": 152,
   "id": "9f7bd184",
   "metadata": {},
   "outputs": [
    {
     "data": {
      "image/png": "[encoded data removed]",
      "text/plain": [
       "<Figure size 640x480 with 1 Axes>"
      ]
     },
     "metadata": {},
     "output_type": "display_data"
    }
   ],
   "source": [
    "Brand = [\"Thomson\", \"SAMSUNG\",\"Whirlpool\",\"IFB\",\"realme\", \"MarQ\", \"LG\", \"Candes\", \"Haier\", \"ONIDA\"]\n",
    "Quantity = [190,152,114,114,76,76,76,38,38,38]\n",
    "ex = [0.05,0.1,0.15,0.1,0.05,0.15,0.2,0.1,0.1,0.05]\n",
    "\n",
    "plt.pie(Quantity, labels=Brand, explode=ex, autopct = \"%0.2f%%\", shadow=True)\n",
    "plt.show()"
   ]
  },
  {
   "cell_type": "markdown",
   "id": "3cd23af0",
   "metadata": {},
   "source": [
    "### INFERENCE: In this chart as we can see the number of washing machine is being showed in the form of percentage based on their brands. And more number of washing machines are on flipkart is Thomson brand."
   ]
  },
  {
   "cell_type": "code",
   "execution_count": 153,
   "id": "f6920078",
   "metadata": {},
   "outputs": [],
   "source": [
    "wash_M_df.Color\n",
    "for i in range(0,len(wash_M_df.Color)):\n",
    "    a=wash_M_df.Color[i]\n",
    "    if a=='':\n",
    "        wash_M_df.Color[i]='Grey'"
   ]
  },
  {
   "cell_type": "code",
   "execution_count": 154,
   "id": "bf0c971c",
   "metadata": {},
   "outputs": [
    {
     "data": {
      "text/plain": [
       "<AxesSubplot:xlabel='Capacity', ylabel='count'>"
      ]
     },
     "execution_count": 154,
     "metadata": {},
     "output_type": "execute_result"
    },
    {
     "data": {
      "image/png": "[encoded data removed]",
      "text/plain": [
       "<Figure size 1000x500 with 1 Axes>"
      ]
     },
     "metadata": {},
     "output_type": "display_data"
    }
   ],
   "source": [
    "plt.figure(figsize = (10,5))\n",
    "sns.countplot(x = wash_M_df.Capacity)"
   ]
  },
  {
   "cell_type": "code",
   "execution_count": 155,
   "id": "bcbb326a",
   "metadata": {},
   "outputs": [
    {
     "data": {
      "text/plain": [
       "7.0     456\n",
       "6.5     152\n",
       "6.0     114\n",
       "8.0      76\n",
       "7.5      38\n",
       "10.0     38\n",
       "10.5     38\n",
       "Name: Capacity, dtype: int64"
      ]
     },
     "execution_count": 155,
     "metadata": {},
     "output_type": "execute_result"
    }
   ],
   "source": [
    "wash_M_df.Capacity.value_counts()"
   ]
  },
  {
   "cell_type": "code",
   "execution_count": 156,
   "id": "0b1bca46",
   "metadata": {},
   "outputs": [],
   "source": [
    "wash_M_df.StatusOfAutomation\n",
    "for i in range(0,len(wash_M_df.StatusOfAutomation)):\n",
    "    a=wash_M_df.StatusOfAutomation[i]\n",
    "    if a=='':\n",
    "        wash_M_df.StatusOfAutomation[i]='Semi Automatic'"
   ]
  },
  {
   "cell_type": "code",
   "execution_count": 157,
   "id": "a8b437ab",
   "metadata": {
    "scrolled": false
   },
   "outputs": [
    {
     "data": {
      "text/plain": [
       "<AxesSubplot:xlabel='StatusOfAutomation', ylabel='count'>"
      ]
     },
     "execution_count": 157,
     "metadata": {},
     "output_type": "execute_result"
    },
    {
     "data": {
      "image/png": "[encoded data removed]",
      "text/plain": [
       "<Figure size 1000x500 with 1 Axes>"
      ]
     },
     "metadata": {},
     "output_type": "display_data"
    }
   ],
   "source": [
    "plt.figure(figsize = (10,5))\n",
    "sns.countplot(x = wash_M_df.StatusOfAutomation)"
   ]
  },
  {
   "cell_type": "code",
   "execution_count": 158,
   "id": "6f1a373e",
   "metadata": {},
   "outputs": [
    {
     "data": {
      "text/plain": [
       "Fully Automatic    494\n",
       "Semi Automatic     418\n",
       "Name: StatusOfAutomation, dtype: int64"
      ]
     },
     "execution_count": 158,
     "metadata": {},
     "output_type": "execute_result"
    }
   ],
   "source": [
    "wash_M_df.StatusOfAutomation.value_counts()"
   ]
  },
  {
   "cell_type": "code",
   "execution_count": 159,
   "id": "870b749f",
   "metadata": {},
   "outputs": [
    {
     "data": {
      "image/png": "[encoded data removed]",
      "text/plain": [
       "<Figure size 640x480 with 1 Axes>"
      ]
     },
     "metadata": {},
     "output_type": "display_data"
    }
   ],
   "source": [
    "StatusOfAutomation = [\"Fully Automatic\", \"Semi-Automatic\"]\n",
    "TotalCount = [494,418]\n",
    "ex = [0.05,0]\n",
    "plt.pie(TotalCount, labels=StatusOfAutomation, explode = ex, autopct=\"%0.2f%%\", shadow = True)\n",
    "plt.show()"
   ]
  },
  {
   "cell_type": "code",
   "execution_count": 160,
   "id": "48546efb",
   "metadata": {},
   "outputs": [
    {
     "data": {
      "text/plain": [
       "912"
      ]
     },
     "execution_count": 160,
     "metadata": {},
     "output_type": "execute_result"
    }
   ],
   "source": [
    "len(wash_M_df.StatusOfAutomation)"
   ]
  },
  {
   "cell_type": "code",
   "execution_count": 161,
   "id": "9c322951",
   "metadata": {},
   "outputs": [
    {
     "data": {
      "text/plain": [
       "<AxesSubplot:xlabel='Brand,Capacity'>"
      ]
     },
     "execution_count": 161,
     "metadata": {},
     "output_type": "execute_result"
    },
    {
     "data": {
      "image/png": "[encoded data removed]",
      "text/plain": [
       "<Figure size 1000x500 with 1 Axes>"
      ]
     },
     "metadata": {},
     "output_type": "display_data"
    }
   ],
   "source": [
    "plt.figure(figsize = (10,5))\n",
    "wash_M_df.groupby([\"Brand\", \"Capacity\"])[\"Price\"].count().plot(kind = \"bar\")"
   ]
  },
  {
   "cell_type": "code",
   "execution_count": 162,
   "id": "340cd28a",
   "metadata": {},
   "outputs": [
    {
     "data": {
      "image/png": "[encoded data removed]",
      "text/plain": [
       "<Figure size 1000x1000 with 20 Axes>"
      ]
     },
     "metadata": {},
     "output_type": "display_data"
    }
   ],
   "source": [
    "sns.pairplot(wash_M_df)\n",
    "plt.show()"
   ]
  },
  {
   "cell_type": "code",
   "execution_count": 142,
   "id": "27c612bc",
   "metadata": {},
   "outputs": [
    {
     "name": "stdout",
     "output_type": "stream",
     "text": [
      "StatusOfAutomation  Fully Automatic  Semi Automatic\n",
      "Brand                                              \n",
      "Candes                          NaN          6890.0\n",
      "Haier                  12990.000000             NaN\n",
      "IFB                    27356.666667             NaN\n",
      "LG                     16990.000000         12490.0\n",
      "MarQ                            NaN          7390.0\n",
      "ONIDA                  13290.000000             NaN\n",
      "SAMSUNG                19156.666667         11290.0\n",
      "Thomson                22990.000000          8240.0\n",
      "Whirlpool              14615.000000          9990.0\n",
      "realme                 13490.000000          7990.0\n"
     ]
    }
   ],
   "source": [
    "pivot = pd.pivot_table(wash_M_df, \n",
    "                       values='Price', \n",
    "                       index=['Brand'], \n",
    "                       columns=['StatusOfAutomation'], \n",
    "                       aggfunc='mean')\n",
    "print(pivot)"
   ]
  },
  {
   "cell_type": "code",
   "execution_count": 166,
   "id": "dbe0e865",
   "metadata": {},
   "outputs": [
    {
     "name": "stdout",
     "output_type": "stream",
     "text": [
      "190\n"
     ]
    }
   ],
   "source": [
    "brand_name = 'Thomson'\n",
    "count = len(wash_M_df[wash_M_df['Brand'] == brand_name])\n",
    "print(count)"
   ]
  },
  {
   "cell_type": "code",
   "execution_count": 167,
   "id": "40e8507b",
   "metadata": {},
   "outputs": [
    {
     "name": "stdout",
     "output_type": "stream",
     "text": [
      "38\n"
     ]
    }
   ],
   "source": [
    "brand_name = 'Candes'  # Change this to the brand name you want to count\n",
    "count = len(wash_M_df[wash_M_df['Brand'] == brand_name])\n",
    "print(count)"
   ]
  },
  {
   "cell_type": "code",
   "execution_count": 168,
   "id": "c106232d",
   "metadata": {},
   "outputs": [
    {
     "name": "stdout",
     "output_type": "stream",
     "text": [
      "38\n"
     ]
    }
   ],
   "source": [
    "brand_name = 'Haier'  # Change this to the brand name you want to count\n",
    "count = len(wash_M_df[wash_M_df['Brand'] == brand_name])\n",
    "print(count)"
   ]
  },
  {
   "cell_type": "code",
   "execution_count": 169,
   "id": "f131984b",
   "metadata": {},
   "outputs": [
    {
     "name": "stdout",
     "output_type": "stream",
     "text": [
      "38\n"
     ]
    }
   ],
   "source": [
    "brand_name = 'ONIDA'  # Change this to the brand name you want to count\n",
    "count = len(wash_M_df[wash_M_df['Brand'] == brand_name])\n",
    "print(count)"
   ]
  },
  {
   "cell_type": "code",
   "execution_count": 170,
   "id": "5552e74b",
   "metadata": {},
   "outputs": [
    {
     "name": "stdout",
     "output_type": "stream",
     "text": [
      "494\n"
     ]
    }
   ],
   "source": [
    "brand_name = 'Fully Automatic'  # Change this to the brand name you want to count\n",
    "count = len(wash_M_df[wash_M_df['StatusOfAutomation'] == brand_name])\n",
    "print(count)"
   ]
  },
  {
   "cell_type": "code",
   "execution_count": 171,
   "id": "816ea4e9",
   "metadata": {},
   "outputs": [
    {
     "name": "stdout",
     "output_type": "stream",
     "text": [
      "418\n"
     ]
    }
   ],
   "source": [
    "brand_name = 'Semi Automatic'  # Change this to the brand name you want to count\n",
    "count = len(wash_M_df[wash_M_df['StatusOfAutomation'] == brand_name])\n",
    "print(count)"
   ]
  }
 ],
 "metadata": {
  "kernelspec": {
   "display_name": "Python 3 (ipykernel)",
   "language": "python",
   "name": "python3"
  },
  "language_info": {
   "codemirror_mode": {
    "name": "ipython",
    "version": 3
   },
   "file_extension": ".py",
   "mimetype": "text/x-python",
   "name": "python",
   "nbconvert_exporter": "python",
   "pygments_lexer": "ipython3",
   "version": "3.10.9"
  }
 },
 "nbformat": 4,
 "nbformat_minor": 5
}
